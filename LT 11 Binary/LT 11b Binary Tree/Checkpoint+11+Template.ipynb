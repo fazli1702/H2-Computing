{
 "cells": [
  {
   "cell_type": "markdown",
   "metadata": {},
   "source": [
    "# Question 2"
   ]
  },
  {
   "cell_type": "markdown",
   "metadata": {},
   "source": [
    "Using the binary search tree ADT, write a sort_it that takes in a list of numbers and returns a sorted list in a ascending order. "
   ]
  },
  {
   "cell_type": "code",
   "execution_count": null,
   "metadata": {},
   "outputs": [],
   "source": [
    "from bst_module import *\n",
    "\n",
    "def sort_it(lst):\n",
    "    pass\n",
    "\n",
    "\n",
    "\n",
    "\n",
    "\n",
    "########Do not remove/modify\n",
    "lst1= [5,3,2,1,4,6,7,9]\n",
    "lst2=[5,3,2,1,4,-1,6,0,7,9]\n"
   ]
  },
  {
   "cell_type": "code",
   "execution_count": null,
   "metadata": {},
   "outputs": [],
   "source": [
    "sort_it(lst1)"
   ]
  },
  {
   "cell_type": "code",
   "execution_count": null,
   "metadata": {},
   "outputs": [],
   "source": [
    "sort_it(lst2)"
   ]
  },
  {
   "cell_type": "markdown",
   "metadata": {},
   "source": [
    "# Question 3"
   ]
  },
  {
   "cell_type": "markdown",
   "metadata": {},
   "source": [
    "Given a list of customers, write a function sort_age that uses a stable in-place bubble sort to sort the customers in ascending order of age."
   ]
  },
  {
   "cell_type": "code",
   "execution_count": null,
   "metadata": {},
   "outputs": [],
   "source": [
    "def get_age(customer):\n",
    "    return customer[3]"
   ]
  },
  {
   "cell_type": "code",
   "execution_count": null,
   "metadata": {},
   "outputs": [],
   "source": [
    "def sort_age(lst):\n",
    "    pass\n",
    "\n",
    "\n",
    "\n",
    "\n",
    "#####Do not remove/modify ###########\n",
    "cust1=[ (\"650001\", \"Henry Lim\",  \"M\", 23) , (\"650002\", \"Jane Chen\", \"F\", 19),  (\"650003\", \"Ahmad\", \"M\", 30) ]\n",
    "cust2=[(\"650004\", \"Dina\", \"F\", 28), (\"650001\", \"Henry Lim\", \"M\", 23), (\"650002\", \"Jane Chen\", \"F\", 19), \n",
    "(\"650003\", \"Ahmad\", \"M\", 30)]\n",
    "sort_age(cust1)\n",
    "sort_age(cust2)"
   ]
  },
  {
   "cell_type": "code",
   "execution_count": null,
   "metadata": {},
   "outputs": [],
   "source": [
    "cust1"
   ]
  },
  {
   "cell_type": "code",
   "execution_count": null,
   "metadata": {},
   "outputs": [],
   "source": [
    "cust2"
   ]
  },
  {
   "cell_type": "markdown",
   "metadata": {},
   "source": [
    "# Question 4"
   ]
  },
  {
   "cell_type": "markdown",
   "metadata": {},
   "source": [
    "Given a list of customers, write a function sort_name that uses a stable in-place insertion sort to sort the customers' name in alphabetical order."
   ]
  },
  {
   "cell_type": "code",
   "execution_count": null,
   "metadata": {},
   "outputs": [],
   "source": [
    "def get_name(customer):\n",
    "    return customer[1]"
   ]
  },
  {
   "cell_type": "code",
   "execution_count": null,
   "metadata": {},
   "outputs": [],
   "source": [
    "def sort_name(lst):\n",
    "    pass\n",
    "\n",
    "\n",
    "\n",
    "\n",
    "#####Do not remove ###########\n",
    "cust1=[ (\"650001\", \"Henry Lim\",  \"M\", 23) , (\"650002\", \"Jane Chen\", \"F\", 19),  (\"650003\", \"Ahmad\", \"M\", 30) ]\n",
    "\n",
    "cust2=[(\"650004\", \"Dina\", \"F\", 28), (\"650001\", \"Henry Lim\", \"M\", 23), (\"650002\", \"Jane Chen\", \"F\", 19), \n",
    "(\"650003\", \"Ahmad\", \"M\", 30)]\n",
    "\n",
    "sort_name(cust1)\n",
    "sort_name(cust2)\n"
   ]
  },
  {
   "cell_type": "code",
   "execution_count": null,
   "metadata": {},
   "outputs": [],
   "source": [
    "cust1"
   ]
  },
  {
   "cell_type": "code",
   "execution_count": null,
   "metadata": {},
   "outputs": [],
   "source": [
    "cust2"
   ]
  }
 ],
 "metadata": {
  "kernelspec": {
   "display_name": "Python 3",
   "language": "python",
   "name": "python3"
  },
  "language_info": {
   "codemirror_mode": {
    "name": "ipython",
    "version": 3
   },
   "file_extension": ".py",
   "mimetype": "text/x-python",
   "name": "python",
   "nbconvert_exporter": "python",
   "pygments_lexer": "ipython3",
   "version": "3.6.4"
  }
 },
 "nbformat": 4,
 "nbformat_minor": 2
}
