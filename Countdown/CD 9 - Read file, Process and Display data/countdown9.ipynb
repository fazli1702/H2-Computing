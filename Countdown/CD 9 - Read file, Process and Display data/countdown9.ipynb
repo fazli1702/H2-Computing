{
 "cells": [
  {
   "cell_type": "markdown",
   "metadata": {},
   "source": [
    "## task 1.1"
   ]
  },
  {
   "cell_type": "code",
   "execution_count": null,
   "metadata": {},
   "outputs": [],
   "source": [
    "with open('DIVE1.txt') as f:\n",
    "    data = f.readlines()\n",
    "    countries = [row.strip().split(',') for row in data]"
   ]
  },
  {
   "cell_type": "code",
   "execution_count": null,
   "metadata": {},
   "outputs": [],
   "source": [
    "for country in countries:\n",
    "    print(country)"
   ]
  },
  {
   "cell_type": "code",
   "execution_count": null,
   "metadata": {},
   "outputs": [],
   "source": [
    "rank = []\n",
    "for country in countries:\n",
    "    scores = [float(ele) for ele in country[2:]]\n",
    "    scores = sorted(scores)\n",
    "#     print(scores)\n",
    "    scores.pop(0)\n",
    "    scores.pop(1)\n",
    "    \n",
    "    raw = sum(scores)\n",
    "    dif = float(country[1])\n",
    "    total = round(raw * dif, 2)\n",
    "    \n",
    "    rank.append([total, country[0]])"
   ]
  },
  {
   "cell_type": "code",
   "execution_count": null,
   "metadata": {},
   "outputs": [],
   "source": [
    "rank.sort(reverse=True)\n",
    "for ele in rank:\n",
    "    print(ele)"
   ]
  },
  {
   "cell_type": "code",
   "execution_count": null,
   "metadata": {},
   "outputs": [],
   "source": [
    "gold = rank[0]\n",
    "silver = rank[1]\n",
    "bronze = rank[2]\n",
    "\n",
    "print('%-15s %-15s %-15s' % ('Gold', gold[1], gold[0]))\n",
    "print('%-15s %-15s %-15s' % ('Silver', silver[1], silver[0]))\n",
    "print('%-15s %-15s %-15s' % ('Gold', bronze[1], bronze[0]))"
   ]
  },
  {
   "cell_type": "markdown",
   "metadata": {},
   "source": [
    "## task 1.2"
   ]
  },
  {
   "cell_type": "code",
   "execution_count": 1,
   "metadata": {},
   "outputs": [],
   "source": [
    "with open('DIVE2.txt') as f:\n",
    "    data = f.readlines()\n",
    "    raw_score = [row.strip().split(',') for row in data]"
   ]
  },
  {
   "cell_type": "code",
   "execution_count": 2,
   "metadata": {},
   "outputs": [
    {
     "name": "stdout",
     "output_type": "stream",
     "text": [
      "['Australia', '2.4', '8', '7', '7.5', '7', '7.5', '7.5', '8', '8.5', '7.5']\n",
      "['Brazil', '2.1', '6', '5.5', '5.5', '6.5', '7', '6', '6', '7', '7']\n",
      "['China', '2.3', '8.5', '9', '9', '8.5', '8.5', '9.5', '9', '8.5', '8.5']\n",
      "['France', '2.2', '6', '6.5', '6.5', '7', '8', '7', '6', '6.5', '7']\n",
      "['Germany', '2.4', '7.5', '8.5', '7.5', '8', '7.5', '7', '8', '8', '7.5']\n",
      "['Great Britain', '2.4', '8.5', '7.5', '8', '7.5', '7.5', '7', '8', '7.5', '8']\n",
      "['Malaysia', '2.3', '8', '8.5', '8', '8', '8.5', '8', '8.5', '9', '8.5']\n",
      "['Mexico', '2.1', '7', '7.5', '8', '7.5', '7', '7.5', '8', '7.5', '7']\n",
      "['Puerto Rico', '2.2', '7.5', '8', '7.5', '8', '8', '8', '7.5', '7', '7']\n",
      "['Russia', '2.1', '6', '6.5', '5.5', '6', '5.5', '5.5', '6', '6.5', '6']\n",
      "['South Korea', '2.2', '7.5', '8.5', '8.5', '8', '8', '7.5', '7.5', '7', '8']\n",
      "['United States', '2.4', '8.5', '8', '8.5', '7.5', '8', '8', '7', '7.5', '7']\n"
     ]
    }
   ],
   "source": [
    "for ele in raw_score:\n",
    "    print(ele)"
   ]
  },
  {
   "cell_type": "code",
   "execution_count": 13,
   "metadata": {},
   "outputs": [],
   "source": [
    "rank = []\n",
    "for score in raw_score:\n",
    "    final = []\n",
    "    sorted_score = sorted([float(ele) for ele in score[2:]])\n",
    "#     print(sorted_score)\n",
    "    sorted_score.pop(0)\n",
    "    sorted_score.pop(0)\n",
    "    sorted_score.pop(-1)\n",
    "    sorted_score.pop(-1)\n",
    "#     print(sorted_score)\n",
    "    \n",
    "    raw = sum(sorted_score)\n",
    "    dif = float(score[1])\n",
    "    total = round((raw*dif) * 0.6, 2)\n",
    "#     print(total)\n",
    "    rank.append([total, score[0]])"
   ]
  },
  {
   "cell_type": "code",
   "execution_count": 14,
   "metadata": {},
   "outputs": [
    {
     "name": "stdout",
     "output_type": "stream",
     "text": [
      "[60.03, 'China']\n",
      "[57.27, 'Malaysia']\n",
      "[56.16, 'United States']\n",
      "[55.44, 'Great Britain']\n",
      "[55.44, 'Germany']\n",
      "[54.72, 'Australia']\n",
      "[51.48, 'South Korea']\n",
      "[50.82, 'Puerto Rico']\n",
      "[46.62, 'Mexico']\n",
      "[44.22, 'France']\n",
      "[39.69, 'Brazil']\n",
      "[37.17, 'Russia']\n"
     ]
    }
   ],
   "source": [
    "rank.sort(reverse=True)\n",
    "for ele in rank:\n",
    "    print(ele)"
   ]
  },
  {
   "cell_type": "code",
   "execution_count": 15,
   "metadata": {},
   "outputs": [],
   "source": [
    "gold2 = rank[0]\n",
    "silver2 = rank[1]\n",
    "bronze2 = rank[2]"
   ]
  },
  {
   "cell_type": "code",
   "execution_count": 16,
   "metadata": {},
   "outputs": [
    {
     "name": "stdout",
     "output_type": "stream",
     "text": [
      "Gold            China           60.03          \n",
      "Silver          Malaysia        57.27          \n",
      "Gold            United States   56.16          \n"
     ]
    }
   ],
   "source": [
    "print('%-15s %-15s %-15s' % ('Gold', gold2[1], gold2[0]))\n",
    "print('%-15s %-15s %-15s' % ('Silver', silver2[1], silver2[0]))\n",
    "print('%-15s %-15s %-15s' % ('Gold', bronze2[1], bronze2[0]))"
   ]
  },
  {
   "cell_type": "code",
   "execution_count": null,
   "metadata": {},
   "outputs": [],
   "source": []
  }
 ],
 "metadata": {
  "kernelspec": {
   "display_name": "Python 3",
   "language": "python",
   "name": "python3"
  },
  "language_info": {
   "codemirror_mode": {
    "name": "ipython",
    "version": 3
   },
   "file_extension": ".py",
   "mimetype": "text/x-python",
   "name": "python",
   "nbconvert_exporter": "python",
   "pygments_lexer": "ipython3",
   "version": "3.6.4"
  }
 },
 "nbformat": 4,
 "nbformat_minor": 2
}
