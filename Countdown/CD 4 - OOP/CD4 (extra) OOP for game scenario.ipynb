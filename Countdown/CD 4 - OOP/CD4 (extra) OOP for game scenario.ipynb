{
 "cells": [
  {
   "cell_type": "markdown",
   "metadata": {},
   "source": [
    "# HCI Prelim 2018"
   ]
  },
  {
   "cell_type": "code",
   "execution_count": 16,
   "metadata": {},
   "outputs": [],
   "source": [
    "import random\n",
    "\n",
    "class IslandClass:\n",
    "    def __init__(self):\n",
    "        self.Grid = [['.' for i in range(30)] for i in range(10)]\n",
    "    \n",
    "    # task 1.2\n",
    "    def HideTreasure(self):\n",
    "        Row = random.randint(0, 9)\n",
    "        Column = random.randint(0, 29)\n",
    "        while True:\n",
    "            if self.Grid[Row][Column] == 'T':\n",
    "                Row = random.randint(0, 9)\n",
    "                Column = random.randint(0, 29)\n",
    "            else:\n",
    "                self.Grid[Row][Column] = 'T'\n",
    "                break\n",
    "        \n",
    "    # task 1.4\n",
    "    def DigHole(self, Row, Column):\n",
    "        Treasure = 'T'\n",
    "        FoundTreasure = 'X'\n",
    "        Hole = 'O'\n",
    "        if self.Grid[Row][Column] == Treasure:\n",
    "            self.Grid[Row][Column] = FoundTreasure\n",
    "        else:\n",
    "            self.Grid[Row][Column] = Hole\n",
    "        \n",
    "    \n",
    "    def GetSquare(self, Row, Column):\n",
    "        return self.Grid[Row][Column]\n",
    "    \n",
    "    def DisplayGrid(self):\n",
    "        for row in self.Grid:\n",
    "            string = ''\n",
    "            for ele in row:\n",
    "                string += ele\n",
    "            print(string)"
   ]
  },
  {
   "cell_type": "code",
   "execution_count": 22,
   "metadata": {},
   "outputs": [],
   "source": [
    "# task 1.3\n",
    "def main():\n",
    "    island = IslandClass()\n",
    "    for i in range(3):\n",
    "        island.HideTreasure()\n",
    "    island.DisplayGrid()\n",
    "    \n",
    "    # user input & validate - task 1.5\n",
    "    while True:\n",
    "        coord = input('Enter Row and Column <Row,Column>:')\n",
    "        coord = coord.split(',')\n",
    "        if len(coord) == 2:\n",
    "            if coord[0].isnumeric() and coord[1].isnumeric():\n",
    "                Row, Column = int(coord[0]), int(coord[1])\n",
    "                break\n",
    "    \n",
    "    island.DigHole(Row, Column)\n",
    "    island.DisplayGrid()"
   ]
  },
  {
   "cell_type": "code",
   "execution_count": 23,
   "metadata": {},
   "outputs": [
    {
     "name": "stdout",
     "output_type": "stream",
     "text": [
      "...............T..............\n",
      "..................T...........\n",
      "...T..........................\n",
      "..............................\n",
      "..............................\n",
      "..............................\n",
      "..............................\n",
      "..............................\n",
      "..............................\n",
      "..............................\n",
      "Enter Row and Column <Row,Column>:0,15\n",
      "...............X..............\n",
      "..................T...........\n",
      "...T..........................\n",
      "..............................\n",
      "..............................\n",
      "..............................\n",
      "..............................\n",
      "..............................\n",
      "..............................\n",
      "..............................\n"
     ]
    }
   ],
   "source": [
    "main()"
   ]
  },
  {
   "cell_type": "code",
   "execution_count": null,
   "metadata": {},
   "outputs": [],
   "source": []
  }
 ],
 "metadata": {
  "kernelspec": {
   "display_name": "Python 3",
   "language": "python",
   "name": "python3"
  },
  "language_info": {
   "codemirror_mode": {
    "name": "ipython",
    "version": 3
   },
   "file_extension": ".py",
   "mimetype": "text/x-python",
   "name": "python",
   "nbconvert_exporter": "python",
   "pygments_lexer": "ipython3",
   "version": "3.6.4"
  }
 },
 "nbformat": 4,
 "nbformat_minor": 2
}
