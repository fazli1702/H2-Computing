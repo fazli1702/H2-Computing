{
 "cells": [
  {
   "cell_type": "code",
   "execution_count": 1,
   "metadata": {},
   "outputs": [
    {
     "ename": "NameError",
     "evalue": "name 'Grocery' is not defined",
     "output_type": "error",
     "traceback": [
      "\u001b[1;31m---------------------------------------------------------------------------\u001b[0m",
      "\u001b[1;31mNameError\u001b[0m                                 Traceback (most recent call last)",
      "\u001b[1;32m<ipython-input-1-a1c05401579c>\u001b[0m in \u001b[0;36m<module>\u001b[1;34m()\u001b[0m\n\u001b[0;32m     39\u001b[0m     \u001b[1;32mreturn\u001b[0m \u001b[1;33m[\u001b[0m\u001b[0mg1\u001b[0m\u001b[1;33m,\u001b[0m \u001b[0mg2\u001b[0m\u001b[1;33m,\u001b[0m \u001b[0mg3\u001b[0m\u001b[1;33m,\u001b[0m \u001b[0mg4\u001b[0m\u001b[1;33m,\u001b[0m \u001b[0mea1\u001b[0m\u001b[1;33m,\u001b[0m \u001b[0mea2\u001b[0m\u001b[1;33m,\u001b[0m \u001b[0mea3\u001b[0m\u001b[1;33m,\u001b[0m \u001b[0mea4\u001b[0m\u001b[1;33m,\u001b[0m \u001b[0mea5\u001b[0m\u001b[1;33m,\u001b[0m \u001b[0mc1\u001b[0m\u001b[1;33m,\u001b[0m \u001b[0mc2\u001b[0m\u001b[1;33m,\u001b[0m \u001b[0mc3\u001b[0m\u001b[1;33m,\u001b[0m \u001b[0mc4\u001b[0m\u001b[1;33m,\u001b[0m \u001b[0ma1\u001b[0m\u001b[1;33m,\u001b[0m \u001b[0ma2\u001b[0m\u001b[1;33m,\u001b[0m \u001b[0ma3\u001b[0m\u001b[1;33m,\u001b[0m \u001b[0ma4\u001b[0m\u001b[1;33m,\u001b[0m \u001b[0ma5\u001b[0m\u001b[1;33m]\u001b[0m\u001b[1;33m\u001b[0m\u001b[0m\n\u001b[0;32m     40\u001b[0m \u001b[1;33m\u001b[0m\u001b[0m\n\u001b[1;32m---> 41\u001b[1;33m \u001b[0mg_list\u001b[0m \u001b[1;33m=\u001b[0m \u001b[0minitialise_data\u001b[0m\u001b[1;33m(\u001b[0m\u001b[1;33m)\u001b[0m\u001b[1;33m\u001b[0m\u001b[0m\n\u001b[0m\u001b[0;32m     42\u001b[0m \u001b[1;33m\u001b[0m\u001b[0m\n\u001b[0;32m     43\u001b[0m \u001b[1;33m\u001b[0m\u001b[0m\n",
      "\u001b[1;32m<ipython-input-1-a1c05401579c>\u001b[0m in \u001b[0;36minitialise_data\u001b[1;34m()\u001b[0m\n\u001b[0;32m     15\u001b[0m \u001b[1;33m\u001b[0m\u001b[0m\n\u001b[0;32m     16\u001b[0m \u001b[1;32mdef\u001b[0m \u001b[0minitialise_data\u001b[0m\u001b[1;33m(\u001b[0m\u001b[1;33m)\u001b[0m\u001b[1;33m:\u001b[0m\u001b[1;33m\u001b[0m\u001b[0m\n\u001b[1;32m---> 17\u001b[1;33m     \u001b[0mg1\u001b[0m \u001b[1;33m=\u001b[0m \u001b[0mGrocery\u001b[0m\u001b[1;33m(\u001b[0m\u001b[1;34m\"Spoon\"\u001b[0m\u001b[1;33m,\u001b[0m \u001b[1;36m1.5\u001b[0m\u001b[1;33m,\u001b[0m \u001b[1;36m2.5\u001b[0m\u001b[1;33m,\u001b[0m \u001b[1;36m15\u001b[0m\u001b[1;33m)\u001b[0m\u001b[1;33m\u001b[0m\u001b[0m\n\u001b[0m\u001b[0;32m     18\u001b[0m     \u001b[0mg2\u001b[0m \u001b[1;33m=\u001b[0m \u001b[0mGrocery\u001b[0m\u001b[1;33m(\u001b[0m\u001b[1;34m\"Fork\"\u001b[0m\u001b[1;33m,\u001b[0m \u001b[1;36m1.7\u001b[0m\u001b[1;33m,\u001b[0m \u001b[1;36m3.0\u001b[0m\u001b[1;33m,\u001b[0m \u001b[1;36m5\u001b[0m\u001b[1;33m)\u001b[0m\u001b[1;33m\u001b[0m\u001b[0m\n\u001b[0;32m     19\u001b[0m     \u001b[0mg3\u001b[0m \u001b[1;33m=\u001b[0m \u001b[0mGrocery\u001b[0m\u001b[1;33m(\u001b[0m\u001b[1;34m\"Shampoo\"\u001b[0m\u001b[1;33m,\u001b[0m \u001b[1;36m5.2\u001b[0m\u001b[1;33m,\u001b[0m \u001b[1;36m11\u001b[0m\u001b[1;33m,\u001b[0m \u001b[1;36m11\u001b[0m\u001b[1;33m)\u001b[0m\u001b[1;33m\u001b[0m\u001b[0m\n",
      "\u001b[1;31mNameError\u001b[0m: name 'Grocery' is not defined"
     ]
    }
   ],
   "source": [
    "###################################################################\n",
    "# Implementation of Code in this section\n",
    "# Hint: round(float, 2) will return a float with 2 d.p.\n",
    "# Hint: \"{:>12.2f}\".format(float) will format float in 12 blank\n",
    "#        placeholders, align to the right, formatted to 2 d.p.\n",
    "###################################################################\n",
    "\n",
    "\n",
    "\n",
    "\n",
    "####################################################\n",
    "# Please do not modify the code below\n",
    "####################################################\n",
    "\n",
    "\n",
    "def initialise_data():\n",
    "    g1 = Grocery(\"Spoon\", 1.5, 2.5, 15)\n",
    "    g2 = Grocery(\"Fork\", 1.7, 3.0, 5)\n",
    "    g3 = Grocery(\"Shampoo\", 5.2, 11, 11)\n",
    "    g4 = Grocery(\"Power Cable\", 6.5, 15, 12)\n",
    "\n",
    "    ea1 = ElectricalAppliance(\"Normal Light Bulb 01\", 2, 3, 3, 25)\n",
    "    ea2 = ElectricalAppliance(\"Normal Light Bulb 02\", 2.5, 4, 6, 30)\n",
    "    ea3 = ElectricalAppliance(\"LED Light Bulb\", 6, 10, 9, 5)\n",
    "    ea4 = ElectricalAppliance(\"Desk Light\", 30, 50, 2, 50)\n",
    "    ea5 = ElectricalAppliance(\"LED Desk Light\", 40, 60, 15, 10)\n",
    "\n",
    "    c1 = Cigarette(\"Marlboro Red\", 27.65, 35, 15, 0.7)\n",
    "    c2 = Cigarette(\"Bomond Blue\", 12.10, 15, 12, 0.7)\n",
    "    c3 = Cigarette(\"Camel Filters\", 23.38, 30, 23, 0.6)\n",
    "    c4 = Cigarette(\"Yun Yan\", 16.5, 23, 4, 0.65)\n",
    "\n",
    "    a1 = Alcohol(\"Barefoot\", 55, 86, 3, \"wine\")\n",
    "    a2 = Alcohol(\"Great Wall\", 45, 80, 5, \"wine\")\n",
    "    a3 = Alcohol(\"Hardys\", 57, 90, 6, \"wine\")\n",
    "    a4 = Alcohol(\"Coors Light\", 15, 27, 13, \"beer\")\n",
    "    a5 = Alcohol(\"Tsingtao\", 10, 20, 7, \"beer\")\n",
    "\n",
    "    return [g1, g2, g3, g4, ea1, ea2, ea3, ea4, ea5, c1, c2, c3, c4, a1, a2, a3, a4, a5]\n",
    "\n",
    "g_list = initialise_data()\n",
    "\n",
    "\n",
    "def test_function_5_1():\n",
    "    print(\"Begin test function 5.1\\n\")\n",
    "\n",
    "    print(\"{:-^65}\".format(\"Current Grocery List\"))\n",
    "    print(\"{:<20} |  {:>6} |  {:>6} | {:>6} |  {:>12}\".format(\"Title\", \"Cost\", \"Price\", \"Stock\", \"Final Price\"))\n",
    "    print(\"{:-^65}\".format(\"\"))\n",
    "\n",
    "    for g in g_list:\n",
    "        print(g)\n",
    "\n",
    "    print(\"\\nEnd of test function 5.1\\n\")\n",
    "\n",
    "# test_function_5_1()\n",
    "\n",
    "\n",
    "def test_function_5_2():\n",
    "    print(\"Begin test function 5.2\\n\")\n",
    "\n",
    "    sm = StoreManager(g_list)\n",
    "    sold_item_list = [(\"Spoon\", 2), (\"Fork\", 3)]\n",
    "    sm.sell_items(sold_item_list)\n",
    "\n",
    "    print()\n",
    "    sm.stock_check()\n",
    "\n",
    "    print(\"\\nEnd of test function 5.2\\n\")\n",
    "\n",
    "# test_function_5_2()\n"
   ]
  },
  {
   "cell_type": "code",
   "execution_count": null,
   "metadata": {},
   "outputs": [],
   "source": []
  }
 ],
 "metadata": {
  "kernelspec": {
   "display_name": "Python 3",
   "language": "python",
   "name": "python3"
  },
  "language_info": {
   "codemirror_mode": {
    "name": "ipython",
    "version": 3
   },
   "file_extension": ".py",
   "mimetype": "text/x-python",
   "name": "python",
   "nbconvert_exporter": "python",
   "pygments_lexer": "ipython3",
   "version": "3.6.4"
  }
 },
 "nbformat": 4,
 "nbformat_minor": 2
}
