{
 "cells": [
  {
   "cell_type": "markdown",
   "metadata": {},
   "source": [
    "## Question 1"
   ]
  },
  {
   "cell_type": "code",
   "execution_count": 5,
   "metadata": {},
   "outputs": [
    {
     "data": {
      "text/plain": [
       "6316"
      ]
     },
     "execution_count": 5,
     "metadata": {},
     "output_type": "execute_result"
    }
   ],
   "source": [
    "import csv\n",
    "\n",
    "def total_rain():\n",
    "    with open('RAINFALL.csv') as f:\n",
    "        data = csv.reader(f)\n",
    "        next(data)\n",
    "        total = 0\n",
    "        for ele in data:\n",
    "            num_rain_days = int(ele[2])\n",
    "            total += num_rain_days\n",
    "        return total\n",
    "    \n",
    "total_rain()"
   ]
  },
  {
   "cell_type": "markdown",
   "metadata": {},
   "source": [
    "##  Question 2"
   ]
  },
  {
   "cell_type": "code",
   "execution_count": 7,
   "metadata": {},
   "outputs": [
    {
     "name": "stdout",
     "output_type": "stream",
     "text": [
      "Mth   No    Total Rainy Days\n",
      "Jan   38    516  \n",
      "Feb   38    314  \n",
      "Mar   38    469  \n",
      "Apr   38    548  \n",
      "May   38    530  \n",
      "Jun   38    483  \n",
      "Jul   37    496  \n",
      "Aug   37    513  \n",
      "Sep   37    493  \n",
      "Oct   37    553  \n",
      "Nov   37    704  \n",
      "Dec   37    697  \n"
     ]
    }
   ],
   "source": [
    "import csv\n",
    "\n",
    "info = [[0, 0] for i in range(12)] # (total_records, total_rainy_days)\n",
    "months = ['Jan', 'Feb', 'Mar', 'Apr', 'May', 'Jun', 'Jul', 'Aug', 'Sep', 'Oct', 'Nov', 'Dec']\n",
    "\n",
    "with open('RAINFALL.csv') as f:\n",
    "    data = csv.reader(f)\n",
    "    next(data)\n",
    "    for year,month,no_of_rainy_days in data:\n",
    "        month = int(month)\n",
    "        no_of_rainy_days = int(no_of_rainy_days)\n",
    "        info[month-1][0] += 1\n",
    "        info[month-1][1] += no_of_rainy_days\n",
    "        \n",
    "print('{:<5} {:<5} {:<5}'.format('Mth', 'No', 'Total Rainy Days'))\n",
    "i = 0\n",
    "for record, rain_day in info:\n",
    "    print('{:<5} {:<5} {:<5}'.format(months[i], record, rain_day))\n",
    "    i += 1\n"
   ]
  },
  {
   "cell_type": "markdown",
   "metadata": {},
   "source": [
    "## Question 3"
   ]
  },
  {
   "cell_type": "code",
   "execution_count": 20,
   "metadata": {},
   "outputs": [
    {
     "name": "stdout",
     "output_type": "stream",
     "text": [
      "Mth        No         Total Rainy Days     Probability of Rain\n",
      "Jan        38         516                  0.4380305602716469\n",
      "Feb        38         314                  0.2925011644154634\n",
      "Mar        38         469                  0.39813242784380304\n",
      "Apr        38         548                  0.4807017543859649\n",
      "May        38         530                  0.44991511035653653\n",
      "Jun        38         483                  0.4236842105263158\n",
      "Jul        37         496                  0.43243243243243246\n",
      "Aug        37         513                  0.44725370531822145\n",
      "Sep        37         493                  0.44414414414414416\n",
      "Oct        37         553                  0.48212728857890147\n",
      "Nov        37         704                  0.6342342342342342\n",
      "Dec        37         697                  0.6076721883173496\n"
     ]
    }
   ],
   "source": [
    "# April, June, September, November have 30 days, \n",
    "# with all other months having 31 days. \n",
    "# We will handle leap years by taking February to be 28.25 days\n",
    "\n",
    "# probability = Total rainy days for that month/Total number of days considered for that month\n",
    "# E.g. For January, there were 38 records. Total number of days considered would be 38 x 31 = 1178\n",
    "\n",
    "import csv\n",
    "\n",
    "info = [[0, 0, 0] for i in range(12)] # (total_records, total_rainy_days, probability)\n",
    "months = ['Jan', 'Feb', 'Mar', 'Apr', 'May', 'Jun', 'Jul', 'Aug', 'Sep', 'Oct', 'Nov', 'Dec']\n",
    "days = [31, 28.25, 31, 30, 31, 30, 31, 31, 30, 31, 30, 31]\n",
    "\n",
    "\n",
    "with open('RAINFALL.csv') as f:\n",
    "    data = csv.reader(f)\n",
    "    next(data)\n",
    "    for year,month,no_of_rainy_days in data:\n",
    "        month = int(month)\n",
    "        no_of_rainy_days = int(no_of_rainy_days)\n",
    "        info[month-1][0] += 1\n",
    "        info[month-1][1] += no_of_rainy_days\n",
    "\n",
    "i = 0\n",
    "# calculate probability for all months\n",
    "for ele in info:\n",
    "    ele[2] = ele[1] / (days[i]*ele[0])\n",
    "    i += 1\n",
    "\n",
    "\n",
    "print('{:<10} {:<10} {:<20} {:<10}'.format('Mth', 'No', 'Total Rainy Days', 'Probability of Rain'))\n",
    "i = 0\n",
    "for record, rain_day, prob in info:\n",
    "    print('{:10} {:<10} {:<20} {:>10}'.format(months[i], record, rain_day , prob))\n",
    "    i += 1\n",
    "    "
   ]
  },
  {
   "cell_type": "markdown",
   "metadata": {},
   "source": [
    "## Question 4"
   ]
  },
  {
   "cell_type": "code",
   "execution_count": 32,
   "metadata": {},
   "outputs": [
    {
     "name": "stdout",
     "output_type": "stream",
     "text": [
      "Mth        No         Total Rainy Days     Probability of Rain    Average Cups sold\n",
      "Jan        38         516                  0.4380305602716469           221.5\n",
      "Feb        38         314                  0.2925011644154634           261.2\n",
      "Mar        38         469                  0.39813242784380304           234.4\n",
      "Apr        38         548                  0.4807017543859649           198.4\n",
      "May        38         530                  0.44991511035653653           215.8\n",
      "Jun        38         483                  0.4236842105263158           216.1\n",
      "Jul        37         496                  0.43243243243243246           212.2\n",
      "Aug        37         513                  0.44725370531822145           202.9\n",
      "Sep        37         493                  0.44414414414414416           224.2\n",
      "Oct        37         553                  0.48212728857890147           200.3\n",
      "Nov        37         704                  0.6342342342342342           178.8\n",
      "Dec        37         697                  0.6076721883173496           164.4\n"
     ]
    }
   ],
   "source": [
    "import csv\n",
    "\n",
    "info = [[0, 0, 0] for i in range(12)] # (total_records, total_rainy_days, probability)\n",
    "months = ['Jan', 'Feb', 'Mar', 'Apr', 'May', 'Jun', 'Jul', 'Aug', 'Sep', 'Oct', 'Nov', 'Dec']\n",
    "days = [31, 28.25, 31, 30, 31, 30, 31, 31, 30, 31, 30, 31]\n",
    "Sales = [0 for i in range(13)]\n",
    "Sales[1] = 221.5\n",
    "Sales[2] = 261.2\n",
    "Sales[3] = 234.4\n",
    "Sales[4] = 198.4\n",
    "Sales[5] = 215.8\n",
    "Sales[6] = 216.1\n",
    "Sales[7] = 212.2\n",
    "Sales[8] = 202.9\n",
    "Sales[9] = 224.2\n",
    "Sales[10] = 200.3\n",
    "Sales[11] = 178.8\n",
    "Sales[12] = 164.4\n",
    "\n",
    "\n",
    "with open('RAINFALL.csv') as f:\n",
    "    data = csv.reader(f)\n",
    "    next(data)\n",
    "    for year,month,no_of_rainy_days in data:\n",
    "        month = int(month)\n",
    "        no_of_rainy_days = int(no_of_rainy_days)\n",
    "        info[month-1][0] += 1\n",
    "        info[month-1][1] += no_of_rainy_days\n",
    "\n",
    "i = 0\n",
    "for ele in info:\n",
    "    ele[2] = ele[1] / (days[i]*ele[0])\n",
    "    i += 1\n",
    "\n",
    "\n",
    "print('{:<10} {:<10} {:<20} {:<10} {:>20}'.format('Mth', 'No', 'Total Rainy Days', 'Probability of Rain', 'Average Cups sold'))\n",
    "i = 0\n",
    "for record, rain_day, prob in info:\n",
    "    print('{:10} {:<10} {:<20} {:>10} {:15}'.format(months[i], record, rain_day , prob, Sales[i+1]))\n",
    "    i += 1\n",
    "    "
   ]
  },
  {
   "cell_type": "code",
   "execution_count": null,
   "metadata": {},
   "outputs": [],
   "source": []
  }
 ],
 "metadata": {
  "kernelspec": {
   "display_name": "Python 3",
   "language": "python",
   "name": "python3"
  },
  "language_info": {
   "codemirror_mode": {
    "name": "ipython",
    "version": 3
   },
   "file_extension": ".py",
   "mimetype": "text/x-python",
   "name": "python",
   "nbconvert_exporter": "python",
   "pygments_lexer": "ipython3",
   "version": "3.6.4"
  }
 },
 "nbformat": 4,
 "nbformat_minor": 2
}
