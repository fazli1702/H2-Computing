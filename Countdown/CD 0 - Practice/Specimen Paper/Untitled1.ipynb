{
 "cells": [
  {
   "cell_type": "code",
   "execution_count": 5,
   "metadata": {},
   "outputs": [],
   "source": [
    "def bubble_sort(arr):\n",
    "    end = len(arr) - 1\n",
    "    while end != 0:\n",
    "        swap = False\n",
    "        for i in range(end):\n",
    "            if arr[i] > arr[i+1]:\n",
    "                arr[i], arr[i+1] = arr[i+1], arr[i]\n",
    "                swap = True\n",
    "            \n",
    "        if not swap:\n",
    "            break\n",
    "        else:\n",
    "            end -= 1\n",
    "    return arr"
   ]
  },
  {
   "cell_type": "code",
   "execution_count": 6,
   "metadata": {},
   "outputs": [
    {
     "name": "stdout",
     "output_type": "stream",
     "text": [
      "[0, 1, 2, 3, 4, 7, 9]\n"
     ]
    }
   ],
   "source": [
    "lst = [2, 4, 7, 9, 1, 3, 0]\n",
    "print(bubble_sort(lst))"
   ]
  },
  {
   "cell_type": "code",
   "execution_count": 7,
   "metadata": {},
   "outputs": [],
   "source": [
    "def insertion_sort(arr):\n",
    "    for i in range(1, len(arr)):\n",
    "        key = arr[i]\n",
    "        j = i - 1\n",
    "        while j >= 0 and key < arr[j]:\n",
    "            arr[j], arr[j+1] = arr[j+1], arr[j]\n",
    "    return arr"
   ]
  },
  {
   "cell_type": "code",
   "execution_count": 8,
   "metadata": {},
   "outputs": [
    {
     "data": {
      "text/plain": [
       "[2, 4, 7, 1, 3, 0, 9]"
      ]
     },
     "execution_count": 8,
     "metadata": {},
     "output_type": "execute_result"
    }
   ],
   "source": [
    "lst = [2, 4, 7, 9, 1, 3, 0]\n",
    "insertion_sort(lst)"
   ]
  },
  {
   "cell_type": "code",
   "execution_count": 13,
   "metadata": {},
   "outputs": [],
   "source": [
    "def merge_sort(arr):\n",
    "    if len(arr) <= 1:\n",
    "        return arr\n",
    "    \n",
    "    mid = len(arr) // 2\n",
    "    left = arr[:mid]\n",
    "    right = arr[mid:]\n",
    "    return merge(merge_sort(left), merge_sort(right))\n",
    "\n",
    "def merge(left, right):\n",
    "    lst = []\n",
    "    while len(left) != 0 and len(right) != 0:\n",
    "        if left[0] < right[0]:\n",
    "            lst.append(left.pop(0))\n",
    "        else:\n",
    "            lst.append(right.pop(0))\n",
    "    \n",
    "    if len(left) != 0:\n",
    "        lst += left\n",
    "    if len(right) != 0:\n",
    "        lst += right\n",
    "    return lst"
   ]
  },
  {
   "cell_type": "code",
   "execution_count": 14,
   "metadata": {},
   "outputs": [
    {
     "data": {
      "text/plain": [
       "[0, 1, 2, 3, 4, 7, 9]"
      ]
     },
     "execution_count": 14,
     "metadata": {},
     "output_type": "execute_result"
    }
   ],
   "source": [
    "lst = [2, 4, 7, 9, 1, 3, 0]\n",
    "merge_sort(lst)"
   ]
  },
  {
   "cell_type": "code",
   "execution_count": null,
   "metadata": {},
   "outputs": [],
   "source": [
    "def quicksort(arr):\n",
    "    return _quicksort(arr, 0, len(arr)-1)\n",
    "\n",
    "def _quicksort(arr, low, high):\n",
    "    if low < high:\n",
    "        mid = partition(arr, low, high)\n",
    "        partition(arr, low, mid-1)\n",
    "        partition(arr, mid+1, high)\n",
    "    return arr\n",
    "\n",
    "def partition(arr, low, high):\n",
    "    pivot = arr[low]\n",
    "    left = low + 1\n",
    "    right = high\n",
    "    done = True\n",
    "    \n",
    "    while done:\n",
    "        while left <= right and arr[left] < pivot:\n",
    "            left += 1\n",
    "            \n",
    "        while left <= right and arr[right] > pivot:\n",
    "            right -= 1\n",
    "            \n",
    "        if left > right:\n",
    "            done = False\n",
    "            \n",
    "        else:\n",
    "            arr[right], arr[left] = arr[left], arr[right]"
   ]
  }
 ],
 "metadata": {
  "kernelspec": {
   "display_name": "Python 3",
   "language": "python",
   "name": "python3"
  },
  "language_info": {
   "codemirror_mode": {
    "name": "ipython",
    "version": 3
   },
   "file_extension": ".py",
   "mimetype": "text/x-python",
   "name": "python",
   "nbconvert_exporter": "python",
   "pygments_lexer": "ipython3",
   "version": "3.6.4"
  }
 },
 "nbformat": 4,
 "nbformat_minor": 2
}
