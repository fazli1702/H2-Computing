{
 "cells": [
  {
   "cell_type": "code",
   "execution_count": 3,
   "metadata": {},
   "outputs": [],
   "source": [
    "# Task 1.1\n",
    "\n",
    "def main():\n",
    "    # validate input\n",
    "    while True:\n",
    "        user_letter = input('Enter a letter:')\n",
    "        if len(user_letter) == 1 and user_letter.isalpha():\n",
    "            print(user_letter)\n",
    "            break\n",
    "        else:\n",
    "            print('Please enter a letter from a-z or A-Z')"
   ]
  },
  {
   "cell_type": "code",
   "execution_count": 4,
   "metadata": {},
   "outputs": [
    {
     "name": "stdout",
     "output_type": "stream",
     "text": [
      "Enter a letter:A\n",
      "A\n"
     ]
    }
   ],
   "source": [
    "main()"
   ]
  },
  {
   "cell_type": "code",
   "execution_count": 5,
   "metadata": {},
   "outputs": [
    {
     "name": "stdout",
     "output_type": "stream",
     "text": [
      "Enter a letter:b\n",
      "b\n"
     ]
    }
   ],
   "source": [
    "main()"
   ]
  },
  {
   "cell_type": "code",
   "execution_count": 6,
   "metadata": {},
   "outputs": [
    {
     "name": "stdout",
     "output_type": "stream",
     "text": [
      "Enter a letter:=\n",
      "Please enter a letter from a-z or A-Z\n",
      "Enter a letter:z\n",
      "z\n"
     ]
    }
   ],
   "source": [
    "main()"
   ]
  },
  {
   "cell_type": "code",
   "execution_count": 1,
   "metadata": {},
   "outputs": [
    {
     "name": "stdout",
     "output_type": "stream",
     "text": [
      "Enter a letter:B\n",
      "Enter base n:11\n",
      "--------------------\n",
      "Letter          B\n",
      "Denary          66\n",
      "Number Base 11  60\n"
     ]
    }
   ],
   "source": [
    "# Task 1.2\n",
    "\n",
    "def den_to_base_n(letter, n):\n",
    "    values = {10:'A', 11:'B', 12:'C', 13:'D', 14:'E'}\n",
    "    den = ord(letter)\n",
    "    base_n = ''\n",
    "    while den != 0:\n",
    "        if den % n >= 10:\n",
    "            base_n += values[den%n]\n",
    "        else:\n",
    "            base_n += str(den % n)\n",
    "        den //= n\n",
    "        \n",
    "    return base_n[::-1]\n",
    "\n",
    "def display(letter, n):\n",
    "    base_n = den_to_base_n(letter, n)\n",
    "    den = ord(letter)\n",
    "    print('-'*20)\n",
    "    print('{:<15} {}'.format('Letter', letter))\n",
    "    print('{:<15} {}'.format('Denary', den))\n",
    "    print('{:<15} {}'.format(f'Number Base {n}', base_n))\n",
    "\n",
    "def main():\n",
    "    \n",
    "    # validate input\n",
    "    while True:\n",
    "        user_letter = input('Enter a letter:')\n",
    "        if len(user_letter) == 1 and user_letter.isalpha():\n",
    "            break\n",
    "        else:\n",
    "            print('Please enter a letter from a-z or A-Z')\n",
    "            \n",
    "            \n",
    "    while True:\n",
    "        n = input('Enter base n:')\n",
    "        if n.isdigit():\n",
    "            n = int(n)\n",
    "            if 10 < n < 15:\n",
    "                break\n",
    "            else:\n",
    "                print('Enter number between 10 and 15')\n",
    "        else:\n",
    "            print('Invalid input')\n",
    "            \n",
    "    # convert to base n and display output\n",
    "    display(user_letter, n)\n",
    "    \n",
    "main()"
   ]
  },
  {
   "cell_type": "code",
   "execution_count": 2,
   "metadata": {},
   "outputs": [
    {
     "name": "stdout",
     "output_type": "stream",
     "text": [
      "Enter a letter:m\n",
      "Enter base n:14\n",
      "--------------------\n",
      "Letter          m\n",
      "Denary          109\n",
      "Number Base 14  7B\n"
     ]
    }
   ],
   "source": [
    "main()"
   ]
  },
  {
   "cell_type": "code",
   "execution_count": 7,
   "metadata": {},
   "outputs": [
    {
     "name": "stdout",
     "output_type": "stream",
     "text": [
      "1. Enter a letter\n",
      "2. Convert to Denary\n",
      "3. Convert to Base 11\n",
      "4. Convert to Base 12\n",
      "5. Convert to Base 13\n",
      "6. Convert to Base 14\n",
      "7. End\n",
      "\n",
      "Enter your choice:1\n",
      "Enter a letter:X\n",
      "\n",
      "1. Enter a letter\n",
      "2. Convert to Denary\n",
      "3. Convert to Base 11\n",
      "4. Convert to Base 12\n",
      "5. Convert to Base 13\n",
      "6. Convert to Base 14\n",
      "7. End\n",
      "\n",
      "Enter your choice:5\n",
      "--------------------\n",
      "Letter               X\n",
      "Denary               88\n",
      "Number Base 13       6A\n",
      "--------------------\n",
      "1. Enter a letter\n",
      "2. Convert to Denary\n",
      "3. Convert to Base 11\n",
      "4. Convert to Base 12\n",
      "5. Convert to Base 13\n",
      "6. Convert to Base 14\n",
      "7. End\n",
      "\n",
      "Enter your choice:3\n",
      "--------------------\n",
      "Letter               X\n",
      "Denary               88\n",
      "Number Base 11       80\n",
      "--------------------\n",
      "1. Enter a letter\n",
      "2. Convert to Denary\n",
      "3. Convert to Base 11\n",
      "4. Convert to Base 12\n",
      "5. Convert to Base 13\n",
      "6. Convert to Base 14\n",
      "7. End\n",
      "\n",
      "Enter your choice:1\n",
      "Enter a letter:y\n",
      "\n",
      "1. Enter a letter\n",
      "2. Convert to Denary\n",
      "3. Convert to Base 11\n",
      "4. Convert to Base 12\n",
      "5. Convert to Base 13\n",
      "6. Convert to Base 14\n",
      "7. End\n",
      "\n",
      "Enter your choice:2\n",
      "--------------------\n",
      "Letter               y\n",
      "Denary               121\n",
      "--------------------\n",
      "1. Enter a letter\n",
      "2. Convert to Denary\n",
      "3. Convert to Base 11\n",
      "4. Convert to Base 12\n",
      "5. Convert to Base 13\n",
      "6. Convert to Base 14\n",
      "7. End\n",
      "\n",
      "Enter your choice:7\n"
     ]
    }
   ],
   "source": [
    "# Task 1.3\n",
    "\n",
    "def get_user_letter():\n",
    "    # validate input\n",
    "    while True:\n",
    "        user_letter = input('Enter a letter:')\n",
    "        if len(user_letter) == 1 and user_letter.isalpha():\n",
    "            break\n",
    "        else:\n",
    "            print('Please enter a letter from a-z or A-Z')\n",
    "    return user_letter\n",
    "\n",
    "\n",
    "def den_to_base_n(letter, n):\n",
    "    values = {10:'A', 11:'B', 12:'C', 13:'D', 14:'E'}\n",
    "    den = ord(letter)\n",
    "    base_n = ''\n",
    "    while den != 0:\n",
    "        if den % n >= 10:\n",
    "            base_n += values[den%n]\n",
    "        else:\n",
    "            base_n += str(den % n)\n",
    "        den //= n\n",
    "        \n",
    "    return base_n[::-1]\n",
    "\n",
    "\n",
    "def display(letter, n):\n",
    "    base_n = den_to_base_n(letter, n)\n",
    "    den = ord(letter)\n",
    "    print('-'*20)\n",
    "    print('{:<20} {}'.format('Letter', letter))\n",
    "    print('{:<20} {}'.format('Denary', den))\n",
    "    print('{:<20} {}'.format(f'Number Base {n}', base_n))\n",
    "    print('-'*20)\n",
    "    \n",
    "    \n",
    "def main():\n",
    "    letter = ''\n",
    "    while True:\n",
    "        print('1. Enter a letter')\n",
    "        print('2. Convert to Denary')\n",
    "        print('3. Convert to Base 11')\n",
    "        print('4. Convert to Base 12')\n",
    "        print('5. Convert to Base 13')\n",
    "        print('6. Convert to Base 14')\n",
    "        print('7. End')\n",
    "        print()\n",
    "        \n",
    "        choice = input('Enter your choice:')\n",
    "        \n",
    "        if choice == '1':\n",
    "            user_letter = get_user_letter()\n",
    "            letter = user_letter\n",
    "            print()\n",
    "        \n",
    "        if choice == '2':\n",
    "            den = ord(letter)\n",
    "            print('-'*20)\n",
    "            print('{:<20} {}'.format('Letter', letter))\n",
    "            print('{:<20} {}'.format('Denary', den))\n",
    "            print('-'*20)\n",
    "        \n",
    "        if choice == '3':\n",
    "            display(letter, 11)\n",
    "        \n",
    "        if choice == '4':\n",
    "            display(letter, 12)\n",
    "        \n",
    "        if choice == '5':\n",
    "            display(letter, 13)\n",
    "        \n",
    "        if choice == '6':\n",
    "            display(letter, 14)\n",
    "        \n",
    "        if choice == '7':\n",
    "            break\n",
    "    \n",
    "main()"
   ]
  },
  {
   "cell_type": "code",
   "execution_count": null,
   "metadata": {},
   "outputs": [],
   "source": []
  }
 ],
 "metadata": {
  "kernelspec": {
   "display_name": "Python 3",
   "language": "python",
   "name": "python3"
  },
  "language_info": {
   "codemirror_mode": {
    "name": "ipython",
    "version": 3
   },
   "file_extension": ".py",
   "mimetype": "text/x-python",
   "name": "python",
   "nbconvert_exporter": "python",
   "pygments_lexer": "ipython3",
   "version": "3.6.4"
  }
 },
 "nbformat": 4,
 "nbformat_minor": 2
}
