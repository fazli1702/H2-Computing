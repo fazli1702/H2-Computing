{
 "cells": [
  {
   "cell_type": "code",
   "execution_count": 1,
   "metadata": {},
   "outputs": [
    {
     "data": {
      "text/plain": [
       "[1, 2, 3, 4, 5, 7, 9]"
      ]
     },
     "execution_count": 1,
     "metadata": {},
     "output_type": "execute_result"
    }
   ],
   "source": [
    "def quicksort(arr):\n",
    "    return _quicksort(arr, 0, len(arr)-1)\n",
    "\n",
    "def _quicksort(arr, low, high):\n",
    "    if low <= high:\n",
    "        mid = partition(arr, low, high)\n",
    "        _quicksort(arr, low, mid-1)\n",
    "        _quicksort(arr, mid+1, high)\n",
    "    return arr\n",
    "\n",
    "def partition(arr, low, high):\n",
    "    pivot = arr[low]\n",
    "    left = low + 1\n",
    "    right = high\n",
    "    done = True\n",
    "    \n",
    "    while done:\n",
    "        while left <= right and arr[left] < pivot:\n",
    "            left += 1\n",
    "            \n",
    "        while left <= right and arr[right] > pivot:\n",
    "            right -= 1\n",
    "            \n",
    "        if left > right:\n",
    "            done = False\n",
    "            \n",
    "        else:\n",
    "            arr[left], arr[right] = arr[right], arr[left]\n",
    "            \n",
    "    arr[right], arr[low] =  arr[low], arr[right]\n",
    "    return right\n",
    "\n",
    "arr = [2, 4, 7, 9, 3, 1, 5]\n",
    "quicksort(arr)"
   ]
  },
  {
   "cell_type": "code",
   "execution_count": null,
   "metadata": {},
   "outputs": [],
   "source": []
  }
 ],
 "metadata": {
  "kernelspec": {
   "display_name": "Python 3",
   "language": "python",
   "name": "python3"
  },
  "language_info": {
   "codemirror_mode": {
    "name": "ipython",
    "version": 3
   },
   "file_extension": ".py",
   "mimetype": "text/x-python",
   "name": "python",
   "nbconvert_exporter": "python",
   "pygments_lexer": "ipython3",
   "version": "3.6.4"
  }
 },
 "nbformat": 4,
 "nbformat_minor": 2
}
