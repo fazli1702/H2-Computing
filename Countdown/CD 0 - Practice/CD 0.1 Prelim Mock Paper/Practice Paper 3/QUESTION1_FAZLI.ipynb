{
 "cells": [
  {
   "cell_type": "markdown",
   "metadata": {},
   "source": [
    "# Question 1\n",
    "- NYJC 2020 MYE P2Q2 [25 marks]"
   ]
  },
  {
   "cell_type": "code",
   "execution_count": 22,
   "metadata": {},
   "outputs": [
    {
     "name": "stdout",
     "output_type": "stream",
     "text": [
      "[3, 14, 15, 15, 16, 19, 19, 20, 23, 30]\n",
      "[32, 34, 36, 39, 40, 41, 41, 46, 46, 49]\n",
      "[50, 54, 54, 56, 58, 59, 63, 64, 68, 69]\n",
      "[71, 73, 73, 76, 78, 79, 80, 81, 81, 82]\n",
      "[83, 84, 85, 87, 89, 90, 92, 92, 96, 99]\n"
     ]
    }
   ],
   "source": [
    "#Task 2.1\n",
    "import random\n",
    "\n",
    "def MergeSort(SortArray):\n",
    "    if len(SortArray) <= 1:\n",
    "        return SortArray\n",
    "    mid = len(SortArray) // 2\n",
    "    left = SortArray[:mid]\n",
    "    right = SortArray[mid:]\n",
    "    return Merge(MergeSort(left), MergeSort(right))\n",
    "\n",
    "def Merge(left, right):\n",
    "    lst = []\n",
    "    while True:\n",
    "        if len(left) == 0 or len(right) == 0:\n",
    "            break\n",
    "            \n",
    "        if left[0] < right[0]:\n",
    "            lst.append(left.pop(0))\n",
    "        else:\n",
    "            lst.append(right.pop(0))\n",
    "            \n",
    "    if len(left) != 0:\n",
    "        lst += left\n",
    "    \n",
    "    elif len(right) != 0:\n",
    "        lst += right\n",
    "        \n",
    "    return lst\n",
    "\n",
    "def display(arr):\n",
    "    print(arr[:10])\n",
    "    print(arr[10:20])\n",
    "    print(arr[20:30])\n",
    "    print(arr[30:40])\n",
    "    print(arr[40:])\n",
    "\n",
    "    \n",
    "\n",
    "def main():\n",
    "    SortArray = [random.randint(0, 99) for i in range(50)]\n",
    "#     print(MergeSort(SortArray))\n",
    "    display(MergeSort(SortArray))\n",
    "    \n",
    "main()"
   ]
  },
  {
   "cell_type": "code",
   "execution_count": null,
   "metadata": {},
   "outputs": [],
   "source": [
    "def merge(arr, left_i, mid, right_i):\n",
    "    if arr\n",
    "\n",
    "def MergeSortLoop(Array, SortOrder):\n",
    "    sz = 1\n",
    "    while True:\n",
    "        if sz > (len(Array) // 2):\n",
    "            break\n",
    "            \n",
    "        for i in range(0, len(Array), sz):\n",
    "            mid = (i+sz) // 2\n",
    "            merge(Array, i, mid, i+sz)\n",
    "        \n",
    "        sz *= 2"
   ]
  }
 ],
 "metadata": {
  "kernelspec": {
   "display_name": "Python 3",
   "language": "python",
   "name": "python3"
  },
  "language_info": {
   "codemirror_mode": {
    "name": "ipython",
    "version": 3
   },
   "file_extension": ".py",
   "mimetype": "text/x-python",
   "name": "python",
   "nbconvert_exporter": "python",
   "pygments_lexer": "ipython3",
   "version": "3.6.4"
  }
 },
 "nbformat": 4,
 "nbformat_minor": 2
}
