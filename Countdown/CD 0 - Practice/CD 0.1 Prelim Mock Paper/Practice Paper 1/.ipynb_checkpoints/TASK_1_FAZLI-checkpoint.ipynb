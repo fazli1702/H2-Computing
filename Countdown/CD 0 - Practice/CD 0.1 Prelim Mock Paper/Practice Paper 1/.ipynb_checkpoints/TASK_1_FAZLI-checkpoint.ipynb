{
 "cells": [
  {
   "cell_type": "markdown",
   "metadata": {},
   "source": [
    "# Task 1\n",
    "- DHS 2018 P1Q1"
   ]
  },
  {
   "cell_type": "code",
   "execution_count": 51,
   "metadata": {},
   "outputs": [
    {
     "name": "stdout",
     "output_type": "stream",
     "text": [
      "Top 5 hosts:\n",
      "1 uplherc.upl.com              57\n",
      "2 haraway.ucet.ufl.edu         32\n",
      "3 rpgopher.aist.go.jp          27\n",
      "4 piweba1y.prodigy.com         22\n",
      "5 133.43.96.45                 22\n"
     ]
    }
   ],
   "source": [
    "# Task 1.1\n",
    "with open('LOG.TXT') as f:\n",
    "    data = f.readlines()\n",
    "    hosts = {}\n",
    "    for ele in data:\n",
    "        ele = ele.strip().split()\n",
    "        new_host = ele[0]\n",
    "        if new_host not in hosts:\n",
    "            hosts[new_host] = 1\n",
    "        else:\n",
    "            hosts[new_host] += 1\n",
    "    \n",
    "    host_list = list(hosts.values())\n",
    "    value_list = list(hosts.keys())\n",
    "    new_list = []\n",
    "    for host, value in zip(host_list, value_list):\n",
    "        new_list.append([host, value])\n",
    "    \n",
    "    new_list.sort()\n",
    "    new_list.reverse()\n",
    "    \n",
    "    print('Top 5 hosts:')\n",
    "    for i in range(5):\n",
    "        print('{} {:<25} {:>5}'.format(i+1, new_list[i][1], new_list[i][0]))\n",
    "            \n",
    "    \n",
    "        \n",
    "\n"
   ]
  },
  {
   "cell_type": "code",
   "execution_count": 58,
   "metadata": {},
   "outputs": [
    {
     "name": "stdout",
     "output_type": "stream",
     "text": [
      "haraway.ucet.ufl.edu 887988\n"
     ]
    }
   ],
   "source": [
    "# Task 1.2\n",
    "with open('LOG.TXT') as f:\n",
    "    data = f.readlines()\n",
    "    max_size = 0\n",
    "    max_size_i = 0\n",
    "    info = [ele.strip().split() for ele in data]\n",
    "    max_size = 0\n",
    "    max_size_i = 0\n",
    "    for i, ele in enumerate(info):\n",
    "        size = ele[-1]\n",
    "        if not size.isdigit():\n",
    "            continue\n",
    "        if int(size) > max_size:\n",
    "            max_size = int(size)\n",
    "            max_size_i = i\n",
    "    \n",
    "    host = info[max_size_i]\n",
    "    print(host[0], host[-1])"
   ]
  },
  {
   "cell_type": "code",
   "execution_count": null,
   "metadata": {},
   "outputs": [],
   "source": []
  }
 ],
 "metadata": {
  "kernelspec": {
   "display_name": "Python 3",
   "language": "python",
   "name": "python3"
  },
  "language_info": {
   "codemirror_mode": {
    "name": "ipython",
    "version": 3
   },
   "file_extension": ".py",
   "mimetype": "text/x-python",
   "name": "python",
   "nbconvert_exporter": "python",
   "pygments_lexer": "ipython3",
   "version": "3.6.4"
  }
 },
 "nbformat": 4,
 "nbformat_minor": 2
}
