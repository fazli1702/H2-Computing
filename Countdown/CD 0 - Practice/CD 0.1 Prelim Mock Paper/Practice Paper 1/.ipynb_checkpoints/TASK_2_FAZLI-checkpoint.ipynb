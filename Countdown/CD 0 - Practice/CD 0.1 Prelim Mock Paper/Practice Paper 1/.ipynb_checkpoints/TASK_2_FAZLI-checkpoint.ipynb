{
 "cells": [
  {
   "cell_type": "markdown",
   "metadata": {},
   "source": [
    "# Task 2 \n",
    "- HCI 2018 P1Q4"
   ]
  },
  {
   "cell_type": "code",
   "execution_count": 4,
   "metadata": {},
   "outputs": [
    {
     "name": "stdout",
     "output_type": "stream",
     "text": [
      "Enter digit from 1 to 20: asd\n",
      "Enter digit from 1 to 20: 1\n"
     ]
    }
   ],
   "source": [
    "# Task 4.1\n",
    "\n",
    "# convert den to roman numerals\n",
    "def roman(n):\n",
    "    pass\n",
    "\n",
    "def main():\n",
    "    while True:\n",
    "        n = input('Enter digit from 1 to 20: ')\n",
    "        if n.isdigit():\n",
    "            n = int(n)\n",
    "            if n >= 1 and n <= 20:\n",
    "                break\n",
    "    \n",
    "    new_n = roman(n)\n",
    "    return new_n\n",
    "\n",
    "main()"
   ]
  },
  {
   "cell_type": "code",
   "execution_count": null,
   "metadata": {},
   "outputs": [],
   "source": []
  }
 ],
 "metadata": {
  "kernelspec": {
   "display_name": "Python 3",
   "language": "python",
   "name": "python3"
  },
  "language_info": {
   "codemirror_mode": {
    "name": "ipython",
    "version": 3
   },
   "file_extension": ".py",
   "mimetype": "text/x-python",
   "name": "python",
   "nbconvert_exporter": "python",
   "pygments_lexer": "ipython3",
   "version": "3.6.4"
  }
 },
 "nbformat": 4,
 "nbformat_minor": 2
}
