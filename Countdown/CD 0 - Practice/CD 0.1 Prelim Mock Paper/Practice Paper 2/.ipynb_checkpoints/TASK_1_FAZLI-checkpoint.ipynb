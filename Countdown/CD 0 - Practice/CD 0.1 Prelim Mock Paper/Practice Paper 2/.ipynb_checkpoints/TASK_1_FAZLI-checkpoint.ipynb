{
 "cells": [
  {
   "cell_type": "markdown",
   "metadata": {},
   "source": [
    "# Task 1\n",
    "- NJC 2017 P1Q1"
   ]
  },
  {
   "cell_type": "code",
   "execution_count": 2,
   "metadata": {},
   "outputs": [],
   "source": [
    "# Task 1.1\n",
    "\n",
    "# binary / octal / hex\n",
    "\n",
    "def base_n_to_denary(value_str, n):\n",
    "    new_str = value_str[::-1]\n",
    "    total = 0\n",
    "    for i in range(len(value_str)):\n",
    "        ele = new_str[i]\n",
    "        # print('ele:', ele)\n",
    "        if ele.isalpha():\n",
    "            # print('isalpha')\n",
    "            total += (ord(ele)-87) * (n**i)\n",
    "        else:\n",
    "            total += int(ele) * (n**i)\n",
    "        # print('total:', total)\n",
    "            \n",
    "    return total"
   ]
  },
  {
   "cell_type": "code",
   "execution_count": 5,
   "metadata": {},
   "outputs": [
    {
     "name": "stdout",
     "output_type": "stream",
     "text": [
      "[('1', 100, '2A'), ('2', 53, '2A'), ('3', 67, '2A'), ('4', 95, '2A'), ('5', 85, '2A'), ('6', 41, '2A'), ('7', 60, '2A'), ('8', 51, '2A'), ('9', 91, '2A'), ('10', 80, '2A'), ('11', 53, '2A'), ('12', 49, '2A'), ('13', 67, '2A'), ('14', 64, '2A'), ('15', 67, '2A'), ('16', 93, '2A'), ('17', 85, '2A'), ('18', 63, '2A'), ('19', 88, '2A'), ('20', 75, '2A'), ('21', 52, '2A'), ('22', 47, '2A'), ('23', 44, '2A'), ('24', 98, '2A'), ('25', 57, '2A')]\n",
      "[('1', 65, '2B'), ('2', 36, '2B'), ('3', 82, '2B'), ('4', 93, '2B'), ('5', 66, '2B'), ('6', 84, '2B'), ('7', 65, '2B'), ('8', 38, '2B'), ('9', 57, '2B'), ('10', 56, '2B'), ('11', 70, '2B'), ('12', 61, '2B'), ('13', 42, '2B'), ('14', 68, '2B'), ('15', 59, '2B'), ('16', 56, '2B'), ('17', 48, '2B'), ('18', 61, '2B'), ('19', 82, '2B'), ('20', 85, '2B'), ('21', 49, '2B'), ('22', 80, '2B'), ('23', 49, '2B'), ('24', 43, '2B'), ('25', 72, '2B')]\n",
      "[('1', 32, '2C'), ('2', 90, '2C'), ('3', 42, '2C'), ('4', 80, '2C'), ('5', 69, '2C'), ('6', 71, '2C'), ('7', 62, '2C'), ('8', 63, '2C'), ('9', 43, '2C'), ('10', 43, '2C'), ('11', 86, '2C'), ('12', 68, '2C'), ('13', 47, '2C'), ('14', 87, '2C'), ('15', 30, '2C'), ('16', 45, '2C'), ('17', 43, '2C'), ('18', 79, '2C'), ('19', 34, '2C'), ('20', 87, '2C'), ('21', 65, '2C'), ('22', 36, '2C'), ('23', 58, '2C'), ('24', 86, '2C'), ('25', 88, '2C')]\n"
     ]
    }
   ],
   "source": [
    "# Task 1.2\n",
    "def class2A():\n",
    "    with open('2A_SCORES.TXT') as f:\n",
    "        data = f.readlines()\n",
    "        aScores = []\n",
    "        for ele in data:\n",
    "            index, score = ele.strip().split(',')\n",
    "            den_score = base_n_to_denary(score, 2)\n",
    "            aScores.append((index, den_score, '2A'))\n",
    "    return aScores\n",
    "\n",
    "\n",
    "def class2B():\n",
    "    with open('2B_SCORES.TXT') as f:\n",
    "        data = f.readlines()\n",
    "        bScores = []\n",
    "        for ele in data:\n",
    "            index, score = ele.strip().split(',')\n",
    "            den_score = base_n_to_denary(score, 8)\n",
    "            bScores.append((index, den_score, '2B'))\n",
    "    return bScores\n",
    "        \n",
    "\n",
    "def class2C():\n",
    "    with open('2C_SCORES.TXT') as f:\n",
    "        data = f.readlines()\n",
    "        cScores = []\n",
    "        for ele in data:\n",
    "            index, score = ele.strip().split(',')\n",
    "            den_score = base_n_to_denary(score, 16)\n",
    "            cScores.append((index, den_score, '2C'))\n",
    "    return cScores\n",
    "        \n",
    "print(class2A())\n",
    "print(class2B())\n",
    "print(class2C())"
   ]
  },
  {
   "cell_type": "code",
   "execution_count": 13,
   "metadata": {},
   "outputs": [
    {
     "name": "stdout",
     "output_type": "stream",
     "text": [
      "[('1', 100, '2A'), ('24', 98, '2A'), ('4', 95, '2A'), ('16', 93, '2A'), ('4', 93, '2B'), ('9', 91, '2A'), ('2', 90, '2C'), ('19', 88, '2A'), ('25', 88, '2C'), ('14', 87, '2C'), ('20', 87, '2C'), ('11', 86, '2C'), ('24', 86, '2C'), ('5', 85, '2A'), ('17', 85, '2A'), ('20', 85, '2B'), ('6', 84, '2B'), ('3', 82, '2B'), ('19', 82, '2B'), ('10', 80, '2A'), ('22', 80, '2B'), ('4', 80, '2C'), ('18', 79, '2C'), ('20', 75, '2A'), ('25', 72, '2B'), ('6', 71, '2C'), ('11', 70, '2B'), ('5', 69, '2C'), ('14', 68, '2B'), ('12', 68, '2C'), ('3', 67, '2A'), ('13', 67, '2A'), ('15', 67, '2A'), ('5', 66, '2B'), ('1', 65, '2B'), ('7', 65, '2B'), ('21', 65, '2C'), ('14', 64, '2A'), ('18', 63, '2A'), ('8', 63, '2C'), ('7', 62, '2C'), ('12', 61, '2B'), ('18', 61, '2B'), ('7', 60, '2A'), ('15', 59, '2B'), ('23', 58, '2C'), ('25', 57, '2A'), ('9', 57, '2B'), ('10', 56, '2B'), ('16', 56, '2B'), ('2', 53, '2A'), ('11', 53, '2A'), ('21', 52, '2A'), ('8', 51, '2A'), ('12', 49, '2A'), ('21', 49, '2B'), ('23', 49, '2B'), ('17', 48, '2B'), ('22', 47, '2A'), ('13', 47, '2C'), ('16', 45, '2C'), ('23', 44, '2A'), ('24', 43, '2B'), ('9', 43, '2C'), ('10', 43, '2C'), ('17', 43, '2C'), ('13', 42, '2B'), ('3', 42, '2C'), ('6', 41, '2A'), ('8', 38, '2B'), ('2', 36, '2B'), ('22', 36, '2C'), ('19', 34, '2C'), ('1', 32, '2C'), ('15', 30, '2C')]\n"
     ]
    }
   ],
   "source": [
    "# Task 1.3\n",
    "\n",
    "# quicksort\n",
    "\n",
    "def get_score(student):\n",
    "    return student[1]\n",
    "\n",
    "def sort_student_scores(lst):\n",
    "    if len(lst) <= 1:\n",
    "        return lst\n",
    "    \n",
    "    left = []\n",
    "    right = []\n",
    "    pivot = lst[0]\n",
    "    for i in range(1, len(lst)):\n",
    "        student = lst[i]\n",
    "        if get_score(student) > get_score(pivot):\n",
    "            left.append(student)\n",
    "        else:\n",
    "            right.append(student)\n",
    "            \n",
    "    return sort_student_scores(left) + [pivot] + sort_student_scores(right)\n",
    "\n",
    "\n",
    "\n",
    "\n",
    "lst = class2A() + class2B() + class2C()\n",
    "print(sort_student_scores(lst))"
   ]
  },
  {
   "cell_type": "code",
   "execution_count": 26,
   "metadata": {},
   "outputs": [],
   "source": [
    "# Task 1.4\n",
    "\n",
    "def get_index(student):\n",
    "    return student[0]\n",
    "\n",
    "def get_score(student):\n",
    "    return student[1]\n",
    "\n",
    "def get_class(student):\n",
    "    return student[2]\n",
    "\n",
    "\n",
    "\n",
    "def summary(lst):\n",
    "    # lst - sorted student list\n",
    "    # average / max / min / top student(each class)\n",
    "    \n",
    "    max_score = float(get_score(lst[0]))\n",
    "    min_score = float(get_score(lst[-1]))\n",
    "    average = 0\n",
    "    for student in lst:\n",
    "        average += get_score(student)\n",
    "    average = round(average / len(lst), 1)\n",
    "    \n",
    "    a = False\n",
    "    b = False\n",
    "    c = False\n",
    "    top_students = []\n",
    "    for student in lst:\n",
    "        if a == b == c == True:\n",
    "            break\n",
    "        \n",
    "        if get_class(student) == '2A' and a == False:\n",
    "            top_students.append(student)\n",
    "            a = True\n",
    "            \n",
    "        if get_class(student) == '2B' and b == False:\n",
    "            top_students.append(student)\n",
    "            b = True\n",
    "            \n",
    "        if get_class(student) == '2C' and c == False:\n",
    "            top_students.append(student)\n",
    "            c = True\n",
    "        \n",
    "        \n",
    "    print('Mathematics results for classe 2A, 2B and 2C: \\n')\n",
    "    \n",
    "    print('The highest examination score:', max_score)\n",
    "    print('The average examination score:', average)\n",
    "    print('The lowest examination score:', min_score)\n",
    "    \n",
    "    print()\n",
    "    \n",
    "    print('The top 3 students are: \\n')\n",
    "    \n",
    "    print('{:^10} {:^10} {:^10}'.format('Class', 'Index', 'Mark'))\n",
    "    for student in top_students:\n",
    "        print('{:^10} {:^10} {:^10}'.format(get_class(student), get_index(student), get_score(student))) "
   ]
  },
  {
   "cell_type": "code",
   "execution_count": 27,
   "metadata": {},
   "outputs": [
    {
     "name": "stdout",
     "output_type": "stream",
     "text": [
      "Mathematics results for classe 2A, 2B and 2C: \n",
      "\n",
      "The highest examination score: 100.0\n",
      "The average examination score: 64.3\n",
      "The lowest examination score: 30.0\n",
      "\n",
      "The top 3 students are: \n",
      "\n",
      "  Class      Index       Mark   \n",
      "    2A         1         100    \n",
      "    2B         4          93    \n",
      "    2C         2          90    \n"
     ]
    }
   ],
   "source": [
    "def main():\n",
    "    lst = class2A() + class2B() + class2C()\n",
    "    lst = sort_student_scores(lst)\n",
    "    summary(lst)\n",
    "    \n",
    "main()"
   ]
  },
  {
   "cell_type": "code",
   "execution_count": null,
   "metadata": {},
   "outputs": [],
   "source": []
  }
 ],
 "metadata": {
  "kernelspec": {
   "display_name": "Python 3",
   "language": "python",
   "name": "python3"
  },
  "language_info": {
   "codemirror_mode": {
    "name": "ipython",
    "version": 3
   },
   "file_extension": ".py",
   "mimetype": "text/x-python",
   "name": "python",
   "nbconvert_exporter": "python",
   "pygments_lexer": "ipython3",
   "version": "3.6.4"
  }
 },
 "nbformat": 4,
 "nbformat_minor": 2
}
