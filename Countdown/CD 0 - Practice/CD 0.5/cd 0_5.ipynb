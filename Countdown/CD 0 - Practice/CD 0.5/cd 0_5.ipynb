{
 "cells": [
  {
   "cell_type": "markdown",
   "metadata": {},
   "source": [
    "## Question 1"
   ]
  },
  {
   "cell_type": "code",
   "execution_count": 14,
   "metadata": {},
   "outputs": [
    {
     "name": "stdout",
     "output_type": "stream",
     "text": [
      "Letter     Frequency \n",
      "A          37        \n",
      "B          40        \n",
      "C          43        \n",
      "D          43        \n",
      "E          33        \n",
      "F          40        \n",
      "G          43        \n",
      "H          46        \n",
      "I          30        \n",
      "J          34        \n",
      "K          50        \n",
      "L          36        \n",
      "M          35        \n",
      "N          34        \n",
      "O          28        \n",
      "P          45        \n",
      "Q          37        \n",
      "R          47        \n",
      "S          30        \n",
      "T          38        \n",
      "U          37        \n",
      "V          40        \n",
      "W          32        \n",
      "X          40        \n",
      "Y          45        \n",
      "Z          37        \n"
     ]
    }
   ],
   "source": [
    "import random\n",
    "\n",
    "letter_freq = {}\n",
    "for i in range(65, 91):\n",
    "    letter_freq[chr(i)] = 0\n",
    "\n",
    "for i in range(1000):\n",
    "    rand_i = random.randint(65, 90)\n",
    "    letter_freq[chr(rand_i)] += 1\n",
    "    \n",
    "print('{:10} {:10}'.format('Letter', 'Frequency'))\n",
    "for key, value in letter_freq.items():\n",
    "    print('{:10} {:<10}'.format(key, value))"
   ]
  },
  {
   "cell_type": "markdown",
   "metadata": {},
   "source": [
    "## Question 2"
   ]
  },
  {
   "cell_type": "code",
   "execution_count": 26,
   "metadata": {},
   "outputs": [
    {
     "name": "stdout",
     "output_type": "stream",
     "text": [
      "{'A': 106, 'B': 67, 'C': 25, 'D': 52, 'E': 143, 'F': 15, 'G': 16, 'H': 63, 'I': 99, 'J': 7, 'K': 16, 'L': 66, 'M': 81, 'N': 68, 'O': 121, 'P': 5, 'Q': 0, 'R': 67, 'S': 110, 'T': 97, 'U': 70, 'V': 2, 'W': 32, 'X': 0, 'Y': 93, 'Z': 5}\n"
     ]
    }
   ],
   "source": [
    "letter_freq = {}\n",
    "for i in range(65, 91):\n",
    "    letter_freq[chr(i)] = 0\n",
    "    \n",
    "with open('Lyrics.txt') as f:\n",
    "    data = f.readlines()\n",
    "    for ele in data:\n",
    "        lines = ele.strip().split()\n",
    "        for word in lines:\n",
    "            for letter in word:\n",
    "                letter = letter.upper()\n",
    "                if letter in letter_freq:\n",
    "                    letter_freq[letter] += 1\n",
    "print(letter_freq)"
   ]
  },
  {
   "cell_type": "markdown",
   "metadata": {},
   "source": [
    "## Question 3"
   ]
  },
  {
   "cell_type": "code",
   "execution_count": 33,
   "metadata": {},
   "outputs": [
    {
     "name": "stdout",
     "output_type": "stream",
     "text": [
      "Letter     Frequency  Bar       \n",
      "A          46         |||||||||||||||||||||||\n",
      "B          35         |||||||||||||||||\n",
      "C          28         ||||||||||||||\n",
      "D          38         |||||||||||||||||||\n",
      "E          34         |||||||||||||||||\n",
      "F          44         ||||||||||||||||||||||\n",
      "G          42         |||||||||||||||||||||\n",
      "H          34         |||||||||||||||||\n",
      "I          31         |||||||||||||||\n",
      "J          44         ||||||||||||||||||||||\n",
      "K          37         ||||||||||||||||||\n",
      "L          39         |||||||||||||||||||\n",
      "M          35         |||||||||||||||||\n",
      "N          45         ||||||||||||||||||||||\n",
      "O          44         ||||||||||||||||||||||\n",
      "P          47         |||||||||||||||||||||||\n",
      "Q          44         ||||||||||||||||||||||\n",
      "R          31         |||||||||||||||\n",
      "S          29         ||||||||||||||\n",
      "T          39         |||||||||||||||||||\n",
      "U          45         ||||||||||||||||||||||\n",
      "V          36         ||||||||||||||||||\n",
      "W          41         ||||||||||||||||||||\n",
      "X          36         ||||||||||||||||||\n",
      "Y          36         ||||||||||||||||||\n",
      "Z          40         ||||||||||||||||||||\n"
     ]
    }
   ],
   "source": [
    "import random\n",
    "\n",
    "def get_bar(value):\n",
    "    return '|' * (value//2)\n",
    "\n",
    "letter_freq = {}\n",
    "for i in range(65, 91):\n",
    "    letter_freq[chr(i)] = 0\n",
    "\n",
    "for i in range(1000):\n",
    "    rand_i = random.randint(65, 90)\n",
    "    letter_freq[chr(rand_i)] += 1\n",
    "    \n",
    "print('{:10} {:10} {:10}'.format('Letter', 'Frequency', 'Bar'))\n",
    "for key, value in letter_freq.items():\n",
    "    print('{:10} {:<10} {:<10}'.format(key, value, get_bar(value)))\n"
   ]
  },
  {
   "cell_type": "code",
   "execution_count": null,
   "metadata": {},
   "outputs": [],
   "source": []
  }
 ],
 "metadata": {
  "kernelspec": {
   "display_name": "Python 3",
   "language": "python",
   "name": "python3"
  },
  "language_info": {
   "codemirror_mode": {
    "name": "ipython",
    "version": 3
   },
   "file_extension": ".py",
   "mimetype": "text/x-python",
   "name": "python",
   "nbconvert_exporter": "python",
   "pygments_lexer": "ipython3",
   "version": "3.6.4"
  }
 },
 "nbformat": 4,
 "nbformat_minor": 2
}
