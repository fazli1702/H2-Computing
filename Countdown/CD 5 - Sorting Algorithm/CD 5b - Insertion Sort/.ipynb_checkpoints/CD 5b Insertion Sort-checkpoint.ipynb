{
 "cells": [
  {
   "cell_type": "code",
   "execution_count": null,
   "metadata": {},
   "outputs": [],
   "source": [
    "# insertion sort - iterative\n",
    "def InsertionSort(arr):\n",
    "    # insertSortOuter\n",
    "    for i in range(1, len(arr)):\n",
    "        key = arr[i]\n",
    "        j = i - 1\n",
    "        \n",
    "        # insertSortOuter\n",
    "        while j >= 0 and arr[j] > key:\n",
    "            arr[j], arr[j+1] = arr[j+1], arr[j]\n",
    "            j -= 1\n",
    "    return arr"
   ]
  },
  {
   "cell_type": "markdown",
   "metadata": {},
   "source": [
    "## Question 1: NJC 2019\n",
    "\n",
    "insertion sort - recurisve"
   ]
  },
  {
   "cell_type": "code",
   "execution_count": 48,
   "metadata": {},
   "outputs": [],
   "source": [
    "def insertSortOuter(L:list, i:int):\n",
    "    if i == len(L):\n",
    "        return L\n",
    "    else:\n",
    "        return insertSortOuter(insertSortInner(L, i), i+1)"
   ]
  },
  {
   "cell_type": "code",
   "execution_count": 53,
   "metadata": {},
   "outputs": [],
   "source": [
    "def insertSortInner(L:list, j:int):\n",
    "    if j == 0:\n",
    "        return L\n",
    "    else:\n",
    "        if L[j] < L[j-1]:\n",
    "            L[j], L[j-1] = L[j-1], L[j]\n",
    "            \n",
    "        return insertSortInner(L, j-1)"
   ]
  },
  {
   "cell_type": "code",
   "execution_count": 54,
   "metadata": {},
   "outputs": [],
   "source": [
    "def insertionSort(L):\n",
    "    return insertSortOuter(L, 1)"
   ]
  },
  {
   "cell_type": "code",
   "execution_count": 55,
   "metadata": {},
   "outputs": [],
   "source": [
    "# test case\n",
    "test1 = [5, 7, 9, 1, 20, 18]  # normal\n",
    "test2 = [7, 6, 5, 4, 3, 2, 1] # sorted\n",
    "test3 = [1, 2, 3, 4, 5, 6, 7] # "
   ]
  },
  {
   "cell_type": "code",
   "execution_count": null,
   "metadata": {},
   "outputs": [],
   "source": [
    "insertionSort(test1)"
   ]
  },
  {
   "cell_type": "code",
   "execution_count": 57,
   "metadata": {},
   "outputs": [
    {
     "data": {
      "text/plain": [
       "[1, 2, 3, 4, 5, 6, 7]"
      ]
     },
     "execution_count": 57,
     "metadata": {},
     "output_type": "execute_result"
    }
   ],
   "source": [
    "insertionSort(test2)"
   ]
  },
  {
   "cell_type": "code",
   "execution_count": 58,
   "metadata": {},
   "outputs": [
    {
     "data": {
      "text/plain": [
       "[1, 2, 3, 4, 5, 6, 7]"
      ]
     },
     "execution_count": 58,
     "metadata": {},
     "output_type": "execute_result"
    }
   ],
   "source": [
    "insertionSort(test3)"
   ]
  }
 ],
 "metadata": {
  "kernelspec": {
   "display_name": "Python 3",
   "language": "python",
   "name": "python3"
  },
  "language_info": {
   "codemirror_mode": {
    "name": "ipython",
    "version": 3
   },
   "file_extension": ".py",
   "mimetype": "text/x-python",
   "name": "python",
   "nbconvert_exporter": "python",
   "pygments_lexer": "ipython3",
   "version": "3.6.4"
  }
 },
 "nbformat": 4,
 "nbformat_minor": 2
}
