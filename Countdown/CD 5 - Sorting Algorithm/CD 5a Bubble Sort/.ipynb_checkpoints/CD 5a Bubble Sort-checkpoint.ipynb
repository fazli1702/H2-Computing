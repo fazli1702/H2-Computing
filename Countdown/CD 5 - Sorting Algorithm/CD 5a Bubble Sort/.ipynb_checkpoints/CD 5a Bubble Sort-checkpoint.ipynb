{
 "cells": [
  {
   "cell_type": "markdown",
   "metadata": {},
   "source": [
    "## Question 1: Task 4.2"
   ]
  },
  {
   "cell_type": "code",
   "execution_count": 16,
   "metadata": {},
   "outputs": [],
   "source": [
    "def bubble_sort(arr,n, counter=0):\n",
    "    if n <= 1:\n",
    "        return arr, counter\n",
    "    \n",
    "    for i in range(n-1):\n",
    "        counter += 1\n",
    "        if arr[i] > arr[i+1]:\n",
    "            temp = arr[i]\n",
    "            arr[i] = arr[i+1]\n",
    "            arr[i+1] = temp\n",
    "            \n",
    "    return bubble_sort(arr, n-1, counter)"
   ]
  },
  {
   "cell_type": "code",
   "execution_count": 20,
   "metadata": {},
   "outputs": [],
   "source": [
    "test = [1, 15, 2, 4, 3, 9, 7, 10]"
   ]
  },
  {
   "cell_type": "code",
   "execution_count": 19,
   "metadata": {},
   "outputs": [
    {
     "data": {
      "text/plain": [
       "([1, 2, 3, 4, 7, 9, 10, 15], 28)"
      ]
     },
     "execution_count": 19,
     "metadata": {},
     "output_type": "execute_result"
    }
   ],
   "source": [
    "bubble_sort(test, len(test))"
   ]
  },
  {
   "cell_type": "markdown",
   "metadata": {},
   "source": [
    "## Question 2: Task 4.3"
   ]
  },
  {
   "cell_type": "code",
   "execution_count": 21,
   "metadata": {},
   "outputs": [],
   "source": [
    "def op_bubble_sort(arr, n, counter=0):\n",
    "    if n <= 1:\n",
    "        return arr, counter\n",
    "    \n",
    "    swap = False\n",
    "    for i in range(n-1):\n",
    "        counter += 1\n",
    "        if arr[i] > arr[i+1]:\n",
    "            arr[i], arr[i+1] = arr[i+1], arr[i]\n",
    "            swap = True\n",
    "            \n",
    "    if not swap:\n",
    "        return arr, counter\n",
    "    else:\n",
    "        return op_bubble_sort(arr, n-1, counter)"
   ]
  },
  {
   "cell_type": "code",
   "execution_count": 22,
   "metadata": {},
   "outputs": [],
   "source": [
    "test = [1, 15, 2, 4, 3, 9, 7, 10]"
   ]
  },
  {
   "cell_type": "code",
   "execution_count": 23,
   "metadata": {},
   "outputs": [
    {
     "data": {
      "text/plain": [
       "([1, 2, 3, 4, 7, 9, 10, 15], 18)"
      ]
     },
     "execution_count": 23,
     "metadata": {},
     "output_type": "execute_result"
    }
   ],
   "source": [
    "op_bubble_sort(test, len(test))"
   ]
  },
  {
   "cell_type": "markdown",
   "metadata": {},
   "source": [
    "## Question 3: Task 3.1"
   ]
  },
  {
   "cell_type": "code",
   "execution_count": 24,
   "metadata": {},
   "outputs": [],
   "source": [
    "def bubbleSort(arr):\n",
    "    if len(arr) <= 1:\n",
    "        return arr\n",
    "    \n",
    "    end = len(arr) - 1\n",
    "    while end > 0:\n",
    "        swap = False\n",
    "        for i in range(end):\n",
    "            if arr[i] > arr[i+1]:\n",
    "                arr[i], arr[i+1] = arr[i+1], arr[i]\n",
    "                swap = True\n",
    "        end -= 1\n",
    "        \n",
    "        if not swap:\n",
    "            return arr"
   ]
  },
  {
   "cell_type": "code",
   "execution_count": 25,
   "metadata": {},
   "outputs": [],
   "source": [
    "def main():\n",
    "    # read file\n",
    "    with open('MARVEL.TXT') as f:\n",
    "        data = f.readlines()\n",
    "        names = [ele.strip() for ele in data]\n",
    "        names = bubbleSort(names)\n",
    "        return names"
   ]
  },
  {
   "cell_type": "code",
   "execution_count": 26,
   "metadata": {},
   "outputs": [
    {
     "data": {
      "text/plain": [
       "['Ant Man',\n",
       " 'Ant Man And The Wasp',\n",
       " 'Avengers',\n",
       " 'Avengers 4',\n",
       " 'Avengers Age Of Ultron',\n",
       " 'Avengers Infinity War',\n",
       " 'Black Panther',\n",
       " 'Captain America Civil War',\n",
       " 'Captain America The First Avenger',\n",
       " 'Captain America The Winter Soldier',\n",
       " 'Captain Marvel',\n",
       " 'Doctor Strange',\n",
       " 'Guardians Of The Galaxy',\n",
       " 'Guardians Of The Galaxy Vol 3',\n",
       " 'Guardians of The Galaxy Vol 2',\n",
       " 'Iron Man',\n",
       " 'Iron Man 2',\n",
       " 'Iron Man 3',\n",
       " 'Spider Man Homecoming',\n",
       " 'Spider Man Homecoming Sequel',\n",
       " 'The Incredible Hulk',\n",
       " 'Thor',\n",
       " 'Thor Ragnarok',\n",
       " 'Thor The Dark World']"
      ]
     },
     "execution_count": 26,
     "metadata": {},
     "output_type": "execute_result"
    }
   ],
   "source": [
    "main()"
   ]
  },
  {
   "cell_type": "code",
   "execution_count": null,
   "metadata": {},
   "outputs": [],
   "source": []
  }
 ],
 "metadata": {
  "kernelspec": {
   "display_name": "Python 3",
   "language": "python",
   "name": "python3"
  },
  "language_info": {
   "codemirror_mode": {
    "name": "ipython",
    "version": 3
   },
   "file_extension": ".py",
   "mimetype": "text/x-python",
   "name": "python",
   "nbconvert_exporter": "python",
   "pygments_lexer": "ipython3",
   "version": "3.6.4"
  }
 },
 "nbformat": 4,
 "nbformat_minor": 2
}
