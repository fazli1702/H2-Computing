{
 "cells": [
  {
   "cell_type": "markdown",
   "metadata": {},
   "source": [
    "## Question 1: Task 2.1 PJC 2015 Prelim"
   ]
  },
  {
   "cell_type": "code",
   "execution_count": 96,
   "metadata": {},
   "outputs": [],
   "source": [
    "def QuickSort(ThisArray, First, Last):\n",
    "    Low = First\n",
    "    High = Last\n",
    "    Pivot = ThisArray[Low]\n",
    "    \n",
    "    while Low <= High:\n",
    "        while ThisArray[Low] < Pivot:\n",
    "            Low += 1\n",
    "        \n",
    "        while ThisArray[High] > Pivot:\n",
    "            High -= 1\n",
    "        \n",
    "        if Low <= High:\n",
    "            Temp = ThisArray[Low]\n",
    "            ThisArray[Low] = ThisArray[High]\n",
    "            ThisArray[High] = Temp\n",
    "            Low += 1\n",
    "            High -= 1\n",
    "            \n",
    "    if First < High:\n",
    "        QuickSort(ThisArray, First, High)\n",
    "    if Low < Last:\n",
    "        QuickSort(ThisArray, Low, Last)"
   ]
  },
  {
   "cell_type": "markdown",
   "metadata": {},
   "source": [
    "## Task 2.2"
   ]
  },
  {
   "cell_type": "code",
   "execution_count": 97,
   "metadata": {},
   "outputs": [],
   "source": [
    "def InitialiseList():\n",
    "    lst = [435,646,344,54,23,98,789,212,847,201,733]\n",
    "    print('Before:', lst)\n",
    "    QuickSort(lst, 0, len(lst)-1)\n",
    "    print('After:', lst)"
   ]
  },
  {
   "cell_type": "code",
   "execution_count": 98,
   "metadata": {},
   "outputs": [
    {
     "name": "stdout",
     "output_type": "stream",
     "text": [
      "Before: [435, 646, 344, 54, 23, 98, 789, 212, 847, 201, 733]\n",
      "After: [23, 54, 98, 201, 212, 344, 435, 646, 733, 789, 847]\n"
     ]
    }
   ],
   "source": [
    "InitialiseList()"
   ]
  },
  {
   "cell_type": "markdown",
   "metadata": {},
   "source": [
    "## Task 2.3"
   ]
  },
  {
   "cell_type": "code",
   "execution_count": 38,
   "metadata": {},
   "outputs": [],
   "source": [
    "import random\n",
    "\n",
    "count = 0\n",
    "def quicksort(ThisArray, First, Last):\n",
    "    global count\n",
    "    count += 1\n",
    "    Low = First\n",
    "    High = Last\n",
    "    n = random.randint(0, len(ThisArray)-1)\n",
    "    Pivot = ThisArray[n]\n",
    "    \n",
    "    while Low <= High:\n",
    "        while ThisArray[Low] < Pivot:\n",
    "            Low += 1\n",
    "        \n",
    "        while ThisArray[High] > Pivot:\n",
    "            High -= 1\n",
    "        \n",
    "        if Low <= High:\n",
    "            Temp = ThisArray[Low]\n",
    "            ThisArray[Low] = ThisArray[High]\n",
    "            ThisArray[High] = Temp\n",
    "            Low += 1\n",
    "            High -= 1\n",
    "            \n",
    "    if First < High:\n",
    "        quicksort(ThisArray, First, High)\n",
    "    if Low < Last:\n",
    "        quicksort(ThisArray, Low, Last)"
   ]
  },
  {
   "cell_type": "code",
   "execution_count": 39,
   "metadata": {},
   "outputs": [],
   "source": [
    "def InitialiseList2():\n",
    "    lst = [435,646,344,54,23,98,789,212,847,201,733]\n",
    "    print('Before:', lst)\n",
    "    quicksort(lst, 0, len(lst)-1)\n",
    "    print('After:', lst)\n",
    "    print('Count:', count)"
   ]
  },
  {
   "cell_type": "code",
   "execution_count": 40,
   "metadata": {},
   "outputs": [
    {
     "name": "stdout",
     "output_type": "stream",
     "text": [
      "Before: [435, 646, 344, 54, 23, 98, 789, 212, 847, 201, 733]\n",
      "After: [23, 54, 98, 201, 212, 344, 435, 646, 733, 789, 847]\n",
      "Count: 36\n"
     ]
    }
   ],
   "source": [
    "InitialiseList2()"
   ]
  },
  {
   "cell_type": "code",
   "execution_count": null,
   "metadata": {},
   "outputs": [],
   "source": []
  }
 ],
 "metadata": {
  "kernelspec": {
   "display_name": "Python 3",
   "language": "python",
   "name": "python3"
  },
  "language_info": {
   "codemirror_mode": {
    "name": "ipython",
    "version": 3
   },
   "file_extension": ".py",
   "mimetype": "text/x-python",
   "name": "python",
   "nbconvert_exporter": "python",
   "pygments_lexer": "ipython3",
   "version": "3.6.4"
  }
 },
 "nbformat": 4,
 "nbformat_minor": 2
}
