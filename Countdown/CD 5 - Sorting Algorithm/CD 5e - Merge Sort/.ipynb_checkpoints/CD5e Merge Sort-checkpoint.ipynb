{
 "cells": [
  {
   "cell_type": "markdown",
   "metadata": {},
   "source": [
    "## Question 1: JPJC Promo 2019\n",
    "\n",
    "in place merge sort  "
   ]
  },
  {
   "cell_type": "code",
   "execution_count": 11,
   "metadata": {},
   "outputs": [],
   "source": [
    "def MergeSort(Scores):\n",
    "#     print('Split:', Scores)\n",
    "    if len(Scores) > 1:\n",
    "        mid = len(Scores) // 2\n",
    "        lefthalf = Scores[0:mid]\n",
    "        righthalf = Scores[mid:len(Scores)]\n",
    "            \n",
    "        MergeSort(lefthalf)\n",
    "        MergeSort(righthalf)\n",
    "    \n",
    "        i = 0 # pointer for lefthalf\n",
    "        j = 0 # pointer for righthalf\n",
    "        k = 0 # pointer for original Scores\n",
    "        \n",
    "        while i < len(lefthalf) and j < len(righthalf):\n",
    "            \n",
    "            if lefthalf[i] <= righthalf[j]:\n",
    "                Scores[k] = lefthalf[i]\n",
    "                i += 1\n",
    "            else:\n",
    "                Scores[k] = righthalf[j]\n",
    "                j += 1\n",
    "            \n",
    "            k += 1\n",
    "        \n",
    "        # add remaining arr that is not empty\n",
    "        while i < len(lefthalf):\n",
    "            Scores[k] = lefthalf[i]\n",
    "            k += 1\n",
    "            i += 1\n",
    "        \n",
    "        while j < len(righthalf):\n",
    "            Scores[k] = righthalf[j]\n",
    "            k += 1\n",
    "            j += 1\n",
    "            \n",
    "#         print('Merge:', Scores)\n",
    "            "
   ]
  },
  {
   "cell_type": "code",
   "execution_count": 8,
   "metadata": {},
   "outputs": [
    {
     "name": "stdout",
     "output_type": "stream",
     "text": [
      "Split: [2, 5, 1, 3, 6, 4, 7]\n",
      "Split: [2, 5, 1]\n",
      "Split: [2]\n",
      "Split: [5, 1]\n",
      "Split: [5]\n",
      "Split: [1]\n",
      "Merge: [1, 5]\n",
      "Merge: [1, 2, 5]\n",
      "Split: [3, 6, 4, 7]\n",
      "Split: [3, 6]\n",
      "Split: [3]\n",
      "Split: [6]\n",
      "Merge: [3, 6]\n",
      "Split: [4, 7]\n",
      "Split: [4]\n",
      "Split: [7]\n",
      "Merge: [4, 7]\n",
      "Merge: [3, 4, 6, 7]\n",
      "Merge: [1, 2, 3, 4, 5, 6, 7]\n"
     ]
    }
   ],
   "source": [
    "test1 = [2, 5, 1, 3, 6, 4, 7]\n",
    "MergeSort(test1)"
   ]
  },
  {
   "cell_type": "code",
   "execution_count": 12,
   "metadata": {},
   "outputs": [],
   "source": [
    "def main():\n",
    "    test = [72,45,57,76,29,40,42,77,64,91,24,92,73,78,62,27,26,67,34,20,90,75,89,98,41,37,58]\n",
    "    print('Before:', test)\n",
    "    MergeSort(test)\n",
    "    print('After:', test)"
   ]
  },
  {
   "cell_type": "code",
   "execution_count": 13,
   "metadata": {},
   "outputs": [
    {
     "name": "stdout",
     "output_type": "stream",
     "text": [
      "Before: [72, 45, 57, 76, 29, 40, 42, 77, 64, 91, 24, 92, 73, 78, 62, 27, 26, 67, 34, 20, 90, 75, 89, 98, 41, 37, 58]\n",
      "After: [20, 24, 26, 27, 29, 34, 37, 40, 41, 42, 45, 57, 58, 62, 64, 67, 72, 73, 75, 76, 77, 78, 89, 90, 91, 92, 98]\n"
     ]
    }
   ],
   "source": [
    "main()"
   ]
  },
  {
   "cell_type": "markdown",
   "metadata": {},
   "source": [
    "## Question 3: ACJC 2019 Promo"
   ]
  },
  {
   "cell_type": "code",
   "execution_count": 17,
   "metadata": {},
   "outputs": [],
   "source": [
    "def merge_sort(arr):\n",
    "    if len(arr) <= 1:\n",
    "        return arr\n",
    "    mid = len(arr) // 2\n",
    "    left = arr[:mid]\n",
    "    right = arr[mid:]\n",
    "    return merge(merge_sort(left), merge_sort(right))\n",
    "\n",
    "def merge(left, right):\n",
    "    lst = []\n",
    "    while len(left) != 0 and len(right) != 0:\n",
    "        if left[0] < right[0]:\n",
    "            lst.append(left.pop(0))\n",
    "        else:\n",
    "            lst.append(right.pop(0))\n",
    "            \n",
    "    if len(left) != 0:\n",
    "        lst += left\n",
    "    elif len(right) != 0:\n",
    "        lst += right\n",
    "    return lst"
   ]
  },
  {
   "cell_type": "code",
   "execution_count": 22,
   "metadata": {},
   "outputs": [],
   "source": [
    "def main(arr):\n",
    "    # sort list\n",
    "    arr = merge_sort(arr)\n",
    "    print('Sorted:', arr)\n",
    "    \n",
    "    # find mean, median, mode\n",
    "    mean = sum(arr) / len(arr)\n",
    "    \n",
    "    median = 0\n",
    "    mid = len(arr) // 2\n",
    "    if len(arr) % 2 == 1:\n",
    "        median = arr[mid]\n",
    "    else:\n",
    "        median = (arr[mid] + arr[mid-1]) / 2\n",
    "    \n",
    "    mode = ()\n",
    "    modeValue = 0\n",
    "    count = 0\n",
    "    for ele in arr:\n",
    "        if arr.count(ele) > count:\n",
    "            mode = (ele,)\n",
    "            count = arr.count(ele)\n",
    "        elif arr.count(ele) == count:\n",
    "            if ele not in mode:\n",
    "                mode += (ele,)\n",
    "    \n",
    "    # display\n",
    "    print('Mean:', mean)\n",
    "    print('Median:', median)\n",
    "    print('Mode:', mode)"
   ]
  },
  {
   "cell_type": "code",
   "execution_count": 23,
   "metadata": {},
   "outputs": [],
   "source": [
    "List1 = [3, 9, 2, 4, 5, 3, 2, 10, 8, 3]\n",
    "List2 = [10, 5, 7, 6, 7, 1, 9, 0, 9, 8, 4]"
   ]
  },
  {
   "cell_type": "code",
   "execution_count": 24,
   "metadata": {},
   "outputs": [
    {
     "name": "stdout",
     "output_type": "stream",
     "text": [
      "Sorted: [2, 2, 3, 3, 3, 4, 5, 8, 9, 10]\n",
      "Mean: 4.9\n",
      "Median: 3.5\n",
      "Mode: (3,)\n"
     ]
    }
   ],
   "source": [
    "main(List1)"
   ]
  },
  {
   "cell_type": "code",
   "execution_count": 25,
   "metadata": {},
   "outputs": [
    {
     "name": "stdout",
     "output_type": "stream",
     "text": [
      "Sorted: [0, 1, 4, 5, 6, 7, 7, 8, 9, 9, 10]\n",
      "Mean: 6.0\n",
      "Median: 7\n",
      "Mode: (7, 9)\n"
     ]
    }
   ],
   "source": [
    "main(List2)"
   ]
  },
  {
   "cell_type": "code",
   "execution_count": null,
   "metadata": {},
   "outputs": [],
   "source": []
  }
 ],
 "metadata": {
  "kernelspec": {
   "display_name": "Python 3",
   "language": "python",
   "name": "python3"
  },
  "language_info": {
   "codemirror_mode": {
    "name": "ipython",
    "version": 3
   },
   "file_extension": ".py",
   "mimetype": "text/x-python",
   "name": "python",
   "nbconvert_exporter": "python",
   "pygments_lexer": "ipython3",
   "version": "3.6.4"
  }
 },
 "nbformat": 4,
 "nbformat_minor": 2
}
