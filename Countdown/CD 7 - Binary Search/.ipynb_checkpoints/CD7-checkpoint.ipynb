{
 "cells": [
  {
   "cell_type": "markdown",
   "metadata": {},
   "source": [
    "## Question 1: Task 2.2"
   ]
  },
  {
   "cell_type": "code",
   "execution_count": 37,
   "metadata": {},
   "outputs": [],
   "source": [
    "def binary_search(key, arr):\n",
    "    low = 0\n",
    "    high = len(arr)-1\n",
    "    \n",
    "    while low <= high:\n",
    "        mid = (low+high) // 2\n",
    "        print(mid)\n",
    "        print(arr[mid])\n",
    "        if arr[mid] == key:\n",
    "            return 'Found'\n",
    "        elif arr[mid] > key:\n",
    "            high = mid - 1\n",
    "        elif arr[mid] < key:\n",
    "            low = mid + 1\n",
    "    return 'Not Found'"
   ]
  },
  {
   "cell_type": "code",
   "execution_count": 43,
   "metadata": {},
   "outputs": [],
   "source": [
    "# intialise arr\n",
    "Sport = ['' for i in range(11)]\n",
    "Name = ['' for i in range(13)]\n",
    "Team = ['' for i in range(11)]"
   ]
  },
  {
   "cell_type": "code",
   "execution_count": 44,
   "metadata": {},
   "outputs": [],
   "source": [
    "Sport[1] = \"BASKETBALL\"\n",
    "Sport[2] = \"CRICKET\"\n",
    "Sport[3] = \"CYCLING\"\n",
    "Sport[4] = \"FOOTBALL\"\n",
    "Sport[5] = \"HANDBALL\"\n",
    "Sport[6] = \"HOCKEY\"\n",
    "Sport[7] = \"JUDO\"\n",
    "Sport[8] = \"SWIMMING\"\n",
    "Sport[9] = \"TENNIS\"\n",
    "Sport[10] = \"WATER POLO\"\n",
    "Sport.pop(0)\n",
    "\n",
    "Name[1] = \"ALI\"\n",
    "Name[2] = \"BEN\"\n",
    "Name[3] = \"CHARLIE\"\n",
    "Name[4] = \"DON\"\n",
    "Name[5] = \"ELICE\"\n",
    "Name[6] = \"FENN\"\n",
    "Name[7] = \"GLENN\"\n",
    "Name[8] = \"HELEN\"\n",
    "Name[9] = \"IAN\"\n",
    "Name[10] = \"JULIE\"\n",
    "Name[11] = \"KEN\"\n",
    "Name[12] = \"LINNA\"\n",
    "Name.pop(0)\n",
    "\n",
    "Team[1] = \"Lovepool\"\n",
    "Team[2] = \"Arsenic\"\n",
    "Team[3] = \"Totoham\"\n",
    "Team[4] = \"MadCity\"\n",
    "Team[5] = \"MadUnited\"\n",
    "Team[6] = \"Chelsand\"\n",
    "Team[7] = \"Stroke\"\n",
    "Team[8] = \"Newcast\"\n",
    "Team[9] = \"Everlong\"\n",
    "Team[10] = \"WestBeef\"\n",
    "Team.pop(0)\n",
    "Team.sort()"
   ]
  },
  {
   "cell_type": "code",
   "execution_count": 45,
   "metadata": {},
   "outputs": [
    {
     "name": "stdout",
     "output_type": "stream",
     "text": [
      "4\n",
      "MadCity\n",
      "1\n",
      "Chelsand\n",
      "2\n",
      "Everlong\n",
      "3\n",
      "Lovepool\n",
      "Found\n"
     ]
    }
   ],
   "source": [
    "# test case\n",
    "print(binary_search('CYCLING', Sport))\n",
    "print(binary_search('RUNNING', Sport))\n",
    "print()\n",
    "\n",
    "print(binary_search('KEN', Name))\n",
    "print(binary_search('FAZLI', Name))\n",
    "print()\n",
    "\n",
    "print(binary_search('Lovepool', Team))\n",
    "print(binary_search('Liverpool', Team))"
   ]
  },
  {
   "cell_type": "markdown",
   "metadata": {},
   "source": [
    "## Question 2: Task 3.2"
   ]
  },
  {
   "cell_type": "code",
   "execution_count": 67,
   "metadata": {},
   "outputs": [],
   "source": [
    "def binary_search(arr, key):\n",
    "    low = 0\n",
    "    high = len(arr) - 1\n",
    "    i = 1\n",
    "    \n",
    "    while low < high:\n",
    "        mid = (low+high) // 2\n",
    "        if arr[mid] == key:\n",
    "            return True, i\n",
    "        elif arr[mid] > key:\n",
    "            high = mid - 1\n",
    "        elif arr[mid] < key:\n",
    "            low = mid + 1\n",
    "        i += 1\n",
    "    return False, i"
   ]
  },
  {
   "cell_type": "code",
   "execution_count": 68,
   "metadata": {},
   "outputs": [],
   "source": [
    "movieList=['Ant Man', 'Ant Man And The Wasp', 'Avengers', 'Avengers 4', 'Avengers Age Of Ultron', 'Avengers Infinity War', \n",
    "           'Black Panther', 'Captain America Civil War', 'Captain America The First Avenger', \n",
    "           'Captain America The Winter Soldier', 'Captain Marvel', 'Doctor Strange', 'Guardians Of The Galaxy', \n",
    "           'Guardians Of The Galaxy Vol 3', 'Guardians of The Galaxy Vol 2', 'Iron Man', 'Iron Man 2', 'Iron Man 3', \n",
    "           'Spider Man Homecoming', 'Spider Man Homecoming Sequel', 'The Incredible Hulk', 'Thor', 'Thor Ragnarok', \n",
    "           'Thor The Dark World']"
   ]
  },
  {
   "cell_type": "code",
   "execution_count": 69,
   "metadata": {},
   "outputs": [
    {
     "name": "stdout",
     "output_type": "stream",
     "text": [
      "(False, 5)\n",
      "(True, 4)\n",
      "(False, 5)\n",
      "(True, 4)\n",
      "(True, 3)\n",
      "(True, 1)\n"
     ]
    }
   ],
   "source": [
    "print(binary_search(movieList,'a'))\n",
    "print(binary_search(movieList,'Ant Man'))\n",
    "print(binary_search(movieList,'ZZ'))\n",
    "print(binary_search(movieList,'Avengers 4'))\n",
    "print(binary_search(movieList,'Captain America The First Avenger'))\n",
    "print(binary_search(movieList,'Doctor Strange'))"
   ]
  },
  {
   "cell_type": "code",
   "execution_count": null,
   "metadata": {},
   "outputs": [],
   "source": []
  }
 ],
 "metadata": {
  "kernelspec": {
   "display_name": "Python 3",
   "language": "python",
   "name": "python3"
  },
  "language_info": {
   "codemirror_mode": {
    "name": "ipython",
    "version": 3
   },
   "file_extension": ".py",
   "mimetype": "text/x-python",
   "name": "python",
   "nbconvert_exporter": "python",
   "pygments_lexer": "ipython3",
   "version": "3.6.4"
  }
 },
 "nbformat": 4,
 "nbformat_minor": 2
}
