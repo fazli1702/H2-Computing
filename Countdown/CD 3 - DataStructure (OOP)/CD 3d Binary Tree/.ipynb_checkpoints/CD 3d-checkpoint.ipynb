{
 "cells": [
  {
   "cell_type": "code",
   "execution_count": 3,
   "metadata": {},
   "outputs": [],
   "source": [
    "class Node:\n",
    "    def __init__(self):\n",
    "        self.data = ''\n",
    "        self.leftptr = -1\n",
    "        self.rightptr = -1\n",
    "        \n",
    "    def setData(self, s):\n",
    "        self.data = s\n",
    "        \n",
    "    def setLeftPtr(self, x):\n",
    "        self.leftptr = x\n",
    "    \n",
    "    def seRightPtr(self, y):\n",
    "        self.rightptr = y\n",
    "        \n",
    "    def getData(self):\n",
    "        return self.data\n",
    "    \n",
    "    def getLeftPtr(self):\n",
    "        return self.leftptr\n",
    "    \n",
    "    def getRightPtr(self):\n",
    "        return self.rightptr\n",
    "    \n",
    "\n",
    "class Tree:\n",
    "    def __init__(self):\n",
    "        self.root = -1\n",
    "        self.thisTree = []\n",
    "        self.NextFree = 0\n",
    "        \n",
    "    def add(self, newItem):\n",
    "        newNode = Node()\n",
    "        newNode.setData(newItem)\n",
    "        self.thisTree.append(newNode)\n",
    "        \n",
    "        if self.root == -1:\n",
    "            self.root = 0\n",
    "            \n",
    "        else:\n",
    "            currIndex = self.root\n",
    "            currNode = self.thisTree[currIndex]\n",
    "            while currIndex != -1:\n",
    "                if newItem < currNode.getData():\n",
    "                    currIndex = \n",
    "                else:\n",
    "                    currNode = self.thisTree[currNode.getRightPtr()]\n",
    "                    \n",
    "            if currN\n",
    "                        \n",
    "                        \n",
    "    def print(self):\n",
    "        print('root:', self.root)\n",
    "        print('nextFree:', self.NextFree)\n",
    "        print('%-15s %-15s %-15s %-15s' % ('Index', 'Data', 'leftptr', 'righptr'))\n",
    "        for i, ele in enumerate(self.thisTree):\n",
    "            print('%-15s %-15s %-15s %-15s' % (i+1, ele.getData(), ele.getLeftPtr(), ele.getRightPtr()))"
   ]
  },
  {
   "cell_type": "code",
   "execution_count": null,
   "metadata": {},
   "outputs": [],
   "source": [
    "tree = Tree()\n",
    "tree.add('Tiger')\n",
    "tree.add('Lemur')\n",
    "tree.add('Bat')\n",
    "# tree.add('Yak')\n",
    "# tree.add('Ostrich')\n",
    "# tree.add('Raccoon')\n",
    "# tree.add('Macaw')\n",
    "# tree.add('Zebra')\n",
    "tree.print()"
   ]
  },
  {
   "cell_type": "code",
   "execution_count": null,
   "metadata": {},
   "outputs": [],
   "source": []
  }
 ],
 "metadata": {
  "kernelspec": {
   "display_name": "Python 3",
   "language": "python",
   "name": "python3"
  },
  "language_info": {
   "codemirror_mode": {
    "name": "ipython",
    "version": 3
   },
   "file_extension": ".py",
   "mimetype": "text/x-python",
   "name": "python",
   "nbconvert_exporter": "python",
   "pygments_lexer": "ipython3",
   "version": "3.6.4"
  }
 },
 "nbformat": 4,
 "nbformat_minor": 2
}
