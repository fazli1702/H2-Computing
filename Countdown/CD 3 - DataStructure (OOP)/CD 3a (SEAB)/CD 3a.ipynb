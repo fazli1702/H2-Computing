{
 "cells": [
  {
   "cell_type": "markdown",
   "metadata": {},
   "source": [
    "# Specimen Paper 2 Q3"
   ]
  },
  {
   "cell_type": "code",
   "execution_count": 3,
   "metadata": {},
   "outputs": [],
   "source": [
    "#Task 3.1\n",
    "class DataStructure:\n",
    "    def __init__(self):\n",
    "        self.lst = []\n",
    "        self.head = -1\n",
    "        self.tail = -1\n",
    "        \n",
    "    def display(self):\n",
    "        # empty list\n",
    "        if self.head == -1:\n",
    "            return 'Empty List'\n",
    "        for ele in self.lst:\n",
    "            print(ele)"
   ]
  },
  {
   "cell_type": "code",
   "execution_count": 15,
   "metadata": {},
   "outputs": [],
   "source": [
    "#Task 3.2\n",
    "class Stack(DataStructure):\n",
    "    def __init__(self):\n",
    "        super().__init__()\n",
    "        \n",
    "    def insert(self, value):\n",
    "        if self.head == -1:\n",
    "            self.head = 0\n",
    "        self.lst.append(value)\n",
    "        self.tail += 1\n",
    "    \n",
    "    def delete(self):\n",
    "        if self.head == -1:\n",
    "            return 'Cannot delete from empty stack'\n",
    "        else:\n",
    "            self.tail -= 1\n",
    "            return self.lst.pop(self.tail+1)\n",
    "    \n",
    "    def display(self):\n",
    "        if self.head == -1:\n",
    "            print('Empty Stack')\n",
    "        else:\n",
    "            print('Top of Stack')\n",
    "            for ele in self.lst[::-1]:\n",
    "                print(ele)"
   ]
  },
  {
   "cell_type": "code",
   "execution_count": 31,
   "metadata": {},
   "outputs": [],
   "source": [
    "#Task 3.3\n",
    "class Queue(DataStructure):\n",
    "    def __init__(self):\n",
    "        super().__init__()\n",
    "        \n",
    "    def insert(self, value):\n",
    "        if self.head == -1:\n",
    "            self.head = 0\n",
    "        self.lst.append(value)\n",
    "        self.tail += 1\n",
    "        \n",
    "    def delete(self):\n",
    "        if self.head == -1:\n",
    "            return 'Cannot remove from empty queue'\n",
    "        \n",
    "        removed = self.lst.pop(self.head)\n",
    "        self.tail -= 1\n",
    "        \n",
    "        if self.tail == -1:  # remove last item\n",
    "            self.head = -1\n",
    "        return removed\n",
    "            \n",
    "        \n",
    "    def display(self):\n",
    "        if self.head == -1:\n",
    "            print('Empty Queue')\n",
    "        else:\n",
    "            print('Front of Queue')\n",
    "            super().display()"
   ]
  },
  {
   "cell_type": "code",
   "execution_count": 39,
   "metadata": {},
   "outputs": [],
   "source": [
    "#Task 3.4\n",
    "stack = Stack() #instantiate\n",
    "with open('TASK3stack.txt') as f:\n",
    "    data = f.readlines()\n",
    "    for ele in data:\n",
    "        ele = ele.strip()\n",
    "        stack.insert(ele)\n",
    "\n",
    "queue = Queue()\n",
    "with open('TASK3queue.txt') as f:\n",
    "    data = f.readlines()\n",
    "    for ele in data:\n",
    "        ele = ele.strip()\n",
    "        queue.insert(ele)"
   ]
  },
  {
   "cell_type": "code",
   "execution_count": 40,
   "metadata": {},
   "outputs": [
    {
     "name": "stdout",
     "output_type": "stream",
     "text": [
      "Top of Stack\n",
      "33\n",
      "2\n",
      "2\n",
      "3\n",
      "4\n",
      "65\n",
      "8\n",
      "7\n",
      "6\n",
      "5\n",
      "4\n",
      "2\n"
     ]
    }
   ],
   "source": [
    "stack.display()"
   ]
  },
  {
   "cell_type": "code",
   "execution_count": 41,
   "metadata": {},
   "outputs": [
    {
     "name": "stdout",
     "output_type": "stream",
     "text": [
      "Front of Queue\n",
      "1\n",
      "2\n",
      "3\n",
      "4\n",
      "5\n",
      "6\n",
      "7\n",
      "8\n",
      "9\n",
      "10\n",
      "11\n",
      "12\n"
     ]
    }
   ],
   "source": [
    "queue.display()"
   ]
  },
  {
   "cell_type": "code",
   "execution_count": 42,
   "metadata": {},
   "outputs": [
    {
     "name": "stdout",
     "output_type": "stream",
     "text": [
      "33\n",
      "2\n"
     ]
    }
   ],
   "source": [
    "print(stack.delete())\n",
    "print(stack.delete())"
   ]
  },
  {
   "cell_type": "code",
   "execution_count": 43,
   "metadata": {},
   "outputs": [
    {
     "name": "stdout",
     "output_type": "stream",
     "text": [
      "1\n",
      "2\n"
     ]
    }
   ],
   "source": [
    "print(queue.delete())\n",
    "print(queue.delete())"
   ]
  },
  {
   "cell_type": "code",
   "execution_count": 44,
   "metadata": {},
   "outputs": [
    {
     "name": "stdout",
     "output_type": "stream",
     "text": [
      "Top of Stack\n",
      "2\n",
      "3\n",
      "4\n",
      "65\n",
      "8\n",
      "7\n",
      "6\n",
      "5\n",
      "4\n",
      "2\n"
     ]
    }
   ],
   "source": [
    "stack.display()"
   ]
  },
  {
   "cell_type": "code",
   "execution_count": 45,
   "metadata": {},
   "outputs": [
    {
     "name": "stdout",
     "output_type": "stream",
     "text": [
      "Front of Queue\n",
      "3\n",
      "4\n",
      "5\n",
      "6\n",
      "7\n",
      "8\n",
      "9\n",
      "10\n",
      "11\n",
      "12\n"
     ]
    }
   ],
   "source": [
    "queue.display()"
   ]
  },
  {
   "cell_type": "code",
   "execution_count": null,
   "metadata": {},
   "outputs": [],
   "source": []
  }
 ],
 "metadata": {
  "kernelspec": {
   "display_name": "Python 3",
   "language": "python",
   "name": "python3"
  },
  "language_info": {
   "codemirror_mode": {
    "name": "ipython",
    "version": 3
   },
   "file_extension": ".py",
   "mimetype": "text/x-python",
   "name": "python",
   "nbconvert_exporter": "python",
   "pygments_lexer": "ipython3",
   "version": "3.6.4"
  }
 },
 "nbformat": 4,
 "nbformat_minor": 2
}
