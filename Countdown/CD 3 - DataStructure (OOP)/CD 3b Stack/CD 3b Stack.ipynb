{
 "cells": [
  {
   "cell_type": "markdown",
   "metadata": {},
   "source": [
    "##  HCI 2014"
   ]
  },
  {
   "cell_type": "code",
   "execution_count": 11,
   "metadata": {},
   "outputs": [],
   "source": [
    "#Task 4.1\n",
    "class Stack:\n",
    "    def __init__(self):\n",
    "        self.lst = []\n",
    "        self.top = -1  # last index\n",
    "        \n",
    "    def Push(self, item):\n",
    "        self.top += 1\n",
    "        self.lst.append(item)\n",
    "    \n",
    "    def Pop(self):\n",
    "        if self.top == -1:\n",
    "            return 'Cannot remove from empty stack'\n",
    "        self.top -= 1\n",
    "        self.lst.pop(self.top+1)\n",
    "    \n",
    "    def Peep(self):\n",
    "        if self.top == -1:\n",
    "            return 'Empty stack'\n",
    "        else:\n",
    "            return self.lst[self.top]\n",
    "    \n",
    "    def isEmpty(self):\n",
    "        return self.top == -1"
   ]
  },
  {
   "cell_type": "code",
   "execution_count": 12,
   "metadata": {},
   "outputs": [],
   "source": [
    "#Task 4.2\n",
    "def isOpenBracket(ele):\n",
    "    return ele in ['[', '(', '{']\n",
    "\n",
    "def isCloseBracket(ele):\n",
    "    return ele in [']', ')', '}']\n",
    "\n",
    "def checkBracket(Open, Close):\n",
    "    if Open == '(':\n",
    "        return Close == ')'\n",
    "    elif Open == '[':\n",
    "        return Close == ']'\n",
    "    elif Open == '{':\n",
    "        return Close == '}'\n",
    "\n",
    "def checkNested(construct):\n",
    "    stack = Stack()\n",
    "    for ele in construct:\n",
    "        if isOpenBracket(ele):\n",
    "            stack.Push(ele)\n",
    "        elif isCloseBracket(ele):\n",
    "            if checkBracket(stack.Peep(), ele):\n",
    "                stack.Pop()\n",
    "            else:\n",
    "                return False\n",
    "            \n",
    "    if stack.isEmpty():\n",
    "        return True\n",
    "    return False"
   ]
  },
  {
   "cell_type": "code",
   "execution_count": 14,
   "metadata": {},
   "outputs": [],
   "source": [
    "#Task 4.3\n",
    "test = [\n",
    "    '()',\n",
    "    '{}',\n",
    "    '[]',\n",
    "    '(()',\n",
    "    '(())',\n",
    "    '{[]}',\n",
    "    '{]',\n",
    "    '(){}[]',\n",
    "    ')(',\n",
    "    '{{{}}}{[]}[()]',\n",
    "    '((())]',\n",
    "    '[({)]}',\n",
    "    '((([[[]]]){})'\n",
    "]\n",
    "    \n",
    "errors = []\n",
    "for ele in test:\n",
    "    if not checkNested(ele):\n",
    "        errors.append(ele)\n",
    "# print(errors)\n",
    "\n",
    "with open('ERRORS.txt', 'w') as f:\n",
    "    for ele in errors:\n",
    "        f.write(ele + '\\n')"
   ]
  },
  {
   "cell_type": "code",
   "execution_count": null,
   "metadata": {},
   "outputs": [],
   "source": []
  },
  {
   "cell_type": "code",
   "execution_count": null,
   "metadata": {},
   "outputs": [],
   "source": []
  }
 ],
 "metadata": {
  "kernelspec": {
   "display_name": "Python 3",
   "language": "python",
   "name": "python3"
  },
  "language_info": {
   "codemirror_mode": {
    "name": "ipython",
    "version": 3
   },
   "file_extension": ".py",
   "mimetype": "text/x-python",
   "name": "python",
   "nbconvert_exporter": "python",
   "pygments_lexer": "ipython3",
   "version": "3.6.4"
  }
 },
 "nbformat": 4,
 "nbformat_minor": 2
}
