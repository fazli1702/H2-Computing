{
 "cells": [
  {
   "cell_type": "markdown",
   "metadata": {
    "colab_type": "text",
    "id": "QaZhbNIItf_3"
   },
   "source": [
    "# Linear Search (Iteration)"
   ]
  },
  {
   "cell_type": "code",
   "execution_count": 1,
   "metadata": {
    "colab": {},
    "colab_type": "code",
    "id": "PDXwB7Y1tdU5"
   },
   "outputs": [],
   "source": [
    "def linear_search(lst, n):\n",
    "    for ele in lst:\n",
    "        if lst == n:\n",
    "            return True\n",
    "    return False"
   ]
  },
  {
   "cell_type": "code",
   "execution_count": 2,
   "metadata": {
    "colab": {},
    "colab_type": "code",
    "id": "BRjRqdHyt5VD"
   },
   "outputs": [
    {
     "data": {
      "text/plain": [
       "False"
      ]
     },
     "execution_count": 2,
     "metadata": {},
     "output_type": "execute_result"
    }
   ],
   "source": [
    "lst = [9, 3, 6, 5, 2, 7]\n",
    "\n",
    "linear_search(lst, 6)"
   ]
  },
  {
   "cell_type": "markdown",
   "metadata": {
    "colab_type": "text",
    "id": "uXcThdPLwzyi"
   },
   "source": [
    "# Order of Growth"
   ]
  },
  {
   "cell_type": "markdown",
   "metadata": {
    "colab_type": "text",
    "id": "bbkyiXAAwZML"
   },
   "source": [
    "## The Order of Growth for linear search is O(n)."
   ]
  },
  {
   "cell_type": "markdown",
   "metadata": {
    "colab_type": "text",
    "id": "aJ82pfqwuwNx"
   },
   "source": [
    "# Linear Search (Recursion)"
   ]
  },
  {
   "cell_type": "code",
   "execution_count": 0,
   "metadata": {
    "colab": {},
    "colab_type": "code",
    "id": "BuGpMzfFu0-A"
   },
   "outputs": [],
   "source": [
    "def linear_search(lst, n):\n",
    "    if lst "
   ]
  },
  {
   "cell_type": "code",
   "execution_count": 0,
   "metadata": {
    "colab": {},
    "colab_type": "code",
    "id": "qE44UjSSu3dr"
   },
   "outputs": [],
   "source": [
    "lst = [9, 3, 6, 5, 2, 7]\n",
    "\n",
    "linear_search(lst, 6)"
   ]
  },
  {
   "cell_type": "markdown",
   "metadata": {
    "colab_type": "text",
    "id": "7ooflxwx2hvy"
   },
   "source": [
    "#Binary Search Algorithm"
   ]
  },
  {
   "cell_type": "markdown",
   "metadata": {
    "colab_type": "text",
    "id": "P7A68tn-2s6X"
   },
   "source": [
    "##List down the steps to do a binary search\n",
    "\n",
    "\n",
    "\n"
   ]
  },
  {
   "cell_type": "markdown",
   "metadata": {
    "colab_type": "text",
    "id": "Dj4PUNEb44MI"
   },
   "source": [
    "### Steps:\n",
    "\n",
    "1. \n",
    "\n",
    "2. \n",
    "\n",
    "3. \n",
    "\n",
    "4.\n",
    "\n",
    "5. "
   ]
  },
  {
   "cell_type": "markdown",
   "metadata": {
    "colab_type": "text",
    "id": "T0PZTcbZ33bn"
   },
   "source": [
    "##Using a Trace Table"
   ]
  },
  {
   "cell_type": "markdown",
   "metadata": {
    "colab_type": "text",
    "id": "MPjNc4emLR6H"
   },
   "source": [
    "##Order of Growth"
   ]
  },
  {
   "cell_type": "markdown",
   "metadata": {
    "colab_type": "text",
    "id": "ONKOxrluLgK3"
   },
   "source": [
    "###The order of growth for binary search is O(log n)."
   ]
  },
  {
   "cell_type": "markdown",
   "metadata": {
    "colab_type": "text",
    "id": "TIJLplF2KnOc"
   },
   "source": [
    "##Binary Search (Iteration)"
   ]
  },
  {
   "cell_type": "code",
   "execution_count": 0,
   "metadata": {
    "colab": {},
    "colab_type": "code",
    "id": "1uqZiFUnKsbQ"
   },
   "outputs": [],
   "source": [
    "def binary_search():\n",
    "    pass"
   ]
  },
  {
   "cell_type": "code",
   "execution_count": 0,
   "metadata": {
    "colab": {},
    "colab_type": "code",
    "id": "GwBpYzIwKvIY"
   },
   "outputs": [],
   "source": [
    "lst = = [5,9,12,18,25,34,85,100,123,345]\n",
    "\n",
    "binary_search(lst, 11)"
   ]
  },
  {
   "cell_type": "markdown",
   "metadata": {
    "colab_type": "text",
    "id": "pnej4j6YLAtz"
   },
   "source": [
    "##Binary Search (Recursion)"
   ]
  },
  {
   "cell_type": "code",
   "execution_count": 0,
   "metadata": {
    "colab": {},
    "colab_type": "code",
    "id": "eMS3oKvlLEJa"
   },
   "outputs": [],
   "source": [
    "def binary_search():\n",
    "    pass"
   ]
  },
  {
   "cell_type": "code",
   "execution_count": 0,
   "metadata": {
    "colab": {},
    "colab_type": "code",
    "id": "PA_og0nCLHBB"
   },
   "outputs": [],
   "source": [
    "lst = = [5,9,12,18,25,34,85,100,123,345]\n",
    "\n",
    "binary_search(lst, 11)"
   ]
  }
 ],
 "metadata": {
  "colab": {
   "name": "Linear Search.ipynb",
   "provenance": [],
   "version": "0.3.2"
  },
  "kernelspec": {
   "display_name": "Python 3",
   "language": "python",
   "name": "python3"
  },
  "language_info": {
   "codemirror_mode": {
    "name": "ipython",
    "version": 3
   },
   "file_extension": ".py",
   "mimetype": "text/x-python",
   "name": "python",
   "nbconvert_exporter": "python",
   "pygments_lexer": "ipython3",
   "version": "3.6.4"
  }
 },
 "nbformat": 4,
 "nbformat_minor": 1
}
