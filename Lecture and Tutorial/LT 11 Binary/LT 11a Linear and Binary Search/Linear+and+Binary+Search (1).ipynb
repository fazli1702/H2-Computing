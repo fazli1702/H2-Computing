{
 "cells": [
  {
   "cell_type": "markdown",
   "metadata": {
    "colab_type": "text",
    "id": "QaZhbNIItf_3"
   },
   "source": [
    "# Linear Search (Iteration)"
   ]
  },
  {
   "cell_type": "code",
   "execution_count": 3,
   "metadata": {
    "colab": {},
    "colab_type": "code",
    "id": "PDXwB7Y1tdU5"
   },
   "outputs": [],
   "source": [
    "def linear_search(lst, key):\n",
    "    for ele in lst:\n",
    "        if ele == key:\n",
    "            return True\n",
    "    return False"
   ]
  },
  {
   "cell_type": "code",
   "execution_count": 4,
   "metadata": {
    "colab": {},
    "colab_type": "code",
    "id": "BRjRqdHyt5VD"
   },
   "outputs": [
    {
     "data": {
      "text/plain": [
       "True"
      ]
     },
     "execution_count": 4,
     "metadata": {},
     "output_type": "execute_result"
    }
   ],
   "source": [
    "lst = [9, 3, 6, 5, 2, 7]\n",
    "\n",
    "linear_search(lst, 6)"
   ]
  },
  {
   "cell_type": "markdown",
   "metadata": {
    "colab_type": "text",
    "id": "uXcThdPLwzyi"
   },
   "source": [
    "# Order of Growth"
   ]
  },
  {
   "cell_type": "markdown",
   "metadata": {
    "colab_type": "text",
    "id": "bbkyiXAAwZML"
   },
   "source": [
    "## The Order of Growth for linear search is O(n)."
   ]
  },
  {
   "cell_type": "markdown",
   "metadata": {
    "colab_type": "text",
    "id": "aJ82pfqwuwNx"
   },
   "source": [
    "# Linear Search (Recursion)"
   ]
  },
  {
   "cell_type": "code",
   "execution_count": 5,
   "metadata": {
    "colab": {},
    "colab_type": "code",
    "id": "BuGpMzfFu0-A"
   },
   "outputs": [],
   "source": [
    "def linear_search(lst, key):\n",
    "    if len(lst) == 0:\n",
    "        return False\n",
    "    elif lst[0] == key:\n",
    "        return True\n",
    "    else:\n",
    "        lst.pop(0)\n",
    "        return linear_search(lst, key)\n",
    "    "
   ]
  },
  {
   "cell_type": "code",
   "execution_count": 6,
   "metadata": {
    "colab": {},
    "colab_type": "code",
    "id": "qE44UjSSu3dr"
   },
   "outputs": [
    {
     "data": {
      "text/plain": [
       "True"
      ]
     },
     "execution_count": 6,
     "metadata": {},
     "output_type": "execute_result"
    }
   ],
   "source": [
    "lst = [9, 3, 6, 5, 2, 7]\n",
    "\n",
    "linear_search(lst, 6)"
   ]
  },
  {
   "cell_type": "markdown",
   "metadata": {
    "colab_type": "text",
    "id": "7ooflxwx2hvy"
   },
   "source": [
    "# Binary Search Algorithm"
   ]
  },
  {
   "cell_type": "markdown",
   "metadata": {
    "colab_type": "text",
    "id": "P7A68tn-2s6X"
   },
   "source": [
    "## List down the steps to do a binary search"
   ]
  },
  {
   "cell_type": "markdown",
   "metadata": {
    "colab_type": "text",
    "id": "Dj4PUNEb44MI"
   },
   "source": [
    "### Steps:\n",
    "\n",
    "1. \n",
    "\n",
    "2. \n",
    "\n",
    "3. \n",
    "\n",
    "4.\n",
    "\n",
    "5. "
   ]
  },
  {
   "cell_type": "markdown",
   "metadata": {
    "colab_type": "text",
    "id": "T0PZTcbZ33bn"
   },
   "source": [
    "## Using a Trace Table"
   ]
  },
  {
   "cell_type": "markdown",
   "metadata": {
    "colab_type": "text",
    "id": "MPjNc4emLR6H"
   },
   "source": [
    "## Order of Growth"
   ]
  },
  {
   "cell_type": "markdown",
   "metadata": {
    "colab_type": "text",
    "id": "ONKOxrluLgK3"
   },
   "source": [
    "### The order of growth for binary search is O(log n)."
   ]
  },
  {
   "cell_type": "markdown",
   "metadata": {
    "colab_type": "text",
    "id": "TIJLplF2KnOc"
   },
   "source": [
    "## Binary Search (Iteration)"
   ]
  },
  {
   "cell_type": "code",
   "execution_count": 13,
   "metadata": {
    "colab": {},
    "colab_type": "code",
    "id": "1uqZiFUnKsbQ"
   },
   "outputs": [],
   "source": [
    "def binary_search(lst, key):\n",
    "    l = 0\n",
    "    h = len(lst) - 1\n",
    "    \n",
    "    while l <= h:\n",
    "        m = (l+h) // 2\n",
    "        \n",
    "        if lst[m] == key:\n",
    "            return True    \n",
    "        elif lst[m] > key:\n",
    "            h = m - 1            \n",
    "        else:\n",
    "            l = m + 1\n",
    "    return False"
   ]
  },
  {
   "cell_type": "code",
   "execution_count": 14,
   "metadata": {
    "colab": {},
    "colab_type": "code",
    "id": "GwBpYzIwKvIY"
   },
   "outputs": [
    {
     "data": {
      "text/plain": [
       "False"
      ]
     },
     "execution_count": 14,
     "metadata": {},
     "output_type": "execute_result"
    }
   ],
   "source": [
    "lst = [5,9,12,18,25,34,85,100,123,345]\n",
    "\n",
    "binary_search(lst, 11)"
   ]
  },
  {
   "cell_type": "markdown",
   "metadata": {
    "colab_type": "text",
    "id": "pnej4j6YLAtz"
   },
   "source": [
    "## Binary Search (Recursion)"
   ]
  },
  {
   "cell_type": "code",
   "execution_count": 15,
   "metadata": {
    "colab": {},
    "colab_type": "code",
    "id": "eMS3oKvlLEJa"
   },
   "outputs": [
    {
     "ename": "SyntaxError",
     "evalue": "invalid syntax (<ipython-input-15-d4dcf8074e82>, line 8)",
     "output_type": "error",
     "traceback": [
      "\u001b[1;36m  File \u001b[1;32m\"<ipython-input-15-d4dcf8074e82>\"\u001b[1;36m, line \u001b[1;32m8\u001b[0m\n\u001b[1;33m    elif lst[m] == key:\u001b[0m\n\u001b[1;37m       ^\u001b[0m\n\u001b[1;31mSyntaxError\u001b[0m\u001b[1;31m:\u001b[0m invalid syntax\n"
     ]
    }
   ],
   "source": [
    "def binary_search(lst, key):\n",
    "    if len(lst) == 0:\n",
    "        return False\n",
    "    \n",
    "    l = 0\n",
    "    h = len(lst) - 1\n",
    "    m = (l+h) // 2\n",
    "    elif lst[m] == key:\n",
    "        return True\n",
    "    elif lst[m] > key:\n",
    "        h = m - 1\n",
    "        return binary_search(lst[l:h], key)\n",
    "    else:\n",
    "        l = m + 1\n",
    "        return binary_search(lst[l:h], key)"
   ]
  },
  {
   "cell_type": "code",
   "execution_count": 17,
   "metadata": {
    "colab": {},
    "colab_type": "code",
    "id": "PA_og0nCLHBB"
   },
   "outputs": [
    {
     "data": {
      "text/plain": [
       "False"
      ]
     },
     "execution_count": 17,
     "metadata": {},
     "output_type": "execute_result"
    }
   ],
   "source": [
    "lst = [5,9,12,18,25,34,85,100,123,345]\n",
    "\n",
    "binary_search(lst, 11)"
   ]
  },
  {
   "cell_type": "code",
   "execution_count": null,
   "metadata": {},
   "outputs": [],
   "source": []
  }
 ],
 "metadata": {
  "colab": {
   "name": "Linear Search.ipynb",
   "provenance": [],
   "version": "0.3.2"
  },
  "kernelspec": {
   "display_name": "Python 3",
   "language": "python",
   "name": "python3"
  },
  "language_info": {
   "codemirror_mode": {
    "name": "ipython",
    "version": 3
   },
   "file_extension": ".py",
   "mimetype": "text/x-python",
   "name": "python",
   "nbconvert_exporter": "python",
   "pygments_lexer": "ipython3",
   "version": "3.6.4"
  }
 },
 "nbformat": 4,
 "nbformat_minor": 1
}
