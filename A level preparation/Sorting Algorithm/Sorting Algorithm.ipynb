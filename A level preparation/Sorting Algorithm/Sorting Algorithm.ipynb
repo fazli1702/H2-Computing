{
 "cells": [
  {
   "cell_type": "markdown",
   "metadata": {},
   "source": [
    "## Q1-3 A2015 P1Q1"
   ]
  },
  {
   "cell_type": "markdown",
   "metadata": {},
   "source": [
    "### Task 1.1 - Task 1.3"
   ]
  },
  {
   "cell_type": "code",
   "execution_count": 1,
   "metadata": {},
   "outputs": [],
   "source": [
    "import csv\n",
    "\n",
    "def read_file():\n",
    "    with open('ADMISSIONS-DATA.txt') as f:\n",
    "        info = csv.reader(f)\n",
    "        data = [ele[0] for ele in info]\n",
    "    return data"
   ]
  },
  {
   "cell_type": "code",
   "execution_count": 2,
   "metadata": {},
   "outputs": [],
   "source": [
    "def bubble_sort(arr):\n",
    "    NoSwaps = False\n",
    "    counter = 0\n",
    "    while not NoSwaps:\n",
    "        NoSwaps = True\n",
    "        for i in range(len(arr)-1):\n",
    "            counter += 1\n",
    "            if arr[i] > arr[i+1]:\n",
    "                NoSwaps = False\n",
    "                arr[i], arr[i+1] = arr[i+1], arr[i]\n",
    "    return arr, counter"
   ]
  },
  {
   "cell_type": "code",
   "execution_count": 3,
   "metadata": {},
   "outputs": [],
   "source": [
    "def insertion_sort(arr):\n",
    "    counter = 0\n",
    "    for i in range(1, len(arr)-1):\n",
    "        j = i-1\n",
    "        key = arr[i]\n",
    "        counter += 1\n",
    "        while j >= 0 and key < arr[j]:\n",
    "            counter += 1\n",
    "            arr[j], arr[j+1] = arr[j+1], arr[j]\n",
    "    return arr, counter\n"
   ]
  },
  {
   "cell_type": "code",
   "execution_count": 4,
   "metadata": {},
   "outputs": [],
   "source": [
    "def main():\n",
    "    while True:\n",
    "        print('1. Read file data')\n",
    "        print('2. Bubble sort')\n",
    "        print('3. Quick sort / Insertion sort')\n",
    "        print('4. End')\n",
    "\n",
    "        choice = input('Please enter your choice:')\n",
    "        \n",
    "        # task 1.2\n",
    "        if choice == '1':\n",
    "            data = read_file()\n",
    "            print(data)\n",
    "\n",
    "        if choice == '2':\n",
    "            print(bubble_sort(data))\n",
    "\n",
    "        if choice == '3':\n",
    "            print(insertion_sort(data))\n",
    "        \n",
    "        if choice == '4':\n",
    "            break"
   ]
  },
  {
   "cell_type": "code",
   "execution_count": 6,
   "metadata": {},
   "outputs": [
    {
     "name": "stdout",
     "output_type": "stream",
     "text": [
      "1. Read file data\n",
      "2. Bubble sort\n",
      "3. Quick sort / Insertion sort\n",
      "4. End\n",
      "Please enter your choice:4\n"
     ]
    }
   ],
   "source": [
    "main()"
   ]
  },
  {
   "cell_type": "markdown",
   "metadata": {},
   "source": [
    "## Q4 A2018 P1Q2"
   ]
  },
  {
   "cell_type": "markdown",
   "metadata": {},
   "source": [
    "### Task 2.1"
   ]
  },
  {
   "cell_type": "code",
   "execution_count": 10,
   "metadata": {},
   "outputs": [],
   "source": [
    "def QuickSort(Scores):\n",
    "    QuickSortHelper(Scores, 0, len(Scores)-1)\n",
    "    return Scores\n",
    "\n",
    "def QuickSortHelper(Scores, First, Last):\n",
    "    if First < Last:\n",
    "        SplitPoint = Partition(Scores, First, Last)\n",
    "        QuickSortHelper(Scores, First, SplitPoint-1)\n",
    "        QuickSortHelper(Scores, SplitPoint+1, Last)\n",
    "    return Scores\n",
    "\n",
    "def Partition(Scores, First, Last):\n",
    "    PivotValue = Scores[First]\n",
    "    LeftMark = First + 1\n",
    "    RightMark = Last\n",
    "    \n",
    "    Done = False\n",
    "    while Done == False:\n",
    "        \n",
    "        while LeftMark <= RightMark and Scores[LeftMark] <= PivotValue:\n",
    "            LeftMark += 1\n",
    "            \n",
    "        while Scores[RightMark] >= PivotValue and RightMark >= LeftMark:\n",
    "            RightMark -= 1\n",
    "        \n",
    "        if RightMark < LeftMark:\n",
    "            Done = True\n",
    "            \n",
    "        else:\n",
    "            Temp = Scores[LeftMark]\n",
    "            Scores[LeftMark] = Scores[RightMark]\n",
    "            Scores[RightMark] = Temp\n",
    "    \n",
    "    Scores[First], Scores[RightMark] = Scores[RightMark], Scores[First]\n",
    "    return RightMark"
   ]
  },
  {
   "cell_type": "code",
   "execution_count": 15,
   "metadata": {},
   "outputs": [],
   "source": [
    "test = [72,45,120,57,76,29,40,42,113,77,64,29,91,122,134,139,24,92,136,73,78,62,27,126,76,116,67,34,20,90,75,128,128,89,98,41,37,58,124,24,101,132]"
   ]
  },
  {
   "cell_type": "markdown",
   "metadata": {},
   "source": [
    "### Task 2.2"
   ]
  },
  {
   "cell_type": "code",
   "execution_count": 16,
   "metadata": {},
   "outputs": [],
   "source": [
    "def display(arr):\n",
    "    print(arr)\n",
    "\n",
    "def main2():\n",
    "    display(test)\n",
    "    QuickSort(test)\n",
    "    display(test)"
   ]
  },
  {
   "cell_type": "code",
   "execution_count": 17,
   "metadata": {},
   "outputs": [
    {
     "name": "stdout",
     "output_type": "stream",
     "text": [
      "[72, 45, 120, 57, 76, 29, 40, 42, 113, 77, 64, 29, 91, 122, 134, 139, 24, 92, 136, 73, 78, 62, 27, 126, 76, 116, 67, 34, 20, 90, 75, 128, 128, 89, 98, 41, 37, 58, 124, 24, 101, 132]\n",
      "[20, 24, 24, 27, 29, 29, 34, 37, 40, 41, 42, 45, 57, 58, 62, 64, 67, 72, 73, 75, 76, 76, 77, 78, 89, 90, 91, 92, 98, 101, 113, 116, 120, 122, 124, 126, 128, 128, 132, 134, 136, 139]\n"
     ]
    }
   ],
   "source": [
    "main2()"
   ]
  },
  {
   "cell_type": "markdown",
   "metadata": {},
   "source": [
    "## Q6 A2018 P2Q5"
   ]
  },
  {
   "cell_type": "code",
   "execution_count": 3,
   "metadata": {},
   "outputs": [],
   "source": [
    "def mergeSort(arr):\n",
    "    if len(arr) <= 1:\n",
    "        return arr\n",
    "    mid = len(arr) // 2\n",
    "    left = arr[:mid]\n",
    "    right = arr[mid:]\n",
    "    return merge(mergeSort(left), mergeSort(right))\n",
    "\n",
    "def merge(left, right):\n",
    "    lst = []\n",
    "    while len(left) != 0 and len(right) != 0:\n",
    "        if left[0] < right[0]:\n",
    "            lst.append(left.pop(0))\n",
    "        else:\n",
    "            lst.append(right.pop(0))\n",
    "            \n",
    "    if len(left) != 0:\n",
    "        lst += left\n",
    "    elif len(right) != 0:\n",
    "        lst += right\n",
    "        \n",
    "    return lst"
   ]
  },
  {
   "cell_type": "code",
   "execution_count": 5,
   "metadata": {},
   "outputs": [],
   "source": [
    "def main3(arr):\n",
    "    arr = mergeSort(arr)\n",
    "    # delete 2 best & worst score\n",
    "    arr = arr[2:7]\n",
    "    return sum(arr)"
   ]
  },
  {
   "cell_type": "code",
   "execution_count": 6,
   "metadata": {},
   "outputs": [
    {
     "data": {
      "text/plain": [
       "20"
      ]
     },
     "execution_count": 6,
     "metadata": {},
     "output_type": "execute_result"
    }
   ],
   "source": [
    "main3(list(range(9)))"
   ]
  },
  {
   "cell_type": "markdown",
   "metadata": {},
   "source": [
    "## Q7: A2018 P2Q5"
   ]
  },
  {
   "cell_type": "code",
   "execution_count": 23,
   "metadata": {},
   "outputs": [
    {
     "data": {
      "text/plain": [
       "'\\nA: UpperBound\\nB: List[Posn+1] \\nc: False\\nD: Temp\\n'"
      ]
     },
     "execution_count": 23,
     "metadata": {},
     "output_type": "execute_result"
    }
   ],
   "source": [
    "'''\n",
    "A: UpperBound\n",
    "B: List[Posn+1] \n",
    "c: False\n",
    "D: Temp\n",
    "'''"
   ]
  },
  {
   "cell_type": "markdown",
   "metadata": {},
   "source": [
    "def bubbleSort(arr):\n",
    "    NoSwaps = False\n",
    "    while NoSwaps == False:\n",
    "        NoSwaps = True\n",
    "        UpperBound = len(arr)\n",
    "        for Posn in range(UpperBound-1):\n",
    "            if arr[Posn] < arr[Posn+1]:\n",
    "                NoSwaps = False\n",
    "                Temp = arr[Posn]\n",
    "                arr[Posn] = arr[Posn+1]\n",
    "                arr[Posn+1] = Temp\n",
    "    return arr"
   ]
  },
  {
   "cell_type": "code",
   "execution_count": 4,
   "metadata": {},
   "outputs": [
    {
     "data": {
      "text/plain": [
       "[124, 87, 65, 34, 20, 3]"
      ]
     },
     "execution_count": 4,
     "metadata": {},
     "output_type": "execute_result"
    }
   ],
   "source": [
    "test2 = [3, 65, 124, 87, 34, 20]\n",
    "bubbleSort(test2)"
   ]
  },
  {
   "cell_type": "markdown",
   "metadata": {},
   "source": [
    "## Q8: A2015 P2Q5"
   ]
  },
  {
   "cell_type": "code",
   "execution_count": 13,
   "metadata": {},
   "outputs": [],
   "source": [
    "def insertionSort(Values):\n",
    "    for i in range(1, len(Values)):\n",
    "        Temp = Values[i]\n",
    "        j = i-1\n",
    "        while j > 0 and Values[j] > Temp:\n",
    "            Values[j+1] = Values[j]\n",
    "            j -= 1\n",
    "        Values[j+1] = Temp\n",
    "    return Values"
   ]
  },
  {
   "cell_type": "code",
   "execution_count": 14,
   "metadata": {},
   "outputs": [
    {
     "data": {
      "text/plain": [
       "[3, 20, 34, 65, 87, 124]"
      ]
     },
     "execution_count": 14,
     "metadata": {},
     "output_type": "execute_result"
    }
   ],
   "source": [
    "test2 = [3, 65, 124, 87, 34, 20]\n",
    "insertionSort(test2)"
   ]
  },
  {
   "cell_type": "code",
   "execution_count": null,
   "metadata": {},
   "outputs": [],
   "source": [
    "# test case\n",
    "# 1) [23, 56, 10, 93, 31] - normal input, check if program running correctly\n",
    "# 2) [1, 2, 3, 4, 5, 6, 7] - sorted input, check if there is change"
   ]
  }
 ],
 "metadata": {
  "kernelspec": {
   "display_name": "Python 3",
   "language": "python",
   "name": "python3"
  },
  "language_info": {
   "codemirror_mode": {
    "name": "ipython",
    "version": 3
   },
   "file_extension": ".py",
   "mimetype": "text/x-python",
   "name": "python",
   "nbconvert_exporter": "python",
   "pygments_lexer": "ipython3",
   "version": "3.6.4"
  }
 },
 "nbformat": 4,
 "nbformat_minor": 2
}
