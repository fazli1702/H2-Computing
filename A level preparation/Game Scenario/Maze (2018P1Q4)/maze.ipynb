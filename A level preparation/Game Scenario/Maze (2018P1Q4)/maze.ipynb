{
 "cells": [
  {
   "cell_type": "markdown",
   "metadata": {},
   "source": [
    "## Question 1: Read from text file and print the content"
   ]
  },
  {
   "cell_type": "code",
   "execution_count": 1,
   "metadata": {},
   "outputs": [
    {
     "name": "stdout",
     "output_type": "stream",
     "text": [
      "XXXXXXXXXX\n",
      "X........X\n",
      "X.X.X.XX.X\n",
      "X.X..P...X\n",
      "X.XXXXXX.X\n",
      "X...O....X\n",
      "X.X.XX.X.X\n",
      "X.X....X.X\n",
      "X.XX.XXX.X\n",
      "X........X\n",
      "XXXXXXXXXX\n"
     ]
    }
   ],
   "source": [
    "#stage1\n",
    "# open MAZE.TXT file and print line by line\n",
    "with open('MAZE.TXT') as f:\n",
    "    data = f.readlines()\n",
    "    for row in data:\n",
    "        row = row.strip()\n",
    "        print(row)"
   ]
  },
  {
   "cell_type": "code",
   "execution_count": 18,
   "metadata": {},
   "outputs": [],
   "source": [
    "def display(maze):\n",
    "    for ele in maze:\n",
    "        print(ele)\n",
    "    print()\n",
    "    print()"
   ]
  },
  {
   "cell_type": "markdown",
   "metadata": {},
   "source": [
    "## Question 2: Read data from a text file into a data structure"
   ]
  },
  {
   "cell_type": "code",
   "execution_count": 3,
   "metadata": {},
   "outputs": [],
   "source": [
    "#stage2\n",
    "\n",
    "def read_wall(filename):\n",
    "    walls = []\n",
    "    y = 0\n",
    "    with open(filename) as f:\n",
    "        data = f.readlines()\n",
    "        for row in data:\n",
    "            row = row.strip()\n",
    "            for x in range(len(row)):\n",
    "                if row[x] == 'X':\n",
    "                    walls.append([x, y])\n",
    "            y += 1\n",
    "    return walls"
   ]
  },
  {
   "cell_type": "code",
   "execution_count": 11,
   "metadata": {},
   "outputs": [
    {
     "data": {
      "text/plain": [
       "[[0, 0], [1, 0], [2, 0], [3, 0], [4, 0]]"
      ]
     },
     "execution_count": 11,
     "metadata": {},
     "output_type": "execute_result"
    }
   ],
   "source": [
    "read_wall('MAZE.TXT')[:5]"
   ]
  },
  {
   "cell_type": "markdown",
   "metadata": {},
   "source": [
    "## Question 3: Print_it to display the walls in the maze"
   ]
  },
  {
   "cell_type": "code",
   "execution_count": 53,
   "metadata": {},
   "outputs": [],
   "source": [
    "#stage3\n",
    "def print_it(lst):\n",
    "    # initialise empty maze\n",
    "    maze = [['.' for i in range(10)] for i in range(11)]\n",
    "\n",
    "    for ele in lst:\n",
    "        x, y = ele\n",
    "        maze[y][x] = 'X'\n",
    "        \n",
    "    string = ''\n",
    "    for row in maze:\n",
    "        for ele in row:\n",
    "            string += ele\n",
    "        string += '\\n'\n",
    "    \n",
    "    return string\n"
   ]
  },
  {
   "cell_type": "code",
   "execution_count": 55,
   "metadata": {},
   "outputs": [
    {
     "name": "stdout",
     "output_type": "stream",
     "text": [
      "XXXXXXXXXX\n",
      "X........X\n",
      "X.X.X.XX.X\n",
      "X.X......X\n",
      "X.XXXXXX.X\n",
      "X........X\n",
      "X.X.XX.X.X\n",
      "X.X....X.X\n",
      "X.XX.XXX.X\n",
      "X........X\n",
      "XXXXXXXXXX\n",
      "\n"
     ]
    }
   ],
   "source": [
    "# Do not modify the following:\n",
    "wall = read_wall('MAZE.TXT')\n",
    "print(print_it(wall))"
   ]
  },
  {
   "cell_type": "code",
   "execution_count": 1,
   "metadata": {},
   "outputs": [
    {
     "name": "stdout",
     "output_type": "stream",
     "text": [
      "XXXXXXXXXX\n",
      "X........X\n",
      "X.X.X.XX.X\n",
      "X.X......X\n",
      "X.XXXXXX.X\n",
      "X........X\n",
      "X.X.XX.X.X\n",
      "X.X....X.X\n",
      "X.XX.XXX.X\n",
      "X........X\n",
      "XXXXXXXXXX\n"
     ]
    }
   ],
   "source": [
    "print('''XXXXXXXXXX\n",
    "X........X\n",
    "X.X.X.XX.X\n",
    "X.X......X\n",
    "X.XXXXXX.X\n",
    "X........X\n",
    "X.X.XX.X.X\n",
    "X.X....X.X\n",
    "X.XX.XXX.X\n",
    "X........X\n",
    "XXXXXXXXXX''')"
   ]
  },
  {
   "cell_type": "code",
   "execution_count": null,
   "metadata": {},
   "outputs": [],
   "source": []
  }
 ],
 "metadata": {
  "kernelspec": {
   "display_name": "Python 3",
   "language": "python",
   "name": "python3"
  },
  "language_info": {
   "codemirror_mode": {
    "name": "ipython",
    "version": 3
   },
   "file_extension": ".py",
   "mimetype": "text/x-python",
   "name": "python",
   "nbconvert_exporter": "python",
   "pygments_lexer": "ipython3",
   "version": "3.6.4"
  }
 },
 "nbformat": 4,
 "nbformat_minor": 2
}
