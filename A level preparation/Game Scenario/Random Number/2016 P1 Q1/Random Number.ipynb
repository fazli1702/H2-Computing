{
 "cells": [
  {
   "cell_type": "markdown",
   "metadata": {},
   "source": [
    "## Question 1: Generate random numbers"
   ]
  },
  {
   "cell_type": "code",
   "execution_count": 1,
   "metadata": {},
   "outputs": [],
   "source": [
    "from random import randint\n",
    "\n",
    "def generate(n):\n",
    "    '''return a list containing n integers with values between 1 to 20'''\n",
    "    numbers = []\n",
    "    for i in range(n):\n",
    "        numbers.append(randint(1, 20))\n",
    "    return numbers"
   ]
  },
  {
   "cell_type": "code",
   "execution_count": 3,
   "metadata": {},
   "outputs": [
    {
     "data": {
      "text/plain": [
       "[9, 9, 15, 3, 8]"
      ]
     },
     "execution_count": 3,
     "metadata": {},
     "output_type": "execute_result"
    }
   ],
   "source": [
    "generate(5)"
   ]
  },
  {
   "cell_type": "markdown",
   "metadata": {},
   "source": [
    "## Question 2: The frequency"
   ]
  },
  {
   "cell_type": "code",
   "execution_count": 5,
   "metadata": {},
   "outputs": [],
   "source": [
    "def count(seq):\n",
    "    '''return a dictionary indicating the number of times each number appears in the seq'''\n",
    "    # create dic\n",
    "    freq = {}\n",
    "    for i in range(1, 21):\n",
    "        freq[i] = 0\n",
    "    \n",
    "    # count number of times\n",
    "    for n in seq:\n",
    "        freq[n] += 1\n",
    "        \n",
    "    return freq"
   ]
  },
  {
   "cell_type": "code",
   "execution_count": 6,
   "metadata": {},
   "outputs": [
    {
     "name": "stdout",
     "output_type": "stream",
     "text": [
      "[16, 17, 9, 9, 8, 19, 19, 6, 17, 11]\n",
      "{1: 0, 2: 0, 3: 0, 4: 0, 5: 0, 6: 1, 7: 0, 8: 1, 9: 2, 10: 0, 11: 1, 12: 0, 13: 0, 14: 0, 15: 0, 16: 1, 17: 2, 18: 0, 19: 2, 20: 0}\n"
     ]
    }
   ],
   "source": [
    "number = generate(10)\n",
    "print(number)\n",
    "print(count(number))"
   ]
  },
  {
   "cell_type": "markdown",
   "metadata": {},
   "source": [
    "## Question 3: Difference from the Expected Frequency\n",
    "\n",
    "For a good random number generator, every number in the range should have equal chance of being generated. Hence in a list of 1000 random integers, ranging between 1 to 20, the same number should be generated 50 times. \n",
    "\n",
    "Write a function difference(table) to return a dictionary containing the difference between the actual frequency (which can be found in the dictionary table*)and the expected frequency for each number in the range between 1 to 20."
   ]
  },
  {
   "cell_type": "code",
   "execution_count": 8,
   "metadata": {},
   "outputs": [],
   "source": [
    "def difference(table):\n",
    "    '''return a dictionary containing the difference between the actual frequency'''\n",
    "    difference = {}\n",
    "    for key, value in table.items():\n",
    "        difference[key] = value - 50\n",
    "    return difference"
   ]
  },
  {
   "cell_type": "markdown",
   "metadata": {},
   "source": [
    "## Question 4: Output 3 Columns Frequency Table"
   ]
  },
  {
   "cell_type": "code",
   "execution_count": 9,
   "metadata": {},
   "outputs": [],
   "source": [
    "def print_output():\n",
    "    numbers = generate(1000)\n",
    "    freq = count(numbers)\n",
    "    diff = difference(freq)\n",
    "    \n",
    "    print('%-15s %-15s %-15s' % ('Integer', 'Frequency', 'Difference'))\n",
    "    for i in range(1, 21):\n",
    "        print('%-15s %-15s %-15s' % (i, freq[i], diff[i]))"
   ]
  },
  {
   "cell_type": "code",
   "execution_count": 10,
   "metadata": {},
   "outputs": [
    {
     "name": "stdout",
     "output_type": "stream",
     "text": [
      "Integer         Frequency       Difference     \n",
      "1               53              3              \n",
      "2               61              11             \n",
      "3               51              1              \n",
      "4               65              15             \n",
      "5               57              7              \n",
      "6               54              4              \n",
      "7               62              12             \n",
      "8               52              2              \n",
      "9               55              5              \n",
      "10              40              -10            \n",
      "11              51              1              \n",
      "12              45              -5             \n",
      "13              48              -2             \n",
      "14              44              -6             \n",
      "15              49              -1             \n",
      "16              59              9              \n",
      "17              41              -9             \n",
      "18              35              -15            \n",
      "19              30              -20            \n",
      "20              48              -2             \n"
     ]
    }
   ],
   "source": [
    "print_output()"
   ]
  },
  {
   "cell_type": "code",
   "execution_count": null,
   "metadata": {},
   "outputs": [],
   "source": []
  }
 ],
 "metadata": {
  "kernelspec": {
   "display_name": "Python 3",
   "language": "python",
   "name": "python3"
  },
  "language_info": {
   "codemirror_mode": {
    "name": "ipython",
    "version": 3
   },
   "file_extension": ".py",
   "mimetype": "text/x-python",
   "name": "python",
   "nbconvert_exporter": "python",
   "pygments_lexer": "ipython3",
   "version": "3.6.4"
  }
 },
 "nbformat": 4,
 "nbformat_minor": 2
}
