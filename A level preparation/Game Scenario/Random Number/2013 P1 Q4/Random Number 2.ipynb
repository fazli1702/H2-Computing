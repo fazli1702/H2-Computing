{
 "cells": [
  {
   "cell_type": "markdown",
   "metadata": {},
   "source": [
    "## Task 4.1"
   ]
  },
  {
   "cell_type": "code",
   "execution_count": 12,
   "metadata": {},
   "outputs": [],
   "source": [
    "def main():\n",
    "    # input\n",
    "#     distribution = {}\n",
    "#     while True:\n",
    "#         x = input('Next X value ... <ZZZ to END> ')\n",
    "#         if x.upper() == 'ZZZ':\n",
    "#             break\n",
    "\n",
    "#         n = int(input('Frequency ... '))\n",
    "#         distribution[x] = n\n",
    "    distribution = dataset2\n",
    "\n",
    "    # display\n",
    "    print('\\n\\n')\n",
    "    print('+'*20)\n",
    "    print('Frequency distribution')\n",
    "    print('+'*20)\n",
    "    print()\n",
    "\n",
    "    for key, value in distribution.items():\n",
    "        print('%-5s %-15s' % (key, '--'*value))"
   ]
  },
  {
   "cell_type": "code",
   "execution_count": 13,
   "metadata": {},
   "outputs": [],
   "source": [
    "dataset1 = {'XS':12, 'S':22, 'M':45, 'L':56, 'XL':39, 'XXL':11}\n",
    "dataset2 = {'a':15, 'b':20, 'c':25, 'd':20, 'e':15}"
   ]
  },
  {
   "cell_type": "code",
   "execution_count": 14,
   "metadata": {},
   "outputs": [
    {
     "name": "stdout",
     "output_type": "stream",
     "text": [
      "\n",
      "\n",
      "\n",
      "++++++++++++++++++++\n",
      "Frequency distribution\n",
      "++++++++++++++++++++\n",
      "\n",
      "a     ------------------------------\n",
      "b     ----------------------------------------\n",
      "c     --------------------------------------------------\n",
      "d     ----------------------------------------\n",
      "e     ------------------------------\n"
     ]
    }
   ],
   "source": [
    "main()"
   ]
  },
  {
   "cell_type": "markdown",
   "metadata": {},
   "source": [
    "## Task 4.2"
   ]
  },
  {
   "cell_type": "code",
   "execution_count": null,
   "metadata": {},
   "outputs": [],
   "source": []
  }
 ],
 "metadata": {
  "kernelspec": {
   "display_name": "Python 3",
   "language": "python",
   "name": "python3"
  },
  "language_info": {
   "codemirror_mode": {
    "name": "ipython",
    "version": 3
   },
   "file_extension": ".py",
   "mimetype": "text/x-python",
   "name": "python",
   "nbconvert_exporter": "python",
   "pygments_lexer": "ipython3",
   "version": "3.6.4"
  }
 },
 "nbformat": 4,
 "nbformat_minor": 2
}
