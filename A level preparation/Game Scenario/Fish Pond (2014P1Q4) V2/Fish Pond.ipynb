{
 "cells": [
  {
   "cell_type": "code",
   "execution_count": 6,
   "metadata": {},
   "outputs": [],
   "source": [
    "# Task 4.1\n",
    "def new_pond():            # initialise empty grid\n",
    "    # 15-by-8 2D array\n",
    "    return [['.' for i in range(15)] for i in range(8)]\n",
    "\n",
    "\n",
    "def print_pond(pond):            # print empty grid\n",
    "    for row in pond:\n",
    "        string = ''\n",
    "        for ele in row:\n",
    "            string += ele\n",
    "        print(string)"
   ]
  },
  {
   "cell_type": "code",
   "execution_count": 7,
   "metadata": {},
   "outputs": [
    {
     "name": "stdout",
     "output_type": "stream",
     "text": [
      "...............\n",
      "...............\n",
      "...............\n",
      "...............\n",
      "...............\n",
      "...............\n",
      "...............\n",
      "...............\n"
     ]
    }
   ],
   "source": [
    "pond=new_pond()\n",
    "print_pond(pond)"
   ]
  },
  {
   "cell_type": "code",
   "execution_count": 8,
   "metadata": {},
   "outputs": [],
   "source": [
    "#Task 4.2\n",
    "def get_user_input(pond):\n",
    "    x = int(input('X coordinate <1 to 15>? '))\n",
    "    y = int(input('Y coordinate <1 to 8>? '))\n",
    "    x -= 1\n",
    "    y -= 1\n",
    "    pond[y][x] = 'S'"
   ]
  },
  {
   "cell_type": "code",
   "execution_count": 9,
   "metadata": {},
   "outputs": [
    {
     "name": "stdout",
     "output_type": "stream",
     "text": [
      "X coordinate <1 to 15>? 9\n",
      "Y coordinate <1 to 8>? 3\n",
      "...............\n",
      "...............\n",
      "........S......\n",
      "...............\n",
      "...............\n",
      "...............\n",
      "...............\n",
      "...............\n"
     ]
    }
   ],
   "source": [
    "pond=new_pond()\n",
    "get_user_input(pond)\n",
    "print_pond(pond)"
   ]
  },
  {
   "cell_type": "code",
   "execution_count": 13,
   "metadata": {},
   "outputs": [],
   "source": [
    "#Task 4.3 \n",
    "from random import randint\n",
    "\n",
    "def put_3_fish(pond):\n",
    "    randPos = []\n",
    "    \n",
    "    # make sure not same position\n",
    "    while len(randPos) != 3:\n",
    "        x = randint(0, 14)\n",
    "        y = randint(0, 7)\n",
    "        coord = [x, y]\n",
    "        if coord not in randPos:\n",
    "            randPos.append(coord)\n",
    "            \n",
    "    for x, y in randPos:\n",
    "        pond[y][x] = 'F'"
   ]
  },
  {
   "cell_type": "code",
   "execution_count": 16,
   "metadata": {},
   "outputs": [
    {
     "name": "stdout",
     "output_type": "stream",
     "text": [
      "...............\n",
      "...............\n",
      "...............\n",
      "...............\n",
      "...............\n",
      "........F......\n",
      "....F....F.....\n",
      "...............\n"
     ]
    }
   ],
   "source": [
    "fishy_pond = new_pond()\n",
    "put_3_fish(fishy_pond)\n",
    "print_pond(fishy_pond)"
   ]
  },
  {
   "cell_type": "code",
   "execution_count": 18,
   "metadata": {},
   "outputs": [],
   "source": [
    "# Task 4.4\n",
    "def place_pellet(pond):\n",
    "    x = int(input('X coordinate <1 to 15>? '))\n",
    "    y = int(input('Y coordinate <1 to 8>? '))\n",
    "    x -= 1\n",
    "    y -= 1\n",
    "    if pond[y][x] == 'F':\n",
    "        pond[y][x] = 'H'\n",
    "    else:\n",
    "        pond[y][x] = 'P'"
   ]
  },
  {
   "cell_type": "code",
   "execution_count": 22,
   "metadata": {},
   "outputs": [
    {
     "name": "stdout",
     "output_type": "stream",
     "text": [
      "...F...........\n",
      "...............\n",
      "...............\n",
      ".F.............\n",
      "...............\n",
      "F..............\n",
      "...............\n",
      "...............\n",
      "X coordinate <1 to 15>? 1\n",
      "Y coordinate <1 to 8>? 1\n",
      "P..F...........\n",
      "...............\n",
      "...............\n",
      ".F.............\n",
      "...............\n",
      "F..............\n",
      "...............\n",
      "...............\n"
     ]
    }
   ],
   "source": [
    "pond=new_pond()\n",
    "put_3_fish(pond)\n",
    "print_pond(pond)\n",
    "place_pellet(pond)\n",
    "print_pond(pond)"
   ]
  },
  {
   "cell_type": "code",
   "execution_count": null,
   "metadata": {},
   "outputs": [],
   "source": []
  }
 ],
 "metadata": {
  "kernelspec": {
   "display_name": "Python 3",
   "language": "python",
   "name": "python3"
  },
  "language_info": {
   "codemirror_mode": {
    "name": "ipython",
    "version": 3
   },
   "file_extension": ".py",
   "mimetype": "text/x-python",
   "name": "python",
   "nbconvert_exporter": "python",
   "pygments_lexer": "ipython3",
   "version": "3.6.4"
  }
 },
 "nbformat": 4,
 "nbformat_minor": 2
}
