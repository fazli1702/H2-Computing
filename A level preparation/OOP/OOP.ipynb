{
 "cells": [
  {
   "cell_type": "markdown",
   "metadata": {},
   "source": [
    "# Question 4-7 : A2019 P1Q3 "
   ]
  },
  {
   "cell_type": "code",
   "execution_count": 42,
   "metadata": {},
   "outputs": [],
   "source": [
    "class ToDo:\n",
    "    def __init__(self, c, d):\n",
    "        self.category = c\n",
    "        self.description = d\n",
    "    \n",
    "    def get_category(self):\n",
    "        return self.category\n",
    "    \n",
    "    def get_description(self):\n",
    "        return self.description\n",
    "    \n",
    "    def set_category(self, new):\n",
    "        self.category = new\n",
    "        \n",
    "    def set_description(self, new):\n",
    "        self.description = new\n",
    "        \n",
    "    def summary(self):\n",
    "        print('Category:', self.category)\n",
    "        print('Description:', self.description)\n",
    "        \n",
    "    def compare_with(self, td):\n",
    "        # compare category\n",
    "        if self.category < td.get_category():\n",
    "            return -1\n",
    "        \n",
    "        # within category\n",
    "        elif self.category == td.get_category():\n",
    "            if self.description < td.get_description():\n",
    "                return -1\n",
    "            elif self.description > td.get_description():\n",
    "                return 1\n",
    "            else:\n",
    "                return 0\n",
    "        \n",
    "        else:\n",
    "            return 1"
   ]
  },
  {
   "cell_type": "code",
   "execution_count": 36,
   "metadata": {},
   "outputs": [],
   "source": [
    "# TASK3_2.txt\n",
    "lst = [\n",
    "    ToDo(\"reading\", \"Try some Shakespeare\"),\n",
    "    ToDo(\"shopping\", \"Consider items to recycle\"),\n",
    "    ToDo(\"reading\", \"Search on the web\"),\n",
    "    ToDo(\"reading\", \"Go to the library\"),\n",
    "]"
   ]
  },
  {
   "cell_type": "code",
   "execution_count": 37,
   "metadata": {},
   "outputs": [],
   "source": [
    "# empty list\n",
    "todo = []\n",
    "for ele in lst:\n",
    "    # empty list\n",
    "    if len(todo) == 0:\n",
    "        todo.append(ele)\n",
    "    else:\n",
    "        add = False\n",
    "        for i in range(len(todo)):\n",
    "            if ele.compare_with(todo[i]) == -1:\n",
    "                todo.insert(i, ele)\n",
    "                add = True\n",
    "                break\n",
    "        if not add:\n",
    "            todo.append(ele)\n",
    "    "
   ]
  },
  {
   "cell_type": "code",
   "execution_count": 38,
   "metadata": {},
   "outputs": [
    {
     "name": "stdout",
     "output_type": "stream",
     "text": [
      "Category: reading\n",
      "Description: Go to the library\n",
      "None\n",
      "\n",
      "Category: reading\n",
      "Description: Search on the web\n",
      "None\n",
      "\n",
      "Category: reading\n",
      "Description: Try some Shakespeare\n",
      "None\n",
      "\n",
      "Category: shopping\n",
      "Description: Consider items to recycle\n",
      "None\n",
      "\n"
     ]
    }
   ],
   "source": [
    "for ele in todo:\n",
    "    print(ele.summary())\n",
    "    print()"
   ]
  },
  {
   "cell_type": "code",
   "execution_count": 39,
   "metadata": {},
   "outputs": [],
   "source": [
    "class DatedToDo(ToDo):\n",
    "    def __init__(self, dt, c, d):\n",
    "        super().__init__(c, d)\n",
    "        self.due_date = dt\n",
    "        \n",
    "    def get_due_date(self):\n",
    "        return self.due_date\n",
    "    \n",
    "    def set_due_date(self, new):\n",
    "        self.due_date = new\n",
    "        \n",
    "    def summary(self):\n",
    "        super().summary()\n",
    "        print('Due date:', self.due_date)\n",
    "        \n",
    "    def compare_with(self, td):\n",
    "        if self.due_date < td.get_due_date():\n",
    "            return -1\n",
    "        elif self.due_date == td.get_due_date():\n",
    "            super().compare_with()\n",
    "        else:\n",
    "            return 1"
   ]
  },
  {
   "cell_type": "code",
   "execution_count": 40,
   "metadata": {},
   "outputs": [],
   "source": [
    "# TASK3_3.txt\n",
    "lst2 = [\n",
    "    ToDo(\"reading\", \"Try some Shakespeare\"),\n",
    "    DatedToDo(\"2019-12-15\", \"shopping\", \"buy bread\"),\n",
    "    DatedToDo(\"2019-12-01\", \"reading\", \"read the newspaper\"),\n",
    "    ToDo(\"shopping\", \"Consider items to recycle\"),\n",
    "    ToDo(\"reading\", \"Search on the web\"),\n",
    "    DatedToDo(\"2019-11-21\", \"shopping\", \"buy lemons\"),\n",
    "    ToDo(\"reading\", \"Go to the library\")\n",
    "]"
   ]
  },
  {
   "cell_type": "code",
   "execution_count": 41,
   "metadata": {},
   "outputs": [],
   "source": [
    "todo2 = []\n",
    "for ele in lst2:\n",
    "    # empty list\n",
    "    if len(todo2) == 0:\n",
    "        todo2.append(ele)\n",
    "    else:\n",
    "        # check class of element\n",
    "        if type(ele) == type(ToDo('', '')):  # ToDo type\n",
    "            add = False\n",
    "            for i in range(len(todo2)):\n",
    "                if ele.compare_with(todo2[i]) == -1:\n",
    "                    todo2.insert(i, ele)\n",
    "                    add = True\n",
    "                    break\n",
    "            if not add:\n",
    "                todo2.append(ele)\n",
    "                \n",
    "        else:   # DatedToDo type\n",
    "            add = False\n",
    "            for i in range(len(todo2)):\n",
    "                \n",
    "                if type(todo2[i]) == type(ToDo('','')):\n",
    "                    if todo2[i].compare_with(ele) == 1:\n",
    "                        todo2.insert(i, ele)\n",
    "                        add = True\n",
    "                        break\n",
    "                \n",
    "                else:\n",
    "                    if ele.compare_with(todo2[i]) == -1:\n",
    "                        todo2.insert(i, ele)\n",
    "                        add = True\n",
    "                        break\n",
    "            \n",
    "            if not add:\n",
    "                todo2.append(ele)\n",
    "        \n",
    "        "
   ]
  },
  {
   "cell_type": "code",
   "execution_count": 34,
   "metadata": {},
   "outputs": [
    {
     "name": "stdout",
     "output_type": "stream",
     "text": [
      "Category: reading\n",
      "Description: Go to the library\n",
      "None\n",
      "---------------\n",
      "Category: reading\n",
      "Description: Search on the web\n",
      "None\n",
      "---------------\n",
      "Category: reading\n",
      "Description: Try some Shakespeare\n",
      "None\n",
      "---------------\n",
      "Category: shopping\n",
      "Description: buy lemons\n",
      "Due date: 2019-11-21\n",
      "None\n",
      "---------------\n",
      "Category: reading\n",
      "Description: read the newspaper\n",
      "Due date: 2019-12-01\n",
      "None\n",
      "---------------\n",
      "Category: shopping\n",
      "Description: Consider items to recycle\n",
      "None\n",
      "---------------\n",
      "Category: shopping\n",
      "Description: buy bread\n",
      "Due date: 2019-12-15\n",
      "None\n",
      "---------------\n"
     ]
    }
   ],
   "source": [
    "for ele in todo2:\n",
    "    print(ele.summary())\n",
    "    print('---------------')"
   ]
  },
  {
   "cell_type": "code",
   "execution_count": 43,
   "metadata": {},
   "outputs": [],
   "source": [
    "# TASK3_4.txt\n",
    "lst3 = [\n",
    "    ToDo(\"reading\", \"Try some Shakespeare\"),\n",
    "    ToDo(\"shopping\", \"buy bread\"),\n",
    "    DatedToDo(\"2019-11-21\", \"shopping\", \"buy lemons\"),\n",
    "    ToDo(\"watching\", \"Go to the cinema\")\n",
    "]"
   ]
  },
  {
   "cell_type": "code",
   "execution_count": null,
   "metadata": {},
   "outputs": [],
   "source": []
  }
 ],
 "metadata": {
  "kernelspec": {
   "display_name": "Python 3",
   "language": "python",
   "name": "python3"
  },
  "language_info": {
   "codemirror_mode": {
    "name": "ipython",
    "version": 3
   },
   "file_extension": ".py",
   "mimetype": "text/x-python",
   "name": "python",
   "nbconvert_exporter": "python",
   "pygments_lexer": "ipython3",
   "version": "3.6.4"
  }
 },
 "nbformat": 4,
 "nbformat_minor": 2
}
