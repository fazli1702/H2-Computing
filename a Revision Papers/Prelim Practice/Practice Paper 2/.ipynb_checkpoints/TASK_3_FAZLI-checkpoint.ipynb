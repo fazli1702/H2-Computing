{
 "cells": [
  {
   "cell_type": "markdown",
   "metadata": {},
   "source": [
    "# Task 3\n",
    "- DHS 2015 P1Q3"
   ]
  },
  {
   "cell_type": "code",
   "execution_count": 5,
   "metadata": {},
   "outputs": [
    {
     "name": "stdout",
     "output_type": "stream",
     "text": [
      "3\n",
      "3\n"
     ]
    }
   ],
   "source": [
    "# Task 3.1\n",
    "\n",
    "def ISBN_Check_Digit(isbn):\n",
    "    temp = ''\n",
    "    for ele in isbn:\n",
    "        if ele.isdigit():\n",
    "            temp += ele\n",
    "    isbn = temp\n",
    "    \n",
    "    # isbn-10\n",
    "    if len(isbn) == 10:\n",
    "        check_digit = 0\n",
    "        for i in range(9):\n",
    "            check_digit += (int(isbn[i]) * (i+1))\n",
    "        check_digit %= 11\n",
    "        if check_digit == 10:\n",
    "            return 'X'\n",
    "        return check_digit\n",
    "                \n",
    "    # isbn-13\n",
    "    else:\n",
    "        n = 1\n",
    "        check_digit = 0\n",
    "        for i in range(12):\n",
    "            check_digit += (n * int(isbn[i]))\n",
    "            n = 3 if n == 1 else 3\n",
    "        check_digit %= 10\n",
    "        if check_digit != 0:\n",
    "            check_digit = 10 - check_digit\n",
    "        return check_digit\n",
    "            \n",
    "            \n",
    "print(ISBN_Check_Digit('0-07-063546'))\n",
    "print(ISBN_Check_Digit('978-0-07-063546'))"
   ]
  },
  {
   "cell_type": "code",
   "execution_count": 8,
   "metadata": {},
   "outputs": [
    {
     "name": "stdout",
     "output_type": "stream",
     "text": [
      "False\n",
      "True\n"
     ]
    }
   ],
   "source": [
    "# Task 3.2\n",
    "def Valid_ISBN(isbn):\n",
    "    return ISBN_Check_Digit(isbn) == int(isbn[-1])\n",
    "\n",
    "print(Valid_ISBN('0-07-063546-5'))\n",
    "print(Valid_ISBN('978-0-07-063546-3'))"
   ]
  },
  {
   "cell_type": "code",
   "execution_count": 14,
   "metadata": {},
   "outputs": [
    {
     "name": "stdout",
     "output_type": "stream",
     "text": [
      "97819044675202\n"
     ]
    }
   ],
   "source": [
    "# Task 3.3\n",
    "def ISBN10_To_ISBN13(isbn):\n",
    "    new_isbn = '978' + isbn\n",
    "    check_digit = ISBN_Check_Digit(new_isbn)\n",
    "    new_isbn += str(check_digit)\n",
    "    return new_isbn\n",
    "\n",
    "print(ISBN10_To_ISBN13('1904467520'))"
   ]
  },
  {
   "cell_type": "code",
   "execution_count": 20,
   "metadata": {},
   "outputs": [
    {
     "name": "stdout",
     "output_type": "stream",
     "text": [
      "07487404685\n"
     ]
    }
   ],
   "source": [
    "# Task 3.4\n",
    "def ISBN13_To_ISBN10(isbn):\n",
    "    new_isbn = isbn[3:]\n",
    "    check_digit = ISBN_Check_Digit(new_isbn)\n",
    "    new_isbn += str(check_digit)\n",
    "    return new_isbn\n",
    "\n",
    "print(ISBN13_To_ISBN10('9780748740468'))"
   ]
  },
  {
   "cell_type": "code",
   "execution_count": 21,
   "metadata": {},
   "outputs": [],
   "source": [
    "# Task 3.5\n",
    "\n",
    "# after 3 years, total books = 200 * (1.10)^3 = 266 (nearest int)\n",
    "\n",
    "def Hash_Key(isbn):\n",
    "    _hash = 0\n",
    "    \n",
    "    # multiply each element by index + 1\n",
    "    for i, ele in enumerate(isbn):\n",
    "        _hash += ((i+1) * int(ele))\n",
    "    _hash %= 266 # modulo 266 as max books is 266\n",
    "    \n",
    "    return _hash"
   ]
  },
  {
   "cell_type": "code",
   "execution_count": null,
   "metadata": {},
   "outputs": [],
   "source": [
    "# Task 3.6\n",
    "\n",
    "def Insert_Book(isbn):\n",
    "    pass\n",
    "\n",
    "def Lookup_Book(isbn):\n",
    "    pass"
   ]
  }
 ],
 "metadata": {
  "kernelspec": {
   "display_name": "Python 3",
   "language": "python",
   "name": "python3"
  },
  "language_info": {
   "codemirror_mode": {
    "name": "ipython",
    "version": 3
   },
   "file_extension": ".py",
   "mimetype": "text/x-python",
   "name": "python",
   "nbconvert_exporter": "python",
   "pygments_lexer": "ipython3",
   "version": "3.6.4"
  }
 },
 "nbformat": 4,
 "nbformat_minor": 2
}
