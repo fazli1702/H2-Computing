{
 "cells": [
  {
   "cell_type": "markdown",
   "metadata": {},
   "source": [
    "# Task 2\n",
    "- HCI 2020 MYE P2Q2"
   ]
  },
  {
   "cell_type": "code",
   "execution_count": 1,
   "metadata": {},
   "outputs": [],
   "source": [
    "# Task 2.1\n",
    "def isPrime(n):\n",
    "    if n <= 1:\n",
    "        return False\n",
    "    \n",
    "    for i in range(2, n):\n",
    "        if n % i == 0:\n",
    "            return False\n",
    "    return True"
   ]
  },
  {
   "cell_type": "code",
   "execution_count": 3,
   "metadata": {},
   "outputs": [
    {
     "name": "stdout",
     "output_type": "stream",
     "text": [
      "2\n",
      "3\n",
      "5\n",
      "7\n",
      "11\n",
      "13\n",
      "17\n",
      "19\n",
      "23\n",
      "29\n",
      "31\n",
      "37\n",
      "41\n",
      "43\n",
      "47\n",
      "53\n",
      "59\n",
      "61\n",
      "67\n",
      "71\n",
      "73\n",
      "79\n",
      "83\n",
      "89\n",
      "97\n",
      "Total prime numbers: 25\n"
     ]
    }
   ],
   "source": [
    "# Task 2.2\n",
    "def main():\n",
    "    counter = 0\n",
    "    for n in range(100):\n",
    "        if isPrime(n):\n",
    "            print(n)\n",
    "            counter += 1\n",
    "    print('Total prime numbers:', counter)\n",
    "    \n",
    "\n",
    "main()"
   ]
  },
  {
   "cell_type": "code",
   "execution_count": 24,
   "metadata": {},
   "outputs": [
    {
     "name": "stdout",
     "output_type": "stream",
     "text": [
      "2\n",
      "3\n",
      "5\n",
      "7\n",
      "11\n",
      "13\n",
      "17\n",
      "19\n",
      "23\n",
      "29\n",
      "31\n",
      "37\n",
      "41\n",
      "43\n",
      "47\n",
      "53\n",
      "59\n",
      "61\n",
      "67\n",
      "71\n",
      "73\n",
      "79\n",
      "83\n",
      "89\n",
      "97\n"
     ]
    }
   ],
   "source": [
    "def isPrimeRange(n):\n",
    "    prime = [i if i >= 2 else 0 for i in range(n+1)] # intialise list & remove 0 and 1\n",
    "    p = 2\n",
    "    old_p = [2]\n",
    "    for j in range(n):\n",
    "        \n",
    "        # remove multiples of p\n",
    "        for i in range(n+1):\n",
    "            if prime[i] % p == 0 and prime[i] != p:\n",
    "                prime[i] = 0\n",
    "            \n",
    "        # find new p\n",
    "        for ele in prime:\n",
    "            if ele != 0 and p != ele and ele not in old_p:\n",
    "                old_p.append(p)\n",
    "                p = ele\n",
    "                break\n",
    "            \n",
    "    return prime\n",
    "\n",
    "\n",
    "\n",
    "def main():\n",
    "    prime = isPrimeRange(100)\n",
    "    for ele in prime:\n",
    "        if ele != 0:\n",
    "            print(ele)\n",
    "        \n",
    "main()"
   ]
  },
  {
   "cell_type": "code",
   "execution_count": null,
   "metadata": {},
   "outputs": [],
   "source": []
  }
 ],
 "metadata": {
  "kernelspec": {
   "display_name": "Python 3",
   "language": "python",
   "name": "python3"
  },
  "language_info": {
   "codemirror_mode": {
    "name": "ipython",
    "version": 3
   },
   "file_extension": ".py",
   "mimetype": "text/x-python",
   "name": "python",
   "nbconvert_exporter": "python",
   "pygments_lexer": "ipython3",
   "version": "3.6.4"
  }
 },
 "nbformat": 4,
 "nbformat_minor": 2
}
