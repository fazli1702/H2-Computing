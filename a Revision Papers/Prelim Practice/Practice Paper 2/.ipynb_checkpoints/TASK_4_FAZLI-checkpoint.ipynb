{
 "cells": [
  {
   "cell_type": "markdown",
   "metadata": {},
   "source": [
    "# Task 3 / Question 4\n",
    "- NYJC 2020 MYE P2Q3 [19 marks]"
   ]
  },
  {
   "cell_type": "code",
   "execution_count": 20,
   "metadata": {},
   "outputs": [],
   "source": [
    "# Task 3.1\n",
    "class Queue:\n",
    "    def __init__(self):\n",
    "        self.queue = []\n",
    "        \n",
    "    def enqueue(self, value):\n",
    "        if self.length() < 10:\n",
    "            self.queue.append(value)\n",
    "        else:\n",
    "            print('No space for new job')\n",
    "        \n",
    "    def dequeue(self):\n",
    "        return self.queue.pop(0)\n",
    "    \n",
    "    def length(self):\n",
    "        return len(self.queue)\n",
    "    \n",
    "    def display(self):\n",
    "        for job in self.queue:\n",
    "            job.display()\n",
    "    \n",
    "class printJob:\n",
    "    def __init__(self, userID, terminalNum, jobType, size):\n",
    "        self.userID = userID\n",
    "        self.terminalNum = terminalNum\n",
    "        self.jobType = jobType\n",
    "        self.size = size\n",
    "\n",
    "    def display(self):\n",
    "        print('User ID:', self.userID)\n",
    "        print('Terminal Number:', self.terminalNum)\n",
    "        print('Job Type:', self.jobType)\n",
    "        print('File Size:', self.size)\n",
    "        print()"
   ]
  },
  {
   "cell_type": "code",
   "execution_count": 30,
   "metadata": {},
   "outputs": [],
   "source": [
    "# Task 3.2\n",
    "def main():\n",
    "    printQueue = Queue()\n",
    "    while True:\n",
    "        print('1. Add print job to print queue')\n",
    "        print('2. Output next print job from printer')\n",
    "        print('3. Display current print queue (all jobs in queue)')\n",
    "        print('4. End simulation')\n",
    "        print()\n",
    "        \n",
    "        choice = input('Enter your choice: ')\n",
    "        print()\n",
    "        \n",
    "        if choice == '1':\n",
    "            add(printQueue)\n",
    "        \n",
    "        elif choice == '2':\n",
    "            print('Next print job:')\n",
    "            printQueue.dequeue().display()\n",
    "            print()\n",
    "        \n",
    "        elif choice == '3':\n",
    "            print('Current print queue:')\n",
    "            printQueue.display()\n",
    "            print()\n",
    "        \n",
    "        elif choice == '4':\n",
    "            break\n"
   ]
  },
  {
   "cell_type": "code",
   "execution_count": 31,
   "metadata": {},
   "outputs": [],
   "source": [
    "# Task 3.3\n",
    "Comp_Lab2 = Queue()\n",
    "Comp_Lab2.display()"
   ]
  },
  {
   "cell_type": "code",
   "execution_count": 32,
   "metadata": {},
   "outputs": [
    {
     "name": "stdout",
     "output_type": "stream",
     "text": [
      "1. Add print job to print queue\n",
      "2. Output next print job from printer\n",
      "3. Display current print queue (all jobs in queue)\n",
      "4. End simulation\n",
      "\n",
      "Enter your choice: 1\n",
      "\n",
      "User ID:1\n",
      "Terminal Number:1\n",
      "Job Type <C/B>:b\n",
      "File size <Kb>:123\n",
      "1. Add print job to print queue\n",
      "2. Output next print job from printer\n",
      "3. Display current print queue (all jobs in queue)\n",
      "4. End simulation\n",
      "\n",
      "Enter your choice: 1\n",
      "\n",
      "User ID:2\n",
      "Terminal Number:2\n",
      "Job Type <C/B>:b\n",
      "File size <Kb>:123425\n",
      "1. Add print job to print queue\n",
      "2. Output next print job from printer\n",
      "3. Display current print queue (all jobs in queue)\n",
      "4. End simulation\n",
      "\n",
      "Enter your choice: 1\n",
      "\n",
      "User ID:3\n",
      "Terminal Number:3\n",
      "Job Type <C/B>:c\n",
      "File size <Kb>:876543\n",
      "1. Add print job to print queue\n",
      "2. Output next print job from printer\n",
      "3. Display current print queue (all jobs in queue)\n",
      "4. End simulation\n",
      "\n",
      "Enter your choice: 2\n",
      "\n",
      "Next print job:\n",
      "User ID: 1\n",
      "Terminal Number: 1\n",
      "Job Type: B\n",
      "File Size: 123\n",
      "\n",
      "1. Add print job to print queue\n",
      "2. Output next print job from printer\n",
      "3. Display current print queue (all jobs in queue)\n",
      "4. End simulation\n",
      "\n",
      "Enter your choice: 4\n",
      "\n"
     ]
    }
   ],
   "source": [
    "# Task 3.4\n",
    "def add(queue):\n",
    "    userID = input('User ID:')\n",
    "    terminalNum = input('Terminal Number:')\n",
    "    jobType = input('Job Type <C/B>:').upper()\n",
    "    size = input('File size <Kb>:')\n",
    "    \n",
    "    newJob = printJob(userID, terminalNum, jobType, size)\n",
    "    queue.enqueue(newJob)\n",
    "    \n",
    "    \n",
    "main()"
   ]
  },
  {
   "cell_type": "code",
   "execution_count": null,
   "metadata": {},
   "outputs": [],
   "source": []
  },
  {
   "cell_type": "code",
   "execution_count": null,
   "metadata": {},
   "outputs": [],
   "source": []
  }
 ],
 "metadata": {
  "kernelspec": {
   "display_name": "Python 3",
   "language": "python",
   "name": "python3"
  },
  "language_info": {
   "codemirror_mode": {
    "name": "ipython",
    "version": 3
   },
   "file_extension": ".py",
   "mimetype": "text/x-python",
   "name": "python",
   "nbconvert_exporter": "python",
   "pygments_lexer": "ipython3",
   "version": "3.6.4"
  }
 },
 "nbformat": 4,
 "nbformat_minor": 2
}
