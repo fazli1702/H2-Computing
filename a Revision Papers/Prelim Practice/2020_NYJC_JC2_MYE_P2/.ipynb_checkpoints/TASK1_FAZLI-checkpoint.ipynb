{
 "cells": [
  {
   "cell_type": "code",
   "execution_count": 18,
   "metadata": {},
   "outputs": [
    {
     "name": "stdout",
     "output_type": "stream",
     "text": [
      "Enter cipher key:Zebras\n",
      "6 3 2 4 1 5\n"
     ]
    }
   ],
   "source": [
    "#Task 1.1\n",
    "\n",
    "def GenerateKeyOrder(Cipherkey):\n",
    "    if len(Cipherkey) == 1:\n",
    "        return Cipherkey\n",
    "    Cipherkey = Cipherkey.upper()\n",
    "    lst = [ele for ele in Cipherkey]\n",
    "    lst.sort()\n",
    "    cipherDic = {}\n",
    "    for i in range(len(lst)):\n",
    "        cipherDic[lst[i]] = i + 1\n",
    "\n",
    "    output = ''\n",
    "    for ele in Cipherkey:\n",
    "        output += str(cipherDic[ele]) + ' '\n",
    "        \n",
    "    return output.strip()\n",
    "\n",
    "\n",
    "def main():\n",
    "    while True:\n",
    "        key = input('Enter cipher key:')\n",
    "        if len(key) > 10:\n",
    "            print('Please enter not more than 10 characters')\n",
    "        else:\n",
    "            flag = False\n",
    "            for ele in key:\n",
    "                if not ele.isalpha():\n",
    "                    print('Please enter a letter (A-Z/a-z)')\n",
    "                    flag = True\n",
    "                    \n",
    "            if not flag:\n",
    "                break\n",
    "                \n",
    "    print(GenerateKeyOrder(key))\n",
    "    \n",
    "\n",
    "main()"
   ]
  },
  {
   "cell_type": "code",
   "execution_count": 3,
   "metadata": {},
   "outputs": [
    {
     "name": "stdout",
     "output_type": "stream",
     "text": [
      "WEARED\n",
      "ISCOVE\n",
      "REDFLE\n",
      "EATONC\n",
      "E\n",
      "\n"
     ]
    }
   ],
   "source": [
    "# Task 1.2\n",
    "with open('Message.txt') as f:\n",
    "    data = f.readlines()\n",
    "    temp = data[0]\n",
    "    message = ''\n",
    "    for ele in temp:\n",
    "        if ele != ' ' and ele != '.':\n",
    "            message += ele\n",
    "            \n",
    "            \n",
    "def getRowColumn(message, key):\n",
    "    n = len(message)\n",
    "    row = len(key)\n",
    "    col = n // row\n",
    "    if n % row != 0:\n",
    "        col += 1\n",
    "\n",
    "    return (row, col)\n",
    "    \n",
    "    \n",
    "def createTable(message, key):\n",
    "    row, col = getRowColumn(message, key)\n",
    "    table = ['' for i in range(row)]\n",
    "    for i in range(row):\n",
    "        temp = message[i:i+row]\n",
    "        newKey = GenerateKeyOrder(temp)\n",
    "        if len(newKey) != row:\n",
    "            n = len(newKey) - row\n",
    "            newKey += (' !' * n)\n",
    "        \n",
    "        table\n",
    "        \n",
    "    \n",
    "    \n",
    "createTable(message, 'Zebras')        "
   ]
  },
  {
   "cell_type": "code",
   "execution_count": null,
   "metadata": {},
   "outputs": [],
   "source": []
  }
 ],
 "metadata": {
  "kernelspec": {
   "display_name": "Python 3",
   "language": "python",
   "name": "python3"
  },
  "language_info": {
   "codemirror_mode": {
    "name": "ipython",
    "version": 3
   },
   "file_extension": ".py",
   "mimetype": "text/x-python",
   "name": "python",
   "nbconvert_exporter": "python",
   "pygments_lexer": "ipython3",
   "version": "3.6.4"
  }
 },
 "nbformat": 4,
 "nbformat_minor": 2
}
