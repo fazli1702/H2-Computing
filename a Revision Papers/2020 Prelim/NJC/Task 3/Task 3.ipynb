{
 "cells": [
  {
   "cell_type": "code",
   "execution_count": 17,
   "metadata": {},
   "outputs": [],
   "source": [
    "# Task 3.1\n",
    "\n",
    "# Patient and Visitor class\n",
    "\n",
    "class Visitor:\n",
    "    def __init__(self, name, contactNumber, temperature):\n",
    "        self.name = name\n",
    "        self.contactNumber = contactNumber\n",
    "        self.temperature = temperature\n",
    "        self.timeStamp = ''\n",
    "        \n",
    "    def getName(self):\n",
    "        return self.name\n",
    "    \n",
    "    def getContact(self):\n",
    "        return self.contactNumber\n",
    "    \n",
    "    def getTemperature(self):\n",
    "        return self.temperature\n",
    "    \n",
    "    def setTimeStamp(self, n):\n",
    "        self.TimeStamp = n\n",
    "    \n",
    "    def __str__(self):\n",
    "        return f'{self.name}:{self.temperature}'\n",
    "\n",
    "        \n",
    "class Patient:\n",
    "    def __init__(self, name, NRIC):\n",
    "        self.name = name\n",
    "        self.NRIC = NRIC\n",
    "    \n",
    "    def getName(self):\n",
    "        return self.name\n",
    "    \n",
    "    def getNRIC(self):\n",
    "        return self.NRIC\n",
    "    \n",
    "    def __str__(self):\n",
    "        return self.name"
   ]
  },
  {
   "cell_type": "code",
   "execution_count": 18,
   "metadata": {},
   "outputs": [
    {
     "name": "stdout",
     "output_type": "stream",
     "text": [
      "Lynna Carine Abbott:37.5 Norby:35.6\n"
     ]
    }
   ],
   "source": [
    "# Task 3.2\n",
    "v1 = Visitor(\"Abbott\",\"955-505-11\",37.5)\n",
    "v2 = Visitor(\"Norby\",\"955-535-82\",35.6)\n",
    "p1 = Patient(\"Lynna\",\"S1849733F\")\n",
    "p2 = Patient(\"Carine\",\"T6884733D\")\n",
    "print(p1,p2,v1,v2)"
   ]
  },
  {
   "cell_type": "code",
   "execution_count": null,
   "metadata": {},
   "outputs": [],
   "source": [
    "# Task 3.3\n",
    "\n",
    "class Queue:\n",
    "    def __init__(self):\n",
    "        self.buffer = []\n",
    "        \n",
    "    def enqueue(self, visitor):\n",
    "        self.buffer.append(visitor)\n",
    "    \n",
    "    def dequeue(self):\n",
    "        return self.buffer.pop(0)\n",
    "    \n",
    "    def peekMaxTemp(self):\n",
    "        if self.buffer == []:\n",
    "            return None\n",
    "        else:\n",
    "            \n",
    "    \n",
    "    def __str__(self):\n",
    "        pass\n",
    "        \n",
    "        "
   ]
  }
 ],
 "metadata": {
  "kernelspec": {
   "display_name": "Python 3",
   "language": "python",
   "name": "python3"
  },
  "language_info": {
   "codemirror_mode": {
    "name": "ipython",
    "version": 3
   },
   "file_extension": ".py",
   "mimetype": "text/x-python",
   "name": "python",
   "nbconvert_exporter": "python",
   "pygments_lexer": "ipython3",
   "version": "3.6.4"
  }
 },
 "nbformat": 4,
 "nbformat_minor": 2
}
