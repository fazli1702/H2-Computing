{
 "cells": [
  {
   "cell_type": "code",
   "execution_count": 14,
   "metadata": {},
   "outputs": [
    {
     "name": "stdout",
     "output_type": "stream",
     "text": [
      "Choose the length of word to guess:[1 to 11]4\n"
     ]
    },
    {
     "data": {
      "text/plain": [
       "'know'"
      ]
     },
     "execution_count": 14,
     "metadata": {},
     "output_type": "execute_result"
    }
   ],
   "source": [
    "# Task 1.1\n",
    "import random\n",
    "\n",
    "\n",
    "def read():\n",
    "    with open('WORDS.TXT') as f:\n",
    "        data = f.readlines()\n",
    "        words = {}\n",
    "        minim = maxim = 0\n",
    "        for ele in data:\n",
    "            ele = ele.strip()\n",
    "            minim = len(ele)  # give temp value \n",
    "            maxim = len(ele)  # give temp value\n",
    "            if len(ele) not in words:\n",
    "                words[len(ele)] = [ele]\n",
    "            else:\n",
    "                words[len(ele)] += [ele]\n",
    "\n",
    "\n",
    "    for k, v in words.items():\n",
    "        if k < minim:\n",
    "            minim = k\n",
    "        if k > maxim:\n",
    "            maxim = k\n",
    "            \n",
    "    return maxim, minim, words\n",
    "        \n",
    "\n",
    "def getSecret():\n",
    "    maxim, minim, words = read()\n",
    "    user_len = int(input(f'Choose the length of word to guess:[{minim} to {maxim}]'))\n",
    "    secretWord = random.choice(words[user_len])\n",
    "    return secretWord\n",
    "\n"
   ]
  },
  {
   "cell_type": "code",
   "execution_count": 24,
   "metadata": {},
   "outputs": [],
   "source": [
    "# Task 1.2\n",
    "def main():\n",
    "    secretWord = getSecret()\n",
    "    guessCount = len(secretWord) * 2\n",
    "    \n",
    "    userWord = ['.' for i in range(len(secretWord))]\n",
    "    \n",
    "    guess = False  # flag\n",
    "    print(f'You have {guessCount} attempts. Good Luck!')\n",
    "    \n",
    "    for i in range(guessCount, 0, -1):\n",
    "        print(''.join(userWord))\n",
    "        \n",
    "        userLetter = input(f'[{i}]Guess letter:')\n",
    "        for i, ele in enumerate(secretWord):\n",
    "            if userLetter == ele:\n",
    "                userWord[i] = ele\n",
    "                break\n",
    "                \n",
    "        if ''.join(userWord) == secretWord:\n",
    "            guess = True\n",
    "            break\n",
    "    \n",
    "    print(''.join(userWord))\n",
    "    if guess:\n",
    "        print('WIN')\n",
    "    else:\n",
    "        print('LOSE..The word is ' + secretWord)\n",
    "\n"
   ]
  },
  {
   "cell_type": "code",
   "execution_count": null,
   "metadata": {},
   "outputs": [],
   "source": [
    "# Task 1.3\n",
    "# Task 1.2\n",
    "def main():\n",
    "    secretWord = getSecret()\n",
    "    guessCount = len(secretWord) * 2\n",
    "    n\n",
    "    \n",
    "    userWord = ['.' for i in range(len(secretWord))]\n",
    "    \n",
    "    guess = False  # flag\n",
    "    print(f'You have {guessCount} attempts. Good Luck!')\n",
    "    \n",
    "    for i in range(guessCount, 0, -1):\n",
    "        print(''.join(userWord))\n",
    "        \n",
    "        userLetter = input(f'[{i}]Guess letter:')\n",
    "        for i, ele in enumerate(secretWord):\n",
    "            if userLetter == ele:\n",
    "                userWord[i] = ele\n",
    "                break\n",
    "                \n",
    "        if ''.join(userWord) == secretWord:\n",
    "            guess = True\n",
    "            break\n",
    "    \n",
    "    print(''.join(userWord))\n",
    "    if guess:\n",
    "        print('WIN')\n",
    "    else:\n",
    "        print('LOSE..The word is ' + secretWord)"
   ]
  }
 ],
 "metadata": {
  "kernelspec": {
   "display_name": "Python 3",
   "language": "python",
   "name": "python3"
  },
  "language_info": {
   "codemirror_mode": {
    "name": "ipython",
    "version": 3
   },
   "file_extension": ".py",
   "mimetype": "text/x-python",
   "name": "python",
   "nbconvert_exporter": "python",
   "pygments_lexer": "ipython3",
   "version": "3.6.4"
  }
 },
 "nbformat": 4,
 "nbformat_minor": 2
}
