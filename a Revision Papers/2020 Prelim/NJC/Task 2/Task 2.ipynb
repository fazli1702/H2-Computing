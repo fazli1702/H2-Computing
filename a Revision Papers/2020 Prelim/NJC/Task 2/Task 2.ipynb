{
 "cells": [
  {
   "cell_type": "code",
   "execution_count": 22,
   "metadata": {},
   "outputs": [],
   "source": [
    "# Task 2.1\n",
    "\n",
    "import json\n",
    "\n",
    "def isInside(restaurants, r):\n",
    "    for ele in restaurants:\n",
    "        if ele[0] == r:\n",
    "            return True\n",
    "    return False\n",
    "\n",
    "def read():\n",
    "    with open('RESTAURANTS.JSON') as f:\n",
    "        data = json.load(f)\n",
    "        restaurants = []\n",
    "        for ele in data:\n",
    "            if not isInside(restaurants, ele['name']):\n",
    "                name = ele['name']\n",
    "\n",
    "                if type(ele['rating']) == str:  # no rating\n",
    "                    restaurants.append([ele['name'], 0])\n",
    "                else:  # have rating\n",
    "                    restaurants.append([ele['name'], ele['rating']])\n",
    "                    \n",
    "    return restaurants"
   ]
  },
  {
   "cell_type": "code",
   "execution_count": 23,
   "metadata": {},
   "outputs": [
    {
     "data": {
      "text/plain": [
       "[['007 Takeaway', 6],\n",
       " ['@Indian.com', 6],\n",
       " ['9th Avenue Pizzeria', 5.5],\n",
       " ['7 Star Spices', 5.5],\n",
       " ['7 STAR Pizza', 5.5],\n",
       " ['7 & One', 5.5],\n",
       " ['64 Pizzeria', 5.5],\n",
       " ['4 in Love', 5.5],\n",
       " ['350 Wok', 5.5],\n",
       " ['321 Pizzas, Kebabs & Burgers', 5.5],\n",
       " ['2 Treat U', 5.5],\n",
       " ['2 Spice', 5.5],\n",
       " ['2 for 1 Pizza Place', 5.5],\n",
       " ['2 4 1 Pizza', 5.5],\n",
       " ['168 Chinese & Cantonese Takeaway', 5.5],\n",
       " ['1498 The Spice Affair', 5.5],\n",
       " ['113 Fish Bar', 5.5],\n",
       " ['@ Thai', 5.5],\n",
       " ['A & G Kitchen', 5],\n",
       " ['9th Kitchen', 5],\n",
       " ['9 Inch CFC', 5],\n",
       " ['888 Triple Eight', 5],\n",
       " ['888 Chinese Takeaway', 5],\n",
       " ['88 Chinese', 5],\n",
       " ['7 Spices', 5],\n",
       " ['62 Worksop Fish Bar', 5],\n",
       " ['5 Star Fish Bar', 5],\n",
       " ['5 Star Chinese', 5],\n",
       " ['5 In 1 Takeaway', 5],\n",
       " ['4 Seasons Pizza & Grill', 5],\n",
       " ['4 in 1 Express', 5],\n",
       " ['333 Chinese Takeaway', 5],\n",
       " ['328 Chinese Online', 5],\n",
       " ['3 In 1 Dunoon', 5],\n",
       " ['241 Pizza', 5],\n",
       " ['23rd Street Pizza', 5],\n",
       " ['1A Wok', 5],\n",
       " ['109 Ristorante', 5],\n",
       " ['104 Turkish BBQ', 5],\n",
       " ['100 Menu', 5],\n",
       " ['100 Degrees Chinese Restaurant', 5],\n",
       " ['.CN Chinese', 5],\n",
       " ['A Cake A Shake', 4.5],\n",
       " ['A & T Mundi House', 4.5],\n",
       " ['700 Degrees', 4.5],\n",
       " ['7 Spices Takeaway', 4.5],\n",
       " ['7 Oaks Grill', 4.5],\n",
       " ['57 Orient Takeaway', 4.5],\n",
       " ['555 Pizza & Kebab', 4.5],\n",
       " ['555 Pizza', 4.5],\n",
       " [\"5 'N' 1\", 4.5],\n",
       " ['333 Chinese Takeaway1', 4.5],\n",
       " ['3 in 1 Indian & Chipshop Barrhead', 4.5],\n",
       " ['3 Chefs', 4.5],\n",
       " ['3 Chef Fish Bar', 4.5],\n",
       " ['2-4-1 Pizza', 4.5],\n",
       " ['1st Class Pizza', 4.5],\n",
       " ['1 2 3 Chinese', 4.5],\n",
       " ['@ Thai Restaurant', 4.5],\n",
       " ['88 Noodle Bar', 4],\n",
       " ['555 Hot Curry', 4],\n",
       " ['4500 Miles From Delhi', 4],\n",
       " ['3 In 1 Xtra', 4],\n",
       " ['1st Class Pizza & Kebab House', 4],\n",
       " ['1st Choice Pizza', 4],\n",
       " ['1pizza1', 4],\n",
       " ['042 Restaurant & Bar', 3],\n",
       " ['5 Star Pizza', 2.5],\n",
       " ['280 Degrees African & Nigerian Restaurant', 2.5],\n",
       " ['5 Star Falafel @ GH Butchers', 0],\n",
       " ['4550 Miles From Delhi - Collection Only', 0],\n",
       " ['133 Takeaway', 0]]"
      ]
     },
     "execution_count": 23,
     "metadata": {},
     "output_type": "execute_result"
    }
   ],
   "source": [
    "# Task 2.2\n",
    "\n",
    "# merge sort descending\n",
    "\n",
    "def mergeSort(lst):\n",
    "    if len(lst) <= 1:\n",
    "        return lst\n",
    "    \n",
    "    mid = len(lst) // 2\n",
    "    left = lst[:mid]\n",
    "    right = lst[mid:]\n",
    "    \n",
    "    return merge(mergeSort(left), mergeSort(right))\n",
    "\n",
    "def merge(left, right):\n",
    "    lst = []\n",
    "    while len(left) != 0 and len(right) != 0:\n",
    "        if left[0][1] > right[0][1]:\n",
    "            lst.append(left.pop(0))\n",
    "        else:\n",
    "            lst.append(right.pop(0))\n",
    "            \n",
    "    if len(left) != 0:\n",
    "        lst += left\n",
    "        \n",
    "    if len(right) != 0:\n",
    "        lst += right\n",
    "        \n",
    "    return lst\n",
    "        "
   ]
  },
  {
   "cell_type": "code",
   "execution_count": 24,
   "metadata": {},
   "outputs": [
    {
     "data": {
      "text/plain": [
       "[['007 Takeaway', 6],\n",
       " ['@Indian.com', 6],\n",
       " ['9th Avenue Pizzeria', 5.5],\n",
       " ['7 Star Spices', 5.5],\n",
       " ['7 STAR Pizza', 5.5],\n",
       " ['7 & One', 5.5],\n",
       " ['64 Pizzeria', 5.5],\n",
       " ['4 in Love', 5.5],\n",
       " ['350 Wok', 5.5],\n",
       " ['321 Pizzas, Kebabs & Burgers', 5.5]]"
      ]
     },
     "execution_count": 24,
     "metadata": {},
     "output_type": "execute_result"
    }
   ],
   "source": [
    "# Task 2.3\n",
    "restaurants = read()\n",
    "sortedRestaurants = mergeSort(restaurants)\n",
    "sortedRestaurants[:10]"
   ]
  },
  {
   "cell_type": "code",
   "execution_count": null,
   "metadata": {},
   "outputs": [],
   "source": [
    "# Task 2.4\n",
    "import pymongo\n",
    "\n",
    "client = pymongo.MongoClient('127.0.0.1', 27017)\n",
    "\n",
    "# create db\n",
    "db = client.get_database('Entertainment')\n",
    "col = db.get_collection('restaurants')\n",
    "\n",
    "# insert sorted data\n",
    "col.insert_many(sorted_restaurants)"
   ]
  }
 ],
 "metadata": {
  "kernelspec": {
   "display_name": "Python 3",
   "language": "python",
   "name": "python3"
  },
  "language_info": {
   "codemirror_mode": {
    "name": "ipython",
    "version": 3
   },
   "file_extension": ".py",
   "mimetype": "text/x-python",
   "name": "python",
   "nbconvert_exporter": "python",
   "pygments_lexer": "ipython3",
   "version": "3.6.4"
  }
 },
 "nbformat": 4,
 "nbformat_minor": 2
}
