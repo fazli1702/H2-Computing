{
 "cells": [
  {
   "cell_type": "code",
   "execution_count": 5,
   "metadata": {},
   "outputs": [],
   "source": [
    "# Task 2.1\n",
    "def HashKey(country):\n",
    "    _hash = 0\n",
    "    for ele in country:\n",
    "        _hash += ord(ele)\n",
    "    _hash %= 30\n",
    "    return _hash\n"
   ]
  },
  {
   "cell_type": "code",
   "execution_count": 6,
   "metadata": {},
   "outputs": [
    {
     "data": {
      "text/plain": [
       "['Belarus',\n",
       " 'Russia',\n",
       " 'Japan',\n",
       " 'Germany',\n",
       " 'Iran',\n",
       " 'Italy',\n",
       " 'India',\n",
       " 'China',\n",
       " 'Netherlands',\n",
       " 'Chile',\n",
       " 'UK',\n",
       " 'Switzerland',\n",
       " 'Brazil',\n",
       " 'Mexico',\n",
       " 'Turkey',\n",
       " 'Sweden',\n",
       " 'Portugal',\n",
       " 'Pakistan',\n",
       " 'Ecuador',\n",
       " 'Belgium',\n",
       " 'Singapore',\n",
       " 'France',\n",
       " 'Peru',\n",
       " 'USA',\n",
       " 'Bangladesh',\n",
       " 'Qatar',\n",
       " 'Indonesia',\n",
       " 'Spain',\n",
       " 'Canada',\n",
       " 'SaudiArabia']"
      ]
     },
     "execution_count": 6,
     "metadata": {},
     "output_type": "execute_result"
    }
   ],
   "source": [
    "# Task 2.2\n",
    "\n",
    "def init_table():\n",
    "    return ['' for i in range(30)]\n",
    "    \n",
    "def insert(country, table):\n",
    "    i = HashKey(country)\n",
    "    if table[i] == '':\n",
    "        table[i] = country\n",
    "    else:\n",
    "        j = (i+1) % 30\n",
    "        flag = False\n",
    "        while j != i:\n",
    "            if table[j] != '':\n",
    "                j = (j+1) % 30\n",
    "            else:\n",
    "                table[j] = country\n",
    "                flag = True\n",
    "                break\n",
    "                \n",
    "        if not flag:\n",
    "            return 'Hash Table full'\n",
    "            \n",
    "\n",
    "def read():\n",
    "    with open('COUNTRY1.TXT') as f:\n",
    "        data = f.readlines()\n",
    "        info = [ele.strip() for ele in data]\n",
    "    return info\n",
    "    \n",
    "def main():\n",
    "    hash_table = init_table()\n",
    "    for country in read():\n",
    "        insert(country, hash_table)\n",
    "    return hash_table\n",
    "\n",
    "main()"
   ]
  },
  {
   "cell_type": "code",
   "execution_count": 25,
   "metadata": {},
   "outputs": [],
   "source": [
    "# Task 2.3\n",
    "def SearchCountry(Country, HashTable):\n",
    "    i = HashKey(Country)\n",
    "    if HashTable[i] == Country:\n",
    "        print(f'{Country} at index {i}')\n",
    "    else:\n",
    "        j = (i+1) % 30\n",
    "        flag = False\n",
    "        while j != i:\n",
    "            if table[j] != Country:\n",
    "                j = (j+1) % 30\n",
    "            else:\n",
    "                flag = True\n",
    "                print(f'{Country} at index {j}')\n",
    "                break\n",
    "                \n",
    "        if not flag:\n",
    "            print(f'{Country} not in HashTable')"
   ]
  },
  {
   "cell_type": "code",
   "execution_count": 26,
   "metadata": {},
   "outputs": [
    {
     "name": "stdout",
     "output_type": "stream",
     "text": [
      "USA at index 23\n"
     ]
    }
   ],
   "source": [
    "# test case 1\n",
    "table = main()\n",
    "SearchCountry('USA', table)"
   ]
  },
  {
   "cell_type": "code",
   "execution_count": 27,
   "metadata": {},
   "outputs": [
    {
     "name": "stdout",
     "output_type": "stream",
     "text": [
      "Malaysia not in HashTable\n"
     ]
    }
   ],
   "source": [
    "# test case 2\n",
    "SearchCountry('Malaysia', table)"
   ]
  },
  {
   "cell_type": "code",
   "execution_count": 28,
   "metadata": {},
   "outputs": [
    {
     "name": "stdout",
     "output_type": "stream",
     "text": [
      "Switzerland at index 11\n"
     ]
    }
   ],
   "source": [
    "# test case 3\n",
    "SearchCountry('Switzerland', table)"
   ]
  },
  {
   "cell_type": "code",
   "execution_count": 40,
   "metadata": {},
   "outputs": [],
   "source": [
    "# Task 2.4\n",
    "\n",
    "# read data from file\n",
    "with open('COUNTRY2.TXT') as f:\n",
    "    data = f.readlines()\n",
    "    info = [ele.strip().split(',') for ele in data]\n",
    "\n",
    "lst = []\n",
    "for country, case, death in info:\n",
    "    rate = round((int(death) / int(case) * 100), 1)\n",
    "    lst.append([country, rate])\n",
    "\n",
    "\n",
    "# sort using bubble sort\n",
    "def bubble_sort(lst):\n",
    "    for i in range(len(lst)):\n",
    "        for j in range(len(lst)-1):\n",
    "            if lst[j][1] < lst[j+1][1]:\n",
    "                lst[j], lst[j+1] = lst[j+1], lst[j]\n",
    "    return lst\n",
    "\n",
    "\n",
    "# write to RATE.TXT file\n",
    "sorted_lst = bubble_sort(lst)\n",
    "with open('RATE.TXT', 'w') as f:\n",
    "    for ele in sorted_lst:\n",
    "        string = ele[0] + ',' + str(ele[1]) + '\\n'\n",
    "        f.write(string)"
   ]
  },
  {
   "cell_type": "code",
   "execution_count": null,
   "metadata": {},
   "outputs": [],
   "source": []
  }
 ],
 "metadata": {
  "kernelspec": {
   "display_name": "Python 3",
   "language": "python",
   "name": "python3"
  },
  "language_info": {
   "codemirror_mode": {
    "name": "ipython",
    "version": 3
   },
   "file_extension": ".py",
   "mimetype": "text/x-python",
   "name": "python",
   "nbconvert_exporter": "python",
   "pygments_lexer": "ipython3",
   "version": "3.6.4"
  }
 },
 "nbformat": 4,
 "nbformat_minor": 2
}
