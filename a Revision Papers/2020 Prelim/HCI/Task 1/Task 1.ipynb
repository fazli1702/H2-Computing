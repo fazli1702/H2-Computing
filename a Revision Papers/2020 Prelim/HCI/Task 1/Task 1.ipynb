{
 "cells": [
  {
   "cell_type": "code",
   "execution_count": 20,
   "metadata": {},
   "outputs": [
    {
     "name": "stdout",
     "output_type": "stream",
     "text": [
      "Highest # cases 26891 is on 15 May 2020\n",
      "Lowest # cases 3699 is on 15 April 2020\n"
     ]
    }
   ],
   "source": [
    "# Task 1.1\n",
    "with open('COVID19.TXT') as f:\n",
    "    data = f.readlines()\n",
    "    info = [ele.strip().split(',') for ele in data]\n",
    "    \n",
    "    \n",
    "#  highest & lowest case excluding day1\n",
    "highest = int(info[1][1])\n",
    "lowest = int(info[1][1])\n",
    "for i in range(len(info)):\n",
    "    date, case = info[i]\n",
    "    if i == 0:\n",
    "        continue\n",
    "    else:\n",
    "        if int(case) > highest:\n",
    "            highest = int(info[i][1])\n",
    "\n",
    "        if int(case) < lowest:\n",
    "            lowest = int(info[i][1])\n",
    "\n",
    "h_date = []\n",
    "l_date = []\n",
    "for date, case in info:\n",
    "    if int(case) == highest:\n",
    "        h_date.append(date)\n",
    "    if int(case) == lowest:\n",
    "        l_date.append(date)\n",
    "        \n",
    "\n",
    "def convert(date):\n",
    "    months = {4:'April', 5:'May'}\n",
    "    day = date[:2]\n",
    "    month = months[int(date[2:])]\n",
    "    return f'{day} {month} 2020'\n",
    "\n",
    "def join_date(dates):\n",
    "    lst = [convert(date) for date in dates]\n",
    "    return ', '.join(lst)\n",
    "\n",
    "h_date = convert(h_date[0]) if len(h_date)==1 else join_date(h_date)\n",
    "l_date = convert(l_date[0]) if len(l_date)==1 else join_date(l_date)\n",
    "\n",
    "\n",
    "print(f'Highest # cases {highest} is on {h_date}')\n",
    "print(f'Lowest # cases {lowest} is on {l_date}')"
   ]
  },
  {
   "cell_type": "code",
   "execution_count": 23,
   "metadata": {},
   "outputs": [
    {
     "name": "stdout",
     "output_type": "stream",
     "text": [
      "Longest ascending streak is 31 days\n"
     ]
    }
   ],
   "source": [
    "# Task 1.2\n",
    "longest_streak = 0\n",
    "temp = 0\n",
    "for i in range(len(info)-1):\n",
    "    if int(info[i][1]) < int(info[i+1][1]):\n",
    "        temp += 1\n",
    "    else:\n",
    "        if temp > longest_streak:\n",
    "            longest_streak = temp\n",
    "        temp = 0\n",
    "        \n",
    "if temp > longest_streak:\n",
    "    longest_streak = temp\n",
    "        \n",
    "print(f'Longest ascending streak is {longest_streak} days')"
   ]
  },
  {
   "cell_type": "code",
   "execution_count": null,
   "metadata": {},
   "outputs": [],
   "source": []
  }
 ],
 "metadata": {
  "kernelspec": {
   "display_name": "Python 3",
   "language": "python",
   "name": "python3"
  },
  "language_info": {
   "codemirror_mode": {
    "name": "ipython",
    "version": 3
   },
   "file_extension": ".py",
   "mimetype": "text/x-python",
   "name": "python",
   "nbconvert_exporter": "python",
   "pygments_lexer": "ipython3",
   "version": "3.6.4"
  }
 },
 "nbformat": 4,
 "nbformat_minor": 2
}
