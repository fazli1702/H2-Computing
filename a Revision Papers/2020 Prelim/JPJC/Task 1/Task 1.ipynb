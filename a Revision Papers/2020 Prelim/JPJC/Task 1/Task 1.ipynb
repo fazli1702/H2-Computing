{
 "cells": [
  {
   "cell_type": "code",
   "execution_count": 29,
   "metadata": {},
   "outputs": [
    {
     "name": "stdout",
     "output_type": "stream",
     "text": [
      "Day   A   B   C   D   E   F \n",
      "Mon1  0   0   2   1  -1   0 \n",
      "Tue1  0   1   0   0  -1  -5 \n",
      "Wed1  0   0  -1   0  -1  -5 \n",
      "Thu1  2   0  -1   0  -2  -5 \n",
      "Fri1  2   1  -2   0  -4  -4 \n",
      "Mon2  4   2  -2   0  -10 -3 \n",
      "Tue2  0   0  -3   0  -2  -5 \n",
      "Wed2  3   0  -1   0   0   0 \n",
      "Thu2  4   0   0   0   0   0 \n",
      "Fri2 -2   0   0   0   0   0 \n",
      "Mon3 -5   1  -2   2   0   0 \n",
      "Tue3  0   0   0   0   1  -2 \n",
      "Wed3  0   0   1   0   2  -3 \n",
      "Thu3  3   0   1   0  -3   1 \n",
      "Fri3  4   2   1   0   1   1 \n",
      "Mon4 -1   0   1   0   1   1 \n",
      "Tue4  8   0  -1   0   3   0 \n",
      "Wed4  1   1  -1   0  -1   0 \n",
      "Thu4  1   0   2   0   0  -2 \n",
      "Fri4 -2   0  -2   0   0  -5 \n"
     ]
    }
   ],
   "source": [
    "# Task 1.1\n",
    "\n",
    "def read():\n",
    "    with open('SURVEY.TXT') as f:\n",
    "        data = f.readlines()\n",
    "        Records = [ele.strip().split(',') for ele in data]\n",
    "    return Records\n",
    "\n",
    "Records = read()\n",
    "print('{:^4} {:^3} {:^3} {:^3} {:^3} {:^3} {:^3}'.format('Day', 'A', 'B', 'C', 'D', 'E', 'F'))\n",
    "for day, a, b, c, d, e, f in Records:\n",
    "    print('{:^4} {:^3} {:^3} {:^3} {:^3} {:^3} {:^3}'.format(day, a, b, c, d, e, f))"
   ]
  },
  {
   "cell_type": "code",
   "execution_count": 30,
   "metadata": {},
   "outputs": [
    {
     "name": "stdout",
     "output_type": "stream",
     "text": [
      "                                           A     B     C     D     E     F  \n",
      "No. of late arrivals for each bus route    4     0    10     0     9    10  \n",
      "Average no. of minutes late              -5.0    0   -8.0    0   -12.5 -19.5\n",
      "\n",
      "\n",
      "Bus route C has the highest number of days late\n"
     ]
    }
   ],
   "source": [
    "# Task 1.2\n",
    "\n",
    "Records = read()\n",
    "    \n",
    "aLate = []\n",
    "bLate = []\n",
    "cLate = []\n",
    "dLate = []\n",
    "eLate = []\n",
    "fLate = []\n",
    "for day, a, b, c, d, e, f in Records:\n",
    "    if int(a) < 0:\n",
    "        aLate.append(int(a))\n",
    "    if int(b) < 0:\n",
    "        bLate.append(int(b))\n",
    "    if int(c) < 0:\n",
    "        cLate.append(int(c))\n",
    "    if int(d) < 0:\n",
    "        dLate.append(int(d))\n",
    "    if int(e) < 0:\n",
    "        eLate.append(int(e))\n",
    "    if int(f) < 0:\n",
    "        fLate.append(int(f))\n",
    "\n",
    "aAve = sum(aLate)/2 if len(aLate)!= 0 else 0\n",
    "bAve = sum(bLate)/2 if len(bLate)!= 0 else 0\n",
    "cAve = sum(cLate)/2 if len(cLate)!= 0 else 0\n",
    "dAve = sum(dLate)/2 if len(dLate)!= 0 else 0\n",
    "eAve = sum(eLate)/2 if len(eLate)!= 0 else 0\n",
    "fAve = sum(fLate)/2 if len(fLate)!= 0 else 0\n",
    "\n",
    "row1 = 'No. of late arrivals for each bus route'\n",
    "row2 = 'Average no. of minutes late'\n",
    "print('{:<40} {:^5} {:^5} {:^5} {:^5} {:^5} {:^5}'.format('', 'A', 'B', 'C', 'D', 'E', 'F'))\n",
    "print('{:<40} {:^5} {:^5} {:^5} {:^5} {:^5} {:^5}'.format(row1, len(aLate), len(bLate), len(cLate), len(dLate), len(eLate), len(fLate)))\n",
    "print('{:<40} {:^5} {:^5} {:^5} {:^5} {:^5} {:^5}'.format(row2, aAve, bAve, cAve, dAve, eAve, fAve))\n",
    "\n",
    "maxim = 0\n",
    "maxim_i = 0\n",
    "for i, ele in enumerate([aLate, bLate, cLate, dLate, eLate, fLate]):\n",
    "    if len(ele) > maxim:\n",
    "        maxim = len(ele)\n",
    "        maxim_i = i\n",
    "\n",
    "        \n",
    "print()\n",
    "print()\n",
    "print(f'Bus route {chr(65+maxim_i)} has the highest number of days late')"
   ]
  },
  {
   "cell_type": "code",
   "execution_count": 32,
   "metadata": {},
   "outputs": [
    {
     "name": "stdout",
     "output_type": "stream",
     "text": [
      "Enter day:Tue1\n",
      "E late by -1 mins\n",
      "F late by -5 mins\n",
      "Total number of late buses: 2\n"
     ]
    }
   ],
   "source": [
    "# Task 1.3\n",
    "\n",
    "# how many buses were late on this day and for each late bus, \n",
    "# display the route label and how late the bus was on this day.\n",
    "\n",
    "\n",
    "def main():\n",
    "    Records = read()\n",
    "    user_day = input('Enter day:')\n",
    "    total_late = 0\n",
    "    for day, a, b, c, d, e, f in Records:\n",
    "        if user_day == day:\n",
    "            if int(a) < 0:\n",
    "                print(f'A late by {a} mins')\n",
    "                total_late += 1\n",
    "            if int(b) < 0:\n",
    "                print(f'B late by {b} mins')\n",
    "                total_late += 1\n",
    "            if int(c) < 0:\n",
    "                print(f'C late by {c} mins')\n",
    "                total_late += 1\n",
    "            if int(d) < 0:\n",
    "                print(f'D late by {d} mins')\n",
    "                total_late += 1\n",
    "            if int(e) < 0:\n",
    "                print(f'E late by {e} mins')\n",
    "                total_late += 1\n",
    "            if int(f) < 0:\n",
    "                print(f'F late by {f} mins')\n",
    "                total_late += 1\n",
    "            print(f'Total number of late buses: {total_late}')\n",
    "    \n",
    "main()"
   ]
  },
  {
   "cell_type": "code",
   "execution_count": 33,
   "metadata": {},
   "outputs": [
    {
     "name": "stdout",
     "output_type": "stream",
     "text": [
      "Enter day:Thu2\n",
      "Total number of late buses: 0\n"
     ]
    }
   ],
   "source": [
    "main()"
   ]
  },
  {
   "cell_type": "code",
   "execution_count": null,
   "metadata": {},
   "outputs": [],
   "source": []
  }
 ],
 "metadata": {
  "kernelspec": {
   "display_name": "Python 3",
   "language": "python",
   "name": "python3"
  },
  "language_info": {
   "codemirror_mode": {
    "name": "ipython",
    "version": 3
   },
   "file_extension": ".py",
   "mimetype": "text/x-python",
   "name": "python",
   "nbconvert_exporter": "python",
   "pygments_lexer": "ipython3",
   "version": "3.6.4"
  }
 },
 "nbformat": 4,
 "nbformat_minor": 2
}
