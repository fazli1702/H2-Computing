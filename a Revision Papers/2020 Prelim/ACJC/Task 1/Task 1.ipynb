{
 "cells": [
  {
   "cell_type": "code",
   "execution_count": 18,
   "metadata": {},
   "outputs": [],
   "source": [
    "# Task 1.1\n",
    "class Food:\n",
    "    def __init__(self, name, value):\n",
    "        self.name = name\n",
    "        self.value = value\n",
    "        \n",
    "    def get_name(self):\n",
    "        return self.name\n",
    "    \n",
    "    def get_value(self):\n",
    "        return self.value\n",
    "    "
   ]
  },
  {
   "cell_type": "code",
   "execution_count": 19,
   "metadata": {},
   "outputs": [],
   "source": [
    "# Task 1.2\n",
    "from random import randint\n",
    "\n",
    "class Person:\n",
    "    def __init__(self, name):\n",
    "        self.name = name\n",
    "        self.health = 100\n",
    "        self.strength = 100\n",
    "        \n",
    "    def get_name(self):\n",
    "        return self.name\n",
    "    \n",
    "    def get_health(self):\n",
    "        return self.health\n",
    "    \n",
    "    def get_strength(self):\n",
    "        return self.strength\n",
    "    \n",
    "    def set_strength(self, s):\n",
    "        self.strength = s\n",
    "    \n",
    "    def set_health(self, s):\n",
    "        self.health = s\n",
    "    \n",
    "    def eat(self, food):\n",
    "        self.strength += food.get_value()\n",
    "        \n",
    "    def attack(self, opponent):\n",
    "        r = randint(1, 10)\n",
    "        if self.strength >= r:\n",
    "            opponent.set_health(opponent.get_health()-r)\n",
    "            print(f'{opponent.get_name()} health: {opponent.get_health()}')\n",
    "            \n",
    "            if opponent.get_health() < 0:  \n",
    "                print(f'{opponent.get_name()} defeated')\n",
    "            \n",
    "            self.set_strength(self.strength-r)"
   ]
  },
  {
   "cell_type": "code",
   "execution_count": 20,
   "metadata": {},
   "outputs": [],
   "source": [
    "# Task 1.3\n",
    "\n",
    "class Healer(Person):\n",
    "    def __init__(self, name):\n",
    "        super().__init__(name)\n",
    "        \n",
    "    def heal(self, patient):\n",
    "        r = randint(1, 10)\n",
    "        if self.strength >= r:\n",
    "            if patient.get_health() + r > 100:\n",
    "                patient.set_health(100)\n",
    "            else:\n",
    "                patient.set_health(patient.get_health()+r)\n",
    "                \n",
    "        print(f'{patient.get_name()} health: {patient.get_health()}')  \n"
   ]
  },
  {
   "cell_type": "code",
   "execution_count": 21,
   "metadata": {},
   "outputs": [],
   "source": [
    "# Task 1.4\n",
    "class Warrior(Person):\n",
    "    def __init__(self, name):\n",
    "        super().__init__(name)\n",
    "        \n",
    "    def attack(self, opponent):\n",
    "        r = randint(1, 10)\n",
    "        if self.strength >= r:\n",
    "            opponent.set_health(opponent.get_health()-(2*r))\n",
    "            print(f'{opponent.get_name()} health: {opponent.get_health()}')\n",
    "            \n",
    "            if opponent.get_health() < 0:  \n",
    "                print(f'{opponent.get_name()} defeated')\n",
    "            \n",
    "            self.set_strength(self.strength-r)\n",
    "        "
   ]
  },
  {
   "cell_type": "code",
   "execution_count": 22,
   "metadata": {},
   "outputs": [
    {
     "name": "stdout",
     "output_type": "stream",
     "text": [
      "Sam health: 90\n",
      "Jan health: 86\n",
      "Jan health: 90\n"
     ]
    }
   ],
   "source": [
    "food = Food('Cheese', 10)\n",
    "warrior = Warrior('Sam')\n",
    "healer = Healer('Alex')\n",
    "person = Person('Jan')\n",
    "\n",
    "person.attack(warrior)  # Jan attacks Sam\n",
    "warrior.attack(person)  # Sam attacks Jan\n",
    "healer.heal(person)     # Alex heals Jan\n",
    "warrior.eat(food)       # Sam eats Cheese"
   ]
  },
  {
   "cell_type": "code",
   "execution_count": null,
   "metadata": {},
   "outputs": [],
   "source": []
  }
 ],
 "metadata": {
  "kernelspec": {
   "display_name": "Python 3",
   "language": "python",
   "name": "python3"
  },
  "language_info": {
   "codemirror_mode": {
    "name": "ipython",
    "version": 3
   },
   "file_extension": ".py",
   "mimetype": "text/x-python",
   "name": "python",
   "nbconvert_exporter": "python",
   "pygments_lexer": "ipython3",
   "version": "3.6.4"
  }
 },
 "nbformat": 4,
 "nbformat_minor": 2
}
