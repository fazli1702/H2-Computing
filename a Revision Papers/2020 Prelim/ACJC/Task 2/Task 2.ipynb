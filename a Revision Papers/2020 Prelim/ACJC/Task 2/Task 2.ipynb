{
 "cells": [
  {
   "cell_type": "code",
   "execution_count": 24,
   "metadata": {},
   "outputs": [
    {
     "name": "stdout",
     "output_type": "stream",
     "text": [
      "True\n",
      "False\n"
     ]
    }
   ],
   "source": [
    "# Task 2.1\n",
    "\n",
    "def get_valid_moves(coordinate, n):\n",
    "    steps = [(2, 1), (2, -1), \n",
    "             (1, 2), (-1, 2),\n",
    "             (-2, 1), (-2, -1),\n",
    "             (1, -2), (-1, -2)]\n",
    "    valid_moves = []\n",
    "    for step in steps:\n",
    "        x, y = step[0] + coordinate[0], step[1] + coordinate[1]\n",
    "        if 1 <= x <= n and 1 <= y <= n:\n",
    "            valid_moves.append((x, y))\n",
    "    return valid_moves\n",
    "            \n",
    "def read(file):\n",
    "    with open(file) as f:\n",
    "        data = f.readlines()\n",
    "        moves = []\n",
    "        for move in data:\n",
    "            move = move.strip().split(',')\n",
    "            move = (int(move[0]), int(move[1]))\n",
    "            moves.append(move)\n",
    "    return moves\n",
    "\n",
    "def main1():\n",
    "    moves = read('TASK2TOUR.txt')\n",
    "    currMove = moves[0]\n",
    "    for i in range(1, len(moves)):\n",
    "        nextMove = moves[i]\n",
    "        if nextMove not in get_valid_moves(currMove, 7):\n",
    "            return False\n",
    "        else:\n",
    "            currMove = nextMove\n",
    "    return True\n",
    "\n",
    "def main2():\n",
    "    moves = read('TASK2NOTOUR.txt')\n",
    "    currMove = moves[0]\n",
    "    for i in range(1, len(moves)):\n",
    "        nextMove = moves[i]\n",
    "        if nextMove not in get_valid_moves(currMove, 7):\n",
    "            return False\n",
    "        else:\n",
    "            currMove = nextMove\n",
    "    return True\n",
    "\n",
    "\n",
    "print(main1())\n",
    "print(main2())"
   ]
  },
  {
   "cell_type": "code",
   "execution_count": 25,
   "metadata": {},
   "outputs": [],
   "source": [
    "# Task 2.2\n",
    "\n",
    "def get_valid_moves(coordinate, n):\n",
    "    steps = [(2, 1), (2, -1), \n",
    "             (1, 2), (-1, 2),\n",
    "             (-2, 1), (-2, -1),\n",
    "             (1, -2), (-1, -2)]\n",
    "    valid_moves = []\n",
    "    for step in steps:\n",
    "        x, y = step[0] + coordinate[0], step[1] + coordinate[1]\n",
    "        if 1 <= x <= n and 1 <= y <= n:\n",
    "            valid_moves.append((x, y))\n",
    "    return valid_moves\n",
    "\n",
    "def available(square, lis):\n",
    "    valid_moves = get_valid_moves(square, 8)\n",
    "    avail_moves = [ele for ele in valid_moves if ele not in lis]\n",
    "    avail_moves.sort() # sort in lexicographic order\n",
    "    return avail_moves\n",
    "\n",
    "    \n",
    "# get_valid_moves((4,4))\n",
    "# a = [(6, 5), (6, 3)]\n",
    "# available((4,4), a)"
   ]
  },
  {
   "cell_type": "code",
   "execution_count": 30,
   "metadata": {},
   "outputs": [
    {
     "ename": "TypeError",
     "evalue": "'int' object is not subscriptable",
     "output_type": "error",
     "traceback": [
      "\u001b[1;31m---------------------------------------------------------------------------\u001b[0m",
      "\u001b[1;31mTypeError\u001b[0m                                 Traceback (most recent call last)",
      "\u001b[1;32m<ipython-input-30-6b1929a15bf2>\u001b[0m in \u001b[0;36m<module>\u001b[1;34m()\u001b[0m\n\u001b[0;32m     41\u001b[0m     \u001b[1;32mreturn\u001b[0m \u001b[0mvisited\u001b[0m\u001b[1;33m\u001b[0m\u001b[0m\n\u001b[0;32m     42\u001b[0m \u001b[1;33m\u001b[0m\u001b[0m\n\u001b[1;32m---> 43\u001b[1;33m \u001b[0mmain3\u001b[0m\u001b[1;33m(\u001b[0m\u001b[1;33m)\u001b[0m\u001b[1;33m\u001b[0m\u001b[0m\n\u001b[0m",
      "\u001b[1;32m<ipython-input-30-6b1929a15bf2>\u001b[0m in \u001b[0;36mmain3\u001b[1;34m()\u001b[0m\n\u001b[0;32m     32\u001b[0m         \u001b[0mminim\u001b[0m\u001b[1;33m,\u001b[0m \u001b[0mmin_i\u001b[0m \u001b[1;33m=\u001b[0m \u001b[1;36m8\u001b[0m\u001b[1;33m,\u001b[0m \u001b[1;36m0\u001b[0m\u001b[1;33m\u001b[0m\u001b[0m\n\u001b[0;32m     33\u001b[0m         \u001b[1;32mfor\u001b[0m \u001b[0mi\u001b[0m\u001b[1;33m,\u001b[0m \u001b[0mele\u001b[0m \u001b[1;32min\u001b[0m \u001b[0mavailMoves\u001b[0m\u001b[1;33m:\u001b[0m\u001b[1;33m\u001b[0m\u001b[0m\n\u001b[1;32m---> 34\u001b[1;33m             \u001b[1;32mif\u001b[0m \u001b[0mlen\u001b[0m\u001b[1;33m(\u001b[0m\u001b[0mavailable\u001b[0m\u001b[1;33m(\u001b[0m\u001b[0mele\u001b[0m\u001b[1;33m,\u001b[0m \u001b[0mvisited\u001b[0m\u001b[1;33m)\u001b[0m\u001b[1;33m)\u001b[0m \u001b[1;33m<\u001b[0m \u001b[0mminim\u001b[0m\u001b[1;33m:\u001b[0m\u001b[1;33m\u001b[0m\u001b[0m\n\u001b[0m\u001b[0;32m     35\u001b[0m                 \u001b[0mminim\u001b[0m \u001b[1;33m=\u001b[0m \u001b[0mlen\u001b[0m\u001b[1;33m(\u001b[0m\u001b[0mavailable\u001b[0m\u001b[1;33m(\u001b[0m\u001b[0mele\u001b[0m\u001b[1;33m,\u001b[0m \u001b[0mvisited\u001b[0m\u001b[1;33m)\u001b[0m\u001b[1;33m)\u001b[0m\u001b[1;33m\u001b[0m\u001b[0m\n\u001b[0;32m     36\u001b[0m                 \u001b[0mmin_i\u001b[0m \u001b[1;33m=\u001b[0m \u001b[0mi\u001b[0m\u001b[1;33m\u001b[0m\u001b[0m\n",
      "\u001b[1;32m<ipython-input-30-6b1929a15bf2>\u001b[0m in \u001b[0;36mavailable\u001b[1;34m(square, lis)\u001b[0m\n\u001b[0;32m     15\u001b[0m \u001b[1;33m\u001b[0m\u001b[0m\n\u001b[0;32m     16\u001b[0m \u001b[1;32mdef\u001b[0m \u001b[0mavailable\u001b[0m\u001b[1;33m(\u001b[0m\u001b[0msquare\u001b[0m\u001b[1;33m,\u001b[0m \u001b[0mlis\u001b[0m\u001b[1;33m)\u001b[0m\u001b[1;33m:\u001b[0m\u001b[1;33m\u001b[0m\u001b[0m\n\u001b[1;32m---> 17\u001b[1;33m     \u001b[0mvalid_moves\u001b[0m \u001b[1;33m=\u001b[0m \u001b[0mget_valid_moves\u001b[0m\u001b[1;33m(\u001b[0m\u001b[0msquare\u001b[0m\u001b[1;33m,\u001b[0m \u001b[1;36m8\u001b[0m\u001b[1;33m)\u001b[0m\u001b[1;33m\u001b[0m\u001b[0m\n\u001b[0m\u001b[0;32m     18\u001b[0m     \u001b[0mavail_moves\u001b[0m \u001b[1;33m=\u001b[0m \u001b[1;33m[\u001b[0m\u001b[0mele\u001b[0m \u001b[1;32mfor\u001b[0m \u001b[0mele\u001b[0m \u001b[1;32min\u001b[0m \u001b[0mvalid_moves\u001b[0m \u001b[1;32mif\u001b[0m \u001b[0mele\u001b[0m \u001b[1;32mnot\u001b[0m \u001b[1;32min\u001b[0m \u001b[0mlis\u001b[0m\u001b[1;33m]\u001b[0m\u001b[1;33m\u001b[0m\u001b[0m\n\u001b[0;32m     19\u001b[0m     \u001b[0mavail_moves\u001b[0m\u001b[1;33m.\u001b[0m\u001b[0msort\u001b[0m\u001b[1;33m(\u001b[0m\u001b[1;33m)\u001b[0m \u001b[1;31m# sort in lexicographic order\u001b[0m\u001b[1;33m\u001b[0m\u001b[0m\n",
      "\u001b[1;32m<ipython-input-30-6b1929a15bf2>\u001b[0m in \u001b[0;36mget_valid_moves\u001b[1;34m(coordinate, n)\u001b[0m\n\u001b[0;32m      8\u001b[0m     \u001b[0mvalid_moves\u001b[0m \u001b[1;33m=\u001b[0m \u001b[1;33m[\u001b[0m\u001b[1;33m]\u001b[0m\u001b[1;33m\u001b[0m\u001b[0m\n\u001b[0;32m      9\u001b[0m     \u001b[1;32mfor\u001b[0m \u001b[0mstep\u001b[0m \u001b[1;32min\u001b[0m \u001b[0msteps\u001b[0m\u001b[1;33m:\u001b[0m\u001b[1;33m\u001b[0m\u001b[0m\n\u001b[1;32m---> 10\u001b[1;33m         \u001b[0mx\u001b[0m\u001b[1;33m,\u001b[0m \u001b[0my\u001b[0m \u001b[1;33m=\u001b[0m \u001b[0mstep\u001b[0m\u001b[1;33m[\u001b[0m\u001b[1;36m0\u001b[0m\u001b[1;33m]\u001b[0m \u001b[1;33m+\u001b[0m \u001b[0mcoordinate\u001b[0m\u001b[1;33m[\u001b[0m\u001b[1;36m0\u001b[0m\u001b[1;33m]\u001b[0m\u001b[1;33m,\u001b[0m \u001b[0mstep\u001b[0m\u001b[1;33m[\u001b[0m\u001b[1;36m1\u001b[0m\u001b[1;33m]\u001b[0m \u001b[1;33m+\u001b[0m \u001b[0mcoordinate\u001b[0m\u001b[1;33m[\u001b[0m\u001b[1;36m1\u001b[0m\u001b[1;33m]\u001b[0m\u001b[1;33m\u001b[0m\u001b[0m\n\u001b[0m\u001b[0;32m     11\u001b[0m         \u001b[1;32mif\u001b[0m \u001b[1;36m1\u001b[0m \u001b[1;33m<=\u001b[0m \u001b[0mx\u001b[0m \u001b[1;33m<=\u001b[0m \u001b[0mn\u001b[0m \u001b[1;32mand\u001b[0m \u001b[1;36m1\u001b[0m \u001b[1;33m<=\u001b[0m \u001b[0my\u001b[0m \u001b[1;33m<=\u001b[0m \u001b[0mn\u001b[0m\u001b[1;33m:\u001b[0m\u001b[1;33m\u001b[0m\u001b[0m\n\u001b[0;32m     12\u001b[0m             \u001b[0mvalid_moves\u001b[0m\u001b[1;33m.\u001b[0m\u001b[0mappend\u001b[0m\u001b[1;33m(\u001b[0m\u001b[1;33m(\u001b[0m\u001b[0mx\u001b[0m\u001b[1;33m,\u001b[0m \u001b[0my\u001b[0m\u001b[1;33m)\u001b[0m\u001b[1;33m)\u001b[0m\u001b[1;33m\u001b[0m\u001b[0m\n",
      "\u001b[1;31mTypeError\u001b[0m: 'int' object is not subscriptable"
     ]
    }
   ],
   "source": [
    "# Task 2.3\n",
    "\n",
    "def get_valid_moves(coordinate, n):\n",
    "    steps = [(2, 1), (2, -1), \n",
    "             (1, 2), (-1, 2),\n",
    "             (-2, 1), (-2, -1),\n",
    "             (1, -2), (-1, -2)]\n",
    "    valid_moves = []\n",
    "    for step in steps:\n",
    "        x, y = step[0] + coordinate[0], step[1] + coordinate[1]\n",
    "        if 1 <= x <= n and 1 <= y <= n:\n",
    "            valid_moves.append((x, y))\n",
    "    return valid_moves\n",
    "\n",
    "\n",
    "def available(square, lis):\n",
    "    valid_moves = get_valid_moves(square, 8)\n",
    "    avail_moves = [ele for ele in valid_moves if ele not in lis]\n",
    "    avail_moves.sort() # sort in lexicographic order\n",
    "    return avail_moves\n",
    "\n",
    "\n",
    "def main3():\n",
    "    currMove = (1, 1)\n",
    "    visited = [(1, 1)]\n",
    "    while True:\n",
    "        availMoves = available(currMove, visited)\n",
    "        \n",
    "        if len(availMoves) == 0:\n",
    "            break\n",
    "            \n",
    "        minim, min_i = 8, 0\n",
    "        for i, ele in availMoves:\n",
    "            if len(available(ele, visited)) < minim:\n",
    "                minim = len(available(ele, visited))\n",
    "                min_i = i\n",
    "                \n",
    "        visited.append(availMoves[i])\n",
    "        currMoves = availMoves[i]\n",
    "        \n",
    "    return visited\n",
    "\n",
    "main3()"
   ]
  },
  {
   "cell_type": "code",
   "execution_count": null,
   "metadata": {},
   "outputs": [],
   "source": []
  }
 ],
 "metadata": {
  "kernelspec": {
   "display_name": "Python 3",
   "language": "python",
   "name": "python3"
  },
  "language_info": {
   "codemirror_mode": {
    "name": "ipython",
    "version": 3
   },
   "file_extension": ".py",
   "mimetype": "text/x-python",
   "name": "python",
   "nbconvert_exporter": "python",
   "pygments_lexer": "ipython3",
   "version": "3.6.4"
  }
 },
 "nbformat": 4,
 "nbformat_minor": 2
}
