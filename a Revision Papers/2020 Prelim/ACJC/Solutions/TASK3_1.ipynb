{
 "cells": [
  {
   "cell_type": "code",
   "execution_count": null,
   "metadata": {},
   "outputs": [],
   "source": [
    "f = open(\"INVENTORY.txt\")\n",
    "lst = []\n",
    "for item in f:\n",
    "    lst.append(item.strip().split('\\t'))\n",
    "print(lst)\n",
    "f.close()\n",
    "\n",
    "total_price = 0\n",
    "count = 0\n",
    "for item in lst:\n",
    "    if item[1] == \"Laptop\":\n",
    "        count += 1\n",
    "        total_price += float(item[3])\n",
    "print(\"Average selling price is:\", total_price/count)\n",
    "\n",
    "TypeCount = {}\n",
    "for item in lst:\n",
    "    if item[1] in TypeCount:\n",
    "        TypeCount[item[1]] += 1\n",
    "    else:\n",
    "        TypeCount[item[1]] = 1\n",
    "\n",
    "biggest = 0\n",
    "biggest_lst = []\n",
    "for item in TypeCount:\n",
    "    if TypeCount[item] > biggest:\n",
    "        biggest = TypeCount[item]\n",
    "\n",
    "for item in TypeCount:\n",
    "    if TypeCount[item] == biggest:\n",
    "        biggest_lst.append(item)\n",
    "print(biggest_lst)"
   ]
  }
 ],
 "metadata": {
  "kernelspec": {
   "display_name": "Python 3",
   "language": "python",
   "name": "python3"
  },
  "language_info": {
   "codemirror_mode": {
    "name": "ipython",
    "version": 3
   },
   "file_extension": ".py",
   "mimetype": "text/x-python",
   "name": "python",
   "nbconvert_exporter": "python",
   "pygments_lexer": "ipython3",
   "version": "3.6.4"
  }
 },
 "nbformat": 4,
 "nbformat_minor": 2
}
