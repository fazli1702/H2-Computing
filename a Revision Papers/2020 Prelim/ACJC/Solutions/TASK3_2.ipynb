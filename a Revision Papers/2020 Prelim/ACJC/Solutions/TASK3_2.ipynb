{
 "cells": [
  {
   "cell_type": "code",
   "execution_count": null,
   "metadata": {},
   "outputs": [],
   "source": [
    "f = open(\"INVENTORY.txt\")\n",
    "lst = []\n",
    "for item in f:\n",
    "    lst.append(item.strip().split('\\t'))\n",
    "print(lst)\n",
    "f.close()\n",
    "\n",
    "profit = 0\n",
    "for item in lst:\n",
    "    profit += (float(item[3]) - float(item[2]))*int(item[4])\n",
    "print(\"The total profit is\", profit)\n",
    "\n",
    "lst_profit = []\n",
    "for item in lst:\n",
    "    profit = float(item[3]) - float(item[2])\n",
    "    item.append(profit)\n",
    "    lst_profit.append(item)\n",
    "\n",
    "def merge_sort(lst):\n",
    "    if len(lst) <= 1:\n",
    "        return lst\n",
    "    mid = len(lst)//2\n",
    "    left = merge_sort(lst[0:mid]) \n",
    "    right = merge_sort(lst[mid:])\n",
    "    return merge(left, right)\n",
    "\n",
    "def compare(lst1, lst2):\n",
    "    profit1 = lst1[-1]\n",
    "    profit2 = lst2[-1]\n",
    "    if profit1 >= profit2:\n",
    "        return True\n",
    "    return False\n",
    "\n",
    "def merge(lst1, lst2):\n",
    "    result = []\n",
    "    while len(lst1) > 0 and len(lst2) >0:\n",
    "        if compare(lst1[0], lst2[0]):\n",
    "            result.append(lst1[0])\n",
    "            lst1.pop(0)\n",
    "        else:\n",
    "            result.append(lst2[0])\n",
    "            lst2.pop(0)\n",
    "    result.extend(lst1)\n",
    "    result.extend(lst2)\n",
    "    return result\n",
    "sorted_lst = merge_sort(lst)\n",
    "\n",
    "print(\"Product\".ljust(20),\"Product Type\".ljust(20), \"Profit Margin\".ljust(8))\n",
    "for item in sorted_lst:\n",
    "    print(item[0].ljust(20),item[1].ljust(20), str(item[-1]).ljust(8))"
   ]
  }
 ],
 "metadata": {
  "kernelspec": {
   "display_name": "Python 3",
   "language": "python",
   "name": "python3"
  },
  "language_info": {
   "codemirror_mode": {
    "name": "ipython",
    "version": 3
   },
   "file_extension": ".py",
   "mimetype": "text/x-python",
   "name": "python",
   "nbconvert_exporter": "python",
   "pygments_lexer": "ipython3",
   "version": "3.6.4"
  }
 },
 "nbformat": 4,
 "nbformat_minor": 2
}
