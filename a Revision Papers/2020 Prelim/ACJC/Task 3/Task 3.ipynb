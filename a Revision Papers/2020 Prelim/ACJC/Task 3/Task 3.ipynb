{
 "cells": [
  {
   "cell_type": "code",
   "execution_count": 19,
   "metadata": {},
   "outputs": [
    {
     "name": "stdout",
     "output_type": "stream",
     "text": [
      "average selling price of laptop: 1302.55\n",
      "Greatest number of products:\n",
      "Phone\n"
     ]
    }
   ],
   "source": [
    "# Task 3.1\n",
    "\n",
    "# read file\n",
    "with open('INVENTORY.txt') as f:\n",
    "    data = f.readlines()\n",
    "    info = [ele.strip().split('\\t') for ele in data]\n",
    "\n",
    "    \n",
    "# laptop average\n",
    "laptops = []\n",
    "for name, ptype, pprice, sprice, n in info:\n",
    "    if ptype == 'Laptop':\n",
    "        laptops.append(float(sprice))\n",
    "laptop_average = sum(laptops) / len(laptops)\n",
    "print('average selling price of laptop:', laptop_average)\n",
    "\n",
    "# store number of product type\n",
    "TypeCount = {}\n",
    "for name, ptype, pprice, sprice, n in info:\n",
    "    if ptype not in TypeCount:\n",
    "        TypeCount[ptype] = int(n)\n",
    "    else:\n",
    "        TypeCount[ptype] += int(n)\n",
    "\n",
    "# display product type with greatest number\n",
    "maxim = 0\n",
    "for ptype, n in TypeCount.items():\n",
    "    if n > maxim:\n",
    "        maxim = n\n",
    "\n",
    "print('Greatest number of products:')\n",
    "for ptype, n in TypeCount.items():\n",
    "    if n == maxim:\n",
    "        print(ptype)"
   ]
  },
  {
   "cell_type": "code",
   "execution_count": 5,
   "metadata": {},
   "outputs": [
    {
     "name": "stdout",
     "output_type": "stream",
     "text": [
      "Product              Product Type    Profit Margin  \n",
      "Bapple 12            Phone           852.85         \n",
      "Surface Elite 7      Laptop          813.05         \n",
      "Surface Elite 5      Laptop          700.95         \n",
      "Bapple 11            Phone           652.83         \n",
      "ThinkerpadX 15       Laptop          600.8          \n",
      "ThinkerpadX 13       Laptop          552.3          \n",
      "Bapple 10            Phone           551.73         \n",
      "Bapple 9             Phone           522.65         \n",
      "Surface Elite 5      Laptop          500.95         \n",
      "Bapple 8             Phone           454.45         \n",
      "Universe Tab C       Tablet          367.95         \n",
      "Universe Tab B       Tablet          350.95         \n",
      "Universe Tab A       Tablet          300.05         \n",
      "Elink1 300           Router          160.95         \n",
      "Elink1 200           Router          151.95         \n",
      "Dnetwork 750         Router          91.95          \n",
      "Dnetwork 500         Router          71.95          \n"
     ]
    }
   ],
   "source": [
    "# Task 3.2\n",
    "with open('INVENTORY.txt') as f:\n",
    "    data = f.readlines()\n",
    "    info = [ele.strip().split('\\t') for ele in data]\n",
    "\n",
    "for ele in info:\n",
    "    name, ptype, pprice, sprice, n = ele\n",
    "    profit_margin = round(float(sprice) - float(pprice), 2)\n",
    "    ele.append(profit_margin)\n",
    "\n",
    "# calculate and display total profit\n",
    "total_profit = 0\n",
    "for ele in info:\n",
    "    n, profit_margin = ele[-2], ele[-1]\n",
    "    total_profit += int(n) * profit_margin\n",
    "# print('total profit:', total_profit)\n",
    "\n",
    "\n",
    "# sort using merge sort descending\n",
    "def merge_sort(arr):\n",
    "    if len(arr) <= 1:\n",
    "        return arr\n",
    "    mid = len(arr) // 2\n",
    "    left = arr[:mid]\n",
    "    right = arr[mid:]\n",
    "    \n",
    "    return merge(merge_sort(left), merge_sort(right))\n",
    "\n",
    "def merge(left, right):\n",
    "    lst = []\n",
    "    while len(left) != 0 and len(right) != 0:\n",
    "        if left[0][-1] > right[0][-1]:\n",
    "            lst.append(left.pop(0))\n",
    "        else:\n",
    "            lst.append(right.pop(0))\n",
    "            \n",
    "    if len(left) != 0:\n",
    "        lst += left\n",
    "        \n",
    "    if len(right) != 0:\n",
    "        lst += right\n",
    "        \n",
    "    return lst\n",
    "\n",
    "sorted_info = merge_sort(info)\n",
    "print('{:<20} {:<15} {:<15}'.format('Product', 'Product Type', 'Profit Margin'))\n",
    "for ele in sorted_info:\n",
    "    product, ptype, profit = ele[0], ele[1], ele[-1]\n",
    "    print('{:<20} {:<15} {:<15}'.format(product, ptype, profit))"
   ]
  },
  {
   "cell_type": "code",
   "execution_count": null,
   "metadata": {},
   "outputs": [],
   "source": []
  }
 ],
 "metadata": {
  "kernelspec": {
   "display_name": "Python 3",
   "language": "python",
   "name": "python3"
  },
  "language_info": {
   "codemirror_mode": {
    "name": "ipython",
    "version": 3
   },
   "file_extension": ".py",
   "mimetype": "text/x-python",
   "name": "python",
   "nbconvert_exporter": "python",
   "pygments_lexer": "ipython3",
   "version": "3.6.4"
  }
 },
 "nbformat": 4,
 "nbformat_minor": 2
}
