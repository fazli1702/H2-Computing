{
 "cells": [
  {
   "cell_type": "code",
   "execution_count": 1,
   "metadata": {},
   "outputs": [],
   "source": [
    "from random import randint"
   ]
  },
  {
   "cell_type": "code",
   "execution_count": 2,
   "metadata": {},
   "outputs": [
    {
     "name": "stdout",
     "output_type": "stream",
     "text": [
      "[91, 25, 53, 5, 37, 82, 94, 29, 9, 29]\n",
      "[5, 9, 25, 29, 29, 37, 53, 82, 91, 94]\n"
     ]
    }
   ],
   "source": [
    "def bubble_sort(arr):\n",
    "    end = len(arr) - 1\n",
    "    while end != 0:\n",
    "        swap = False\n",
    "        for i in range(end):\n",
    "            if arr[i] > arr[i+1]:\n",
    "                arr[i], arr[i+1] = arr[i+1], arr[i]\n",
    "                swap = True\n",
    "                \n",
    "        if not swap:\n",
    "            break\n",
    "        else:\n",
    "            end -= 1\n",
    "    return lst\n",
    "            \n",
    "lst = [randint(0, 100) for i in range(10)]\n",
    "print(lst)\n",
    "print(bubble_sort(lst))"
   ]
  },
  {
   "cell_type": "code",
   "execution_count": 5,
   "metadata": {},
   "outputs": [
    {
     "name": "stdout",
     "output_type": "stream",
     "text": [
      "[0, 62, 36, 30, 78, 40, 81, 79, 48, 65]\n",
      "[0, 30, 36, 40, 48, 62, 65, 78, 79, 81]\n"
     ]
    }
   ],
   "source": [
    "def insertion_sort(arr):\n",
    "    for i in range(1, len(arr)):\n",
    "        key = arr[i]\n",
    "        j = i - 1\n",
    "        while j >= 0 and key < arr[j]:\n",
    "            arr[j], arr[j+1] = arr[j+1], arr[j]\n",
    "            j -= 1\n",
    "    return arr\n",
    "\n",
    "lst = [randint(0, 100) for i in range(10)]\n",
    "print(lst)\n",
    "print(insertion_sort(lst))"
   ]
  },
  {
   "cell_type": "code",
   "execution_count": 6,
   "metadata": {},
   "outputs": [
    {
     "name": "stdout",
     "output_type": "stream",
     "text": [
      "[37, 17, 63, 3, 47, 41, 65, 26, 70, 38]\n",
      "[3, 17, 26, 37, 38, 41, 47, 63, 65, 70]\n"
     ]
    }
   ],
   "source": [
    "def merge_sort(arr):\n",
    "    if len(arr) <= 1:\n",
    "        return arr\n",
    "    \n",
    "    mid = len(arr) // 2\n",
    "    left = arr[:mid]\n",
    "    right = arr[mid:]\n",
    "    \n",
    "    return merge(merge_sort(left), merge_sort(right))\n",
    "\n",
    "def merge(left, right):\n",
    "    lst = []\n",
    "    while len(left) != 0 and len(right) != 0:\n",
    "        if left[0] < right[0]:\n",
    "            lst.append(left.pop(0))\n",
    "        else:\n",
    "            lst.append(right.pop(0))\n",
    "    \n",
    "    if len(left) != 0:\n",
    "        lst += left\n",
    "    if len(right) != 0:\n",
    "        lst += right\n",
    "        \n",
    "    return lst\n",
    "\n",
    "lst = [randint(0, 100) for i in range(10)]\n",
    "print(lst)\n",
    "print(merge_sort(lst))"
   ]
  },
  {
   "cell_type": "code",
   "execution_count": 8,
   "metadata": {},
   "outputs": [
    {
     "name": "stdout",
     "output_type": "stream",
     "text": [
      "[50, 44, 99, 91, 21, 89, 93, 23, 94, 67]\n",
      "[21, 23, 44, 50, 67, 89, 91, 93, 94, 99]\n"
     ]
    }
   ],
   "source": [
    "def quicksort(arr):\n",
    "    return quicksortHelper(arr, 0, len(arr)-1)\n",
    "\n",
    "def quicksortHelper(arr, low, high):\n",
    "    if low < high:\n",
    "        mid = partition(arr, low, high)\n",
    "        quicksortHelper(arr, low, mid-1)\n",
    "        quicksortHelper(arr, mid+1, high)\n",
    "    return arr\n",
    "\n",
    "def partition(arr, low, high):\n",
    "    pivot = arr[low]\n",
    "    left = low + 1\n",
    "    right = high\n",
    "    done = False\n",
    "    \n",
    "    while not done:\n",
    "        while left <= right and arr[left] <= pivot:\n",
    "            left += 1\n",
    "        while left <= right and arr[right] >= pivot:\n",
    "            right -= 1\n",
    "        \n",
    "        if left > right:\n",
    "            done = True\n",
    "        else:\n",
    "            arr[left], arr[right] = arr[right], arr[left]\n",
    "            \n",
    "    arr[right], arr[low] = arr[low], arr[right]\n",
    "    return right\n",
    "\n",
    "lst = [randint(0, 100) for i in range(10)]\n",
    "print(lst)\n",
    "print(quicksort(lst))"
   ]
  },
  {
   "cell_type": "code",
   "execution_count": null,
   "metadata": {},
   "outputs": [],
   "source": []
  }
 ],
 "metadata": {
  "kernelspec": {
   "display_name": "Python 3",
   "language": "python",
   "name": "python3"
  },
  "language_info": {
   "codemirror_mode": {
    "name": "ipython",
    "version": 3
   },
   "file_extension": ".py",
   "mimetype": "text/x-python",
   "name": "python",
   "nbconvert_exporter": "python",
   "pygments_lexer": "ipython3",
   "version": "3.6.4"
  }
 },
 "nbformat": 4,
 "nbformat_minor": 2
}
