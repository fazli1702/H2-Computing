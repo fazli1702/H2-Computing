{
 "cells": [
  {
   "cell_type": "code",
   "execution_count": 1,
   "metadata": {},
   "outputs": [],
   "source": [
    "# Task 1.1\n",
    "import pymongo\n",
    "\n",
    "client = pymongo.MongoClient('127.0.0.1', 27017)\n",
    "db = client.get_database('GovTech')\n",
    "col = db.get_collection('Datasets')"
   ]
  },
  {
   "cell_type": "code",
   "execution_count": 2,
   "metadata": {},
   "outputs": [],
   "source": [
    "# Task 1.2\n",
    "import csv\n",
    "\n",
    "with open('data-gov-sg-dataset-listing.csv') as f:\n",
    "    data = csv.reader(f)\n",
    "    next(data)\n",
    "    for _id, org, did, dname, dcreated, lupdate, desc, freq, cstart, cend, rid, rname, rdesc, rformat in data:\n",
    "        info = {\n",
    "            '_id':_id,\n",
    "            'organization':org,\n",
    "            'datasest_id':did,\n",
    "            'dataset_name':dname,\n",
    "            'date_created':dcreated,\n",
    "            'last_updated':lupdate,\n",
    "            'description':desc,\n",
    "            'frequency':freq,\n",
    "            'coverage_start':cstart,\n",
    "            'coverage_end':cend,\n",
    "            'resource_id':rid,\n",
    "            'resource_name':rname,\n",
    "            'resource_description':rdesc,\n",
    "            'resource_format':rformat\n",
    "        }\n",
    "        col.insert_one(info)"
   ]
  },
  {
   "cell_type": "code",
   "execution_count": 22,
   "metadata": {},
   "outputs": [
    {
     "name": "stdout",
     "output_type": "stream",
     "text": [
      "{'_id': '2', 'dataset_name': '3G Public Cellular Mobile Telephone Services - Average Success Rate Across All Cells'}\n",
      "{'_id': '3', 'dataset_name': '3G Public Cellular Mobile Telephone Services - Average Success Rate Across All Cells'}\n",
      "{'_id': '4', 'dataset_name': '3G Public Cellular Mobile Telephone Services - Average Success Rate Across All Cells'}\n",
      "{'_id': '5', 'dataset_name': '3G Public Cellular Mobile Telephone Services - Average Drop Call Rate'}\n",
      "{'_id': '6', 'dataset_name': '3G Public Cellular Mobile Telephone Services  - Nation-wide Service Coverage'}\n",
      "{'_id': '142', 'dataset_name': 'Arts Classification Database'}\n"
     ]
    }
   ],
   "source": [
    "# Task 1.3\n",
    "query = {'organization':'Infocomm Media Development Authority'}\n",
    "display = {'_id':1, 'dataset_name':1}\n",
    "info = col.find(query, display)\n",
    "\n",
    "for ele in info:\n",
    "    print(ele)"
   ]
  },
  {
   "cell_type": "code",
   "execution_count": 26,
   "metadata": {},
   "outputs": [
    {
     "name": "stdout",
     "output_type": "stream",
     "text": [
      "37\n"
     ]
    }
   ],
   "source": [
    "# Task 1.4\n",
    "\n",
    "query = {'resource_format':{'$in':['KML', 'GeoJSON', 'SHP']}}\n",
    "\n",
    "count = 0\n",
    "for ele in col.find(query):\n",
    "    count += 1\n",
    "print(count)"
   ]
  },
  {
   "cell_type": "code",
   "execution_count": 27,
   "metadata": {},
   "outputs": [
    {
     "name": "stdout",
     "output_type": "stream",
     "text": [
      "{'_id': '51'}\n",
      "{'_id': '52'}\n",
      "{'_id': '182'}\n",
      "{'_id': '183'}\n",
      "{'_id': '184'}\n",
      "{'_id': '185'}\n",
      "{'_id': '186'}\n",
      "{'_id': '187'}\n",
      "{'_id': '188'}\n",
      "{'_id': '189'}\n",
      "{'_id': '190'}\n",
      "{'_id': '191'}\n",
      "{'_id': '192'}\n",
      "{'_id': '193'}\n",
      "{'_id': '194'}\n",
      "{'_id': '195'}\n",
      "{'_id': '196'}\n",
      "{'_id': '197'}\n",
      "{'_id': '198'}\n",
      "{'_id': '199'}\n",
      "{'_id': '200'}\n"
     ]
    }
   ],
   "source": [
    "# Task 1.5\n",
    "\n",
    "query = {'$and':[{'frequency':'Adhoc', 'coverage_start':'na'}]}\n",
    "display = {'_id':1}\n",
    "for ele in col.find(query, display):\n",
    "    print(ele)"
   ]
  },
  {
   "cell_type": "code",
   "execution_count": null,
   "metadata": {},
   "outputs": [],
   "source": []
  }
 ],
 "metadata": {
  "kernelspec": {
   "display_name": "Python 3",
   "language": "python",
   "name": "python3"
  },
  "language_info": {
   "codemirror_mode": {
    "name": "ipython",
    "version": 3
   },
   "file_extension": ".py",
   "mimetype": "text/x-python",
   "name": "python",
   "nbconvert_exporter": "python",
   "pygments_lexer": "ipython3",
   "version": "3.6.4"
  }
 },
 "nbformat": 4,
 "nbformat_minor": 2
}
