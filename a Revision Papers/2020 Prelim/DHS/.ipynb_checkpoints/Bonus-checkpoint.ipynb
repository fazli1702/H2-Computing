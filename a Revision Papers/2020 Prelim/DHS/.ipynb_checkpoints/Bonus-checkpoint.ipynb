{
 "cells": [
  {
   "cell_type": "code",
   "execution_count": 1,
   "metadata": {},
   "outputs": [
    {
     "data": {
      "text/plain": [
       "3"
      ]
     },
     "execution_count": 1,
     "metadata": {},
     "output_type": "execute_result"
    }
   ],
   "source": [
    "class stack:\n",
    "    def __init__(self):\n",
    "        self.lst = []\n",
    "        \n",
    "    def push(self, n):\n",
    "        self.lst.append(n)\n",
    "        \n",
    "    def pop(self):\n",
    "        return self.lst.pop()\n",
    "    \n",
    "    def peek(self):\n",
    "        return self.lst[-1]\n",
    "\n",
    "\n",
    "def operate(op, x, y):\n",
    "    if op == '+':\n",
    "        return x + y\n",
    "    elif op == '-':\n",
    "        return x - y\n",
    "    elif op == '*':\n",
    "        return x * y\n",
    "    else:\n",
    "        return x / y\n",
    "    \n",
    "    \n",
    "def postfix(s):\n",
    "    operands = stack()\n",
    "    total = 0\n",
    "    for ele in s:\n",
    "        if ele.isdigit():\n",
    "            operands.push(int(ele))\n",
    "        else:\n",
    "            y = operands.pop()\n",
    "            x = operands.pop()\n",
    "            new = operate(ele, x, y)\n",
    "            operands.push(new)\n",
    "            \n",
    "    return operands.peek()\n",
    "\n",
    "postfix('231+*5-')"
   ]
  },
  {
   "cell_type": "code",
   "execution_count": null,
   "metadata": {},
   "outputs": [],
   "source": []
  }
 ],
 "metadata": {
  "kernelspec": {
   "display_name": "Python 3",
   "language": "python",
   "name": "python3"
  },
  "language_info": {
   "codemirror_mode": {
    "name": "ipython",
    "version": 3
   },
   "file_extension": ".py",
   "mimetype": "text/x-python",
   "name": "python",
   "nbconvert_exporter": "python",
   "pygments_lexer": "ipython3",
   "version": "3.6.4"
  }
 },
 "nbformat": 4,
 "nbformat_minor": 2
}
