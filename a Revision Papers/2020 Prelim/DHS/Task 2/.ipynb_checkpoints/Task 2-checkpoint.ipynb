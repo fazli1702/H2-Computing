{
 "cells": [
  {
   "cell_type": "code",
   "execution_count": 29,
   "metadata": {},
   "outputs": [
    {
     "name": "stdout",
     "output_type": "stream",
     "text": [
      "Bach\n",
      "Beethoven\n",
      "Mozart\n",
      "\n",
      "Hilbert\n",
      "Ramanujan\n",
      "Godel\n",
      "Poincare\n",
      "Pochhammmer\n",
      "\n"
     ]
    }
   ],
   "source": [
    "def read():\n",
    "    with open('LASTNAMES.txt') as f:\n",
    "        data = [ele.strip() for ele in f.readlines()]\n",
    "        lst = []\n",
    "        i = 0\n",
    "        while True:\n",
    "            if data[i].isdigit():\n",
    "                if int(data[i]) != 0:\n",
    "                    temp = []\n",
    "                    j = int(i) + 1\n",
    "                    for k in range(j, j+int(data[i])):\n",
    "                        temp.append(data[k])\n",
    "                    lst.append(temp)\n",
    "                    i = j+i\n",
    "                else:\n",
    "                    break\n",
    "            else:\n",
    "                i += 1\n",
    "            \n",
    "    return lst\n",
    "\n",
    "def getValue(name):\n",
    "    total = 0\n",
    "    for ele in name[:2]:\n",
    "        total += ord(ele)\n",
    "    return total\n",
    "\n",
    "def stable_sort(lst):\n",
    "    names = [[name, getValue(name)] for name in lst]\n",
    "    for i in range(len(names)):\n",
    "        for j in range(len(names)-1):\n",
    "            if names[j][1] > names[j+1][1]:\n",
    "                names[j], names[j+1] = names[j+1], names[j]\n",
    "    names = [name for name, value in names]\n",
    "    return names\n",
    "    \n",
    "\n",
    "def main():\n",
    "    data = read()\n",
    "    output = [stable_sort(names) for names in data]\n",
    "    for names in output:\n",
    "        for name in names:\n",
    "            print(name)\n",
    "        print()\n",
    "    \n",
    "main()"
   ]
  },
  {
   "cell_type": "code",
   "execution_count": null,
   "metadata": {},
   "outputs": [],
   "source": []
  },
  {
   "cell_type": "code",
   "execution_count": null,
   "metadata": {},
   "outputs": [],
   "source": []
  }
 ],
 "metadata": {
  "kernelspec": {
   "display_name": "Python 3",
   "language": "python",
   "name": "python3"
  },
  "language_info": {
   "codemirror_mode": {
    "name": "ipython",
    "version": 3
   },
   "file_extension": ".py",
   "mimetype": "text/x-python",
   "name": "python",
   "nbconvert_exporter": "python",
   "pygments_lexer": "ipython3",
   "version": "3.6.4"
  }
 },
 "nbformat": 4,
 "nbformat_minor": 2
}
