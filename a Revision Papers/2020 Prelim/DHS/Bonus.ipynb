{
 "cells": [
  {
   "cell_type": "code",
   "execution_count": 1,
   "metadata": {},
   "outputs": [
    {
     "data": {
      "text/plain": [
       "3"
      ]
     },
     "execution_count": 1,
     "metadata": {},
     "output_type": "execute_result"
    }
   ],
   "source": [
    "class stack:\n",
    "    def __init__(self):\n",
    "        self.lst = []\n",
    "        \n",
    "    def push(self, n):\n",
    "        self.lst.append(n)\n",
    "        \n",
    "    def pop(self):\n",
    "        return self.lst.pop()\n",
    "    \n",
    "    def peek(self):\n",
    "        return self.lst[-1]\n",
    "\n",
    "\n",
    "def operate(op, x, y):\n",
    "    if op == '+':\n",
    "        return x + y\n",
    "    elif op == '-':\n",
    "        return x - y\n",
    "    elif op == '*':\n",
    "        return x * y\n",
    "    else:\n",
    "        return x / y\n",
    "    \n",
    "    \n",
    "def postfix(s):\n",
    "    operands = stack()\n",
    "    total = 0\n",
    "    for ele in s:\n",
    "        if ele.isdigit():\n",
    "            operands.push(int(ele))\n",
    "        else:\n",
    "            y = operands.pop()\n",
    "            x = operands.pop()\n",
    "            new = operate(ele, x, y)\n",
    "            operands.push(new)\n",
    "            \n",
    "    return operands.peek()\n",
    "\n",
    "postfix('231+*5-')"
   ]
  },
  {
   "cell_type": "code",
   "execution_count": 1,
   "metadata": {},
   "outputs": [
    {
     "data": {
      "text/plain": [
       "9"
      ]
     },
     "execution_count": 1,
     "metadata": {},
     "output_type": "execute_result"
    }
   ],
   "source": [
    "eval('5+4')"
   ]
  },
  {
   "cell_type": "code",
   "execution_count": 2,
   "metadata": {},
   "outputs": [
    {
     "name": "stdout",
     "output_type": "stream",
     "text": [
      "Help on built-in function eval in module builtins:\n",
      "\n",
      "eval(source, globals=None, locals=None, /)\n",
      "    Evaluate the given source in the context of globals and locals.\n",
      "    \n",
      "    The source may be a string representing a Python expression\n",
      "    or a code object as returned by compile().\n",
      "    The globals must be a dictionary and locals can be any mapping,\n",
      "    defaulting to the current globals and locals.\n",
      "    If only globals is given, locals defaults to it.\n",
      "\n"
     ]
    }
   ],
   "source": []
  },
  {
   "cell_type": "code",
   "execution_count": null,
   "metadata": {},
   "outputs": [],
   "source": []
  }
 ],
 "metadata": {
  "kernelspec": {
   "display_name": "Python 3",
   "language": "python",
   "name": "python3"
  },
  "language_info": {
   "codemirror_mode": {
    "name": "ipython",
    "version": 3
   },
   "file_extension": ".py",
   "mimetype": "text/x-python",
   "name": "python",
   "nbconvert_exporter": "python",
   "pygments_lexer": "ipython3",
   "version": "3.6.4"
  }
 },
 "nbformat": 4,
 "nbformat_minor": 2
}
