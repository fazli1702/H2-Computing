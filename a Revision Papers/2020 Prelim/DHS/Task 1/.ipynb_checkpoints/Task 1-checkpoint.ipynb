{
 "cells": [
  {
   "cell_type": "code",
   "execution_count": 11,
   "metadata": {},
   "outputs": [
    {
     "data": {
      "text/plain": [
       "['02548147', '32285195', '14394568', '72652582', '27524883', '46528658']"
      ]
     },
     "execution_count": 11,
     "metadata": {},
     "output_type": "execute_result"
    }
   ],
   "source": [
    "# Task 1.1\n",
    "\n",
    "def read():\n",
    "    with open('TOKEN.txt') as f:\n",
    "        data = f.readlines()\n",
    "        lst = []\n",
    "        for row in data:\n",
    "            row = row.strip().split(',')\n",
    "            row[2] = int(row[2])\n",
    "            dt = row[-1].split(' ')\n",
    "            newRow = row[:-1] + dt\n",
    "            lst.append(newRow)\n",
    "    return lst\n",
    "\n",
    "def main():\n",
    "    data = read()\n",
    "    close_contact = []\n",
    "    temp = ''\n",
    "    count = 0\n",
    "    for i, ele in enumerate(data):\n",
    "        userId, otherId, rssi, date, time = ele\n",
    "        if rssi >= -30:\n",
    "            if temp == '':\n",
    "                temp = otherId\n",
    "            elif otherId == temp:\n",
    "                if count >= 3:\n",
    "                    if otherId not in close_contact:\n",
    "                        close_contact.append(otherId)\n",
    "                else:\n",
    "                    count += 1\n",
    "            else:\n",
    "                temp = otherId\n",
    "                \n",
    "                \n",
    "    return close_contact\n",
    "\n",
    "\n",
    "main()"
   ]
  },
  {
   "cell_type": "code",
   "execution_count": 15,
   "metadata": {},
   "outputs": [
    {
     "name": "stdout",
     "output_type": "stream",
     "text": [
      "57345286 is NOT in close contact with 75348257\n",
      "57345286 is NOT in close contact with 45174591\n",
      "57345286 is in close contact with 02548147\n",
      "start time: 08:30:00\n",
      "end time: 09:00:00\n",
      "duration: 1 HOUR, 30 MIN\n"
     ]
    }
   ],
   "source": [
    "# Task 1.2\n",
    "\n",
    "def is_close_contact(rid1, rid2):\n",
    "    close_contact = main()\n",
    "    if rid2 in close_contact:\n",
    "        return True\n",
    "    return False\n",
    "\n",
    "def calculate_time(start, end):\n",
    "    sh, sm, ss = start.split(':')\n",
    "    eh, em, es = end.split(':')\n",
    "    \n",
    "    th = abs(int(sh) - int(eh))\n",
    "    tm = abs(int(sm) - int(em))\n",
    "    \n",
    "    if tm > 60:\n",
    "        th += tm // 60\n",
    "        tm %= 60\n",
    "    \n",
    "    return f'{th} HOUR, {tm} MIN'\n",
    "\n",
    "\n",
    "\n",
    "\n",
    "def main2():\n",
    "    randomId = ['75348257', '45174591', '02548147']\n",
    "    data = read()\n",
    "    for rid in randomId:\n",
    "        if is_close_contact('57345286', rid):\n",
    "            start_time = ''\n",
    "            end_time = ''\n",
    "            for i, ele in enumerate(data):\n",
    "                userId, otherId, rssi, date, time = ele\n",
    "                if start_time == '':\n",
    "                    start_time = time\n",
    "                end_time = time\n",
    "            print(f'57345286 is in close contact with {rid}')\n",
    "            print('start time:', start_time)\n",
    "            print('end time:', end_time)\n",
    "            print('duration:', calculate_time(start_time, end_time))\n",
    "            \n",
    "        else:\n",
    "            print(f'57345286 is NOT in close contact with {rid}')\n",
    "            \n",
    "main2()"
   ]
  },
  {
   "cell_type": "code",
   "execution_count": null,
   "metadata": {},
   "outputs": [],
   "source": []
  }
 ],
 "metadata": {
  "kernelspec": {
   "display_name": "Python 3",
   "language": "python",
   "name": "python3"
  },
  "language_info": {
   "codemirror_mode": {
    "name": "ipython",
    "version": 3
   },
   "file_extension": ".py",
   "mimetype": "text/x-python",
   "name": "python",
   "nbconvert_exporter": "python",
   "pygments_lexer": "ipython3",
   "version": "3.6.4"
  }
 },
 "nbformat": 4,
 "nbformat_minor": 2
}
