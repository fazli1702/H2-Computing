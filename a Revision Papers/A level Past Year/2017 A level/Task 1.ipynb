{
 "cells": [
  {
   "cell_type": "code",
   "execution_count": 5,
   "metadata": {},
   "outputs": [
    {
     "name": "stdout",
     "output_type": "stream",
     "text": [
      "ItemType             Count          \n",
      "\n",
      "Leaves               12             \n",
      "Sand                 10             \n",
      "Powered Rail         12             \n",
      "Gravel               4              \n",
      "Sponge               13             \n",
      "Wood                 8              \n",
      "Sandstone            8              \n",
      "Cobweb               9              \n",
      "Stationary Lava      11             \n",
      "Stationary Water     6              \n",
      "Glass                6              \n",
      "Detector Rail        7              \n",
      "Saplings             7              \n",
      "Grass Block          15             \n",
      "Sticky Piston        9              \n",
      "Iron Ore             7              \n",
      "Cobblestone          7              \n",
      "Air                  7              \n",
      "Gold Ore             5              \n",
      "Bedrock              5              \n",
      "Coal Ore             4              \n",
      "Lava                 9              \n",
      "Stone                4              \n",
      "Wooden Planks        7              \n",
      "Water                6              \n",
      "Note Block           2              \n"
     ]
    }
   ],
   "source": [
    "# Task 1.1\n",
    "\n",
    "with open('INVENTORY.TXT') as f:\n",
    "    data = f.readlines()\n",
    "    Inventory = [ele.strip() for ele in data]\n",
    "\n",
    "ItemTypes = []\n",
    "for ele in Inventory:\n",
    "    if ele not in ItemTypes:\n",
    "        ItemTypes.append(ele)\n",
    "\n",
    "ItemCounts = [0 for i in range(len(ItemTypes))]\n",
    "for ele in Inventory:\n",
    "    for i in range(len(ItemTypes)):\n",
    "        if ele == ItemTypes[i]:\n",
    "            ItemCounts[i] += 1\n",
    "\n",
    "print('{:<20} {:<15}'.format('ItemType', 'Count'))\n",
    "print()\n",
    "for item, count in zip(ItemTypes, ItemCounts):\n",
    "    print('{:<20} {:<15}'.format(item, count))\n",
    "    "
   ]
  },
  {
   "cell_type": "code",
   "execution_count": null,
   "metadata": {},
   "outputs": [],
   "source": []
  }
 ],
 "metadata": {
  "kernelspec": {
   "display_name": "Python 3",
   "language": "python",
   "name": "python3"
  },
  "language_info": {
   "codemirror_mode": {
    "name": "ipython",
    "version": 3
   },
   "file_extension": ".py",
   "mimetype": "text/x-python",
   "name": "python",
   "nbconvert_exporter": "python",
   "pygments_lexer": "ipython3",
   "version": "3.6.4"
  }
 },
 "nbformat": 4,
 "nbformat_minor": 2
}
