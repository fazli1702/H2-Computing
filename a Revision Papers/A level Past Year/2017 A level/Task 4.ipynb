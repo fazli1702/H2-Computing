{
 "cells": [
  {
   "cell_type": "code",
   "execution_count": 19,
   "metadata": {
    "scrolled": true
   },
   "outputs": [],
   "source": [
    "# Task 4.1\n",
    "\n",
    "def init_grid():\n",
    "    grid = []  # declare\n",
    "    \n",
    "    grid = [[4, 3, 2, 1],   # intialise grid\n",
    "           [1, 2, 4, 3],\n",
    "           [3, 4, 1, 2],\n",
    "           [2, 1, 3, 4]]\n",
    "    \n",
    "    return grid"
   ]
  },
  {
   "cell_type": "code",
   "execution_count": 20,
   "metadata": {},
   "outputs": [
    {
     "name": "stdout",
     "output_type": "stream",
     "text": [
      "4 3 2 1\n",
      "1 2 4 3\n",
      "3 4 1 2\n",
      "2 1 3 4\n",
      "\n"
     ]
    }
   ],
   "source": [
    "# Task 4.2\n",
    "def display_grid(grid):\n",
    "    for row in grid:\n",
    "        string = ''\n",
    "        for ele in row:\n",
    "            string += str(ele) + ' '\n",
    "        print(string.strip())\n",
    "    print()\n",
    "        \n",
    "grid = init_grid()\n",
    "display_grid(grid)"
   ]
  },
  {
   "cell_type": "code",
   "execution_count": 22,
   "metadata": {},
   "outputs": [
    {
     "name": "stdout",
     "output_type": "stream",
     "text": [
      "4 3 2 1\n",
      "1 2 4 3\n",
      "3 4 1 2\n",
      "2 1 3 4\n",
      "\n",
      "Transformation 4: Swaps the left and right quadrant columns entirely\n",
      "2 1 4 3\n",
      "4 3 1 2\n",
      "1 2 3 4\n",
      "3 4 2 1\n",
      "\n",
      "Transformation 2: Swaps the two columns in the same quadrants\n",
      "1 2 4 3\n",
      "3 4 1 2\n",
      "2 1 3 4\n",
      "4 3 2 1\n",
      "\n"
     ]
    }
   ],
   "source": [
    "# Task 4.3\n",
    "\n",
    "def transform1(grid, quad):\n",
    "    # quad - which quadrant to swap\n",
    "    # 0 - top quadrant, 1 - bottom quadrant\n",
    "    if quad == 0:\n",
    "        grid[0], grid[1] = grid[1], grid[0]\n",
    "    else:\n",
    "        grid[2], grid[3] = grid[3], grid[2] \n",
    "    \n",
    "    print('Transformation 1: Swaps two rows in the same quadrant')\n",
    "    display_grid(grid)\n",
    "    \n",
    "    \n",
    "def transform2(grid, quad):\n",
    "    # quad - which quadrant to swap\n",
    "    # 0 - left quadrant, 1 - right quadrant\n",
    "    if quad == 1:\n",
    "        # find values in each column (3 & 4)\n",
    "        col4 = [row[3] for row in grid] \n",
    "        col3 = [row[2] for row in grid]\n",
    "        for i in range(4):\n",
    "            row = grid[i]\n",
    "            row[2], row[3] = col4[i], col3[i]\n",
    "            \n",
    "    else:\n",
    "        # find values in each column (1 & 2)\n",
    "        col2 = [row[1] for row in grid]\n",
    "        col1 = [row[0] for row in grid]\n",
    "        for i in range(4):\n",
    "            row = grid[i]\n",
    "            row[0], row[1] = col2[i], col1[i]\n",
    "            \n",
    "    print('Transformation 2: Swaps the two columns in the same quadrants')\n",
    "    display_grid(grid)\n",
    "\n",
    "\n",
    "\n",
    "def transform3(grid):\n",
    "    # swap row 1&3 and row 2&4\n",
    "    grid[0], grid[2] = grid[2], grid[0]\n",
    "    grid[1], grid[3] = grid[3], grid[1]\n",
    "    \n",
    "    print('Transformation 3: Swaps the top and bottom quadrant rows entirely')\n",
    "    display_grid(grid)\n",
    "    \n",
    "    \n",
    "def transform4(grid):\n",
    "    # values in each column\n",
    "    col1 = [row[0] for row in grid]\n",
    "    col2 = [row[1] for row in grid]\n",
    "    col3 = [row[2] for row in grid]\n",
    "    col4 = [row[3] for row in grid]\n",
    "    \n",
    "    for i in range(4):\n",
    "        row = grid[i]\n",
    "        # swap column 1 with column 3\n",
    "        row[0], row[2] = col3[i], col1[i]\n",
    "    \n",
    "        # swap column 2 with column 4\n",
    "        row[1], row[3] = col4[i], col2[i]\n",
    "        \n",
    "    print('Transformation 4: Swaps the left and right quadrant columns entirely')\n",
    "    display_grid(grid)\n",
    "\n",
    "    \n",
    "from random import randint    \n",
    "\n",
    "def main():\n",
    "    grid = init_grid()\n",
    "    display_grid(grid)\n",
    "    \n",
    "    for i in range(2):\n",
    "        transform_choice = randint(1, 4)  # random choice of transformation\n",
    "        if transform_choice == 1 :\n",
    "            quad = randint(0, 1)\n",
    "            transform1(grid, quad)\n",
    "        elif transform_choice == 2:\n",
    "            quad = randint(0, 1)\n",
    "            transform2(grid, quad)\n",
    "        elif transform_choice == 3:\n",
    "            transform3(grid)\n",
    "        else:\n",
    "            transform4(grid)\n",
    "    \n",
    "    \n",
    "main()"
   ]
  },
  {
   "cell_type": "code",
   "execution_count": null,
   "metadata": {},
   "outputs": [],
   "source": []
  }
 ],
 "metadata": {
  "kernelspec": {
   "display_name": "Python 3",
   "language": "python",
   "name": "python3"
  },
  "language_info": {
   "codemirror_mode": {
    "name": "ipython",
    "version": 3
   },
   "file_extension": ".py",
   "mimetype": "text/x-python",
   "name": "python",
   "nbconvert_exporter": "python",
   "pygments_lexer": "ipython3",
   "version": "3.6.4"
  }
 },
 "nbformat": 4,
 "nbformat_minor": 2
}
