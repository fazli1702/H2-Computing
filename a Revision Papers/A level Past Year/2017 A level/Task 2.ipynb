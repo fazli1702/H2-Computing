{
 "cells": [
  {
   "cell_type": "code",
   "execution_count": 4,
   "metadata": {},
   "outputs": [],
   "source": [
    "# Task 2.1\n",
    "\n",
    "def CalCheckDigit(Number, Total):\n",
    "    if len(Number) > 1:\n",
    "        Digit = int(Number[0])\n",
    "        Total += (Digit * (len(Number))+1)\n",
    "        NewNumber = Number[1:]\n",
    "        CheckDigit = CalCheckDigit(NewNumber, Total)  # A\n",
    "    \n",
    "    else:\n",
    "        Digit = int(Number[0])\n",
    "        Total += Digit * (len(Number)+1)\n",
    "        CalcModulus = Total % 11\n",
    "        CheckValue = 11 - CalcModulus\n",
    "        \n",
    "        if CheckValue == 11:\n",
    "            return '0'\n",
    "        else:\n",
    "            if CheckValue == 10:\n",
    "                return 'X'  # B\n",
    "            else:\n",
    "                return str(CheckValue)\n",
    "    \n",
    "    if len(Number) == 9:\n",
    "        return Number + CheckDigit  # c\n",
    "    else:\n",
    "        return CheckDigit"
   ]
  },
  {
   "cell_type": "code",
   "execution_count": 5,
   "metadata": {},
   "outputs": [
    {
     "name": "stdout",
     "output_type": "stream",
     "text": [
      "0070109108\n",
      "0070311362\n",
      "0026515623\n",
      "003002078X\n",
      "0030350840\n",
      "0070350485\n",
      "0070359589\n"
     ]
    }
   ],
   "source": [
    "with open('ISBNPRE.TXT') as f:\n",
    "    data = f.readlines()\n",
    "    numbers = [ele.strip() for ele in data]\n",
    "    for ele in numbers:\n",
    "        print(CalCheckDigit(ele, 0))"
   ]
  },
  {
   "cell_type": "code",
   "execution_count": null,
   "metadata": {},
   "outputs": [],
   "source": []
  }
 ],
 "metadata": {
  "kernelspec": {
   "display_name": "Python 3",
   "language": "python",
   "name": "python3"
  },
  "language_info": {
   "codemirror_mode": {
    "name": "ipython",
    "version": 3
   },
   "file_extension": ".py",
   "mimetype": "text/x-python",
   "name": "python",
   "nbconvert_exporter": "python",
   "pygments_lexer": "ipython3",
   "version": "3.6.4"
  }
 },
 "nbformat": 4,
 "nbformat_minor": 2
}
