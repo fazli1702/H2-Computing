{
 "cells": [
  {
   "cell_type": "code",
   "execution_count": 2,
   "metadata": {},
   "outputs": [
    {
     "data": {
      "text/plain": [
       "['',\n",
       " '',\n",
       " '',\n",
       " '',\n",
       " '4',\n",
       " '',\n",
       " '',\n",
       " '7',\n",
       " '',\n",
       " '',\n",
       " '',\n",
       " '',\n",
       " '',\n",
       " '',\n",
       " '',\n",
       " '',\n",
       " '',\n",
       " '17',\n",
       " '',\n",
       " '19']"
      ]
     },
     "execution_count": 2,
     "metadata": {},
     "output_type": "execute_result"
    }
   ],
   "source": [
    "# Task 2.1\n",
    "\n",
    "def init_table():\n",
    "    return ['' for i in range(20)]\n",
    "\n",
    "def Hash(IDnumber):\n",
    "    return int(IDnumber) % 20\n",
    "\n",
    "def insert(IDnumber, table):\n",
    "    i = Hash(IDnumber)\n",
    "    table[i] = IDnumber\n",
    "    \n",
    "def read():\n",
    "    with open('KEYS1.TXT') as f:\n",
    "        data = [ele.strip() for ele in f.readlines()]\n",
    "    return data\n",
    "\n",
    "def main():\n",
    "    data = read()\n",
    "    table = init_table()\n",
    "    for ele in data:\n",
    "        insert(ele, table)\n",
    "    return table\n",
    "\n",
    "main()"
   ]
  },
  {
   "cell_type": "code",
   "execution_count": 8,
   "metadata": {},
   "outputs": [
    {
     "data": {
      "text/plain": [
       "['57',\n",
       " '77',\n",
       " '',\n",
       " '',\n",
       " '4',\n",
       " '',\n",
       " '',\n",
       " '7',\n",
       " '',\n",
       " '',\n",
       " '',\n",
       " '',\n",
       " '',\n",
       " '',\n",
       " '',\n",
       " '',\n",
       " '',\n",
       " '17',\n",
       " '37',\n",
       " '19']"
      ]
     },
     "execution_count": 8,
     "metadata": {},
     "output_type": "execute_result"
    }
   ],
   "source": [
    "# Task 2.2\n",
    "\n",
    "def init_table():\n",
    "    return ['' for i in range(20)]\n",
    "\n",
    "def Hash(IDnumber):\n",
    "    return int(IDnumber) % 20\n",
    "\n",
    "def insert2(IDnumber, table):\n",
    "    i = Hash(IDnumber)\n",
    "    if table[i] == '':\n",
    "        table[i] = IDnumber\n",
    "    else:\n",
    "        while table[i] != '':\n",
    "            i = (i+1) % 20\n",
    "        table[i] = IDnumber\n",
    "    \n",
    "def read2():\n",
    "    with open('KEYS2.TXT') as f:\n",
    "        data = [ele.strip() for ele in f.readlines()]\n",
    "    return data\n",
    "\n",
    "def main2():\n",
    "    data = read2()\n",
    "    table = init_table()\n",
    "    for ele in data:\n",
    "        insert2(ele, table)\n",
    "    return table\n",
    "\n",
    "main2()"
   ]
  },
  {
   "cell_type": "code",
   "execution_count": 1,
   "metadata": {},
   "outputs": [],
   "source": [
    "# Task 2.3\n",
    "\n",
    "def init_table():\n",
    "    return ['' for i in range(20)]\n",
    "\n",
    "def Hash(IDnumber):\n",
    "    return int(IDnumber) % 20\n",
    "\n",
    "def insert2(IDnumber, table):\n",
    "    i = Hash(IDnumber)\n",
    "    if table[i] == '':\n",
    "        table[i] = IDnumber\n",
    "    else:\n",
    "        while table[i] != '':\n",
    "            i = (i+1) % 20\n",
    "        table[i] = IDnumber\n",
    "\n",
    "def search(IDnumber, table):\n",
    "    i = Hash(IDnumber)\n",
    "    if table[i] == IDnumber:\n",
    "        return i\n",
    "    else:\n",
    "        j = (i+1) % 20\n",
    "        while i != j:\n",
    "            if table[j] == IDnumber:\n",
    "                return j\n",
    "            else:\n",
    "                j = (j+1) % 20\n",
    "        return 'Not in table'\n",
    "        \n",
    "def read2():\n",
    "    with open('KEYS2.TXT') as f:\n",
    "        data = [ele.strip() for ele in f.readlines()]\n",
    "    return data\n",
    "\n",
    "def main2():\n",
    "    data = read2()\n",
    "    table = init_table()\n",
    "    for ele in data:\n",
    "        insert2(ele, table)\n",
    "    return table\n",
    "\n",
    "def menu():\n",
    "    table = main2()\n",
    "    IDnumber = input('Enter IDnumber: ')\n",
    "    return search(IDnumber, table)"
   ]
  },
  {
   "cell_type": "code",
   "execution_count": 2,
   "metadata": {},
   "outputs": [
    {
     "name": "stdout",
     "output_type": "stream",
     "text": [
      "Enter IDnumber: 37\n"
     ]
    },
    {
     "data": {
      "text/plain": [
       "18"
      ]
     },
     "execution_count": 2,
     "metadata": {},
     "output_type": "execute_result"
    }
   ],
   "source": [
    "menu()"
   ]
  },
  {
   "cell_type": "code",
   "execution_count": 3,
   "metadata": {},
   "outputs": [
    {
     "name": "stdout",
     "output_type": "stream",
     "text": [
      "Enter IDnumber: 77\n"
     ]
    },
    {
     "data": {
      "text/plain": [
       "1"
      ]
     },
     "execution_count": 3,
     "metadata": {},
     "output_type": "execute_result"
    }
   ],
   "source": [
    "menu()"
   ]
  },
  {
   "cell_type": "code",
   "execution_count": 4,
   "metadata": {},
   "outputs": [
    {
     "name": "stdout",
     "output_type": "stream",
     "text": [
      "Enter IDnumber: 97\n"
     ]
    },
    {
     "data": {
      "text/plain": [
       "'Not in table'"
      ]
     },
     "execution_count": 4,
     "metadata": {},
     "output_type": "execute_result"
    }
   ],
   "source": [
    "menu()"
   ]
  },
  {
   "cell_type": "code",
   "execution_count": null,
   "metadata": {},
   "outputs": [],
   "source": []
  }
 ],
 "metadata": {
  "kernelspec": {
   "display_name": "Python 3",
   "language": "python",
   "name": "python3"
  },
  "language_info": {
   "codemirror_mode": {
    "name": "ipython",
    "version": 3
   },
   "file_extension": ".py",
   "mimetype": "text/x-python",
   "name": "python",
   "nbconvert_exporter": "python",
   "pygments_lexer": "ipython3",
   "version": "3.6.4"
  }
 },
 "nbformat": 4,
 "nbformat_minor": 2
}
