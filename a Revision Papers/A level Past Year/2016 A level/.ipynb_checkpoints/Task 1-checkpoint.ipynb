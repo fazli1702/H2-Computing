{
 "cells": [
  {
   "cell_type": "code",
   "execution_count": 7,
   "metadata": {},
   "outputs": [
    {
     "name": "stdout",
     "output_type": "stream",
     "text": [
      "Integer    Frequency \n",
      "1:         54        \n",
      "2:         45        \n",
      "3:         59        \n",
      "4:         44        \n",
      "5:         41        \n",
      "6:         40        \n",
      "7:         60        \n",
      "8:         63        \n",
      "9:         51        \n",
      "10:        47        \n",
      "11:        57        \n",
      "12:        40        \n",
      "13:        56        \n",
      "14:        46        \n",
      "15:        48        \n",
      "16:        43        \n",
      "17:        45        \n",
      "18:        52        \n",
      "19:        47        \n",
      "20:        62        \n"
     ]
    }
   ],
   "source": [
    "# Task 1.1\n",
    "\n",
    "from random import randint\n",
    "\n",
    "def display(freq):\n",
    "    print('{:<10} {:<10}'.format('Integer', 'Frequency'))\n",
    "    for i in range(1, 21):\n",
    "        print('{:<10} {:<10}'.format(f'{i}:', freq[i]))\n",
    "\n",
    "\n",
    "def main():\n",
    "    freq = {}\n",
    "    for i in range(1000):\n",
    "        n = randint(1, 20)\n",
    "        if n not in freq:\n",
    "            freq[n] = 1\n",
    "        else:\n",
    "            freq[n] += 1\n",
    "            \n",
    "    display(freq)\n",
    "    \n",
    "main()"
   ]
  },
  {
   "cell_type": "code",
   "execution_count": 10,
   "metadata": {},
   "outputs": [
    {
     "name": "stdout",
     "output_type": "stream",
     "text": [
      "Integer    Frequency  Difference\n",
      "1:         55         5         \n",
      "2:         44         6         \n",
      "3:         47         3         \n",
      "4:         65         15        \n",
      "5:         62         12        \n",
      "6:         51         1         \n",
      "7:         49         1         \n",
      "8:         52         2         \n",
      "9:         61         11        \n",
      "10:        39         11        \n",
      "11:        59         9         \n",
      "12:        45         5         \n",
      "13:        43         7         \n",
      "14:        42         8         \n",
      "15:        47         3         \n",
      "16:        50         0         \n",
      "17:        47         3         \n",
      "18:        47         3         \n",
      "19:        54         4         \n",
      "20:        41         9         \n"
     ]
    }
   ],
   "source": [
    "# Task 1.2\n",
    "\n",
    "def display2(freq, expected):\n",
    "    print('{:<10} {:<10} {:<10}'.format('Integer', 'Frequency', 'Difference'))\n",
    "    for i in range(1, 21):\n",
    "        print('{:<10} {:<10} {:<10}'.format(f'{i}:', freq[i], int(abs(expected-freq[i]))))\n",
    "\n",
    "\n",
    "def main2():\n",
    "    freq = {}\n",
    "    expectedFreq = 1000 / 20\n",
    "    for i in range(1000):\n",
    "        n = randint(1, 20)\n",
    "        if n not in freq:\n",
    "            freq[n] = 1\n",
    "        else:\n",
    "            freq[n] += 1\n",
    "            \n",
    "    display2(freq, expectedFreq)\n",
    "            \n",
    "    \n",
    "main2()"
   ]
  },
  {
   "cell_type": "code",
   "execution_count": null,
   "metadata": {},
   "outputs": [],
   "source": []
  }
 ],
 "metadata": {
  "kernelspec": {
   "display_name": "Python 3",
   "language": "python",
   "name": "python3"
  },
  "language_info": {
   "codemirror_mode": {
    "name": "ipython",
    "version": 3
   },
   "file_extension": ".py",
   "mimetype": "text/x-python",
   "name": "python",
   "nbconvert_exporter": "python",
   "pygments_lexer": "ipython3",
   "version": "3.6.4"
  }
 },
 "nbformat": 4,
 "nbformat_minor": 2
}
