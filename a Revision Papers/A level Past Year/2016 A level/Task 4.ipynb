{
 "cells": [
  {
   "cell_type": "code",
   "execution_count": 1,
   "metadata": {},
   "outputs": [],
   "source": [
    "# Task 4.1\n",
    "\n",
    "def hexa_to_den(s):\n",
    "    values = {'A':10, 'B':11, 'C':12, 'D':13, 'E':14, 'F':15}\n",
    "    s = s[::-1]\n",
    "    total = 0\n",
    "    for i, ele in enumerate(s):\n",
    "        if ele.upper() in values:\n",
    "            total += values[ele] * (16 ** i)\n",
    "        else:\n",
    "            total += int(ele) * (16 ** i)\n",
    "    return total\n",
    "\n",
    "def main():\n",
    "    letters = ['A', 'B', 'C', 'D', 'E', 'F']\n",
    "    \n",
    "    # validate input\n",
    "    while True:\n",
    "        hexa = input('Enter hexadecimal number: ')\n",
    "        valid = False\n",
    "        for ele in hexa:\n",
    "            if not (ele.isdigit() or ele.upper() in letters):\n",
    "                break\n",
    "            else:\n",
    "                valid = True\n",
    "                \n",
    "        if valid:\n",
    "            break\n",
    "                \n",
    "    print('Denary value:', hexa_to_den(hexa))"
   ]
  },
  {
   "cell_type": "code",
   "execution_count": 4,
   "metadata": {},
   "outputs": [
    {
     "name": "stdout",
     "output_type": "stream",
     "text": [
      "Enter hexadecimal number: 9F\n",
      "Denary value: 159\n"
     ]
    }
   ],
   "source": [
    "# Task 4.2\n",
    "main()"
   ]
  },
  {
   "cell_type": "code",
   "execution_count": 10,
   "metadata": {},
   "outputs": [],
   "source": [
    "# Task 4.3\n",
    "\n",
    "def den_to_hexa(den):\n",
    "    values = {10:'A', 11:'B', 12:'C', 13:'D', 14:'E', 15:'F'}\n",
    "    hexa = ''\n",
    "    while den != 0:\n",
    "        temp = den % 16\n",
    "        if temp in values:\n",
    "            hexa += values[temp]\n",
    "        else:\n",
    "            hexa += str(temp)\n",
    "        den //= 16\n",
    "        \n",
    "    return hexa[::-1]"
   ]
  },
  {
   "cell_type": "code",
   "execution_count": 11,
   "metadata": {},
   "outputs": [
    {
     "name": "stdout",
     "output_type": "stream",
     "text": [
      "7B\n",
      "0x7b\n"
     ]
    }
   ],
   "source": [
    "print(den_to_hexa(123))\n",
    "print(hex(123))"
   ]
  },
  {
   "cell_type": "code",
   "execution_count": null,
   "metadata": {},
   "outputs": [],
   "source": []
  }
 ],
 "metadata": {
  "kernelspec": {
   "display_name": "Python 3",
   "language": "python",
   "name": "python3"
  },
  "language_info": {
   "codemirror_mode": {
    "name": "ipython",
    "version": 3
   },
   "file_extension": ".py",
   "mimetype": "text/x-python",
   "name": "python",
   "nbconvert_exporter": "python",
   "pygments_lexer": "ipython3",
   "version": "3.6.4"
  }
 },
 "nbformat": 4,
 "nbformat_minor": 2
}
