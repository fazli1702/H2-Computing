{
 "cells": [
  {
   "cell_type": "code",
   "execution_count": 10,
   "metadata": {},
   "outputs": [
    {
     "name": "stdout",
     "output_type": "stream",
     "text": [
      "7.4\n",
      "0.1\n"
     ]
    }
   ],
   "source": [
    "# Task 1.1\n",
    "with open('TIDES.txt') as f:\n",
    "    data = f.readlines()\n",
    "    tides = [ele.strip().split() for ele in data]\n",
    "    \n",
    "    high, low = float(tides[0][3]), float(tides[0][3])\n",
    "    for date, time, tide, height in tides:\n",
    "        height = float(height)\n",
    "        if tide == 'HIGH':\n",
    "            if height > high:\n",
    "                high = height\n",
    "        \n",
    "        else:\n",
    "            # low tide\n",
    "            if height < low:\n",
    "                low = height\n",
    "    \n",
    "    print(high)\n",
    "    print(low)"
   ]
  },
  {
   "cell_type": "code",
   "execution_count": 14,
   "metadata": {},
   "outputs": [
    {
     "name": "stdout",
     "output_type": "stream",
     "text": [
      "tidal range: 7.300000000000001, date of 2nd tide: 2017-08-23\n",
      "tidal range: 3.8, date of 2nd tide: 2017-08-31\n"
     ]
    }
   ],
   "source": [
    "# Task 1.2\n",
    "def calculate_tide(tide1, tide2):\n",
    "    return abs(float(tide1[3])-float(tide2[3]))\n",
    "\n",
    "with open('TIDES.txt') as f:\n",
    "    data = f.readlines()\n",
    "    tides = [ele.strip().split() for ele in data]\n",
    "    \n",
    "    tidal_range = abs(float(tides[0][3]) - float(tides[1][3]))\n",
    "    high = tidal_range\n",
    "    high_i = 0\n",
    "    low = tidal_range\n",
    "    low_i = 0\n",
    "    for i in range(len(tides)-1):\n",
    "        tidal_range = calculate_tide(tides[i], tides[i+1])\n",
    "        \n",
    "        if tidal_range > high:\n",
    "            high = tidal_range\n",
    "            high_i = i\n",
    "        \n",
    "        else:\n",
    "            low = tidal_range\n",
    "            low_i = i\n",
    "            \n",
    "    print('tidal range: {}, date of 2nd tide: {}'.format(high, tides[high_i+1][0]))\n",
    "    print('tidal range: {}, date of 2nd tide: {}'.format(low, tides[low_i+1][0]))"
   ]
  },
  {
   "cell_type": "code",
   "execution_count": null,
   "metadata": {},
   "outputs": [],
   "source": []
  }
 ],
 "metadata": {
  "kernelspec": {
   "display_name": "Python 3",
   "language": "python",
   "name": "python3"
  },
  "language_info": {
   "codemirror_mode": {
    "name": "ipython",
    "version": 3
   },
   "file_extension": ".py",
   "mimetype": "text/x-python",
   "name": "python",
   "nbconvert_exporter": "python",
   "pygments_lexer": "ipython3",
   "version": "3.6.4"
  }
 },
 "nbformat": 4,
 "nbformat_minor": 2
}
