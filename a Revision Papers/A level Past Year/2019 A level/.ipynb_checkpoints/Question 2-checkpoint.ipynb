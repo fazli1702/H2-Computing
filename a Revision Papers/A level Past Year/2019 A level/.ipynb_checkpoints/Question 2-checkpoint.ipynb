{
 "cells": [
  {
   "cell_type": "code",
   "execution_count": 6,
   "metadata": {},
   "outputs": [],
   "source": [
    "# Task 2.1\n",
    "def encode():\n",
    "    # ascii code: lower:97-122, upper:65-90\n",
    "    string = input('Enter string:')\n",
    "    out_string = ''\n",
    "    for ele in string:\n",
    "        if not ele.isalpha():\n",
    "            out_string += ele\n",
    "            \n",
    "        elif ele.isupper():\n",
    "            value = ord(ele) - 65 + 13\n",
    "            value %= 26\n",
    "            value += 65\n",
    "            out_string += chr(value)\n",
    "        \n",
    "        elif ele.islower():\n",
    "            value = ord(ele) - 97 + 13\n",
    "            value %= 26\n",
    "            value += 97\n",
    "            out_string += chr(value)\n",
    "            \n",
    "    return out_string\n",
    "    "
   ]
  },
  {
   "cell_type": "code",
   "execution_count": 7,
   "metadata": {},
   "outputs": [
    {
     "name": "stdout",
     "output_type": "stream",
     "text": [
      "Enter string:This is a word\n"
     ]
    },
    {
     "data": {
      "text/plain": [
       "'Guvf vf n jbeq'"
      ]
     },
     "execution_count": 7,
     "metadata": {},
     "output_type": "execute_result"
    }
   ],
   "source": [
    "encode()"
   ]
  },
  {
   "cell_type": "code",
   "execution_count": 8,
   "metadata": {},
   "outputs": [
    {
     "name": "stdout",
     "output_type": "stream",
     "text": [
      "Enter string:ALL &&& CAPITALS\n"
     ]
    },
    {
     "data": {
      "text/plain": [
       "'NYY &&& PNCVGNYF'"
      ]
     },
     "execution_count": 8,
     "metadata": {},
     "output_type": "execute_result"
    }
   ],
   "source": [
    "encode()"
   ]
  },
  {
   "cell_type": "code",
   "execution_count": 9,
   "metadata": {},
   "outputs": [
    {
     "name": "stdout",
     "output_type": "stream",
     "text": [
      "Enter string:UpperCamelCase12()\n"
     ]
    },
    {
     "data": {
      "text/plain": [
       "'HccrePnzryPnfr12()'"
      ]
     },
     "execution_count": 9,
     "metadata": {},
     "output_type": "execute_result"
    }
   ],
   "source": [
    "encode()"
   ]
  },
  {
   "cell_type": "code",
   "execution_count": 12,
   "metadata": {},
   "outputs": [],
   "source": [
    "# Task 2.2\n",
    "def encode2():\n",
    "    # ascii code: lower:97-122, upper:65-90\n",
    "    string = input('Enter string:')\n",
    "    out_string = ''\n",
    "    \n",
    "    for i in range(2):\n",
    "        if i == 1:\n",
    "            string = out_string\n",
    "            out_string = ''\n",
    "        for ele in string:\n",
    "            if not ele.isalpha():\n",
    "                out_string += ele\n",
    "\n",
    "            elif ele.isupper():\n",
    "                value = ord(ele) - 65 + 13\n",
    "                value %= 26\n",
    "                value += 65\n",
    "                out_string += chr(value)\n",
    "\n",
    "            elif ele.islower():\n",
    "                value = ord(ele) - 97 + 13\n",
    "                value %= 26\n",
    "                value += 97\n",
    "                out_string += chr(value)\n",
    "\n",
    "    return out_string"
   ]
  },
  {
   "cell_type": "code",
   "execution_count": 13,
   "metadata": {},
   "outputs": [
    {
     "name": "stdout",
     "output_type": "stream",
     "text": [
      "Enter string:This is a word.\n"
     ]
    },
    {
     "data": {
      "text/plain": [
       "'This is a word.'"
      ]
     },
     "execution_count": 13,
     "metadata": {},
     "output_type": "execute_result"
    }
   ],
   "source": [
    "encode2()"
   ]
  },
  {
   "cell_type": "code",
   "execution_count": 14,
   "metadata": {},
   "outputs": [
    {
     "name": "stdout",
     "output_type": "stream",
     "text": [
      "Enter string:ALL &&& CAPITALS\n"
     ]
    },
    {
     "data": {
      "text/plain": [
       "'ALL &&& CAPITALS'"
      ]
     },
     "execution_count": 14,
     "metadata": {},
     "output_type": "execute_result"
    }
   ],
   "source": [
    "encode2()"
   ]
  },
  {
   "cell_type": "code",
   "execution_count": 15,
   "metadata": {},
   "outputs": [
    {
     "name": "stdout",
     "output_type": "stream",
     "text": [
      "Enter string:UpperCamelCase12()\n"
     ]
    },
    {
     "data": {
      "text/plain": [
       "'UpperCamelCase12()'"
      ]
     },
     "execution_count": 15,
     "metadata": {},
     "output_type": "execute_result"
    }
   ],
   "source": [
    "encode2()"
   ]
  },
  {
   "cell_type": "code",
   "execution_count": null,
   "metadata": {},
   "outputs": [],
   "source": []
  }
 ],
 "metadata": {
  "kernelspec": {
   "display_name": "Python 3",
   "language": "python",
   "name": "python3"
  },
  "language_info": {
   "codemirror_mode": {
    "name": "ipython",
    "version": 3
   },
   "file_extension": ".py",
   "mimetype": "text/x-python",
   "name": "python",
   "nbconvert_exporter": "python",
   "pygments_lexer": "ipython3",
   "version": "3.6.4"
  }
 },
 "nbformat": 4,
 "nbformat_minor": 2
}
