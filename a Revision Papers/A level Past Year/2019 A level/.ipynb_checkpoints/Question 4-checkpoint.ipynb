{
 "cells": [
  {
   "cell_type": "code",
   "execution_count": 1,
   "metadata": {},
   "outputs": [],
   "source": [
    "# Task 4.1\n",
    "class stack:\n",
    "    def __init__(self):\n",
    "        self.lst = []\n",
    "        \n",
    "    def push(self, new):\n",
    "        self.lst.append(new)\n",
    "        \n",
    "    def pop(self):\n",
    "        return self.lst.pop(-1)\n",
    "    \n",
    "    def length(self):\n",
    "        return len(self.lst)"
   ]
  },
  {
   "cell_type": "code",
   "execution_count": 2,
   "metadata": {},
   "outputs": [],
   "source": [
    "# Task 4.2\n",
    "test = [\n",
    "    '([8-1]/(5*7))', # pass\n",
    "    '((8-1]/(5*7))', # fail\n",
    "    '(([{5+2}/10]*6)/{[23-10]+8}/7)', # pass - brackets are balanced\n",
    "    '{[(5+4)/2]*3}+(2*3)-1', # pass - brackets are balanced\n",
    "    '', # fail - \n",
    "    '', # fail - \n",
    "    '', # fail - \n",
    "]"
   ]
  },
  {
   "cell_type": "code",
   "execution_count": null,
   "metadata": {},
   "outputs": [],
   "source": [
    "# Task 4.3\n",
    "\n",
    "def isOpenBracket(ele):\n",
    "    return ele in ['(', '[', '{']\n",
    "\n",
    "def isCloseBracket(ele):\n",
    "    return ele in [')', ']', '}']\n",
    "\n",
    "def checkBrackets(Open, Close):\n",
    "    op = ['(', '[', '{']\n",
    "    cl = [')', ']', '}']\n",
    "    for i in range(len(Open)):\n",
    "        if Open == op[i]:\n",
    "            return Close == cl[i]\n",
    "\n",
    "def is_balanced(expression):\n",
    "    Open = stack()\n",
    "    for ele in expression:\n",
    "        if isOpenBracket(ele):\n",
    "            Open.push(ele)\n",
    "        \n",
    "        elif isCloseBracket(ele):\n",
    "            bracket = Open.pop()\n",
    "            if not checkBrackets(bracket, ele):\n",
    "                return False\n",
    "            \n",
    "    if Open.length() != 0:\n",
    "        return False\n",
    "    return True"
   ]
  }
 ],
 "metadata": {
  "kernelspec": {
   "display_name": "Python 3",
   "language": "python",
   "name": "python3"
  },
  "language_info": {
   "codemirror_mode": {
    "name": "ipython",
    "version": 3
   },
   "file_extension": ".py",
   "mimetype": "text/x-python",
   "name": "python",
   "nbconvert_exporter": "python",
   "pygments_lexer": "ipython3",
   "version": "3.6.4"
  }
 },
 "nbformat": 4,
 "nbformat_minor": 2
}
