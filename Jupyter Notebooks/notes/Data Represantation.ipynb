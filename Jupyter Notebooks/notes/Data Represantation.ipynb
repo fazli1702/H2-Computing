{
 "cells": [
  {
   "cell_type": "code",
   "execution_count": 1,
   "metadata": {},
   "outputs": [
    {
     "data": {
      "text/html": [
       "<style>\n",
       "table {float:left}\n",
       "</style>"
      ],
      "text/plain": [
       "<IPython.core.display.HTML object>"
      ]
     },
     "metadata": {},
     "output_type": "display_data"
    }
   ],
   "source": [
    "%%html\n",
    "<style>\n",
    "table {float:left}\n",
    "</style>"
   ]
  },
  {
   "cell_type": "markdown",
   "metadata": {},
   "source": [
    "# Data Representation\n",
    "\n",
    "How is data represented when computers are interacting with each other\n",
    "\n",
    "- binary -> base 2\n",
    "- octal  -> base 8\n",
    "- denary -> base 10\n",
    "- hexadecimal -> base 16\n",
    "- others -> base n"
   ]
  },
  {
   "cell_type": "markdown",
   "metadata": {},
   "source": [
    "## Binary (base 2)"
   ]
  },
  {
   "cell_type": "code",
   "execution_count": 2,
   "metadata": {},
   "outputs": [
    {
     "name": "stdout",
     "output_type": "stream",
     "text": [
      "binary: 0b1010\n",
      "denary: 10\n"
     ]
    }
   ],
   "source": [
    "print('binary:', bin(10))       # den -> bin\n",
    "print('denary:', int('1010',2)) # bin -> den"
   ]
  },
  {
   "cell_type": "markdown",
   "metadata": {},
   "source": [
    "### Conversion of denary -> binary\n",
    "\n",
    "to convert denary to binary,   \n",
    "1) we integer divide the number by two until outcome = 0  \n",
    "2) Take all the remainders in order and reverse it  "
   ]
  },
  {
   "cell_type": "markdown",
   "metadata": {},
   "source": [
    "divide  | outcome | remainder   \n",
    "--------|---------|---------\n",
    "10 // 2 |   5     | 0  \n",
    "5 // 2  |   2     | 1    \n",
    "2 // 2  |   1     | 0  \n",
    "1 // 2  |   0     | 1  "
   ]
  },
  {
   "cell_type": "markdown",
   "metadata": {},
   "source": [
    "remainder = 0101  \n",
    "binary -> reverse remainder = 1010  "
   ]
  },
  {
   "cell_type": "code",
   "execution_count": 6,
   "metadata": {},
   "outputs": [
    {
     "data": {
      "text/plain": [
       "'1010'"
      ]
     },
     "execution_count": 6,
     "metadata": {},
     "output_type": "execute_result"
    }
   ],
   "source": [
    "def denary_to_binary(n:int):\n",
    "    remainder = ''\n",
    "    while n!= 0:\n",
    "        r = n % 2\n",
    "        remainder += str(r)\n",
    "        n //= 2\n",
    "    return remainder[::-1]  # reverse the string\n",
    "\n",
    "denary_to_binary(10)"
   ]
  },
  {
   "cell_type": "markdown",
   "metadata": {},
   "source": [
    "### Conversion of binary -> denary\n",
    "\n",
    "convert binary to denary  \n",
    "1010(2) -> 10(10)\n",
    "\n",
    "reverse the numbers, i.e 1010 -> 0101\n",
    "letting the leftmost number be position 0,  \n",
    "multiply the value of the number at that position by 2^x  \n",
    "repeat and sum the numbers\n",
    "\n",
    "binary= 0|1|0|1  \n",
    "index = 0|1|2|3\n",
    "\n",
    "value * (2 ** index)\n",
    "\n",
    "value | 2 ** index | total\n",
    ":---- | :--------- | :----\n",
    "0     | 2 ** 0     | 0  \n",
    "1     | 2 ** 1     | 2  \n",
    "0     | 2 ** 2     | 0   \n",
    "1     | 2 ** 4     | 8  \n"
   ]
  },
  {
   "cell_type": "markdown",
   "metadata": {},
   "source": [
    "denary value = 0 + 2 + 0 + 8 = 10  \n",
    "1010(2) = 10(10)"
   ]
  },
  {
   "cell_type": "code",
   "execution_count": 7,
   "metadata": {},
   "outputs": [
    {
     "data": {
      "text/plain": [
       "10"
      ]
     },
     "execution_count": 7,
     "metadata": {},
     "output_type": "execute_result"
    }
   ],
   "source": [
    "def binary_to_denary(n:str):\n",
    "    n = n[::-1] # reverse string\n",
    "    den = 0\n",
    "    for i in range(len(n)):\n",
    "        den += int(n[i]) * (2 ** i)\n",
    "    return den\n",
    "\n",
    "binary_to_denary('1010')"
   ]
  },
  {
   "cell_type": "markdown",
   "metadata": {},
   "source": [
    "## All the other base follows the same conversion method"
   ]
  },
  {
   "cell_type": "markdown",
   "metadata": {},
   "source": [
    "## Octal (base - 8)"
   ]
  },
  {
   "cell_type": "code",
   "execution_count": 5,
   "metadata": {},
   "outputs": [
    {
     "name": "stdout",
     "output_type": "stream",
     "text": [
      "octal: 0o12\n",
      "denary: 10\n"
     ]
    }
   ],
   "source": [
    "print('octal:', oct(10))      # denary -> octal\n",
    "print('denary:', int('12', 8))  # octal -> denary"
   ]
  },
  {
   "cell_type": "code",
   "execution_count": 9,
   "metadata": {},
   "outputs": [
    {
     "data": {
      "text/plain": [
       "'12'"
      ]
     },
     "execution_count": 9,
     "metadata": {},
     "output_type": "execute_result"
    }
   ],
   "source": [
    "def denary_to_octal(n:int):\n",
    "    remainder = ''\n",
    "    while n != 0:\n",
    "        remainder += str(n % 8)\n",
    "        n //= 8\n",
    "    return remainder[::-1]   # reverse string\n",
    "\n",
    "denary_to_octal(10)"
   ]
  },
  {
   "cell_type": "code",
   "execution_count": 10,
   "metadata": {},
   "outputs": [
    {
     "data": {
      "text/plain": [
       "10"
      ]
     },
     "execution_count": 10,
     "metadata": {},
     "output_type": "execute_result"
    }
   ],
   "source": [
    "def octal_to_denary(n:str):\n",
    "    n = n[::-1]\n",
    "    den = 0\n",
    "    for i in range(len(n)):\n",
    "        den += int(n[i]) * (8 ** i)\n",
    "    return den\n",
    "\n",
    "octal_to_denary('12')"
   ]
  },
  {
   "cell_type": "markdown",
   "metadata": {},
   "source": [
    "## Hexadecimal (base - 16)\n",
    "\n",
    "*letter A-F represents 10-15"
   ]
  },
  {
   "cell_type": "code",
   "execution_count": 12,
   "metadata": {},
   "outputs": [
    {
     "name": "stdout",
     "output_type": "stream",
     "text": [
      "hexa: 0xa\n",
      "denary: 10\n"
     ]
    }
   ],
   "source": [
    "print('hexa:', hex(10))         # denary -> hexa\n",
    "print('denary:', int('a', 16))  # hexa -> denary"
   ]
  },
  {
   "cell_type": "code",
   "execution_count": 15,
   "metadata": {},
   "outputs": [
    {
     "data": {
      "text/plain": [
       "'A'"
      ]
     },
     "execution_count": 15,
     "metadata": {},
     "output_type": "execute_result"
    }
   ],
   "source": [
    "def denary_to_hexa(n:int):\n",
    "    value = {10:'A', 11:'B', 12:'C', 13:'D', 14:'E', 15:'F'}\n",
    "    remainder = ''\n",
    "    while n != 0:\n",
    "        temp = n % 16\n",
    "        if temp in value:\n",
    "            remainder += str(value[temp])\n",
    "        else:\n",
    "            remainder += str(temp)\n",
    "        n //= 16\n",
    "    return remainder[::-1]\n",
    "\n",
    "denary_to_hexa(10)"
   ]
  },
  {
   "cell_type": "code",
   "execution_count": 17,
   "metadata": {},
   "outputs": [
    {
     "data": {
      "text/plain": [
       "10"
      ]
     },
     "execution_count": 17,
     "metadata": {},
     "output_type": "execute_result"
    }
   ],
   "source": [
    "def hexa_to_denary(n:str):\n",
    "    n = n[::-1]\n",
    "    value = {'A':10, 'B':11, 'C':12, 'D':13, 'E':14, 'F':15}\n",
    "    den = 0\n",
    "    for i in range(len(n)):\n",
    "        if n[i] in value:\n",
    "            den += value[n[i]] * (16 ** i)\n",
    "        else:\n",
    "            den += int(n[i]) * (16 ** i)\n",
    "    return den\n",
    "\n",
    "hexa_to_denary('A')"
   ]
  },
  {
   "cell_type": "code",
   "execution_count": null,
   "metadata": {},
   "outputs": [],
   "source": []
  }
 ],
 "metadata": {
  "kernelspec": {
   "display_name": "Python 3",
   "language": "python",
   "name": "python3"
  },
  "language_info": {
   "codemirror_mode": {
    "name": "ipython",
    "version": 3
   },
   "file_extension": ".py",
   "mimetype": "text/x-python",
   "name": "python",
   "nbconvert_exporter": "python",
   "pygments_lexer": "ipython3",
   "version": "3.6.4"
  }
 },
 "nbformat": 4,
 "nbformat_minor": 2
}
