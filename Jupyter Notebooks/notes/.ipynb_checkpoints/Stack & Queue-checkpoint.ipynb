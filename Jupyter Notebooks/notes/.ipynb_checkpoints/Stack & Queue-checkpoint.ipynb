{
 "cells": [
  {
   "cell_type": "markdown",
   "metadata": {},
   "source": [
    "# Stack"
   ]
  },
  {
   "cell_type": "markdown",
   "metadata": {},
   "source": [
    "Stack is a container of objects that are inserted and removed according to the Last In First Out (LIFO)  \n",
    "  \n",
    "[1, 2, 3, 4]  \n",
    "  \n",
    "push(5)  \n",
    "  \n",
    "[1, 2, 3, 4, 5]  <- insert at the end \n",
    "\n",
    "  \n",
    "pop()  \n",
    "  \n",
    "[1, 2, 3, 4] -> remove last element"
   ]
  },
  {
   "cell_type": "code",
   "execution_count": 3,
   "metadata": {},
   "outputs": [],
   "source": [
    "class Stack:\n",
    "    def __init__(self):\n",
    "        self.lst = []\n",
    "    \n",
    "    def push(self, item):\n",
    "        self.lst.append(item)\n",
    "        \n",
    "    def pop(self):\n",
    "        return self.lst.pop()\n",
    "    \n",
    "    def peek(self):\n",
    "        return self.lst[-1]\n",
    "    \n",
    "    def display(self):\n",
    "        print(self.lst, '<- Top of stack')"
   ]
  },
  {
   "cell_type": "code",
   "execution_count": 6,
   "metadata": {},
   "outputs": [
    {
     "name": "stdout",
     "output_type": "stream",
     "text": [
      "[1, 2, 3, 4, 5] <- Top of stack\n",
      "pop: 5\n",
      "[1, 2, 3, 4] <- Top of stack\n"
     ]
    }
   ],
   "source": [
    "s = Stack()\n",
    "for i in range(1, 6):\n",
    "    s.push(i)\n",
    "s.display()\n",
    "print('pop:', s.pop())\n",
    "s.display()"
   ]
  },
  {
   "cell_type": "markdown",
   "metadata": {},
   "source": [
    "# Queue"
   ]
  },
  {
   "cell_type": "markdown",
   "metadata": {},
   "source": [
    "Queue is a container of objects that are inserted and remove using First In First Out (FIFO) principle  \n",
    "  \n",
    "[1, 2, 3, 4]  \n",
    "  \n",
    "enqueue(5)  \n",
    "  \n",
    "[1, 2, 3, 4, 5]  <- insert at end  \n",
    "  \n",
    "dequeue()  \n",
    "  \n",
    "remove from front <- [2, 3, 4, 5]  "
   ]
  },
  {
   "cell_type": "code",
   "execution_count": 8,
   "metadata": {},
   "outputs": [],
   "source": [
    "class Queue:\n",
    "    def __init__(self):\n",
    "        self.lst = []\n",
    "        \n",
    "    def enqueue(self, item):\n",
    "        self.lst.append(item)\n",
    "        \n",
    "    def dequeue(self):\n",
    "        return self.lst.pop(0)\n",
    "    \n",
    "    def display(self):\n",
    "        print('Front of queue ->', self.lst, '<- End of queue')"
   ]
  },
  {
   "cell_type": "code",
   "execution_count": 10,
   "metadata": {},
   "outputs": [
    {
     "name": "stdout",
     "output_type": "stream",
     "text": [
      "Front of queue -> [1, 2, 3, 4, 5] <- End of queue\n",
      "dequeue: 1\n",
      "Front of queue -> [2, 3, 4, 5] <- End of queue\n"
     ]
    }
   ],
   "source": [
    "q = Queue()\n",
    "for i in range(1, 6):\n",
    "    q.enqueue(i)\n",
    "q.display()\n",
    "print('dequeue:', q.dequeue())\n",
    "q.display()"
   ]
  },
  {
   "cell_type": "code",
   "execution_count": null,
   "metadata": {},
   "outputs": [],
   "source": []
  }
 ],
 "metadata": {
  "kernelspec": {
   "display_name": "Python 3",
   "language": "python",
   "name": "python3"
  },
  "language_info": {
   "codemirror_mode": {
    "name": "ipython",
    "version": 3
   },
   "file_extension": ".py",
   "mimetype": "text/x-python",
   "name": "python",
   "nbconvert_exporter": "python",
   "pygments_lexer": "ipython3",
   "version": "3.6.4"
  }
 },
 "nbformat": 4,
 "nbformat_minor": 2
}
