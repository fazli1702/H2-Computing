{
 "cells": [
  {
   "cell_type": "markdown",
   "metadata": {},
   "source": [
    "# Stack"
   ]
  },
  {
   "cell_type": "markdown",
   "metadata": {},
   "source": [
    "Stack is a container of objects that are inserted and removed according to the Last In First Out (LIFO)  \n",
    "  \n",
    "[1, 2, 3, 4]  \n",
    "  \n",
    "push(5)  \n",
    "  \n",
    "[1, 2, 3, 4, 5]  <- insert at the end \n",
    "\n",
    "  \n",
    "pop()  \n",
    "  \n",
    "[1, 2, 3, 4] -> remove last element"
   ]
  },
  {
   "cell_type": "code",
   "execution_count": 3,
   "metadata": {},
   "outputs": [],
   "source": [
    "class Stack:\n",
    "    def __init__(self):\n",
    "        self.lst = []\n",
    "    \n",
    "    def push(self, item):\n",
    "        self.lst.append(item)\n",
    "        \n",
    "    def pop(self):\n",
    "        return self.lst.pop()\n",
    "    \n",
    "    def peek(self):\n",
    "        return self.lst[-1]\n",
    "    \n",
    "    def display(self):\n",
    "        print(self.lst, '<- Top of stack')"
   ]
  },
  {
   "cell_type": "code",
   "execution_count": 6,
   "metadata": {},
   "outputs": [
    {
     "name": "stdout",
     "output_type": "stream",
     "text": [
      "[1, 2, 3, 4, 5] <- Top of stack\n",
      "pop: 5\n",
      "[1, 2, 3, 4] <- Top of stack\n"
     ]
    }
   ],
   "source": [
    "s = Stack()\n",
    "for i in range(1, 6):\n",
    "    s.push(i)\n",
    "s.display()\n",
    "print('pop:', s.pop())\n",
    "s.display()"
   ]
  },
  {
   "cell_type": "markdown",
   "metadata": {},
   "source": [
    "# Queue"
   ]
  },
  {
   "cell_type": "markdown",
   "metadata": {},
   "source": [
    "Queue is a container of objects that are inserted and remove using First In First Out (FIFO) principle  \n",
    "  \n",
    "[1, 2, 3, 4]  \n",
    "  \n",
    "enqueue(5)  \n",
    "  \n",
    "[1, 2, 3, 4, 5]  <- insert at end  \n",
    "  \n",
    "dequeue()  \n",
    "  \n",
    "remove from front <- [2, 3, 4, 5]  "
   ]
  },
  {
   "cell_type": "code",
   "execution_count": 8,
   "metadata": {},
   "outputs": [],
   "source": [
    "class Queue:\n",
    "    def __init__(self):\n",
    "        self.lst = []\n",
    "        \n",
    "    def enqueue(self, item):\n",
    "        self.lst.append(item)\n",
    "        \n",
    "    def dequeue(self):\n",
    "        return self.lst.pop(0)\n",
    "    \n",
    "    def display(self):\n",
    "        print('Front of queue ->', self.lst, '<- End of queue')"
   ]
  },
  {
   "cell_type": "code",
   "execution_count": 10,
   "metadata": {},
   "outputs": [
    {
     "name": "stdout",
     "output_type": "stream",
     "text": [
      "Front of queue -> [1, 2, 3, 4, 5] <- End of queue\n",
      "dequeue: 1\n",
      "Front of queue -> [2, 3, 4, 5] <- End of queue\n"
     ]
    }
   ],
   "source": [
    "q = Queue()\n",
    "for i in range(1, 6):\n",
    "    q.enqueue(i)\n",
    "q.display()\n",
    "print('dequeue:', q.dequeue())\n",
    "q.display()"
   ]
  },
  {
   "cell_type": "markdown",
   "metadata": {},
   "source": [
    "## Linear Queue & Circular Queue\n",
    "  \n",
    "https://www.youtube.com/watch?v=v9BMdz5m5Vo (Linear Queue) - watch until 3:15 for visual representation  \n",
    "https://www.youtube.com/watch?v=8sjFA-IX-Ww (Circular Queue) - watch until 4:02 for visual representation  \n",
    "  \n",
    "code reference  \n",
    "**JPJC Prelim Q2**  \n",
    "(queue & circular queue of size 5)"
   ]
  },
  {
   "cell_type": "markdown",
   "metadata": {},
   "source": [
    "### Linear queue"
   ]
  },
  {
   "cell_type": "code",
   "execution_count": 1,
   "metadata": {},
   "outputs": [],
   "source": [
    "class Queue:\n",
    "    def __init__(self):\n",
    "        self.items = ['' for i in range(5)]  # or [''] * 5\n",
    "        self.front = -1\n",
    "        self.rear = -1\n",
    "        \n",
    "    def isEmpty(self):\n",
    "        return self.front == -1\n",
    "    \n",
    "    def isFull(self):\n",
    "        return self.rear == 4\n",
    "    \n",
    "    def enqueue(self, value):\n",
    "        # add to rear of queue\n",
    "        if self.isFull():\n",
    "            print('Queue is full')\n",
    "            \n",
    "        else:\n",
    "            if self.front == -1: # if queue is empty\n",
    "                self.front += 1\n",
    "            self.rear += 1\n",
    "            self.items[self.rear] = value\n",
    "            \n",
    "    def dequeue(self):\n",
    "        # remove from front of queue\n",
    "        if self.isEmpty():\n",
    "            return None\n",
    "        else:\n",
    "            item = self.items[self.front]\n",
    "            if self.front == self.rear:  # last item in queue\n",
    "                self.front = -1\n",
    "                self.rear = -1\n",
    "                \n",
    "            else:\n",
    "                self.front += 1\n",
    "                \n",
    "            return item\n",
    "        \n",
    "    def display(self):\n",
    "        if self.isEmpty():\n",
    "            print('Queue is empty')\n",
    "        else:\n",
    "            for i in range(self.front, self.rear + 1):\n",
    "                print(self.items[i])"
   ]
  },
  {
   "cell_type": "markdown",
   "metadata": {},
   "source": [
    "### Circular Queue"
   ]
  },
  {
   "cell_type": "code",
   "execution_count": 6,
   "metadata": {},
   "outputs": [],
   "source": [
    "class CircularQueue(Queue):\n",
    "    def __init__(self):\n",
    "        super().__init__()\n",
    "    \n",
    "    def isFull(self):\n",
    "        return (self.rear + 1) % 5 == self.front\n",
    "    \n",
    "    def enqueue(self, value):\n",
    "        if self.isFull():\n",
    "            print('Queue is full')\n",
    "        else:\n",
    "            if self.front == -1:  # if empty\n",
    "                self.front += 1\n",
    "            self.rear = (self.rear + 1) % 5\n",
    "            self.items[self.rear] = value\n",
    "            \n",
    "    def dequeue(self):\n",
    "        if self.isEmpty():\n",
    "            return None\n",
    "        else:\n",
    "            item = self.items[self.front]\n",
    "            if self.front == self.rear:  # last item in queue\n",
    "                self.front = -1\n",
    "                self.rear = -1\n",
    "            else:\n",
    "                self.front = (self.front + 1) % 5\n",
    "                \n",
    "            return item\n",
    "        \n",
    "    def display(self):\n",
    "        if self.isEmpty():\n",
    "            print('Queue is empty')\n",
    "        else:\n",
    "            currIndex = self.front\n",
    "            if currIndex != self.rear:\n",
    "                while True:\n",
    "                    print(self.items[currIndex])\n",
    "                    currIndex = (currIndex + 1) % 5\n",
    "                    if currIndex == self.rear:\n",
    "                        break\n",
    "            print(self.items[currIndex])"
   ]
  },
  {
   "cell_type": "code",
   "execution_count": 14,
   "metadata": {},
   "outputs": [
    {
     "name": "stdout",
     "output_type": "stream",
     "text": [
      "Dequeue:\n",
      "----------\n",
      "John\n",
      "Amy\n",
      "\n",
      "John\n",
      "Amy\n",
      "\n",
      "Enqueue:\n",
      "----------\n",
      "Queue is full\n",
      "\n",
      "Linear Queue\n",
      "============\n",
      "Chetan\n",
      "Xin Xin\n",
      "Evan\n",
      "Circular Queue\n",
      "==============\n",
      "Chetan\n",
      "Xin Xin\n",
      "Evan\n",
      "Mohan\n"
     ]
    }
   ],
   "source": [
    "# 1) Instantiate queue\n",
    "q = Queue()\n",
    "cq = CircularQueue()\n",
    "\n",
    "# 2) enqueue names into both q\n",
    "users = [\"John\",\"Amy\",\"Chetan\",\"Xin Xin\",\"Evan\"]\n",
    "for user in users:\n",
    "    q.enqueue(user)\n",
    "    cq.enqueue(user)\n",
    "    \n",
    "# 3) dequeue 2x from both q\n",
    "print('Dequeue:')\n",
    "print(\"----------\")\n",
    "print(q.dequeue())\n",
    "print(q.dequeue())\n",
    "print()\n",
    "print(cq.dequeue())\n",
    "print(cq.dequeue())\n",
    "\n",
    "print()\n",
    "\n",
    "# 4) enqueue 1 name into both q\n",
    "print('Enqueue:')\n",
    "print(\"----------\")\n",
    "q.enqueue(\"Mohan\")  # cannot insert - q is full\n",
    "cq.enqueue(\"Mohan\") # can insert - no output\n",
    "\n",
    "# 5) display both q\n",
    "print()\n",
    "print(\"Linear Queue\")\n",
    "print(\"============\")\n",
    "q.display()\n",
    "\n",
    "print(\"Circular Queue\")\n",
    "print(\"==============\")\n",
    "cq.display()"
   ]
  },
  {
   "cell_type": "code",
   "execution_count": null,
   "metadata": {},
   "outputs": [],
   "source": []
  }
 ],
 "metadata": {
  "kernelspec": {
   "display_name": "Python 3",
   "language": "python",
   "name": "python3"
  },
  "language_info": {
   "codemirror_mode": {
    "name": "ipython",
    "version": 3
   },
   "file_extension": ".py",
   "mimetype": "text/x-python",
   "name": "python",
   "nbconvert_exporter": "python",
   "pygments_lexer": "ipython3",
   "version": "3.6.4"
  }
 },
 "nbformat": 4,
 "nbformat_minor": 2
}
