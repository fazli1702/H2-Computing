{
 "cells": [
  {
   "cell_type": "markdown",
   "metadata": {},
   "source": [
    "# Hash Table"
   ]
  },
  {
   "cell_type": "markdown",
   "metadata": {},
   "source": [
    "video for reference\n",
    "\n",
    "https://www.youtube.com/watch?v=KyUTuwz_b7Q "
   ]
  },
  {
   "cell_type": "markdown",
   "metadata": {},
   "source": [
    "### Hashing algorithm\n",
    "- For numeric keys, we can take the key % len(arr)\n",
    "- For alphanumeric, we can take the ascii code, ord(key) % len(arr)\n",
    "- Folding method for long numbers e.g. 012345 - (01 + 23 + 45) % len(arr)\n",
    "\n",
    "\n"
   ]
  },
  {
   "cell_type": "markdown",
   "metadata": {},
   "source": [
    "1. initialise the hash table  \n",
    "2. insert key by hashing key and insert into hash table"
   ]
  },
  {
   "cell_type": "code",
   "execution_count": 19,
   "metadata": {},
   "outputs": [],
   "source": [
    "# hash function - depend on question \n",
    "# usually modulo length of hash table\n",
    "\n",
    "def hash(string):\n",
    "    total = 0\n",
    "    for i, ele in enumerate(string):\n",
    "        total += ord(ele) * (i+1)\n",
    "    total %= 5\n",
    "    return total"
   ]
  },
  {
   "cell_type": "code",
   "execution_count": 1,
   "metadata": {},
   "outputs": [],
   "source": [
    "# initialise hash table\n",
    "\n",
    "def init_table(n):\n",
    "    return ['' for i in range(n)] # or [''] * n"
   ]
  },
  {
   "cell_type": "markdown",
   "metadata": {},
   "source": [
    "## No collisions\n",
    "\n",
    "we assume that all elements produce unique hashes  \n",
    "  \n",
    "  \n",
    "### Time complexity \n",
    "Create: O(n)  \n",
    "Search: O(1)"
   ]
  },
  {
   "cell_type": "code",
   "execution_count": 6,
   "metadata": {},
   "outputs": [],
   "source": [
    "def hash_table(lst):\n",
    "    table = init_table(len(lst))\n",
    "    for ele in lst:\n",
    "        i = hash(ele)\n",
    "        table[i] = ele\n",
    "    return table"
   ]
  },
  {
   "cell_type": "code",
   "execution_count": 7,
   "metadata": {},
   "outputs": [],
   "source": [
    "# search for key\n",
    "\n",
    "def search(table, key):\n",
    "    i = hash(key)\n",
    "    return table[i] == key"
   ]
  },
  {
   "cell_type": "code",
   "execution_count": 12,
   "metadata": {},
   "outputs": [
    {
     "name": "stdout",
     "output_type": "stream",
     "text": [
      "True\n",
      "False\n"
     ]
    }
   ],
   "source": [
    "lst = ['WONG CHU HENG TIM', 'KATHRYN CHAN HUI', 'PATEL KRISH KADAMB', 'MANSIB MIRAJ', 'SEAN NG JING HAO']\n",
    "data_table = hash_table(lst)\n",
    "\n",
    "print(search(data_table, 'SEAN NG JING HAO'))  # true\n",
    "print(search(data_table, 'TANG HAOYANG'))      # false"
   ]
  },
  {
   "cell_type": "markdown",
   "metadata": {},
   "source": [
    "## Collision\n",
    "\n",
    "Sometimes, some strings/elements we want to add have the same hash.  \n",
    "So how do we overcome this problem?"
   ]
  },
  {
   "cell_type": "markdown",
   "metadata": {},
   "source": [
    "### Seperate Chain\n",
    " \n",
    "we create a new list(2d) and add both elements into the new list  \n",
    "  \n",
    "e.g  \n",
    "['a', '']  \n",
    "new ele: 'hello'  \n",
    "[['a', 'hello'], '']\n",
    "\n",
    "\n",
    "### Time complexity\n",
    "Create: O(n)  \n",
    "Search: O(n)"
   ]
  },
  {
   "cell_type": "code",
   "execution_count": 13,
   "metadata": {},
   "outputs": [],
   "source": [
    "def hash_table2(lst):\n",
    "    table = init_table(len(lst))\n",
    "    for ele in lst:\n",
    "        i = hash(ele)\n",
    "        \n",
    "        # if current index is empty\n",
    "        if table[i] == '':\n",
    "            table[i] = ele\n",
    "        \n",
    "        # current index not empty\n",
    "        else:\n",
    "            \n",
    "            # only one element in current index\n",
    "            # create new list\n",
    "            if type(table[i]) != list:\n",
    "                table[i] = [table[i], ele]\n",
    "            \n",
    "            # add to list\n",
    "            else:\n",
    "                table[i] += [ele]\n",
    "    return table"
   ]
  },
  {
   "cell_type": "code",
   "execution_count": 14,
   "metadata": {},
   "outputs": [],
   "source": [
    "def search2(table, key):\n",
    "    i = hash(key)\n",
    "    \n",
    "    # current index is key\n",
    "    if table[i] == key:\n",
    "        return True\n",
    "    \n",
    "    # current index is a list - search list\n",
    "    elif type(table[i]) == list:\n",
    "        return key in table[i]\n",
    "    \n",
    "    else:\n",
    "        return False"
   ]
  },
  {
   "cell_type": "code",
   "execution_count": 15,
   "metadata": {},
   "outputs": [
    {
     "name": "stdout",
     "output_type": "stream",
     "text": [
      "True\n",
      "True\n"
     ]
    }
   ],
   "source": [
    "lst2 = ['WONG CHU HENG TIM', 'KATHRYN CHAN HUI', 'PATEL KRISH KADAMB', 'MANSIB MIRAJ', 'TANG HAOYANG']\n",
    "data_table2 = hash_table2(lst)\n",
    "\"\"\"\n",
    "\n",
    "['WONG CHU HENG TIM', \n",
    "'PATEL KRISH KADAMB', \n",
    "['KATHRYN CHAN HUI', 'TANG HAOYANG'],\n",
    "'',\n",
    "'MANSIB MIRAJ']\n",
    "\n",
    "\"\"\"\n",
    "\n",
    "print(search2(data_table2, 'TANG HAOYANG'))     # true\n",
    "print(search2(data_table2, 'KATHRYN CHAN HUI')) # true"
   ]
  },
  {
   "cell_type": "markdown",
   "metadata": {},
   "source": [
    "### Open Hashing\n",
    "\n",
    "we find the next empty index by iterating through the hash table  \n",
    "  \n",
    "e.g  \n",
    "['a', '']  \n",
    "new ele: 'hello'  \n",
    "['a', 'hello']  \n",
    "\n",
    "### Time complexity\n",
    "Create: O(n)  \n",
    "Search: O(n)"
   ]
  },
  {
   "cell_type": "code",
   "execution_count": 19,
   "metadata": {},
   "outputs": [],
   "source": [
    "def hash_table3(lst):\n",
    "    table = init_table(len(lst))\n",
    "    for ele in lst:\n",
    "        i = hash(ele)\n",
    "        \n",
    "        # if index is empty\n",
    "        if table[i] == '':\n",
    "            table[i] = ele\n",
    "        \n",
    "        # if index is not empty - use open hash\n",
    "        else:\n",
    "            while table[i] != '':\n",
    "                i = (i+1) % len(table)\n",
    "            table[i] = ele\n",
    "    \n",
    "    return table"
   ]
  },
  {
   "cell_type": "code",
   "execution_count": 20,
   "metadata": {},
   "outputs": [],
   "source": [
    "def search3(table, key):\n",
    "    i = hash(key)\n",
    "    if table[i] == key:\n",
    "        return True\n",
    "    elif table[i] == '':\n",
    "        return False\n",
    "    \n",
    "    # linear search\n",
    "    else:\n",
    "        for i in range(len(table)):\n",
    "            if table[i] == key:\n",
    "                return True\n",
    "            else:\n",
    "                i = (i+1) % len(table)\n",
    "        return False"
   ]
  },
  {
   "cell_type": "code",
   "execution_count": 21,
   "metadata": {},
   "outputs": [
    {
     "name": "stdout",
     "output_type": "stream",
     "text": [
      "True\n",
      "False\n"
     ]
    }
   ],
   "source": [
    "lst3 = ['WONG CHU HENG TIM', 'KATHRYN CHAN HUI', 'PATEL KRISH KADAMB', 'MANSIB MIRAJ', 'TANG HAOYANG']\n",
    "data_table = hash_table3(lst3)\n",
    "\"\"\"\n",
    "['WONG CHU HENG TIM', \n",
    "'PATEL KRISH KADAMB', \n",
    "'KATHRYN CHAN HUI', \n",
    "'TANG HAOYANG', \n",
    "'MANSIB MIRAJ']\n",
    "\"\"\"\n",
    "\n",
    "print(search3(data_table, 'TANG HAOYANG'))       # true\n",
    "print(search3(data_table, 'NG JUN JIE, KEITH'))  # false"
   ]
  },
  {
   "cell_type": "markdown",
   "metadata": {},
   "source": [
    "# Binary Search\n",
    "  \n",
    "visualisation: https://www.cs.usfca.edu/~galles/visualization/Search.html"
   ]
  },
  {
   "cell_type": "markdown",
   "metadata": {},
   "source": [
    "**Binary search is only used for sorted list/array**  \n",
    "It works by comparing the middle element of the list with the key  \n",
    "The middle element is arr[mid] where mid = (high + low) // 2, where high = last index & low = first index  \n"
   ]
  },
  {
   "cell_type": "markdown",
   "metadata": {},
   "source": [
    "### Time Complexity\n",
    "Best case:      \n",
    "O(1)  \n",
    "\n",
    "Average case:  \n",
    "O(logn)  \n",
    "\n",
    "Worst case:  \n",
    "O(logn)"
   ]
  },
  {
   "cell_type": "code",
   "execution_count": 3,
   "metadata": {},
   "outputs": [
    {
     "data": {
      "text/plain": [
       "True"
      ]
     },
     "execution_count": 3,
     "metadata": {},
     "output_type": "execute_result"
    }
   ],
   "source": [
    "# iterative method\n",
    "\n",
    "def binary_search(arr, key):\n",
    "    h = len(arr) - 1\n",
    "    l = 0\n",
    "    while l <= h:\n",
    "        m = (l+h) // 2\n",
    "        if arr[m] == key:\n",
    "            return True\n",
    "        elif key < arr[m]:\n",
    "            h = m - 1\n",
    "        else:\n",
    "            l = m + 1\n",
    "    return False\n",
    "\n",
    "lst = list(range(10))\n",
    "binary_search(lst, 0)"
   ]
  },
  {
   "cell_type": "code",
   "execution_count": null,
   "metadata": {},
   "outputs": [],
   "source": [
    "# recursive method\n",
    "\n",
    "def find(arr, key, l, h):\n",
    "    if l > h:\n",
    "        return False\n",
    "    else:\n",
    "        mid = (l+h) // 2\n",
    "        if key == arr[mid]:\n",
    "            return True\n",
    "        elif key < arr[mid]:\n",
    "            return find(arr, key, l, mid-1)\n",
    "        else:\n",
    "            return find(arr, key, mid+1, h)\n",
    "        \n",
    "def binary_search(arr, key):\n",
    "    l = 0\n",
    "    h = len(arr) - 1\n",
    "    return find(arr, key, l, h)\n",
    "    "
   ]
  }
 ],
 "metadata": {
  "kernelspec": {
   "display_name": "Python 3",
   "language": "python",
   "name": "python3"
  },
  "language_info": {
   "codemirror_mode": {
    "name": "ipython",
    "version": 3
   },
   "file_extension": ".py",
   "mimetype": "text/x-python",
   "name": "python",
   "nbconvert_exporter": "python",
   "pygments_lexer": "ipython3",
   "version": "3.6.4"
  }
 },
 "nbformat": 4,
 "nbformat_minor": 2
}
