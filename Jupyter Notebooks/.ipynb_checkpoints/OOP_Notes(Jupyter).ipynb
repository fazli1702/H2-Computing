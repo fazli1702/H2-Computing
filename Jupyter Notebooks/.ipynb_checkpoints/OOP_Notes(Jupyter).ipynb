{
 "cells": [
  {
   "cell_type": "markdown",
   "metadata": {},
   "source": [
    "## Object Oriented Programming (One of many Programming Paradigms)"
   ]
  },
  {
   "cell_type": "markdown",
   "metadata": {},
   "source": [
    "To appreciate what is OOP, first, we need to know some other programming paradigms.\n",
    "\n",
    "__Structured programming__: A programming paradigm aimed at improving the clarity, quality, and development time of a computer program, making use of the structured control flow constructs of selection (if/then/else) and repetition (while and for), block structures, and subroutines.\n",
    "\n",
    "__Procedural Programming__: Procedural Programming is an approach to decompose a large problem into smaller problems until the smaller problems become solvable. Usually coded as procedures/functions that contains a series of computational steps to be carried out. Data is passed using parameters. Data and procedures remain separate."
   ]
  },
  {
   "cell_type": "code",
   "execution_count": null,
   "metadata": {},
   "outputs": [],
   "source": [
    "# Structured+Procedural Programming Example\n",
    "def mean(list_of_numbers):\n",
    "    sum=0\n",
    "    for num in list_of_numbers:\n",
    "        sum+=num\n",
    "    return sum/len(list_of_numbers)\n",
    "def mode(list_of_numbers):\n",
    "    countlist=[]\n",
    "    for num in list_of_numbers: \n",
    "        if [list_of_numbers.count(num),num] not in countlist:\n",
    "            countlist+=[list_of_numbers.count(num),num],\n",
    "    countlist.sort(reverse=True)\n",
    "    max_no=countlist[0][0]\n",
    "    result=[]\n",
    "    for i in range(len(countlist)):\n",
    "        if countlist[i][0]==max_no:\n",
    "            result+=[countlist[i][1]]\n",
    "    return result\n",
    "def median(list_of_numbers):\n",
    "    sorted_result = list_of_numbers.copy() #non-destructive\n",
    "    sorted_result.sort()\n",
    "    pos=len(sorted_result)/2 #index of median number\n",
    "    if pos%1==0: #if even number, get the ave of the middle two\n",
    "        return (sorted_result[int(pos)]+sorted_result[int(pos-1)])/2\n",
    "    else: #return the middle number\n",
    "        return sorted_result[int(pos)]"
   ]
  },
  {
   "cell_type": "code",
   "execution_count": 46,
   "metadata": {
    "scrolled": true
   },
   "outputs": [
    {
     "name": "stdout",
     "output_type": "stream",
     "text": [
      "32.714285714285715\n",
      "[40]\n",
      "35\n"
     ]
    }
   ],
   "source": [
    "data = [1,8,25,35,40,40,80]  #data is separate from functions above\n",
    "print(mean(data))            #need to pass all data into the function as parameters\n",
    "print(mode(data))\n",
    "print(median(data))"
   ]
  },
  {
   "cell_type": "markdown",
   "metadata": {},
   "source": [
    "__Object-Oriented Programming__: An approach that models the real world more closely by grouping both properties (data), and the behaviour (methods), that operates on the properties, together. Such a group is called an 'object'. It uses these principles: __Encapsulation__, __Inheritence__, __Polymorphism__."
   ]
  },
  {
   "cell_type": "markdown",
   "metadata": {},
   "source": [
    "OOP Advantage: Writing code in OOP can be more logical/readable than procedural programming, because of the common understanding that it models the real world closely. Code should be easier to understand, and easier to maintain."
   ]
  },
  {
   "cell_type": "code",
   "execution_count": 47,
   "metadata": {},
   "outputs": [],
   "source": [
    "# Object-Oriented Programming Example\n",
    "class Numbers(object):    #Inside this Numbers object, everything is grouped together.\n",
    "    def __init__(self):\n",
    "        self.list=[]      #This is the properties/attributes/data inside.\n",
    "    def include(self,number): #This is a method grouped inside, operating on its own properties\n",
    "        if type(number)==int or type(number)==float:\n",
    "            self.list.append(number) #self.list+=[number]\n",
    "        else:\n",
    "            if type(number)==str:\n",
    "                if number.isnumeric():\n",
    "                    self.list.append(float(number))   #self.list+=[float(number)]   \n",
    "    def view(self):       #Another method grouped inside\n",
    "        print(\"The numbers are: \",end='')\n",
    "        for i in range(len(self.list)):\n",
    "            print(self.list[i],end='')\n",
    "            if i==len(self.list)-1:\n",
    "                print(\".\")\n",
    "            else: print(\", \",end='')\n",
    "    def mean(self):\n",
    "        if len(self.list)>0:\n",
    "            result=0\n",
    "            for num in self.list:\n",
    "                result+=num\n",
    "        return result/len(self.list)\n",
    "    def mode(self):\n",
    "        countlist=[]\n",
    "        for num in self.list: \n",
    "            if [self.list.count(num),num] not in countlist:\n",
    "                countlist+=[self.list.count(num),num],\n",
    "        countlist.sort(reverse=True)\n",
    "        max_no=countlist[0][0]\n",
    "        result=[]\n",
    "        for i in range(len(countlist)):\n",
    "            if countlist[i][0]==max_no:\n",
    "                result+=[countlist[i][1]]\n",
    "        return result        \n",
    "    def median(self):\n",
    "        sorted_result = self.list.copy()\n",
    "        sorted_result.sort()\n",
    "        pos=len(sorted_result)/2 \n",
    "        if pos%1==0: \n",
    "            return (sorted_result[int(pos)]+sorted_result[int(pos-1)])/2\n",
    "        else: \n",
    "            return sorted_result[int(pos)] \n",
    "    def total(self):\n",
    "        result=0\n",
    "        for num in self.list:\n",
    "            result+=num\n",
    "        return result"
   ]
  },
  {
   "cell_type": "code",
   "execution_count": 48,
   "metadata": {},
   "outputs": [],
   "source": [
    "data2=Numbers()  #Create an instance/object from the class defined above. Calls the __init__() method."
   ]
  },
  {
   "cell_type": "code",
   "execution_count": 49,
   "metadata": {},
   "outputs": [],
   "source": [
    "data2.include(6)    #Lets attempt to store 3 numbers into this instance/object called data2\n",
    "data2.include(\"12\") #Is it designed to take a number-string as an input?\n",
    "data2.include(12)  "
   ]
  },
  {
   "cell_type": "code",
   "execution_count": 50,
   "metadata": {},
   "outputs": [
    {
     "data": {
      "text/plain": [
       "10.0"
      ]
     },
     "execution_count": 50,
     "metadata": {},
     "output_type": "execute_result"
    }
   ],
   "source": [
    "data2.mean()   #There is no need to give mean() the list [6,12,12], data is stored in the obj itself"
   ]
  },
  {
   "cell_type": "code",
   "execution_count": 51,
   "metadata": {},
   "outputs": [
    {
     "data": {
      "text/plain": [
       "[12.0]"
      ]
     },
     "execution_count": 51,
     "metadata": {},
     "output_type": "execute_result"
    }
   ],
   "source": [
    "data2.mode()"
   ]
  },
  {
   "cell_type": "code",
   "execution_count": 52,
   "metadata": {},
   "outputs": [
    {
     "name": "stdout",
     "output_type": "stream",
     "text": [
      "The numbers are: 6, 12.0, 12.\n"
     ]
    }
   ],
   "source": [
    "data2.view()"
   ]
  },
  {
   "cell_type": "code",
   "execution_count": 53,
   "metadata": {},
   "outputs": [
    {
     "data": {
      "text/plain": [
       "30.0"
      ]
     },
     "execution_count": 53,
     "metadata": {},
     "output_type": "execute_result"
    }
   ],
   "source": [
    "data2.total()"
   ]
  },
  {
   "cell_type": "markdown",
   "metadata": {},
   "source": [
    "# Principle 1: Encapsulation/Abstraction\n",
    "\n",
    "The process of properties/attributes/data being combined with the methods/behaviour/functions acting on them, is known as encapsulation. This concept is also often used to describe hiding the internal representation, or state, of an object inside a defined boundary/class, away from outside interference and misuse.\n",
    "\n",
    "Objects only reveal (+) internal mechanisms that are relevant for the use of other objects, hiding (-) any unnecessary implementation code/properties. Other objects do not have access to the hidden properties, or the authority to make changes, but are able to call the list of public functions, or methods designed to control how access/modification to private data is done.\n",
    "\n",
    "Encapsulation uses the concept of abstraction. Abstraction Definition: Hiding/Setting aside details of implementation."
   ]
  },
  {
   "cell_type": "markdown",
   "metadata": {},
   "source": [
    "Encapsulation Advantage: Since access to data is controlled by public methods created, this provides greater program security and avoids unintended data corruption (More robust data, protect from accidental changes).\n",
    "\n",
    "Abstraction advantage: allows focus on main/bigger problem, without being distracted by unnecessary details. (Programmers can assume it works, without looking-at/access-to code in the class, to see how it was implemented.)"
   ]
  },
  {
   "cell_type": "markdown",
   "metadata": {},
   "source": [
    "Encapsulation Advantage in Context:\n",
    "In Structured/Procedural Programming, data = [1,8,25,35,40,40,80] is not encapsulated. It is easy to modify. If the code was modified to [1,\"8\",\"25\",35,40,40,80], the code will break due to data corruption/type error. \n",
    "\n",
    "In OOP, how do we modify the data 6, 12, 12 above? Not easy, as it is encapsulated in the object/class, hidden from view. It is protected from accidental changes. Access to data is controlled by public methods created."
   ]
  },
  {
   "cell_type": "markdown",
   "metadata": {},
   "source": [
    "__Class__: A template/blueprint for an object. Typical methods to interact with the properties are __Constructors__, __Accessors/Getters__, __Setters/Modifiers/Behaviours/Events__, __Utilities/Helper/Support__."
   ]
  },
  {
   "cell_type": "markdown",
   "metadata": {},
   "source": [
    "self: refers to the particular instance/object created from the class."
   ]
  },
  {
   "cell_type": "code",
   "execution_count": null,
   "metadata": {},
   "outputs": [],
   "source": [
    "#Example of a Class\n",
    "class Person(object):\n",
    "    # __init__ is a Constructor Method (Used to create a new instance)\n",
    "    def __init__(self, pNRIC, pname, phealth=100, ptummy=100):\n",
    "                                  #self refers to a particular instance\n",
    "        self.nric = pNRIC         #Each person has an NRIC\n",
    "        self.name = pname         #Each person has a name\n",
    "        self.health = phealth     #Health value. 0 to 100. If unstated, defaults to 100\n",
    "        self.tummy = ptummy       #Tummy full falue. 0 to 100. If unstated, defaults to 100\n",
    "        self.alive = True\n",
    "    # Getter/accessor Methods             \n",
    "    def get_NRIC(self):\n",
    "        return self.nric\n",
    "    def get_name(self):\n",
    "        return self.name\n",
    "    def get_health(self):\n",
    "        return self.health\n",
    "    def get_tummy(self):\n",
    "        return self.tummy\n",
    "    # Setter/Modifier/Mutator/Event Methods or Behaviours\n",
    "    def set_name(self, pname):\n",
    "        self.name = pname\n",
    "    def injured(self, health_deduction):\n",
    "        if self.alive:\n",
    "            if health_deduction>5:\n",
    "                print(self.name+\": Ouch! Pain!\")\n",
    "            self.health -= health_deduction\n",
    "            if self.health <=0:\n",
    "                self.alive = False\n",
    "                print(\"Oh no, \"+self.name+\" has died!\")\n",
    "        else:\n",
    "            print(\"You want to injure a dead person even further?\")\n",
    "    def eat(self, amount):\n",
    "        if self.alive:\n",
    "            print(self.name+\": Nom, nom, nom...\")\n",
    "            self.tummy += amount\n",
    "            if self.tummy>100:\n",
    "                print(\"I overate...\")\n",
    "                self.injured((self.tummy-100)/5)\n",
    "                self.tummy=100\n",
    "        else:\n",
    "            print(\"A dead person cannot eat...\")\n",
    "    def pass_time(self,amount_time):\n",
    "        if self.alive:\n",
    "            self.tummy-=amount_time\n",
    "            if self.tummy<=0:\n",
    "                self.injured(-self.tummy/5)\n",
    "                self.tummy=0\n",
    "                if self.alive:\n",
    "                    print(self.name+\" is complaining that he's dying from hunger.\")\n",
    "            elif self.tummy<=20:\n",
    "                print(self.name+\" is starving!\")\n",
    "    # helper/support/utility methods\n",
    "    def report(self):\n",
    "        if self.alive:\n",
    "            print(\"ID: \"+str(self.nric))\n",
    "            print(self.name+\": \"+self.name+\", reporting for duty!\")\n",
    "            if self.health>= 80:\n",
    "                print(\"I'm in excellent health!\")\n",
    "            elif 60<=self.health<80:\n",
    "                print(\"I'm feeling good.\")\n",
    "            elif 40<=self.health<60:\n",
    "                print(\"I'm feeling not so good\")\n",
    "            elif 20<=self.health<40:\n",
    "                print(\"I feel terrible...\")\n",
    "            elif 1<=self.health<20:\n",
    "                print(\"I feel like dying...\")\n",
    "            if self.tummy<10:\n",
    "                print(\"I'm dying of hunger.\")\n",
    "            elif self.tummy<50:\n",
    "                print(\"I'm kinda hungry\")\n",
    "            else:\n",
    "                print(\"I'm not hungry\")\n",
    "        else:\n",
    "            print(self.name+\" is dead. Nothing to display.\")"
   ]
  },
  {
   "cell_type": "markdown",
   "metadata": {},
   "source": [
    "UML (Unified Modelling Language) __Class Diagram__: A diagram that displays the attributes of the class (independent of coding language).\n",
    "\n",
    "http://draw.io is a useful website that assist in creating diagrams. Choose Create a blank diagram. Expand the UML tab."
   ]
  },
  {
   "attachments": {
    "image.png": {
     "image/png": "[encoded data removed]"
    }
   },
   "cell_type": "markdown",
   "metadata": {},
   "source": [
    "![image.png](attachment:image.png)"
   ]
  },
  {
   "cell_type": "markdown",
   "metadata": {},
   "source": [
    "__Implementation Independence__: Notice that if 2 programmers A and B coded a class to follow the same specification (class diagram), they probably will end up having 2 different codes, but implementing the same specification, that can be used in the same way.\n",
    "\n",
    "Advantage: We're free to change/improve the details/implementation later (e.g. update to faster/more secure code inside the class) without affecting/breaking the rest of the code (outside the class)."
   ]
  },
  {
   "cell_type": "code",
   "execution_count": null,
   "metadata": {},
   "outputs": [],
   "source": [
    "#How to use the class to create instances of the object\n",
    "jack = Person(\"T0123456H\",\"Jack Reacher\",80,80)  #This line instantiates an object from Person class\n",
    "jill = Person(\"T0234567G\",\"Jill Valentine\",80,80) #Another object from the same class"
   ]
  },
  {
   "cell_type": "code",
   "execution_count": null,
   "metadata": {},
   "outputs": [],
   "source": [
    "#How to use the methods/behaviours in the object\n",
    "jack.report()   #Notice we don't use self. The self here refers to jack's properties"
   ]
  },
  {
   "cell_type": "code",
   "execution_count": null,
   "metadata": {},
   "outputs": [],
   "source": [
    "jack.eat(30) #Note: No need data of the original hunger level. The object contains itself's data."
   ]
  },
  {
   "cell_type": "code",
   "execution_count": null,
   "metadata": {},
   "outputs": [],
   "source": [
    "jack.pass_time(30)"
   ]
  },
  {
   "cell_type": "code",
   "execution_count": null,
   "metadata": {},
   "outputs": [],
   "source": [
    "jack.injured(30)"
   ]
  },
  {
   "cell_type": "code",
   "execution_count": null,
   "metadata": {},
   "outputs": [],
   "source": [
    "jill.report() #Note: all that happens, happens to the instance called Jack.\n",
    "              #Jill's self wasn't acted on yet. "
   ]
  },
  {
   "cell_type": "markdown",
   "metadata": {},
   "source": [
    "Qn: Can you set jack's health to 1000000 to win the game easily? "
   ]
  },
  {
   "cell_type": "markdown",
   "metadata": {},
   "source": [
    "# Principle 2: Inheritence\n",
    "\n",
    "Subclasses/Child classes can inherit/adopt properties and methods of a parent/base/super class. Each subclass is also able to define its own specific data and methods.\n",
    "\n",
    "Relationships can be assigned, allowing developers to reuse common logic while still maintaining a unique hierarchy (inheritence diagram). This property of OOP forces a more thorough data analysis, but reduces development time and promotes code reusabililty. "
   ]
  },
  {
   "attachments": {
    "image.png": {
     "image/png": "[encoded data removed]"
    }
   },
   "cell_type": "markdown",
   "metadata": {},
   "source": [
    "__A UML Class Diagram that shows Inheritence__\n",
    "\n",
    "Note that Child class points to Parent class (and not the other way round)\n",
    "![image.png](attachment:image.png)"
   ]
  },
  {
   "cell_type": "code",
   "execution_count": null,
   "metadata": {},
   "outputs": [],
   "source": [
    "#Example of Inheritence in Python Code:\n",
    "class Soldier(Person):   #The Soldier class inherits all properties from the Parent class, Person\n",
    "    def __init__(self, pNRIC, pname, phealth=100, ptummy=100): #We need to over-write the constructor\n",
    "        self.weapon=\"M16\"               #because a Soldier has more properties than the Parent Class\n",
    "        self.ammo=5                     #like ammo and weapon\n",
    "        super().__init__(pNRIC, pname, phealth, ptummy)  #for other standard data, reuse Parent's code\n",
    "    def shoot(self):     #Each subclass is also able to define its own specific data and methods.\n",
    "        if self.alive:\n",
    "            if self.ammo>0:\n",
    "                print(\"Bang\")\n",
    "                self.ammo-=1\n",
    "            else:\n",
    "                print(\"Click. Out of ammo.\")\n",
    "        else:\n",
    "            print(\"A dead person cannot shoot.\")"
   ]
  },
  {
   "cell_type": "markdown",
   "metadata": {},
   "source": [
    "Inheritence Disadvantage: Forces a more thorough data analysis (Spend time to identify any shared properties between objects, to look for a parent child relationship)\n",
    "\n",
    "Inheritence Advantage: Given that the Person class was already created, it becomes easy to extend it to create a Soldier class. Just by inheriting properties from Person, we reuse much of the same code. Development time is reduced. "
   ]
  },
  {
   "cell_type": "code",
   "execution_count": null,
   "metadata": {},
   "outputs": [],
   "source": [
    "rambo=Soldier(\"A01223\",\"Ramen Bobafett\")   #Creates an instance of a Soldier Class"
   ]
  },
  {
   "cell_type": "code",
   "execution_count": null,
   "metadata": {},
   "outputs": [],
   "source": [
    "rambo.report()    #Lets confirm if we can use code from the parent class, even when we didn't code it"
   ]
  },
  {
   "cell_type": "code",
   "execution_count": null,
   "metadata": {},
   "outputs": [],
   "source": [
    "rambo.pass_time(30)   #Confirmed code is inherited"
   ]
  },
  {
   "cell_type": "code",
   "execution_count": null,
   "metadata": {},
   "outputs": [],
   "source": [
    "rambo.shoot()        #Lets test the shoot method"
   ]
  },
  {
   "cell_type": "code",
   "execution_count": null,
   "metadata": {},
   "outputs": [],
   "source": [
    "jack.shoot()          #Jack is a Person, not a soldier. A person can't shoot (no method), but a soldier can."
   ]
  },
  {
   "cell_type": "code",
   "execution_count": null,
   "metadata": {},
   "outputs": [],
   "source": [
    "isinstance(rambo,Soldier)   #Check if rambo is a Soldier class"
   ]
  },
  {
   "cell_type": "code",
   "execution_count": null,
   "metadata": {},
   "outputs": [],
   "source": [
    "isinstance(rambo,Person)   #Check if rambo is a Person class"
   ]
  },
  {
   "cell_type": "code",
   "execution_count": null,
   "metadata": {},
   "outputs": [],
   "source": [
    "type(rambo)==Soldier      #This seems ok"
   ]
  },
  {
   "cell_type": "code",
   "execution_count": null,
   "metadata": {},
   "outputs": [],
   "source": [
    "type(rambo)==Person       #type is not a good way to check its parent class..."
   ]
  },
  {
   "cell_type": "code",
   "execution_count": null,
   "metadata": {},
   "outputs": [],
   "source": [
    "isinstance(rambo,object)"
   ]
  },
  {
   "cell_type": "markdown",
   "metadata": {},
   "source": [
    "# Principle 3: Polymorphism\n",
    "Polymorphism means the ability to take various forms. In python, it means to invoke different methods with the same name.\n",
    "\n",
    "This idea can be applied to objects that have common properties. Eg. Various objects that implemented the size() method returns their size as an integer.\n",
    "\n",
    "This idea can also be applied to objects that share the same parent class.\n",
    "Remember that the child class inherits all the methods from the parent class? Sometimes the parent method inherited may not be suitable for the child class.\n",
    "In such cases, you will have to override the method in the child class. report() can be overridden/polymorphed into a different form to reflect how the child class is different from the parent class. This is called Method-Overriding.\n",
    "\n",
    "The Soldier example below overrides/polymorphs the report() function. (Note that it reuses part of its parent code as part of the process.) Refer to the code below:"
   ]
  },
  {
   "cell_type": "code",
   "execution_count": null,
   "metadata": {},
   "outputs": [],
   "source": [
    "class Soldier(Person):\n",
    "    def __init__(self, pNRIC, pname, phealth=100, ptummy=100):\n",
    "        self.weapon=\"M16\"\n",
    "        self.ammo=5\n",
    "        super().__init__(pNRIC, pname, phealth, ptummy) #Reusing Parent's code\n",
    "    def shoot(self):\n",
    "        if self.alive:\n",
    "            if self.ammo>0:\n",
    "                print(\"Bang\")\n",
    "                self.ammo-=1\n",
    "            else:\n",
    "                print(\"Click. Out of ammo.\")\n",
    "        else:\n",
    "            print(\"A dead person cannot shoot.\")\n",
    "    def report(self):      #This method needs to be updated/polymorphed/overridden\n",
    "        super().report()   #Reuses code from the parent class, displaying the standard display\n",
    "        print(\"Ammo Left: \"+str(self.ammo))   #Also adds additional details for Soldier class"
   ]
  },
  {
   "cell_type": "markdown",
   "metadata": {},
   "source": [
    "Now report() has 2 forms. One form in Person, another form in Soldier."
   ]
  },
  {
   "cell_type": "code",
   "execution_count": null,
   "metadata": {},
   "outputs": [],
   "source": [
    "rambo=Soldier(\"A01223\",\"Ramen Bobafet\")   #Creates an instance of a Soldier Class"
   ]
  },
  {
   "cell_type": "code",
   "execution_count": null,
   "metadata": {},
   "outputs": [],
   "source": [
    "rambo.report()   #Soldier's report() function is polymorphed, displaying further details"
   ]
  },
  {
   "cell_type": "code",
   "execution_count": null,
   "metadata": {},
   "outputs": [],
   "source": [
    "jill.report()   #Parent's report() function still works as per normal. Jill is a Person, not Soldier"
   ]
  },
  {
   "cell_type": "markdown",
   "metadata": {},
   "source": [
    "Advantages: Polymorphism enables __Code Generalisation__: \n",
    "\n",
    "Generalisation is achieved by allowing the algorithm to uniformly manipulate objects of different classes, provided that the algorithm uses the common properties/behaviour shared by these different classes.\n",
    "\n",
    "Example: The code below takes advantage of the general behaviour of the Person class, and Soldier class, which is the report() function name.\n",
    "\n",
    "In general, they have a common report() function, so you are allowed to write code as below:"
   ]
  },
  {
   "cell_type": "code",
   "execution_count": null,
   "metadata": {
    "scrolled": true
   },
   "outputs": [],
   "source": [
    "Barracks = [jack, jill, rambo]  #These are objects of different classes, Person and Soldier\n",
    "for person in Barracks:         #yet they have something in general/in common\n",
    "    person.report()  # Code Generalisation: These objects have the common property of the\n",
    "                     # report() function, so this code should run without error"
   ]
  },
  {
   "cell_type": "markdown",
   "metadata": {},
   "source": [
    "### Polymorphism: Method-overloading (Note: This is excluded from syllabus)\n",
    "(This is more relevant for other programming languages like java or c++.)\n",
    "\n",
    "This idea is applied where different methods (of the same name) will run depending on the quantity of input or type of input (input parameters), to perform different logic. In python, this is not possible; regardless of quantity of input or type of input, python will always call the same method (Python does not differentiate same-name methods by different input arguments). It is up to the coder to code the logic to detect the quantity/type of input parameters, to produce the same effect in java/c++.\n",
    "\n",
    "Eg 1. In python we can alter the function add() to do different things. Lets say we want to run the function add(\"5\") and add(5). Since the type of input is different, we might run into a type error. To solve this, we can do the program code to branch out different paths that perform different logic, for different types of inputs.\n",
    "\n",
    "Eg 2. display.add(1,2,3) could display a 6, while display.add(\"a\",\"c\") could display AC. display.add(\"a\",3) could display A3.\n",
    "Usually, we expect a function to take in a set number of arguments, of a specific type. But here, the same function add() seems able to take in 2 or 3 inputs, of various types and yet, perform without error. This comes from the concept of method-overloading.\n",
    "\n",
    "In java/c++ you can code several (same named) methods that are distinguished by their different input parameters, to handle them. In python, you code one method only, but you will need to code the logic that analyses the input parameters as well. (java and c++ have a different way of doing method overloading than python.)"
   ]
  },
  {
   "cell_type": "markdown",
   "metadata": {},
   "source": [
    "Information Hiding: Note that unlike most classical OOP languages like java/C++, Python does not have constructs (private/public attributes) that explicitly support encapsulation in the sense of private data within a class. Data that was intended/designed to be 'private', still can be accessed from outside the class, with deliberate effort. Python only has global variables, and local variables to differentiate/restrict access."
   ]
  }
 ],
 "metadata": {
  "kernelspec": {
   "display_name": "Python 3",
   "language": "python",
   "name": "python3"
  },
  "language_info": {
   "codemirror_mode": {
    "name": "ipython",
    "version": 3
   },
   "file_extension": ".py",
   "mimetype": "text/x-python",
   "name": "python",
   "nbconvert_exporter": "python",
   "pygments_lexer": "ipython3",
   "version": "3.6.4"
  }
 },
 "nbformat": 4,
 "nbformat_minor": 2
}
