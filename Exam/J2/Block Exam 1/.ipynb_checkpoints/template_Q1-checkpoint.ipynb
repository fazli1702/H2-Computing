{
 "cells": [
  {
   "cell_type": "markdown",
   "metadata": {},
   "source": [
    "# Question 1"
   ]
  },
  {
   "cell_type": "markdown",
   "metadata": {},
   "source": [
    "# Task 1.1"
   ]
  },
  {
   "cell_type": "code",
   "execution_count": 7,
   "metadata": {},
   "outputs": [],
   "source": [
    "class Node:\n",
    "    def __init__(self, Data=''):\n",
    "        self.Data = Data\n",
    "        self.LeftPtr = 0\n",
    "        self.RightPtr = 0\n",
    "        \n",
    "    def getData(self):\n",
    "        return self.Data\n",
    "    \n",
    "    def getLeftPtr(self):\n",
    "        return self.LeftPtr\n",
    "    \n",
    "    def getRightPtr(self):\n",
    "        return self.RightPtr\n",
    "    \n",
    "    def setData(self, new):\n",
    "        self.Data = new\n",
    "        \n",
    "    def setLeftPtr(self, new):\n",
    "        self.LeftPtr = new\n",
    "        \n",
    "    def setRightPtr(self, new):\n",
    "        self.RightPtr = new\n",
    "        \n",
    "        \n",
    "        \n",
    "class DataStructure:\n",
    "    def __init__(self):\n",
    "        self.TreeData = [Node() for i in range(21)]\n",
    "        self.Root = 0\n",
    "        self.NextFree = 1\n",
    "        for i in range(1, 20):\n",
    "            self.TreeData[i].setLeftPtr(i+1)\n",
    "            \n",
    "\n"
   ]
  },
  {
   "cell_type": "markdown",
   "metadata": {},
   "source": [
    "# Task 1.2\n",
    "(Copy your codes for Node and DataStructure class from Task 1.1 and include the additional methods here.)"
   ]
  },
  {
   "cell_type": "code",
   "execution_count": null,
   "metadata": {},
   "outputs": [],
   "source": [
    "class Node:\n",
    "    def __init__(self, Data=''):\n",
    "        self.Data = Data\n",
    "        self.LeftPtr = 0\n",
    "        self.RightPtr = 0\n",
    "        \n",
    "    def getData(self):\n",
    "        return self.Data\n",
    "    \n",
    "    def getLeftPtr(self):\n",
    "        return self.LeftPtr\n",
    "    \n",
    "    def getRightPtr(self):\n",
    "        return self.RightPtr\n",
    "    \n",
    "    def setData(self, new):\n",
    "        self.Data = new\n",
    "        \n",
    "    def setLeftPtr(self, new):\n",
    "        self.LeftPtr = new\n",
    "        \n",
    "    def setRightPtr(self, new):\n",
    "        self.RightPtr = new\n",
    "        \n",
    "        \n",
    "        \n",
    "class DataStructure:\n",
    "    def __init__(self):\n",
    "        self.TreeData = [Node() for i in range(21)]\n",
    "        self.Root = 0\n",
    "        self.NextFree = 1\n",
    "        for i in range(1, 20):\n",
    "            self.TreeData[i].setLeftPtr(i+1)\n",
    "            \n",
    "    def add(self, value):\n",
    "        self.TreeData[self.NextFree].setData(value)\n",
    "        self.TreeData[self.NextFree].setLeftPtr(0)\n",
    "        \n",
    "        if self.Root == 0:\n",
    "            self.Root = 1\n",
    "            self.NextFree += 1\n",
    "            \n",
    "            \n",
    "    def display(self):\n",
    "        print('%-15s %-15s %-15s %-15s' % ('Index', 'Data', 'LeftPtr', 'RightPtr'))\n",
    "        for i in range(1, 21):\n",
    "            print('%-15s %-15s %-15s %-15s' % (i, self.TreeData[i].getData(), self.TreeData[i].getLeftPtr(), self.TreeData[i].getRightPtr()))\n",
    "            \n",
    "            \n",
    "tree = DataStructure()\n",
    "tree.add('banana')\n",
    "tree.display()\n",
    "\n",
    "\n",
    "\n",
    "\n",
    "\n"
   ]
  },
  {
   "cell_type": "markdown",
   "metadata": {},
   "source": [
    "# Task 1.3"
   ]
  },
  {
   "cell_type": "code",
   "execution_count": null,
   "metadata": {},
   "outputs": [],
   "source": [
    "\n",
    "\n",
    "\n",
    "\n",
    "\n",
    "\n"
   ]
  },
  {
   "cell_type": "markdown",
   "metadata": {},
   "source": [
    "# Task 1.4\n",
    "(Copy your codes for Node and DataStructure class from Task 1.2 and include the additional method here.)"
   ]
  },
  {
   "cell_type": "code",
   "execution_count": null,
   "metadata": {},
   "outputs": [],
   "source": [
    "\n",
    "\n",
    "\n",
    "\n",
    "\n",
    "\n"
   ]
  },
  {
   "cell_type": "markdown",
   "metadata": {},
   "source": [
    "Save all the Python codes for Question 1 as your name_Q1.ipynb"
   ]
  }
 ],
 "metadata": {
  "kernelspec": {
   "display_name": "Python 3",
   "language": "python",
   "name": "python3"
  },
  "language_info": {
   "codemirror_mode": {
    "name": "ipython",
    "version": 3
   },
   "file_extension": ".py",
   "mimetype": "text/x-python",
   "name": "python",
   "nbconvert_exporter": "python",
   "pygments_lexer": "ipython3",
   "version": "3.6.4"
  }
 },
 "nbformat": 4,
 "nbformat_minor": 2
}
