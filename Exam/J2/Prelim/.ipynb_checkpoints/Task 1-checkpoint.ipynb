{
 "cells": [
  {
   "cell_type": "code",
   "execution_count": 6,
   "metadata": {},
   "outputs": [
    {
     "name": "stdout",
     "output_type": "stream",
     "text": [
      "......\n",
      "....X.\n",
      "XXX.X.\n",
      "....X.\n",
      ".XXX..\n",
      "......\n",
      "\n"
     ]
    }
   ],
   "source": [
    "# Task 1.1\n",
    "def read():\n",
    "    grid = []\n",
    "    with open('GAME.txt') as f:\n",
    "        data = f.readlines()\n",
    "        for ele in data:\n",
    "            ele = ele.strip()\n",
    "            row = []\n",
    "            for i in ele:\n",
    "                row.append(i)\n",
    "            grid.append(row)\n",
    "            \n",
    "    return grid\n",
    "\n",
    "def display(grid):\n",
    "    string = ''\n",
    "    for row in grid:\n",
    "        for ele in row:\n",
    "            string += ele\n",
    "        string += '\\n'\n",
    "    print(string)\n",
    "\n",
    "grid = read()\n",
    "display(grid)"
   ]
  },
  {
   "cell_type": "code",
   "execution_count": 9,
   "metadata": {},
   "outputs": [],
   "source": [
    "# Task 1.2\n",
    "def hide_grid(grid):\n",
    "    string = ''\n",
    "    for row in grid:\n",
    "        for ele in row:\n",
    "            if ele == 'X':\n",
    "                string += '.'\n",
    "            else:\n",
    "                string += ele\n",
    "        string += '\\n'\n",
    "    print(string)\n",
    "    \n",
    "\n",
    "def fire(pos, grid):\n",
    "    x, y = pos\n",
    "    if grid[y][x] == '.':\n",
    "        grid[y][x] = 'O'\n",
    "    else:\n",
    "        grid[y][x] = 'S'\n",
    "        \n",
    "        \n",
    "def main():\n",
    "    grid = read()\n",
    "    hide_grid(grid)\n",
    "    for i in range(5):\n",
    "        x = int(input('Enter x coordinate:'))\n",
    "        y = int(input('Enter y coordinate:'))\n",
    "        pos = (x, y)\n",
    "        fire(pos, grid)\n",
    "        hide_grid(grid)\n",
    "    \n",
    "    display(grid)"
   ]
  },
  {
   "cell_type": "code",
   "execution_count": 10,
   "metadata": {},
   "outputs": [
    {
     "name": "stdout",
     "output_type": "stream",
     "text": [
      "......\n",
      "......\n",
      "......\n",
      "......\n",
      "......\n",
      "......\n",
      "\n",
      "Enter x coordinate:0\n",
      "Enter y coordinate:0\n",
      "O.....\n",
      "......\n",
      "......\n",
      "......\n",
      "......\n",
      "......\n",
      "\n",
      "Enter x coordinate:1\n",
      "Enter y coordinate:2\n",
      "O.....\n",
      "......\n",
      ".S....\n",
      "......\n",
      "......\n",
      "......\n",
      "\n",
      "Enter x coordinate:0\n",
      "Enter y coordinate:2\n",
      "O.....\n",
      "......\n",
      "SS....\n",
      "......\n",
      "......\n",
      "......\n",
      "\n",
      "Enter x coordinate:2\n",
      "Enter y coordinate:2\n",
      "O.....\n",
      "......\n",
      "SSS...\n",
      "......\n",
      "......\n",
      "......\n",
      "\n",
      "Enter x coordinate:3\n",
      "Enter y coordinate:5\n",
      "O.....\n",
      "......\n",
      "SSS...\n",
      "......\n",
      "......\n",
      "...O..\n",
      "\n",
      "O.....\n",
      "....X.\n",
      "SSS.X.\n",
      "....X.\n",
      ".XXX..\n",
      "...O..\n",
      "\n"
     ]
    }
   ],
   "source": [
    "main()"
   ]
  },
  {
   "cell_type": "code",
   "execution_count": null,
   "metadata": {},
   "outputs": [],
   "source": []
  }
 ],
 "metadata": {
  "kernelspec": {
   "display_name": "Python 3",
   "language": "python",
   "name": "python3"
  },
  "language_info": {
   "codemirror_mode": {
    "name": "ipython",
    "version": 3
   },
   "file_extension": ".py",
   "mimetype": "text/x-python",
   "name": "python",
   "nbconvert_exporter": "python",
   "pygments_lexer": "ipython3",
   "version": "3.6.4"
  }
 },
 "nbformat": 4,
 "nbformat_minor": 2
}
