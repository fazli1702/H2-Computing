{
 "cells": [
  {
   "cell_type": "code",
   "execution_count": 4,
   "metadata": {},
   "outputs": [],
   "source": [
    "class Food:\n",
    "    def __init__(self, n, c, d):\n",
    "        self.n = n\n",
    "        self.c = c\n",
    "        self.d = d\n",
    "        \n",
    "    def get_name(self):\n",
    "        return self.n\n",
    "    \n",
    "    def get_category(self):\n",
    "        return self.c\n",
    "    \n",
    "    def get_description(self):\n",
    "        return self.d\n",
    "    \n",
    "    def set_name(self, new):\n",
    "        self.n = new\n",
    "        \n",
    "    def set_category(self, new):\n",
    "        self.c = new\n",
    "        \n",
    "    def set_description(self, new):\n",
    "        self.d = new\n",
    "        \n",
    "    def summary(self):\n",
    "        print('Name:', self.n)\n",
    "        print('Category:', self.c)\n",
    "        print('Description:', self.d)\n",
    "        \n",
    "    def compare_with(self, food):\n",
    "        if food.get_name() == self.n:\n",
    "            return 0\n",
    "        elif food.get_name() < self.n:\n",
    "            return -1\n",
    "        elif food.get_name() > self.n:\n",
    "            return 1"
   ]
  },
  {
   "cell_type": "code",
   "execution_count": 7,
   "metadata": {},
   "outputs": [],
   "source": [
    "# DON'T HAVE TO READ FROM TEXT FILE\n",
    "# quetion did not say read from text file\n",
    "# just copy past from text file\n",
    "\n",
    "# NOT NEEDED\n",
    "# lst = []\n",
    "# with open('TASK3_2.txt') as f:\n",
    "#     data = f.readlines()\n",
    "#     for ele in data:\n",
    "#         lst.append(eval(ele))\n",
    "\n",
    "food_lst = [Food(\"Apple\", \"Fruits\", \"6 Sweet Pink, bought on 23 May\"),\n",
    "Food(\"Milk\", \"Diary\", \"Low fat, 1 litre\"),\n",
    "Food(\"Carrot\", \"Vegetables\", \"medium sized, Australian\"),\n",
    "Food(\"Chicken meat\", \"Protein\", \"thigh meat, 200g\"),\n",
    "Food(\"Cabbage\", \"Vegetables\", \"300g\")]"
   ]
  },
  {
   "cell_type": "code",
   "execution_count": null,
   "metadata": {},
   "outputs": [],
   "source": [
    "fridge = []\n",
    "for food in food_lst:\n",
    "    # empty list\n",
    "    if fridge == []:\n",
    "        fridge.append(food)\n",
    "    \n",
    "    else:\n",
    "        curr = 0\n",
    "        while True:\n",
    "            # end of list\n",
    "            if curr == len(fridge):\n",
    "                fridge.append(food)\n",
    "                break\n",
    "            else:\n",
    "                if food.compare_with(fridge[curr]) == 1:\n",
    "                    fridge.insert(food, curr + 1)\n",
    "                    break\n",
    "                else:\n",
    "                    curr += 1\n",
    "                    \n",
    "print(fridge)"
   ]
  },
  {
   "cell_type": "code",
   "execution_count": 11,
   "metadata": {},
   "outputs": [],
   "source": [
    "class DatedFood(Food):\n",
    "    def __init__(self, n, c, d, dt):\n",
    "        super().__init__(n, c, d)\n",
    "        self.dt = dt\n",
    "        \n",
    "    def set_expiry_date(self, new):\n",
    "        self.dt = dt\n",
    "        \n",
    "    def get_expiry_date(self):\n",
    "        return self.dt"
   ]
  },
  {
   "cell_type": "code",
   "execution_count": 12,
   "metadata": {},
   "outputs": [],
   "source": [
    "food_lst2 = [\n",
    "    Food(\"Apple\", \"Fruits\", \"6 Sweet Pink, bought on 23 May\"),\n",
    "    DatedFood(\"Milk\", \"Diary\", \"Low fat, 1 litre\", \"2020-06-17\"),\n",
    "    Food(\"Carrot\", \"Vegetables\", \"medium sized, Australian\"),\n",
    "    DatedFood(\"Chicken meat\", \"Protein\", \"thigh meat, 200g\", \"2020-06-15\"),\n",
    "    DatedFood(\"Egg\", \"Protein\", \"1 dozen\", \"2020-07-10\"),\n",
    "    DatedFood(\"Yogurt\", \"Diary\", \"Greek, 1 tub\", \"2020-06-17\"),\n",
    "    Food(\"Cabbage\", \"Vegetables\", \"300g\")\n",
    "]"
   ]
  },
  {
   "cell_type": "code",
   "execution_count": null,
   "metadata": {},
   "outputs": [],
   "source": [
    "# careful when using instance as it returns true for superclass\n"
   ]
  }
 ],
 "metadata": {
  "kernelspec": {
   "display_name": "Python 3",
   "language": "python",
   "name": "python3"
  },
  "language_info": {
   "codemirror_mode": {
    "name": "ipython",
    "version": 3
   },
   "file_extension": ".py",
   "mimetype": "text/x-python",
   "name": "python",
   "nbconvert_exporter": "python",
   "pygments_lexer": "ipython3",
   "version": "3.6.4"
  }
 },
 "nbformat": 4,
 "nbformat_minor": 2
}
