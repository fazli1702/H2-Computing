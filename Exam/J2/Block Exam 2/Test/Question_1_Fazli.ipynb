{
 "cells": [
  {
   "cell_type": "markdown",
   "metadata": {},
   "source": [
    "## Task 1.1"
   ]
  },
  {
   "cell_type": "code",
   "execution_count": 3,
   "metadata": {},
   "outputs": [],
   "source": [
    "with open('MRT.txt') as f:\n",
    "    data = f.readlines()\n",
    "    names = [name.strip() for name in data]\n",
    "    "
   ]
  },
  {
   "cell_type": "code",
   "execution_count": 4,
   "metadata": {},
   "outputs": [],
   "source": [
    "def quickSort(arr):\n",
    "    return quickSortHelper(arr, 0,  len(arr)-1)\n",
    "\n",
    "def quickSortHelper(arr, low, high):\n",
    "    if low < high:\n",
    "        mid = partition(arr, low, high)\n",
    "        quickSortHelper(arr, low, mid-1)\n",
    "        quickSortHelper(arr, mid+1, high)\n",
    "    return arr\n",
    "\n",
    "def partition(arr, low, high):\n",
    "    pivot = arr[low]\n",
    "    left = low + 1\n",
    "    right = high\n",
    "    done = False\n",
    "    \n",
    "    while not done:\n",
    "        while left <= right and arr[left] <= pivot:\n",
    "            left += 1\n",
    "        \n",
    "        while left <= right and arr[right] >= pivot:\n",
    "            right -= 1\n",
    "            \n",
    "        if left > right:\n",
    "            done = True\n",
    "            \n",
    "        else:\n",
    "            arr[left], arr[right] = arr[right], arr[left]\n",
    "    \n",
    "    arr[low], arr[right] = arr[right], arr[low]\n",
    "    \n",
    "    return right"
   ]
  },
  {
   "cell_type": "code",
   "execution_count": 5,
   "metadata": {},
   "outputs": [],
   "source": [
    "sort_names = quickSort(names)"
   ]
  },
  {
   "cell_type": "code",
   "execution_count": 5,
   "metadata": {},
   "outputs": [],
   "source": [
    "with open('SORTED_MRT.txt', 'w') as f:\n",
    "    for ele in sort_names:\n",
    "        f.write(ele + '\\n')"
   ]
  },
  {
   "cell_type": "markdown",
   "metadata": {},
   "source": [
    "## Task 1.2"
   ]
  },
  {
   "cell_type": "code",
   "execution_count": 21,
   "metadata": {},
   "outputs": [
    {
     "name": "stdout",
     "output_type": "stream",
     "text": [
      "Admiralty\n",
      "Aljunied\n",
      "Ang Mo Kio\n",
      "Bartley\n",
      "Bayfront\n",
      "Bayshore\n",
      "Beauty World\n",
      "Bedok\n",
      "Bedok North\n",
      "Bedok Reservoir\n",
      "Bedok South\n",
      "Bencoolen\n",
      "Bishan\n",
      "Boon Keng\n",
      "Boon Lay\n",
      "Botanic Gardens\n",
      "Braddell\n",
      "Bras Basah\n",
      "Bright Hill\n",
      "Buangkok\n",
      "Bugis\n",
      "Bukit Batok\n",
      "Bukit Gombak\n",
      "Bukit Panjang\n",
      "Buona Vista\n",
      "Caldecott\n",
      "Canberra\n",
      "Cantonment\n",
      "Cashew\n",
      "Changi Airport\n",
      "Chinatown\n",
      "Chinese Garden\n",
      "Choa Chu Kang\n",
      "City Hall\n",
      "Clarke Quay\n",
      "Clementi\n",
      "Commonwealth\n",
      "Dakota\n",
      "Dhoby Ghaut\n",
      "Dover\n",
      "Downtown\n",
      "Esplanade\n",
      "Eunos\n",
      "Expo\n",
      "Farrer Road\n",
      "Fort Canning\n",
      "HarbourFront\n",
      "Havelock\n",
      "Hillview\n",
      "Holland Village\n",
      "Hougang\n",
      "Hume\n",
      "Joo Koon\n",
      "Jurong East\n",
      "Kaki Bukit\n",
      "Kallang\n",
      "Kembangan\n",
      "Kent Ridge\n",
      "Keppel\n",
      "Khatib\n",
      "King Albert Park\n",
      "Kovan\n",
      "Kranji\n",
      "Labrador Park\n",
      "Lakeside\n",
      "Lavender\n",
      "Lentor\n",
      "Little India\n",
      "Lorong Chuan\n",
      "MacPherson\n",
      "Marina Bay\n",
      "Marine Terrace\n",
      "Marsiling\n",
      "Marymount\n",
      "Mayflower\n",
      "Mountbatten\n",
      "Newton\n",
      "Novena\n",
      "Orchard\n",
      "Outram Park\n",
      "Pasir Ris\n",
      "Paya Lebar\n",
      "Pioneer\n",
      "Potong Pasir\n",
      "Promenade\n",
      "Punggol\n",
      "Queenstown\n",
      "Raffles Place\n",
      "Redhill\n",
      "Rochor\n",
      "Sembawang\n",
      "Sengkang\n",
      "Serangoon\n",
      "Siglap\n",
      "Simei\n",
      "Sixth Avenue\n",
      "Somerset\n",
      "Stadium\n",
      "Stevens\n",
      "Sungei Bedok\n",
      "Tai Seng\n",
      "Tai Seng\n",
      "Tampines\n",
      "Tan Kah Kee\n",
      "Tanah Merah\n",
      "Tanjong Pagar\n",
      "Teck Ghee\n",
      "Telok Ayer\n",
      "Telok Blangah\n",
      "Tiong Bahru\n",
      "Toa Payoh\n",
      "Upper Thomson\n",
      "Woodlands\n",
      "Woodleigh\n",
      "Yio Chu Kang\n",
      "Yishun\n"
     ]
    }
   ],
   "source": [
    "with open('SORTED_MRT.txt') as f:\n",
    "    names = f.readlines()\n",
    "    sorted_names = []\n",
    "    for name in names:\n",
    "        print(name.strip())\n",
    "        sorted_names.append(name.strip())"
   ]
  },
  {
   "cell_type": "code",
   "execution_count": 32,
   "metadata": {},
   "outputs": [],
   "source": [
    "def binary_search(arr, key):\n",
    "    h = len(arr) - 1\n",
    "    l = 0\n",
    "    while l < h:\n",
    "        m = (l+h) // 2\n",
    "        if arr[m] == key:\n",
    "            return True\n",
    "        elif key < arr[m]:\n",
    "            h = m - 1\n",
    "        else:\n",
    "            l = m + 1\n",
    "    return False\n"
   ]
  },
  {
   "cell_type": "markdown",
   "metadata": {},
   "source": [
    "## Task 1.3"
   ]
  },
  {
   "cell_type": "code",
   "execution_count": 33,
   "metadata": {},
   "outputs": [
    {
     "data": {
      "text/plain": [
       "False"
      ]
     },
     "execution_count": 33,
     "metadata": {},
     "output_type": "execute_result"
    }
   ],
   "source": [
    "binary_search(sorted_names, 'Hello')"
   ]
  },
  {
   "cell_type": "code",
   "execution_count": 34,
   "metadata": {},
   "outputs": [
    {
     "data": {
      "text/plain": [
       "True"
      ]
     },
     "execution_count": 34,
     "metadata": {},
     "output_type": "execute_result"
    }
   ],
   "source": [
    "binary_search(sorted_names, 'Bedok')"
   ]
  },
  {
   "cell_type": "code",
   "execution_count": null,
   "metadata": {},
   "outputs": [],
   "source": []
  }
 ],
 "metadata": {
  "kernelspec": {
   "display_name": "Python 3",
   "language": "python",
   "name": "python3"
  },
  "language_info": {
   "codemirror_mode": {
    "name": "ipython",
    "version": 3
   },
   "file_extension": ".py",
   "mimetype": "text/x-python",
   "name": "python",
   "nbconvert_exporter": "python",
   "pygments_lexer": "ipython3",
   "version": "3.6.4"
  }
 },
 "nbformat": 4,
 "nbformat_minor": 2
}
