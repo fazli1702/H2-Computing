{
 "cells": [
  {
   "cell_type": "markdown",
   "metadata": {},
   "source": [
    "## Task 3.1"
   ]
  },
  {
   "cell_type": "code",
   "execution_count": 10,
   "metadata": {},
   "outputs": [],
   "source": [
    "class Food:\n",
    "    def __init__(self, n='', c='', d=''):\n",
    "        self.n = n\n",
    "        self.c = c\n",
    "        self.d = d\n",
    "        \n",
    "    def get_name(self):\n",
    "        return self.n\n",
    "    \n",
    "    def get_category(self):\n",
    "        return self.c\n",
    "    \n",
    "    def get_description(self):\n",
    "        return self.d\n",
    "    \n",
    "    def set_name(self, new):\n",
    "        self.n = new\n",
    "        \n",
    "    def set_category(self, new):\n",
    "        self.c = new\n",
    "        \n",
    "    def set_description(self, new):\n",
    "        self.d = new\n",
    "        \n",
    "    def summary(self):\n",
    "        print('Name:', self.n)\n",
    "        print('Category:', self.c)\n",
    "        print('Description:', self.d)\n",
    "        \n",
    "    def compare_with(self, food):\n",
    "        if food.get_name() == self.n:\n",
    "            return 0\n",
    "        elif food.get_name() > self.n:\n",
    "            return 1\n",
    "        else:\n",
    "            return -1"
   ]
  },
  {
   "cell_type": "code",
   "execution_count": 11,
   "metadata": {},
   "outputs": [],
   "source": [
    "# create list of empty food objects\n",
    "lst = [Food() for i in range(5)]\n",
    "\n",
    "with open('TASK3_2.txt') as f:\n",
    "    data = f.readlines()\n",
    "    i = 0\n",
    "    for ele in data:\n",
    "        ele = ele.strip().split('\"')\n",
    "        name = ele[1]\n",
    "        category = ele[3]\n",
    "        description = ele[5]\n",
    "        \n",
    "        if i == 0:\n",
    "            lst[0].set_name(name)\n",
    "            lst[0].set_category(category)\n",
    "            lst[0].set_description(description)\n",
    "            \n",
    "        else:\n",
    "            lst[i].set_name(name)\n",
    "            lst[i].set_category(category)\n",
    "            lst[i].set_description(description)\n",
    "            j = i\n",
    "            while j-1 >= 0 and j+1 <= 4:\n",
    "                if lst[j].compare_with(lst[j-1]) == -1:\n",
    "                    lst[j], lst[j-1] = lst[j-1], lst[j]\n",
    "                elif lst[j].compare_with(lst[j+1]) == 1:\n",
    "                    lst[j], lst[j+1] = lst[j+1], lst[j]\n",
    "                elif lst[j].compare_with(lst[j-1]) == 1 and lst[j].compare_with(lst[j+1]) == -1:\n",
    "                    break\n",
    "                elif lst[j].compare_with(lst[j-1]) == 0 or lst[j].compare_with(lst[j+1]) == 0:\n",
    "                    break\n",
    "                j += 1\n",
    "                    \n",
    "        i += 1\n",
    "    "
   ]
  },
  {
   "cell_type": "code",
   "execution_count": 9,
   "metadata": {},
   "outputs": [
    {
     "name": "stdout",
     "output_type": "stream",
     "text": [
      "Name: Milk\n",
      "Category: Diary\n",
      "Description: Low fat, 1 litre\n",
      "\n",
      "Name: Carrot\n",
      "Category: Vegetables\n",
      "Description: medium sized, Australian\n",
      "\n",
      "Name: Chicken meat\n",
      "Category: Protein\n",
      "Description: thigh meat, 200g\n",
      "\n",
      "Name: Apple\n",
      "Category: Fruits\n",
      "Description: 6 Sweet Pink, bought on 23 May\n",
      "\n",
      "Name: Cabbage\n",
      "Category: Vegetables\n",
      "Description: 300g\n",
      "\n"
     ]
    }
   ],
   "source": [
    "for food in lst:\n",
    "    food.summary()\n",
    "    print()"
   ]
  },
  {
   "cell_type": "code",
   "execution_count": 14,
   "metadata": {},
   "outputs": [],
   "source": [
    "class DatedFood(Food):\n",
    "    def __init__(self, n='', c='', d='', dt=''):\n",
    "        super().__init__(n, c, d)\n",
    "        self.dt = dt\n",
    "        \n",
    "    def get_expiry_date(self):\n",
    "        return self.dt\n",
    "    \n",
    "    def set_expiry_date(self, new):\n",
    "        self.dt = new\n",
    "        \n",
    "    def compare_with(self, food):\n",
    "        if type(food) is DatedFood:\n",
    "            if food.get_expiry_date() == self.dt:\n",
    "                return 0\n",
    "            elif food.get_expiry_date() > self.dt:\n",
    "                return 1\n",
    "            else:\n",
    "                return -1\n",
    "        else:\n",
    "            super().compare_with(food)\n",
    "    \n",
    "    def summary(self):\n",
    "        super().summary()\n",
    "        print('Due date:', self.dt)\n"
   ]
  },
  {
   "cell_type": "code",
   "execution_count": null,
   "metadata": {},
   "outputs": [],
   "source": [
    "lst2 = []\n",
    "with open('TASK3_3.txt') as f:\n",
    "    data = f.readlines()\n",
    "    for ele in data:\n",
    "        pass"
   ]
  }
 ],
 "metadata": {
  "kernelspec": {
   "display_name": "Python 3",
   "language": "python",
   "name": "python3"
  },
  "language_info": {
   "codemirror_mode": {
    "name": "ipython",
    "version": 3
   },
   "file_extension": ".py",
   "mimetype": "text/x-python",
   "name": "python",
   "nbconvert_exporter": "python",
   "pygments_lexer": "ipython3",
   "version": "3.6.4"
  }
 },
 "nbformat": 4,
 "nbformat_minor": 2
}
