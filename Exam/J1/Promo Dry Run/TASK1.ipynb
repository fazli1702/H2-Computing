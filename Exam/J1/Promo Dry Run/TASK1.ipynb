{
 "cells": [
  {
   "cell_type": "markdown",
   "metadata": {},
   "source": [
    "Task 1 : Write the program code count_vowels(lst)"
   ]
  },
  {
   "cell_type": "code",
   "execution_count": null,
   "metadata": {},
   "outputs": [],
   "source": [
    "word_list= ['possibility', 'honest', 'noise', 'diet', 'information', 'outside', 'generation',\n",
    "            'tolerate', 'step', 'blank', 'wording', 'printer', 'farewell', 'orchestra', 'personality',\n",
    "            'crossing', 'outer', 'influence', 'poetry', 'consultation', 'chalk', 'concession',\n",
    "            'conception', 'landowner', 'parking', 'inquiry', 'pollution', 'cultural', 'democratic',\n",
    "            'game', 'tray', 'shelter', 'pierce', 'psychology', 'kick', 'misplace', 'nationalism',\n",
    "            'relax', 'asset', 'create','applied', 'live', 'brick', 'pioneer', 'vote', 'confuse',\n",
    "            'coincide', 'spot', 'butterfly', 'risk']\n",
    "\n",
    "\n",
    "def count_vowels(lst):\n",
    "    pass"
   ]
  }
 ],
 "metadata": {
  "kernelspec": {
   "display_name": "Python 3",
   "language": "python",
   "name": "python3"
  },
  "language_info": {
   "codemirror_mode": {
    "name": "ipython",
    "version": 3
   },
   "file_extension": ".py",
   "mimetype": "text/x-python",
   "name": "python",
   "nbconvert_exporter": "python",
   "pygments_lexer": "ipython3",
   "version": "3.6.4"
  }
 },
 "nbformat": 4,
 "nbformat_minor": 2
}
