{
 "cells": [
  {
   "cell_type": "code",
   "execution_count": null,
   "metadata": {},
   "outputs": [],
   "source": [
    "#Task 3.1\n",
    "\n",
    "def hash(string):\n",
    "    pass\n",
    "\n",
    "\n"
   ]
  },
  {
   "cell_type": "code",
   "execution_count": null,
   "metadata": {},
   "outputs": [],
   "source": [
    "#Task 3.2\n",
    "\n",
    "keys1 = ('onion','tomato','cabbage', 'okra','banana', 'salt','cucumber','mushroom', 'orange')\n",
    "\n",
    "def hash_table(seq):\n",
    "    pass\n",
    "\n"
   ]
  },
  {
   "cell_type": "code",
   "execution_count": null,
   "metadata": {},
   "outputs": [],
   "source": [
    "#Task 3.3\n",
    "\n",
    "keys2 = ('onion','tomato','cabbage','carrot', 'okra','mellon','potato','banana', 'olive','salt',\n",
    "         'cucumber','mushroom', 'orange')\n",
    "\n",
    "def hash_table(seq):\n",
    "    pass\n"
   ]
  },
  {
   "cell_type": "code",
   "execution_count": null,
   "metadata": {},
   "outputs": [],
   "source": [
    "#Task 3.4\n",
    "\n",
    "def search(seq, item): \n",
    "    pass\n",
    "\n",
    "\n",
    "\n",
    "print(search(table, 'salt'))\n",
    "print(search(table, 'stone'))\n",
    "print(search(table, 'cake'))\n",
    "print(search(table, 'potato'))"
   ]
  }
 ],
 "metadata": {
  "kernelspec": {
   "display_name": "Python 3",
   "language": "python",
   "name": "python3"
  },
  "language_info": {
   "codemirror_mode": {
    "name": "ipython",
    "version": 3
   },
   "file_extension": ".py",
   "mimetype": "text/x-python",
   "name": "python",
   "nbconvert_exporter": "python",
   "pygments_lexer": "ipython3",
   "version": "3.6.4"
  }
 },
 "nbformat": 4,
 "nbformat_minor": 2
}
