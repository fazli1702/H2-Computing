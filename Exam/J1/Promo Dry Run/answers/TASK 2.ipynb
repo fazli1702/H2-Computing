{
 "cells": [
  {
   "cell_type": "code",
   "execution_count": 2,
   "metadata": {},
   "outputs": [],
   "source": [
    "#Task 2.1\n",
    "def add_loot(inventory, item_list):\n",
    "    for ele in item_list:\n",
    "        inventory[ele] += 1\n",
    "    return inventory\n"
   ]
  },
  {
   "cell_type": "code",
   "execution_count": 3,
   "metadata": {},
   "outputs": [
    {
     "data": {
      "text/plain": [
       "{'coin': 50, 'leather': 25, 'wood': 16, 'scroll': 3, 'ore': 14}"
      ]
     },
     "execution_count": 3,
     "metadata": {},
     "output_type": "execute_result"
    }
   ],
   "source": [
    "my_bag = {'coin':50,'leather':23,'wood':15,'scroll':2,'ore':13} \n",
    "barlog_loot = ['leather', 'leather', 'scroll', 'wood', 'ore'] \n",
    "\n",
    "add_loot(my_bag, barlog_loot)\n"
   ]
  },
  {
   "cell_type": "code",
   "execution_count": 14,
   "metadata": {},
   "outputs": [],
   "source": [
    "#Task 2.2\n",
    "exchange={'leather':50,'ore':10,'wood':5, 'scroll':20}\n",
    "my_bag = {'coin':50,'leather':23,'wood':15,'scroll':2,'ore':13} \n",
    "\n",
    "def change_coin(inventory):\n",
    "    #exchange items to coins\n",
    "    for key, value in inventory.items():\n",
    "        if key in exchange:\n",
    "            inventory['coin'] += value * exchange[key]\n",
    "    \n",
    "    #deleting items that have exchange\n",
    "    lst = []\n",
    "    for key, value in inventory.items():\n",
    "        if key != 'coin':\n",
    "            lst += [key]\n",
    "            \n",
    "    for ele in lst:\n",
    "        del inventory[ele]\n",
    "        \n",
    "    return inventory        "
   ]
  },
  {
   "cell_type": "code",
   "execution_count": 17,
   "metadata": {},
   "outputs": [
    {
     "data": {
      "text/plain": [
       "{'coin': 1445}"
      ]
     },
     "execution_count": 17,
     "metadata": {},
     "output_type": "execute_result"
    }
   ],
   "source": [
    "my_bag = {'coin':50,'leather':23,'wood':15,'scroll':2,'ore':13} \n",
    "change_coin(my_bag)"
   ]
  },
  {
   "cell_type": "code",
   "execution_count": null,
   "metadata": {},
   "outputs": [],
   "source": []
  }
 ],
 "metadata": {
  "kernelspec": {
   "display_name": "Python 3",
   "language": "python",
   "name": "python3"
  },
  "language_info": {
   "codemirror_mode": {
    "name": "ipython",
    "version": 3
   },
   "file_extension": ".py",
   "mimetype": "text/x-python",
   "name": "python",
   "nbconvert_exporter": "python",
   "pygments_lexer": "ipython3",
   "version": "3.6.4"
  }
 },
 "nbformat": 4,
 "nbformat_minor": 2
}
