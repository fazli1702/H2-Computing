{
 "cells": [
  {
   "cell_type": "code",
   "execution_count": 1,
   "metadata": {},
   "outputs": [],
   "source": [
    "\n",
    "            "
   ]
  },
  {
   "cell_type": "code",
   "execution_count": 2,
   "metadata": {},
   "outputs": [
    {
     "name": "stdout",
     "output_type": "stream",
     "text": [
      "5\n",
      "['I have a dream', 'I want it that way', 'Perfect', 'In my feelings', 'Blank Space']\n"
     ]
    }
   ],
   "source": [
    "#Task 5.2\n",
    "from QUEUE import *\n",
    "\n",
    "q = make_queue()\n",
    "enqueue(q, 'I have a dream')\n",
    "enqueue(q, 'I want it that way')\n",
    "enqueue(q, 'Perfect')\n",
    "enqueue(q, 'In my feelings')\n",
    "enqueue(q, 'Blank Space')\n",
    "delete(q, front(q))\n",
    "front(q)\n",
    "delete(q, 'Blank Space')\n",
    "shift(q, 'Perfect')\n",
    "print(size(q))\n",
    "print(q)\n"
   ]
  },
  {
   "cell_type": "code",
   "execution_count": null,
   "metadata": {},
   "outputs": [],
   "source": []
  }
 ],
 "metadata": {
  "kernelspec": {
   "display_name": "Python 3",
   "language": "python",
   "name": "python3"
  },
  "language_info": {
   "codemirror_mode": {
    "name": "ipython",
    "version": 3
   },
   "file_extension": ".py",
   "mimetype": "text/x-python",
   "name": "python",
   "nbconvert_exporter": "python",
   "pygments_lexer": "ipython3",
   "version": "3.6.4"
  }
 },
 "nbformat": 4,
 "nbformat_minor": 2
}
