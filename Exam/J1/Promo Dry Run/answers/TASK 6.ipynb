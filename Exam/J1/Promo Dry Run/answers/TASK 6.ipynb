{
 "cells": [
  {
   "cell_type": "code",
   "execution_count": 10,
   "metadata": {},
   "outputs": [
    {
     "name": "stdout",
     "output_type": "stream",
     "text": [
      "184146208X\n",
      "03408504511\n",
      "0751549266\n"
     ]
    }
   ],
   "source": [
    "a = [10, 9, 8, 7, 6, 5, 4, 3, 2]\n",
    "\n",
    "def checkdigit(isbn):\n",
    "    total = 0\n",
    "    for i in range(len(isbn)):\n",
    "        total += int(isbn[i]) * a[i]\n",
    "    total = total % 11\n",
    "    cd = 11 - total\n",
    "    if cd == 10:\n",
    "        return isbn + 'X'\n",
    "    else:\n",
    "        return isbn + str(cd)\n",
    "\n",
    "print(checkdigit('184146208'))\n",
    "print(checkdigit('034085045'))\n",
    "print(checkdigit('075154926'))"
   ]
  },
  {
   "cell_type": "code",
   "execution_count": null,
   "metadata": {},
   "outputs": [],
   "source": []
  }
 ],
 "metadata": {
  "kernelspec": {
   "display_name": "Python 3",
   "language": "python",
   "name": "python3"
  },
  "language_info": {
   "codemirror_mode": {
    "name": "ipython",
    "version": 3
   },
   "file_extension": ".py",
   "mimetype": "text/x-python",
   "name": "python",
   "nbconvert_exporter": "python",
   "pygments_lexer": "ipython3",
   "version": "3.6.4"
  }
 },
 "nbformat": 4,
 "nbformat_minor": 2
}
