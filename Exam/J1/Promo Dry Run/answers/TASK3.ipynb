{
 "cells": [
  {
   "cell_type": "code",
   "execution_count": 2,
   "metadata": {},
   "outputs": [
    {
     "name": "stdout",
     "output_type": "stream",
     "text": [
      "1\n"
     ]
    }
   ],
   "source": [
    "#Task 3.1\n",
    "\n",
    "def hash(string):\n",
    "    total = 0\n",
    "    for ele in string:\n",
    "        total += ord(ele)\n",
    "    return total % 13\n",
    "        \n",
    "\n",
    "print(hash('onion'))\n"
   ]
  },
  {
   "cell_type": "code",
   "execution_count": 10,
   "metadata": {},
   "outputs": [
    {
     "name": "stdout",
     "output_type": "stream",
     "text": [
      "['okra', 'onion', '', '', 'cabbage', '', 'mushroom', 'salt', '', 'cucumber', 'tomato', 'banana', 'orange']\n"
     ]
    }
   ],
   "source": [
    "#Task 3.2\n",
    "\n",
    "keys1 = ('onion','tomato','cabbage', 'okra','banana', 'salt','cucumber','mushroom', 'orange')\n",
    "\n",
    "def hash(string):\n",
    "    total = 0\n",
    "    for ele in string:\n",
    "        total += ord(ele)\n",
    "    return total % 13\n",
    "\n",
    "def init_table(n):\n",
    "    table = []\n",
    "    table += [''] * n\n",
    "    return table\n",
    "\n",
    "def hash_table(seq):\n",
    "    table = init_table(13)\n",
    "    for ele in seq:\n",
    "        i = hash(ele)\n",
    "        table[i] = ele\n",
    "    return table\n",
    "\n",
    "print(hash_table(keys1))\n",
    "\n"
   ]
  },
  {
   "cell_type": "code",
   "execution_count": 12,
   "metadata": {},
   "outputs": [
    {
     "name": "stdout",
     "output_type": "stream",
     "text": [
      "[['okra', 'potato'], ['onion', 'carrot'], '', '', 'cabbage', '', 'mushroom', 'salt', '', 'cucumber', ['tomato', 'mellon', 'olive'], 'banana', 'orange']\n"
     ]
    }
   ],
   "source": [
    "#Task 3.3\n",
    "\n",
    "keys2 = ('onion','tomato','cabbage','carrot', 'okra','mellon','potato','banana', 'olive','salt',\n",
    "         'cucumber','mushroom', 'orange')\n",
    "\n",
    "def hash(string):\n",
    "    total = 0\n",
    "    for ele in string:\n",
    "        total += ord(ele)\n",
    "    return total % 13\n",
    "\n",
    "def init_table(n):\n",
    "    table = []\n",
    "    table += [''] * n\n",
    "    return table\n",
    "\n",
    "def hash_table(seq):\n",
    "    table = init_table(13)\n",
    "    for ele in seq:\n",
    "        i = hash(ele)\n",
    "        if table[i] == '':\n",
    "            table[i] = ele\n",
    "        elif type(table[i]) == list:\n",
    "            table[i] += [ele]\n",
    "        else:\n",
    "            table[i] = [table[i], ele]\n",
    "    return table\n",
    "\n",
    "print(hash_table(keys2))\n"
   ]
  },
  {
   "cell_type": "code",
   "execution_count": 16,
   "metadata": {},
   "outputs": [
    {
     "name": "stdout",
     "output_type": "stream",
     "text": [
      "True\n",
      "False\n",
      "False\n",
      "True\n"
     ]
    }
   ],
   "source": [
    "#Task 3.4\n",
    "\n",
    "def hash(string):\n",
    "    total = 0\n",
    "    for ele in string:\n",
    "        total += ord(ele)\n",
    "    return total % 13\n",
    "\n",
    "def search(seq, item): \n",
    "    i = hash(item)\n",
    "    if seq[i] == item:\n",
    "        return True\n",
    "    elif seq[i] == '':\n",
    "        return False\n",
    "    elif type(seq[i]) == list:\n",
    "        return item in seq[i]\n",
    "    else:\n",
    "        return False\n",
    "    \n",
    "\n",
    "table = hash_table(keys2)\n",
    "\n",
    "\n",
    "print(search(table, 'salt'))\n",
    "print(search(table, 'stone'))\n",
    "print(search(table, 'cake'))\n",
    "print(search(table, 'potato'))"
   ]
  },
  {
   "cell_type": "code",
   "execution_count": null,
   "metadata": {},
   "outputs": [],
   "source": []
  }
 ],
 "metadata": {
  "kernelspec": {
   "display_name": "Python 3",
   "language": "python",
   "name": "python3"
  },
  "language_info": {
   "codemirror_mode": {
    "name": "ipython",
    "version": 3
   },
   "file_extension": ".py",
   "mimetype": "text/x-python",
   "name": "python",
   "nbconvert_exporter": "python",
   "pygments_lexer": "ipython3",
   "version": "3.6.4"
  }
 },
 "nbformat": 4,
 "nbformat_minor": 2
}
