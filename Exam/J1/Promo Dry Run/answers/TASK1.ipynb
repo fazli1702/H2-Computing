{
 "cells": [
  {
   "cell_type": "markdown",
   "metadata": {},
   "source": [
    "Task 1 : Write the program code count_vowels(lst)"
   ]
  },
  {
   "cell_type": "code",
   "execution_count": 6,
   "metadata": {},
   "outputs": [],
   "source": [
    "word_list= ['possibility', 'honest', 'noise', 'diet', 'information', 'outside', 'generation',\n",
    "            'tolerate', 'step', 'blank', 'wording', 'printer', 'farewell', 'orchestra', 'personality',\n",
    "            'crossing', 'outer', 'influence', 'poetry', 'consultation', 'chalk', 'concession',\n",
    "            'conception', 'landowner', 'parking', 'inquiry', 'pollution', 'cultural', 'democratic',\n",
    "            'game', 'tray', 'shelter', 'pierce', 'psychology', 'kick', 'misplace', 'nationalism',\n",
    "            'relax', 'asset', 'create','applied', 'live', 'brick', 'pioneer', 'vote', 'confuse',\n",
    "            'coincide', 'spot', 'butterfly', 'risk']\n",
    "\n",
    "\n",
    "def count_vowels(lst):\n",
    "    counter_a = 0\n",
    "    counter_e = 0\n",
    "    counter_i = 0\n",
    "    counter_o = 0\n",
    "    counter_u = 0\n",
    "    for ele in lst:\n",
    "        for i in range(len(ele)):\n",
    "            if ele[i] == 'a':\n",
    "                counter_a += 1\n",
    "            elif ele[i] == 'e':\n",
    "                counter_e += 1\n",
    "            elif ele[i] == 'i':\n",
    "                counter_i += 1\n",
    "            elif ele[i] == 'o':\n",
    "                counter_o += 1\n",
    "            elif ele[i] == 'u':\n",
    "                counter_u += 1\n",
    "    return ('a', counter_a), ('e', counter_e), ('i', counter_i), ('o', counter_o), ('u', counter_u)\n",
    "            "
   ]
  },
  {
   "cell_type": "code",
   "execution_count": 7,
   "metadata": {},
   "outputs": [
    {
     "data": {
      "text/plain": [
       "(('a', 22), ('e', 40), ('i', 34), ('o', 32), ('u', 10))"
      ]
     },
     "execution_count": 7,
     "metadata": {},
     "output_type": "execute_result"
    }
   ],
   "source": [
    "count_vowels(word_list)"
   ]
  },
  {
   "cell_type": "code",
   "execution_count": null,
   "metadata": {},
   "outputs": [],
   "source": []
  }
 ],
 "metadata": {
  "kernelspec": {
   "display_name": "Python 3",
   "language": "python",
   "name": "python3"
  },
  "language_info": {
   "codemirror_mode": {
    "name": "ipython",
    "version": 3
   },
   "file_extension": ".py",
   "mimetype": "text/x-python",
   "name": "python",
   "nbconvert_exporter": "python",
   "pygments_lexer": "ipython3",
   "version": "3.6.4"
  }
 },
 "nbformat": 4,
 "nbformat_minor": 2
}
