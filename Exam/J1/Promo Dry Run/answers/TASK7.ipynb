{
 "cells": [
  {
   "cell_type": "code",
   "execution_count": null,
   "metadata": {},
   "outputs": [],
   "source": [
    "#Task 7.1\n",
    "\n",
    "'''\n",
    "FUNCTION BinarySearch(ThisArray, FindItem, Low, High)\n",
    "    \n",
    "    IF ThisArray == None\n",
    "\n",
    "        RETURN ‘Not found.’ // item not found\n",
    "\n",
    "    ELSE\n",
    "\n",
    "        // calculate new Middle value\n",
    "\n",
    "        Middle ← (Low + High) // 2\n",
    "\n",
    "        IF ThisArray[Middle] > FindItem\n",
    "\n",
    "            RETURN BinarySearch(ThisArray, FindItem, Low, Middle - 1)\n",
    "\n",
    "        ELSE\n",
    "\n",
    "            IF ThisArray[Middle] < FindItem\n",
    "\n",
    "                 RETURN BinarySearch(ThisArray, FindItem, Middle, High)\n",
    "\n",
    "            ELSE\n",
    "\n",
    "                 RETURN Middle // found at position Middle\n",
    "\n",
    "            ENDIF\n",
    "        ENDIF\n",
    "    ENDIF\n",
    "ENDFUNCTION\n",
    "'''\n",
    "\n",
    "# A : \n",
    "\n",
    "# B : \n",
    "\n",
    "# C :\n"
   ]
  },
  {
   "cell_type": "code",
   "execution_count": null,
   "metadata": {},
   "outputs": [],
   "source": [
    "#Task 7.2\n",
    "\n",
    "def binary_search(seq, item, low, high):\n",
    "    if seq == None:\n",
    "        return 'Not Found'\n",
    "    else:\n",
    "        middle = (low + high) // 2\n",
    "        if seq[middle] > item:\n",
    "            return binary_search(seq, item, low, middle - 1)\n",
    "        elif seq[middle] < item:\n",
    "            return binary_search(seq, item, middle+1, high)\n",
    "        else:\n",
    "            return middle\n",
    "\n",
    "\n",
    "\n"
   ]
  },
  {
   "cell_type": "code",
   "execution_count": 1,
   "metadata": {},
   "outputs": [
    {
     "name": "stdout",
     "output_type": "stream",
     "text": [
      "1\n",
      "28\n",
      "None\n"
     ]
    }
   ],
   "source": [
    "#Task 7.3\n",
    "\n",
    "MyAnimal = [\"aardvark\", \"ant\", \"antelope\",\n",
    "            \"bat\", \"beaver\", \"camel\", \"cat\",\n",
    "            \"cheetah\", \"dog\", \"donkey\",\"duck\",\n",
    "            \"elephant\", \"frog\", \"giraffe\",\"hare\",\n",
    "            \"horse\", \"iguana\", \"jaguar\", \"kangaroo\",\n",
    "            \"leopard\", \"lion\", \"lizard\", \"mouse\",\n",
    "            \"ostrich\", \"panther\", \"parrot\", \"rhinoceros\",\n",
    "            \"seahorse\", \"seal\", \"spider\", \"turtle\",\n",
    "            \"whale\", \"zebra\"]\n",
    "\n",
    "def find_animal(seq, item):\n",
    "    l = 0\n",
    "    h = len(seq) - 1\n",
    "    while h >= l:\n",
    "        m = (l+h) // 2\n",
    "        if seq[m] == item:\n",
    "            return m\n",
    "        elif seq[m] > item:\n",
    "            h = m-1\n",
    "        elif seq[m] < item:\n",
    "            l = m+1\n",
    "    return None\n",
    "\n",
    "            \n",
    "\n",
    "\n",
    "\n",
    "# Test Cases:\n",
    "print(find_animal(MyAnimal, \"ant\"))\n",
    "print(find_animal(MyAnimal, \"seal\"))\n",
    "print(find_animal(MyAnimal, \"dinosaur\"))\n",
    "\n"
   ]
  },
  {
   "cell_type": "code",
   "execution_count": 3,
   "metadata": {},
   "outputs": [
    {
     "name": "stdout",
     "output_type": "stream",
     "text": [
      "['armadillo', 'beaver', 'bison', 'canary', 'cat', 'chicken', 'dolphine', 'eagle', 'elephant', 'gazelle', 'goat', 'goose', 'hare', 'iguana', 'iguana', 'leopard', 'lynx', 'octopus', 'otter', 'panther', 'penguine', 'puma', 'rabbit', 'shark', 'skunk', 'snail', 'squirrel', 'toad', 'wallaby', 'walrus', 'wasp', 'whale', 'wolf']\n"
     ]
    }
   ],
   "source": [
    "#Task 7.4\n",
    "\n",
    "MyAnimal2 = [\"otter\", \"eagle\", \"bison\",\n",
    "            \"squirrel\", \"beaver\", \"rabbit\", \"cat\",\n",
    "            \"gazelle\", \"wolf\", \"dolphine\",\"goose\",\n",
    "            \"elephant\", \"toad\", \"goat\",\"hare\",\n",
    "            \"chicken\", \"iguana\", \"puma\", \"wallaby\",\n",
    "            \"leopard\", \"lynx\", \"iguana\", \"skunk\",\n",
    "            \"penguine\", \"panther\", \"canary\", \"shark\",\n",
    "            \"octopus\", \"walrus\", \"wasp\", \"snail\",\n",
    "            \"whale\", \"armadillo\"]\n",
    "\n",
    "def bubble_sort(seq):\n",
    "    end = len(seq) - 1\n",
    "    for i in range(len(seq)):\n",
    "        flag = False\n",
    "        for j in range(len(seq[:end])):\n",
    "            if seq[j] > seq[j+1]:\n",
    "                seq[j], seq[j+1] = seq[j+1], seq[j]\n",
    "                flag = True\n",
    "        if flag == False:\n",
    "            return seq\n",
    "    return seq\n",
    "\n",
    "print(bubble_sort(MyAnimal2))\n",
    "\n"
   ]
  },
  {
   "cell_type": "code",
   "execution_count": 7,
   "metadata": {},
   "outputs": [
    {
     "name": "stdout",
     "output_type": "stream",
     "text": [
      "1056\n",
      "['armadillo', 'beaver', 'bison', 'canary', 'cat', 'chicken', 'dolphine', 'eagle', 'elephant', 'gazelle', 'goat', 'goose', 'hare', 'iguana', 'iguana', 'leopard', 'lynx', 'octopus', 'otter', 'panther', 'penguine', 'puma', 'rabbit', 'shark', 'skunk', 'snail', 'squirrel', 'toad', 'wallaby', 'walrus', 'wasp', 'whale', 'wolf']\n"
     ]
    }
   ],
   "source": [
    "#Task 7.5\n",
    "\n",
    "MyAnimal2 = [\"otter\", \"eagle\", \"bison\",\n",
    "            \"squirrel\", \"beaver\", \"rabbit\", \"cat\",\n",
    "            \"gazelle\", \"wolf\", \"dolphine\",\"goose\",\n",
    "            \"elephant\", \"toad\", \"goat\",\"hare\",\n",
    "            \"chicken\", \"iguana\", \"puma\", \"wallaby\",\n",
    "            \"leopard\", \"lynx\", \"iguana\", \"skunk\",\n",
    "            \"penguine\", \"panther\", \"canary\", \"shark\",\n",
    "            \"octopus\", \"walrus\", \"wasp\", \"snail\",\n",
    "            \"whale\", \"armadillo\"]\n",
    "\n",
    "def bubble_sort(seq):\n",
    "    end = len(seq) - 1\n",
    "    counter = 0\n",
    "    for i in range(len(seq)):\n",
    "        flag = False\n",
    "        for j in range(len(seq[:end])):\n",
    "            counter += 1\n",
    "            if seq[j] > seq[j+1]:\n",
    "                seq[j], seq[j+1] = seq[j+1], seq[j]\n",
    "                flag = True\n",
    "        if flag == False:\n",
    "            print(counter)\n",
    "            return seq\n",
    "    print(counter)    \n",
    "    return seq\n",
    "\n",
    "print(bubble_sort(MyAnimal2))\n",
    "\n",
    "\n",
    "\n"
   ]
  },
  {
   "cell_type": "code",
   "execution_count": null,
   "metadata": {},
   "outputs": [],
   "source": []
  },
  {
   "cell_type": "code",
   "execution_count": null,
   "metadata": {},
   "outputs": [],
   "source": []
  }
 ],
 "metadata": {
  "kernelspec": {
   "display_name": "Python 3",
   "language": "python",
   "name": "python3"
  },
  "language_info": {
   "codemirror_mode": {
    "name": "ipython",
    "version": 3
   },
   "file_extension": ".py",
   "mimetype": "text/x-python",
   "name": "python",
   "nbconvert_exporter": "python",
   "pygments_lexer": "ipython3",
   "version": "3.6.4"
  }
 },
 "nbformat": 4,
 "nbformat_minor": 2
}
