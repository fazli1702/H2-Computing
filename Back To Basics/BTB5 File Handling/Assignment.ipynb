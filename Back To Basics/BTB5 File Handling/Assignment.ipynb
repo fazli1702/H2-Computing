{
 "cells": [
  {
   "cell_type": "markdown",
   "metadata": {},
   "source": [
    "# Assignment"
   ]
  },
  {
   "cell_type": "code",
   "execution_count": 49,
   "metadata": {},
   "outputs": [],
   "source": [
    "from csv import *\n",
    "import sqlite3"
   ]
  },
  {
   "cell_type": "markdown",
   "metadata": {},
   "source": [
    "## Read and Store data into tuple"
   ]
  },
  {
   "cell_type": "code",
   "execution_count": 37,
   "metadata": {},
   "outputs": [
    {
     "name": "stdout",
     "output_type": "stream",
     "text": [
      "(('Alan', 'M', '1.67', '51.29'), ('Bob', 'M', '1.80', '61.96'), ('Charles', 'M', '1.76', '69.47'), ('Dave', 'M', '1.73', '64.62'), ('Eddy', 'M', '1.72', '65.51'), ('Faith', 'M', '1.74', '55.97'), ('Ginny', 'M', '1.77', '64.23'), ('Han', 'M', '1.77', '61.95'), ('Ivory', 'M', '1.72', '51.01'))\n"
     ]
    }
   ],
   "source": [
    "data = ()\n",
    "\n",
    "with open('data.txt') as f:\n",
    "    content = f.readlines()\n",
    "    for row in content:\n",
    "        row = row.strip().split('\\t')\n",
    "        data += (tuple(row),)\n",
    "        \n",
    "        \n",
    "print(data)"
   ]
  },
  {
   "cell_type": "markdown",
   "metadata": {},
   "source": [
    "## Average height and weight"
   ]
  },
  {
   "cell_type": "code",
   "execution_count": 67,
   "metadata": {},
   "outputs": [
    {
     "name": "stdout",
     "output_type": "stream",
     "text": [
      "1.7422222222222221\n",
      "60.667777777777786\n"
     ]
    }
   ],
   "source": [
    "average_height = 0\n",
    "average_weight = 0\n",
    "\n",
    "for name, gender, height, weight in data:\n",
    "    average_height += float(height)\n",
    "    average_weight += float(weight)\n",
    "    \n",
    "# average_height = round((average_height / len(data)), 2)  # round to 2 dp\n",
    "# average_weight = round((average_weight / len(data)), 2)\n",
    "\n",
    "average_height /= len(data)\n",
    "average_weight /= len(data)\n",
    "\n",
    "print(average_height)\n",
    "print(average_weight)"
   ]
  },
  {
   "cell_type": "markdown",
   "metadata": {},
   "source": [
    "## Export data into csv"
   ]
  },
  {
   "cell_type": "code",
   "execution_count": 52,
   "metadata": {},
   "outputs": [],
   "source": [
    "with open('data.csv', 'w', newline='') as f:\n",
    "    content = writer(f)\n",
    "    content.writerows(data)"
   ]
  },
  {
   "cell_type": "code",
   "execution_count": 53,
   "metadata": {},
   "outputs": [
    {
     "name": "stdout",
     "output_type": "stream",
     "text": [
      "['Alan', 'M', '1.67', '51.29']\n",
      "['Bob', 'M', '1.80', '61.96']\n",
      "['Charles', 'M', '1.76', '69.47']\n",
      "['Dave', 'M', '1.73', '64.62']\n",
      "['Eddy', 'M', '1.72', '65.51']\n",
      "['Faith', 'M', '1.74', '55.97']\n",
      "['Ginny', 'M', '1.77', '64.23']\n",
      "['Han', 'M', '1.77', '61.95']\n",
      "['Ivory', 'M', '1.72', '51.01']\n"
     ]
    }
   ],
   "source": [
    "f = open('data.csv')\n",
    "content = reader(f)\n",
    "\n",
    "for row in content:\n",
    "    print(row)"
   ]
  },
  {
   "cell_type": "markdown",
   "metadata": {},
   "source": [
    "## Create table for db"
   ]
  },
  {
   "cell_type": "code",
   "execution_count": 61,
   "metadata": {},
   "outputs": [],
   "source": [
    "db = sqlite3.connect('data.db')\n",
    "c = db.cursor()\n",
    "\n",
    "c.execute('''\n",
    "    CREATE TABLE Information (\n",
    "    Name VARCHAR(30),\n",
    "    Gender CHAR(1),\n",
    "    Height FLOAT(2),\n",
    "    Weight FLOAT(2))\n",
    "    ''')\n",
    "\n",
    "db.commit()\n",
    "db.close()"
   ]
  },
  {
   "cell_type": "markdown",
   "metadata": {},
   "source": [
    "## Insert csv into db"
   ]
  },
  {
   "cell_type": "code",
   "execution_count": 62,
   "metadata": {},
   "outputs": [],
   "source": [
    "db = sqlite3.connect('data.db')\n",
    "c = db.cursor()\n",
    "\n",
    "for ele in data:\n",
    "    c.execute('''INSERT INTO Information (Name, Gender, Height, Weight)\n",
    "                VALUES (:Name, :Gender, :Height, :Weight)''', ele)\n",
    "\n",
    "db.commit()\n",
    "db.close()"
   ]
  },
  {
   "cell_type": "code",
   "execution_count": 64,
   "metadata": {},
   "outputs": [
    {
     "name": "stdout",
     "output_type": "stream",
     "text": [
      "('Alan', 'M', 1.67, 51.29)\n",
      "('Bob', 'M', 1.8, 61.96)\n",
      "('Charles', 'M', 1.76, 69.47)\n",
      "('Dave', 'M', 1.73, 64.62)\n",
      "('Eddy', 'M', 1.72, 65.51)\n",
      "('Faith', 'M', 1.74, 55.97)\n",
      "('Ginny', 'M', 1.77, 64.23)\n",
      "('Han', 'M', 1.77, 61.95)\n",
      "('Ivory', 'M', 1.72, 51.01)\n"
     ]
    }
   ],
   "source": [
    "db = sqlite3.connect('data.db')\n",
    "c = db.cursor()\n",
    "\n",
    "c.execute('''SELECT * FROM Information''')\n",
    "info = c.fetchall()\n",
    "for ele in info:\n",
    "    print(ele)"
   ]
  },
  {
   "cell_type": "markdown",
   "metadata": {},
   "source": [
    "## SQL to query average height and weight"
   ]
  },
  {
   "cell_type": "code",
   "execution_count": 66,
   "metadata": {},
   "outputs": [
    {
     "name": "stdout",
     "output_type": "stream",
     "text": [
      "[(1.7422222222222221, 60.667777777777786)]\n"
     ]
    }
   ],
   "source": [
    "db = sqlite3.connect('data.db')\n",
    "c = db.cursor()\n",
    "\n",
    "c.execute('''SELECT AVG(Height), AVG(Weight) FROM Information''')\n",
    "info = c.fetchall()\n",
    "print(info)"
   ]
  },
  {
   "cell_type": "code",
   "execution_count": null,
   "metadata": {},
   "outputs": [],
   "source": []
  }
 ],
 "metadata": {
  "kernelspec": {
   "display_name": "Python 3",
   "language": "python",
   "name": "python3"
  },
  "language_info": {
   "codemirror_mode": {
    "name": "ipython",
    "version": 3
   },
   "file_extension": ".py",
   "mimetype": "text/x-python",
   "name": "python",
   "nbconvert_exporter": "python",
   "pygments_lexer": "ipython3",
   "version": "3.6.4"
  }
 },
 "nbformat": 4,
 "nbformat_minor": 2
}
