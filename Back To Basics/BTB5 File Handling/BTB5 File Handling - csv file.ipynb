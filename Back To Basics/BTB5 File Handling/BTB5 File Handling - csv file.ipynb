{
 "cells": [
  {
   "cell_type": "markdown",
   "metadata": {},
   "source": [
    "# Back to Basic: File Handling - csv file"
   ]
  },
  {
   "cell_type": "code",
   "execution_count": 2,
   "metadata": {},
   "outputs": [],
   "source": [
    "from csv import *"
   ]
  },
  {
   "cell_type": "markdown",
   "metadata": {},
   "source": [
    "## Opening a csv file without exception"
   ]
  },
  {
   "cell_type": "code",
   "execution_count": 3,
   "metadata": {},
   "outputs": [],
   "source": [
    "# method 1\n",
    "\n",
    "f = open('datafile.csv')\n",
    "f.close()\n",
    "\n",
    "# method 2\n",
    "\n",
    "with open('datafile.csv') as f:\n",
    "    pass\n"
   ]
  },
  {
   "cell_type": "code",
   "execution_count": 5,
   "metadata": {},
   "outputs": [
    {
     "name": "stdout",
     "output_type": "stream",
     "text": [
      "['Alan', 'M', '1.670812', '51.29746']\n",
      "['Bob', 'M', '1.816608', '61.96646']\n",
      "['Charles', 'M', '1.76276', '69.47562']\n",
      "['Dave', 'M', '1.732788', '64.62236']\n",
      "['Eddy', 'M', '1.721866', '65.5122']\n",
      "['Faith', 'M', '1.74498', '55.9782']\n",
      "['Ginny', 'M', '1.77292', '64.23646']\n",
      "['Han', 'M', '1.778254', '61.95284']\n",
      "['Ivory', 'M', '1.72466', '51.01598']\n"
     ]
    }
   ],
   "source": [
    "f = open('datafile.csv')\n",
    "content = reader(f)\n",
    "next(content)   # skip first row / header\n",
    "\n",
    "for row in content:\n",
    "    print(row)\n",
    "    \n",
    "f.close()"
   ]
  },
  {
   "cell_type": "code",
   "execution_count": 6,
   "metadata": {},
   "outputs": [
    {
     "name": "stdout",
     "output_type": "stream",
     "text": [
      "['Alan', 'M', '1.670812', '51.29746']\n",
      "['Bob', 'M', '1.816608', '61.96646']\n",
      "['Charles', 'M', '1.76276', '69.47562']\n",
      "['Dave', 'M', '1.732788', '64.62236']\n",
      "['Eddy', 'M', '1.721866', '65.5122']\n",
      "['Faith', 'M', '1.74498', '55.9782']\n",
      "['Ginny', 'M', '1.77292', '64.23646']\n",
      "['Han', 'M', '1.778254', '61.95284']\n",
      "['Ivory', 'M', '1.72466', '51.01598']\n"
     ]
    }
   ],
   "source": [
    "with open('datafile.csv') as f:\n",
    "    content = reader(f)\n",
    "    next(content)\n",
    "    \n",
    "    for row in content:\n",
    "        print(row)"
   ]
  },
  {
   "cell_type": "code",
   "execution_count": 8,
   "metadata": {},
   "outputs": [
    {
     "name": "stdout",
     "output_type": "stream",
     "text": [
      "Alan 1.670812\n",
      "Bob 1.816608\n",
      "Charles 1.76276\n",
      "Dave 1.732788\n",
      "Eddy 1.721866\n",
      "Faith 1.74498\n",
      "Ginny 1.77292\n",
      "Han 1.778254\n",
      "Ivory 1.72466\n"
     ]
    }
   ],
   "source": [
    "# Read individual field\n",
    "\n",
    "f = open('datafile.csv')\n",
    "\n",
    "content = reader(f)\n",
    "next(content)  \n",
    "\n",
    "for name, gender, height, weight in content:\n",
    "    print(name, height)\n",
    "    \n",
    "f.close()"
   ]
  },
  {
   "cell_type": "markdown",
   "metadata": {},
   "source": [
    "## Write to a csv file"
   ]
  },
  {
   "cell_type": "code",
   "execution_count": 9,
   "metadata": {},
   "outputs": [],
   "source": [
    "# method 1\n",
    "\n",
    "f = open('file_does_not_exist.csv', 'w')  # this will crete a new file if file does not exist\n",
    "f.close()\n",
    "\n",
    "# method 2\n",
    "\n",
    "with open('file_does_not_exist.csv', 'w') as f:  # will run into error if file does not exist\n",
    "    pass\n"
   ]
  },
  {
   "cell_type": "code",
   "execution_count": 18,
   "metadata": {},
   "outputs": [],
   "source": [
    "fields = ['Name', 'Class', 'Leve', 'Score']\n",
    "\n",
    "data = [['Nick', '20S15', '15', '5460'],\n",
    "        ['Mary', '20S16', '12', '6105'],\n",
    "        ['Peter', '20S15', '10', '3700']]\n",
    "\n",
    "\n",
    "# using method 2\n",
    "\n",
    "with open('records.csv', 'w', newline = '') as f:  # remove newline\n",
    "    content = writer(f)\n",
    "    content.writerow(fields)\n",
    "    content.writerows(data)"
   ]
  },
  {
   "cell_type": "code",
   "execution_count": 19,
   "metadata": {},
   "outputs": [
    {
     "name": "stdout",
     "output_type": "stream",
     "text": [
      "['Name', 'Class', 'Leve', 'Score']\n",
      "['Nick', '20S15', '15', '5460']\n",
      "['Mary', '20S16', '12', '6105']\n",
      "['Peter', '20S15', '10', '3700']\n"
     ]
    }
   ],
   "source": [
    "# check records.csv\n",
    "\n",
    "f = open('records.csv')\n",
    "content = reader(f)\n",
    "# next(content)\n",
    "\n",
    "for row in content:\n",
    "    print(row)\n",
    "    \n",
    "f.close()"
   ]
  },
  {
   "cell_type": "markdown",
   "metadata": {},
   "source": [
    "## Append to csv file"
   ]
  },
  {
   "cell_type": "code",
   "execution_count": 20,
   "metadata": {},
   "outputs": [],
   "source": [
    "more_data = [['Steve', '20S15', '14', '5460'],\n",
    "             ['Tom', '19S16', '20', '8120'],\n",
    "             ['Jerry', '20S15', '1', '6370']]\n",
    "\n",
    "\n",
    "with open('records.csv', 'a', newline = '') as f: \n",
    "    content = writer(f)\n",
    "    content.writerows(more_data)"
   ]
  },
  {
   "cell_type": "code",
   "execution_count": 21,
   "metadata": {
    "scrolled": true
   },
   "outputs": [
    {
     "name": "stdout",
     "output_type": "stream",
     "text": [
      "['Name', 'Class', 'Leve', 'Score']\n",
      "['Nick', '20S15', '15', '5460']\n",
      "['Mary', '20S16', '12', '6105']\n",
      "['Peter', '20S15', '10', '3700']\n",
      "['Steve', '20S15', '14', '5460']\n",
      "['Tom', '19S16', '20', '8120']\n",
      "['Jerry', '20S15', '1', '6370']\n"
     ]
    }
   ],
   "source": [
    "# check records.csv\n",
    "\n",
    "f = open('records.csv')\n",
    "content = reader(f)\n",
    "# next(content)\n",
    "\n",
    "for row in content:\n",
    "    print(row)\n",
    "    \n",
    "f.close()"
   ]
  },
  {
   "cell_type": "code",
   "execution_count": null,
   "metadata": {},
   "outputs": [],
   "source": []
  }
 ],
 "metadata": {
  "kernelspec": {
   "display_name": "Python 3",
   "language": "python",
   "name": "python3"
  },
  "language_info": {
   "codemirror_mode": {
    "name": "ipython",
    "version": 3
   },
   "file_extension": ".py",
   "mimetype": "text/x-python",
   "name": "python",
   "nbconvert_exporter": "python",
   "pygments_lexer": "ipython3",
   "version": "3.6.4"
  }
 },
 "nbformat": 4,
 "nbformat_minor": 2
}
