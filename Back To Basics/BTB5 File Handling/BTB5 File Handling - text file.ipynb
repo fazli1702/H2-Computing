{
 "cells": [
  {
   "cell_type": "markdown",
   "metadata": {},
   "source": [
    "# Back To Basic: File Handling - text file\n",
    "\n",
    "## Open a text file with no exception"
   ]
  },
  {
   "cell_type": "code",
   "execution_count": 1,
   "metadata": {},
   "outputs": [
    {
     "ename": "FileNotFoundError",
     "evalue": "[Errno 2] No such file or directory: 'file_does_not_exist.txt'",
     "output_type": "error",
     "traceback": [
      "\u001b[1;31m---------------------------------------------------------------------------\u001b[0m",
      "\u001b[1;31mFileNotFoundError\u001b[0m                         Traceback (most recent call last)",
      "\u001b[1;32m<ipython-input-1-6823972017e5>\u001b[0m in \u001b[0;36m<module>\u001b[1;34m()\u001b[0m\n\u001b[0;32m      1\u001b[0m \u001b[1;31m# Method 1\u001b[0m\u001b[1;33m\u001b[0m\u001b[1;33m\u001b[0m\u001b[0m\n\u001b[0;32m      2\u001b[0m \u001b[1;33m\u001b[0m\u001b[0m\n\u001b[1;32m----> 3\u001b[1;33m \u001b[0mf\u001b[0m \u001b[1;33m=\u001b[0m \u001b[0mopen\u001b[0m\u001b[1;33m(\u001b[0m\u001b[1;34m'file_does_not_exist.txt'\u001b[0m\u001b[1;33m)\u001b[0m  \u001b[1;31m# open in read mode\u001b[0m\u001b[1;33m\u001b[0m\u001b[0m\n\u001b[0m\u001b[0;32m      4\u001b[0m \u001b[1;33m\u001b[0m\u001b[0m\n\u001b[0;32m      5\u001b[0m \u001b[0mf\u001b[0m\u001b[1;33m.\u001b[0m\u001b[0mclose\u001b[0m\u001b[1;33m(\u001b[0m\u001b[1;33m)\u001b[0m\u001b[1;33m\u001b[0m\u001b[0m\n",
      "\u001b[1;31mFileNotFoundError\u001b[0m: [Errno 2] No such file or directory: 'file_does_not_exist.txt'"
     ]
    }
   ],
   "source": [
    "# Method 1\n",
    "\n",
    "f = open('file_does_not_exist.txt')  # open in read mode\n",
    "\n",
    "f.close()"
   ]
  },
  {
   "cell_type": "code",
   "execution_count": 2,
   "metadata": {},
   "outputs": [
    {
     "ename": "FileNotFoundError",
     "evalue": "[Errno 2] No such file or directory: 'file_does_not_exist.txt'",
     "output_type": "error",
     "traceback": [
      "\u001b[1;31m---------------------------------------------------------------------------\u001b[0m",
      "\u001b[1;31mFileNotFoundError\u001b[0m                         Traceback (most recent call last)",
      "\u001b[1;32m<ipython-input-2-d6fd83d668b2>\u001b[0m in \u001b[0;36m<module>\u001b[1;34m()\u001b[0m\n\u001b[0;32m      1\u001b[0m \u001b[1;31m# Method 2\u001b[0m\u001b[1;33m\u001b[0m\u001b[1;33m\u001b[0m\u001b[0m\n\u001b[0;32m      2\u001b[0m \u001b[1;33m\u001b[0m\u001b[0m\n\u001b[1;32m----> 3\u001b[1;33m \u001b[1;32mwith\u001b[0m \u001b[0mopen\u001b[0m\u001b[1;33m(\u001b[0m\u001b[1;34m'file_does_not_exist.txt'\u001b[0m\u001b[1;33m)\u001b[0m \u001b[1;32mas\u001b[0m \u001b[0mf\u001b[0m\u001b[1;33m:\u001b[0m  \u001b[1;31m# open in read mode\u001b[0m\u001b[1;33m\u001b[0m\u001b[0m\n\u001b[0m\u001b[0;32m      4\u001b[0m     \u001b[1;32mpass\u001b[0m\u001b[1;33m\u001b[0m\u001b[0m\n\u001b[0;32m      5\u001b[0m \u001b[1;33m\u001b[0m\u001b[0m\n",
      "\u001b[1;31mFileNotFoundError\u001b[0m: [Errno 2] No such file or directory: 'file_does_not_exist.txt'"
     ]
    }
   ],
   "source": [
    "# Method 2\n",
    "\n",
    "with open('file_does_not_exist.txt') as f:  # open in read mode\n",
    "    pass\n",
    "    \n",
    "# do not need to close file"
   ]
  },
  {
   "cell_type": "markdown",
   "metadata": {},
   "source": [
    "## Open a text file with exception"
   ]
  },
  {
   "cell_type": "code",
   "execution_count": 3,
   "metadata": {},
   "outputs": [
    {
     "name": "stdout",
     "output_type": "stream",
     "text": [
      "[Errno 2] No such file or directory: 'file_does_not_exist.txt'\n"
     ]
    }
   ],
   "source": [
    "# Method 1\n",
    "\n",
    "try:\n",
    "    f = open('file_does_not_exist.txt')\n",
    "    \n",
    "except Exception as e:\n",
    "    print(e)\n",
    "    \n",
    "else:\n",
    "    data = f.read()\n",
    "    print(data)\n",
    "    f.close()"
   ]
  },
  {
   "cell_type": "code",
   "execution_count": 5,
   "metadata": {},
   "outputs": [
    {
     "name": "stdout",
     "output_type": "stream",
     "text": [
      "[Errno 2] No such file or directory: 'file_does_not_exist.txt'\n"
     ]
    }
   ],
   "source": [
    "# Method 2\n",
    "\n",
    "try:\n",
    "    with open('file_does_not_exist.txt') as f:\n",
    "        data = f.read()\n",
    "        print(data)\n",
    "        \n",
    "except Exception as e:\n",
    "    print(e)"
   ]
  },
  {
   "cell_type": "markdown",
   "metadata": {},
   "source": [
    "## Read(), Readline(), Readlines()"
   ]
  },
  {
   "cell_type": "code",
   "execution_count": 8,
   "metadata": {},
   "outputs": [
    {
     "name": "stdout",
     "output_type": "stream",
     "text": [
      "This is line1\n",
      "This is line2\n"
     ]
    }
   ],
   "source": [
    "f = open('welcome.txt')\n",
    "data = f.read(27)   # read(size) - size:number of character\n",
    "print(data)\n",
    "f.close()"
   ]
  },
  {
   "cell_type": "code",
   "execution_count": 9,
   "metadata": {},
   "outputs": [
    {
     "name": "stdout",
     "output_type": "stream",
     "text": [
      "This is line1\n",
      "\n"
     ]
    }
   ],
   "source": [
    "f = open('welcome.txt')\n",
    "data = f.readline()  # read only the first line\n",
    "print(data)\n",
    "f.close()"
   ]
  },
  {
   "cell_type": "code",
   "execution_count": 10,
   "metadata": {},
   "outputs": [
    {
     "name": "stdout",
     "output_type": "stream",
     "text": [
      "['This is line1\\n', 'This is line2\\n', 'This is line3\\n', 'This is line4\\n', 'This is line5\\n', 'This is line6\\n', 'This is line7\\n', 'This is line8\\n', 'This is line9']\n"
     ]
    }
   ],
   "source": [
    "f = open('welcome.txt')\n",
    "data = f.readlines()   # read and store into a list with \\n\n",
    "print(data)\n",
    "f.close()"
   ]
  },
  {
   "cell_type": "code",
   "execution_count": 14,
   "metadata": {},
   "outputs": [
    {
     "name": "stdout",
     "output_type": "stream",
     "text": [
      "This is line1\n",
      "This is line2\n",
      "This is line3\n",
      "This is line4\n",
      "This is line5\n",
      "This is line6\n",
      "This is line7\n",
      "This is line8\n",
      "This is line9\n"
     ]
    }
   ],
   "source": [
    "# Iterate throught list using readlines\n",
    "\n",
    "f = open('welcome.txt')\n",
    "lines = f.readlines()   # read and store into a list with \\n\n",
    "for line in lines:\n",
    "    print(line.strip())\n",
    "\n",
    "f.close()\n"
   ]
  },
  {
   "cell_type": "markdown",
   "metadata": {},
   "source": [
    "# Create / writing a text file"
   ]
  },
  {
   "cell_type": "code",
   "execution_count": 17,
   "metadata": {},
   "outputs": [],
   "source": [
    "# NEVER open an existing file with 'w' or 'w+' mode\n",
    "# A new file will be created if it does not exist\n",
    "# 'w': write only\n",
    "# 'w+': write and read\n",
    "\n",
    "f = open('writefile.txt')\n",
    "f.close()"
   ]
  },
  {
   "cell_type": "markdown",
   "metadata": {},
   "source": [
    "## Write into a text file"
   ]
  },
  {
   "cell_type": "code",
   "execution_count": 19,
   "metadata": {},
   "outputs": [],
   "source": [
    "# Write some line into text file\n",
    "\n",
    "f = open('writefile.txt', 'w')\n",
    "\n",
    "for i in range(10):\n",
    "    f.write('This is line %d \\n' % i)\n",
    "\n",
    "f.close()"
   ]
  },
  {
   "cell_type": "code",
   "execution_count": 21,
   "metadata": {},
   "outputs": [
    {
     "name": "stdout",
     "output_type": "stream",
     "text": [
      "This is line 0\n",
      "This is line 1\n",
      "This is line 2\n",
      "This is line 3\n",
      "This is line 4\n",
      "This is line 5\n",
      "This is line 6\n",
      "This is line 7\n",
      "This is line 8\n",
      "This is line 9\n"
     ]
    }
   ],
   "source": [
    "# Check the created text file\n",
    "\n",
    "f = open('writefile.txt')\n",
    "lines = f.readlines()\n",
    "\n",
    "for line in lines:\n",
    "    print(line.strip())\n",
    "    \n",
    "f.close()"
   ]
  },
  {
   "cell_type": "markdown",
   "metadata": {},
   "source": [
    "## Append to an existing text file"
   ]
  },
  {
   "cell_type": "code",
   "execution_count": 23,
   "metadata": {},
   "outputs": [],
   "source": [
    "# Write additional lines into existing file\n",
    "\n",
    "f = open('writefile.txt', 'a')\n",
    "\n",
    "for i in range(10):\n",
    "    f.write('This is line %d \\n' % (i+10))\n",
    "    \n",
    "f.close()"
   ]
  },
  {
   "cell_type": "code",
   "execution_count": 24,
   "metadata": {},
   "outputs": [
    {
     "name": "stdout",
     "output_type": "stream",
     "text": [
      "This is line 0\n",
      "This is line 1\n",
      "This is line 2\n",
      "This is line 3\n",
      "This is line 4\n",
      "This is line 5\n",
      "This is line 6\n",
      "This is line 7\n",
      "This is line 8\n",
      "This is line 9\n",
      "This is line 10\n",
      "This is line 11\n",
      "This is line 12\n",
      "This is line 13\n",
      "This is line 14\n",
      "This is line 15\n",
      "This is line 16\n",
      "This is line 17\n",
      "This is line 18\n",
      "This is line 19\n"
     ]
    }
   ],
   "source": [
    "# Check the created text file\n",
    "\n",
    "f = open('writefile.txt')\n",
    "lines = f.readlines()\n",
    "\n",
    "for line in lines:\n",
    "    print(line.strip())\n",
    "    \n",
    "f.close()"
   ]
  },
  {
   "cell_type": "code",
   "execution_count": null,
   "metadata": {},
   "outputs": [],
   "source": []
  }
 ],
 "metadata": {
  "kernelspec": {
   "display_name": "Python 3",
   "language": "python",
   "name": "python3"
  },
  "language_info": {
   "codemirror_mode": {
    "name": "ipython",
    "version": 3
   },
   "file_extension": ".py",
   "mimetype": "text/x-python",
   "name": "python",
   "nbconvert_exporter": "python",
   "pygments_lexer": "ipython3",
   "version": "3.6.4"
  }
 },
 "nbformat": 4,
 "nbformat_minor": 2
}
