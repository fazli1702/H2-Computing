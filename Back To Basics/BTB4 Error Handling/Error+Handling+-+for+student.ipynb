{
 "cells": [
  {
   "cell_type": "markdown",
   "metadata": {},
   "source": [
    "# Back-to-Basic : Error Handling"
   ]
  },
  {
   "cell_type": "markdown",
   "metadata": {},
   "source": [
    "### Example 1 : Using try and except\n",
    "Run the following code and observe the error message.\n",
    "Comment away one error at a time and run it again."
   ]
  },
  {
   "cell_type": "code",
   "execution_count": 1,
   "metadata": {},
   "outputs": [
    {
     "name": "stdout",
     "output_type": "stream",
     "text": [
      "Sorry, file does not exist.\n"
     ]
    }
   ],
   "source": [
    "try:\n",
    "    f = open('testfile.txt')   #FileNotFound\n",
    "    var = bad_variable  #NameError\n",
    "    div = 3/0    #ZeroDivisionError               \n",
    "    total = 'string' + 10   #TypeError\n",
    "    import module    #Exception\n",
    "except FileNotFoundError:\n",
    "    print('Sorry, file does not exist.')\n",
    "except NameError:\n",
    "    print('Sorry, a variable not found.')\n",
    "except ZeroDivisionError:\n",
    "    print('Sorry, cannot divide by zero.')\n",
    "except TypeError:\n",
    "    print('Sorry, there is a type error.')\n",
    "except Exception:\n",
    "    print('Sorry, there is some kind of error.')\n"
   ]
  },
  {
   "cell_type": "markdown",
   "metadata": {},
   "source": [
    "### Example 2 : Python Standard Exceptions\n",
    "Instead of customising the error messages, we can use the Python Standard Exceptions."
   ]
  },
  {
   "cell_type": "code",
   "execution_count": 2,
   "metadata": {},
   "outputs": [
    {
     "name": "stdout",
     "output_type": "stream",
     "text": [
      "Error:  [Errno 2] No such file or directory: 'testfile.txt'\n"
     ]
    }
   ],
   "source": [
    "try:\n",
    "    f = open('testfile.txt')\n",
    "    var = bad_variable\n",
    "    div = 3/0\n",
    "    total = 'string' + 10\n",
    "    import module\n",
    "except Exception as e:\n",
    "    print('Error: ', e)\n"
   ]
  },
  {
   "cell_type": "markdown",
   "metadata": {},
   "source": [
    "### Example 3: Using try, except and else\n",
    "The 'else' portion is where you put all the codes you want to run if there is no error."
   ]
  },
  {
   "cell_type": "code",
   "execution_count": 3,
   "metadata": {},
   "outputs": [
    {
     "name": "stdout",
     "output_type": "stream",
     "text": [
      "Two is :  2.0\n",
      "Well done! Your code is working.\n"
     ]
    }
   ],
   "source": [
    "try:\n",
    "#     f = open('testfile.txt')\n",
    "#     var = bad_variable\n",
    "#     div = 3/0\n",
    "    two = 4/2         # This is a working code - skip except and go to else\n",
    "except Exception as e:\n",
    "    print('Error: ', e)\n",
    "else:\n",
    "    print('Two is : ', two)\n",
    "    print('Well done! Your code is working.')\n"
   ]
  },
  {
   "cell_type": "markdown",
   "metadata": {},
   "source": [
    "### Example 4: Using try, except, else and finally\n",
    "The 'finally' portion is where you put all the codes you want to run regardless if there is error or not."
   ]
  },
  {
   "cell_type": "code",
   "execution_count": 5,
   "metadata": {},
   "outputs": [
    {
     "name": "stdout",
     "output_type": "stream",
     "text": [
      "Two is :  2.0\n",
      "Well done! Your code is working.\n",
      "- End of Example -\n"
     ]
    }
   ],
   "source": [
    "try:\n",
    "#     f = open('testfile.txt')\n",
    "#     var = bad_variable\n",
    "#     div = 3/0\n",
    "    two = 4/2\n",
    "except Exception as e:\n",
    "    print('Error: ', e)\n",
    "else:\n",
    "    print('Two is : ', two)\n",
    "    print('Well done! Your code is working.')\n",
    "finally:\n",
    "    print('- End of Example -')\n"
   ]
  },
  {
   "cell_type": "markdown",
   "metadata": {},
   "source": [
    "### Example 5: Using raise to simulate the errors"
   ]
  },
  {
   "cell_type": "code",
   "execution_count": 6,
   "metadata": {},
   "outputs": [
    {
     "name": "stdout",
     "output_type": "stream",
     "text": [
      "Sorry, file does not exist.\n"
     ]
    }
   ],
   "source": [
    "try:\n",
    "    raise FileNotFoundError\n",
    "    raise ZeroDivisionError\n",
    "    raise TypeError\n",
    "    raise Exception\n",
    "except FileNotFoundError:\n",
    "    print('Sorry, file does not exist.')\n",
    "except NameError:\n",
    "    print('Sorry, a variable not found.')\n",
    "except ZeroDivisionError:\n",
    "    print('Sorry, cannot divide by zero.')\n",
    "except TypeError:\n",
    "    print('Sorry, there is a type error.')\n",
    "except Exception:\n",
    "    print('Sorry, there is some kind of error.')\n"
   ]
  },
  {
   "cell_type": "markdown",
   "metadata": {},
   "source": [
    "# Assignment 1\n",
    "\n",
    "This program code will run into error when the user inputs illegal values. \n",
    "\n",
    "Apply the exception handling method so that Python will not run into an error and quit from the program.\n",
    "\n",
    "In your solution, you should allow the user to re-enter the price value."
   ]
  },
  {
   "cell_type": "code",
   "execution_count": null,
   "metadata": {},
   "outputs": [],
   "source": [
    "def price():\n",
    "    cost = float(input(\"Enter Price: \"))\n",
    "    return cost\n",
    "\n",
    "print('The price is: ', price())"
   ]
  },
  {
   "cell_type": "markdown",
   "metadata": {},
   "source": [
    "Your solution:"
   ]
  },
  {
   "cell_type": "code",
   "execution_count": 8,
   "metadata": {},
   "outputs": [
    {
     "name": "stdout",
     "output_type": "stream",
     "text": [
      "Enter Price:123\n",
      "123.0\n"
     ]
    }
   ],
   "source": [
    "def price():\n",
    "    try:\n",
    "        cost = float(input('Enter Price:'))\n",
    "    except Exception as e:\n",
    "        print('Error:', e)\n",
    "        price()\n",
    "    \n",
    "    return cost\n",
    "\n",
    "\n",
    "\n",
    "\n",
    "print(price())\n"
   ]
  },
  {
   "cell_type": "markdown",
   "metadata": {},
   "source": [
    "# Assignment 2\n",
    "\n",
    "If the database already contain the table flights, then running the following code will result in an Operational Error.\n",
    "\n",
    "Modify the program to handle the exception raised."
   ]
  },
  {
   "cell_type": "code",
   "execution_count": 9,
   "metadata": {},
   "outputs": [],
   "source": [
    "import sqlite3\n",
    "\n",
    "db = sqlite3.connect('airline.db')\n",
    "\n",
    "c = db.cursor()\n",
    "c.execute('''CREATE TABLE flights (\\\n",
    "           id INTEGER PRIMARY KEY AUTOINCREMENT,\\\n",
    "           origin VARCHAR(20) NOT NULL,\\\n",
    "           destination VARCHAR(20) NOT NULL,\\\n",
    "           duration INTEGER NOT NULL);''')\n",
    "\n",
    "db.commit()\n",
    "db.close()\n"
   ]
  },
  {
   "cell_type": "markdown",
   "metadata": {},
   "source": [
    "Your solution:"
   ]
  },
  {
   "cell_type": "code",
   "execution_count": 11,
   "metadata": {},
   "outputs": [
    {
     "name": "stdout",
     "output_type": "stream",
     "text": [
      "Error: table flights already exists\n",
      "Table already exist\n"
     ]
    }
   ],
   "source": [
    "import sqlite3\n",
    "\n",
    "db = sqlite3.connect('airline.db')\n",
    "\n",
    "c = db.cursor()\n",
    "try:\n",
    "    c.execute('''CREATE TABLE flights (\\\n",
    "               id INTEGER PRIMARY KEY AUTOINCREMENT,\\\n",
    "               origin VARCHAR(20) NOT NULL,\\\n",
    "               destination VARCHAR(20) NOT NULL,\\\n",
    "               duration INTEGER NOT NULL);''')\n",
    "except Exception as e:\n",
    "    print('Error:', e)\n",
    "\n",
    "db.commit()\n",
    "db.close()\n",
    "\n",
    "\n",
    "\n",
    "\n",
    "\n",
    "\n",
    "\n"
   ]
  },
  {
   "cell_type": "markdown",
   "metadata": {},
   "source": [
    "# Assignment 3\n",
    "\n",
    "If the required file is not available, then the following program code will result in the  FileNotFoundError.\n",
    "\n",
    "Modify the code to handle the exception raised."
   ]
  },
  {
   "cell_type": "code",
   "execution_count": 13,
   "metadata": {},
   "outputs": [],
   "source": [
    "import sqlite3\n",
    "import csv\n",
    "db = sqlite3.connect('airline.db')\n",
    "c = db.cursor()\n",
    "\n",
    "f = open(\"xflights.csv\")\n",
    "reader = csv.reader(f)\n",
    "for o, dest, dur in reader:\n",
    "    c.execute('''INSERT INTO flights \\\n",
    "        (origin, destination, duration) \\\n",
    "        VALUES (:origin, :destination, :duration)''',\\\n",
    "        {\"origin\":o, \"destination\":dest, \"duration\":dur})\n",
    "\n",
    "db.commit()\n",
    "db.close()\n"
   ]
  },
  {
   "cell_type": "markdown",
   "metadata": {},
   "source": [
    "Your solution:"
   ]
  },
  {
   "cell_type": "code",
   "execution_count": 14,
   "metadata": {},
   "outputs": [
    {
     "name": "stdout",
     "output_type": "stream",
     "text": [
      "Error: [Errno 2] No such file or directory: 'xflights.csv'\n"
     ]
    }
   ],
   "source": [
    "import sqlite3\n",
    "import csv\n",
    "db = sqlite3.connect('airline.db')\n",
    "c = db.cursor()\n",
    "\n",
    "try:\n",
    "    f = open(\"xflights.csv\")\n",
    "except Exception as e:\n",
    "    print('Error:', e)\n",
    "else:\n",
    "    reader = csv.reader(f)\n",
    "    for o, dest, dur in reader:\n",
    "        c.execute('''INSERT INTO flights \\\n",
    "            (origin, destination, duration) \\\n",
    "            VALUES (:origin, :destination, :duration)''',\\\n",
    "            {\"origin\":o, \"destination\":dest, \"duration\":dur})\n",
    "\n",
    "db.commit()\n",
    "db.close()\n",
    "\n",
    "\n",
    "\n",
    "\n",
    "\n",
    "\n"
   ]
  },
  {
   "cell_type": "markdown",
   "metadata": {},
   "source": [
    "### ~ The End ~ "
   ]
  }
 ],
 "metadata": {
  "kernelspec": {
   "display_name": "Python 3",
   "language": "python",
   "name": "python3"
  },
  "language_info": {
   "codemirror_mode": {
    "name": "ipython",
    "version": 3
   },
   "file_extension": ".py",
   "mimetype": "text/x-python",
   "name": "python",
   "nbconvert_exporter": "python",
   "pygments_lexer": "ipython3",
   "version": "3.6.4"
  }
 },
 "nbformat": 4,
 "nbformat_minor": 2
}
