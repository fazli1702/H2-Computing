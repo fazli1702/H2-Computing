{
 "cells": [
  {
   "cell_type": "markdown",
   "metadata": {},
   "source": [
    "# Bubble Sort"
   ]
  },
  {
   "cell_type": "markdown",
   "metadata": {},
   "source": [
    "Bubble sort compares adjacent elements in the list and swap them if the first element is larger then the second element.  \n",
    "It then compares the next pair of elements until the end by iterating the list.  \n",
    "It iterates the list n number of times where n = len(arr).\n",
    "\n",
    "\n",
    "e.g  \n",
    "[4, 2, 1, 3] - compare 4 and 2. Since 4 > 2, swap 4 and 2  \n",
    "[2, 4, 1, 3] - compare 4 and 1. Since 4 > 1, swap 4 and 1  \n",
    "[2, 1, 4, 3] - compare 4 and 3. Since 4 > 3, swap 4 and 3 -- end of list, go back to first element  \n",
    "[2, 1, 3, 4] - compare 2 and 1 ......  \n",
    ".....  \n",
    "[1, 2, 3, 4]"
   ]
  },
  {
   "cell_type": "markdown",
   "metadata": {},
   "source": [
    "## Time Complexity\n",
    "Worst Case: O(n^2)  \n",
    "\n",
    "Average Case: O(n^2)\n",
    "\n",
    "Best Case: O(n)\n",
    "\n",
    "## Space Complexity\n",
    "O(1) - no additional space required\n",
    "\n",
    "## Bubble Sort is in-place\n",
    "- elements doing mutual swap in the list\n",
    "- list is mutated\n",
    "- no additional memory required\n",
    "\n",
    "## Bubble Sort is stable\n",
    "- relative position of similar element remain unchanged"
   ]
  },
  {
   "cell_type": "code",
   "execution_count": 1,
   "metadata": {},
   "outputs": [],
   "source": [
    "# normal bubble sort\n",
    "# go through the entire arr n number of times where n = len(arr)\n",
    "\n",
    "def bubble_sort(arr):\n",
    "    for j in range(len(arr)):\n",
    "        for i in range(len(arr)-1):\n",
    "            if arr[i] > arr[i+1]:\n",
    "                arr[i], arr[i+1] = arr[i+1], arr[i]\n",
    "    return arr\n",
    "            "
   ]
  },
  {
   "cell_type": "code",
   "execution_count": 1,
   "metadata": {},
   "outputs": [],
   "source": [
    "# optimised bubble sort 1\n",
    "# after every loop, the largest number will be sorted at the end\n",
    "# so after every iteration, don't need to compare last number\n",
    "# e.g [3,4,2,1](compare[:4]) -> [3,2,1,4](compare[:3]) -> [2,1,3,4](compare[:2]) ....\n",
    "\n",
    "def op_bubble_sort1(arr):\n",
    "    end = len(arr) - 1\n",
    "    while end != 0:\n",
    "        for i in range(end):\n",
    "            if arr[i] > arr[i+1]:\n",
    "                arr[i], arr[i+1] = arr[i+1], arr[i]\n",
    "        end -= 1\n",
    "    return arr"
   ]
  },
  {
   "cell_type": "code",
   "execution_count": 8,
   "metadata": {},
   "outputs": [],
   "source": [
    "# optimised bubble sort\n",
    "# more optimised - reduce number of comparison\n",
    "# same as above but check if swapped during current iteraton\n",
    "# break if there is no swap - already sorted\n",
    "\n",
    "def op_bubble_sort(arr):\n",
    "    end = len(arr) - 1\n",
    "    n = len(arr)\n",
    "    for i in range(n):\n",
    "        flag = False\n",
    "        for j in range(len(arr[:end])):\n",
    "            if arr[j] > arr[j+1]:\n",
    "                arr[j], arr[j+1] = arr[j+1], arr[j]\n",
    "                flag = True\n",
    "\n",
    "        if not flag:\n",
    "            return arr\n"
   ]
  },
  {
   "cell_type": "code",
   "execution_count": 9,
   "metadata": {},
   "outputs": [],
   "source": [
    "arr = [23, 12, 8, 14, 17, 11, 19] "
   ]
  },
  {
   "cell_type": "code",
   "execution_count": 13,
   "metadata": {},
   "outputs": [
    {
     "name": "stdout",
     "output_type": "stream",
     "text": [
      "normal bubble sort: [8, 11, 12, 14, 17, 19, 23]\n",
      "optimesed bubble sort: [8, 11, 12, 14, 17, 19, 23]\n",
      "fully optimised bubble sort: [8, 11, 12, 14, 17, 19, 23]\n"
     ]
    }
   ],
   "source": [
    "print('normal bubble sort:',bubble_sort(arr))\n",
    "print('optimesed bubble sort:',op_bubble_sort1(arr))\n",
    "print('fully optimised bubble sort:',op_bubble_sort(arr))"
   ]
  },
  {
   "cell_type": "markdown",
   "metadata": {},
   "source": [
    "# Insertion Sort"
   ]
  },
  {
   "cell_type": "markdown",
   "metadata": {},
   "source": [
    "Insertion sort works by first sorting the first two elements (start iteration from 2nd element and compare with the one before).  \n",
    "It then looks at the third element and insert it at the appropriate location between the first two elements (by iterating through and comparing the elements).  \n",
    "This will make the first three elements sorted and then it will check the next unsorted element which is the fourth one.   \n",
    "This carries on until the end of the list.  \n",
    "\n",
    "\n",
    "Insertion occurs by swapping adjacent elements \n",
    "\n",
    "e.g  \n",
    "[4, 2, 1, 3] - check 2nd elements, 2 with element before, 4. Since 4 > 2, insert 2 before 4  \n",
    "[2, 4, 1, 3] - first two are sorted, check 3rd element, 1. Since 1 < 2, insert 1 before 2  \n",
    "[1, 2, 4, 3] - first three are sorted, check 4th element, 3. Since 3 > 2 and 3 < 4, insert 3 after 2 & before 4  \n",
    "[1, 2, 3, 4] -- sorted"
   ]
  },
  {
   "cell_type": "markdown",
   "metadata": {},
   "source": [
    "## Time Complexity\n",
    "\n",
    "Worst-case performance: O(n^2)  \n",
    "\n",
    "Best-case performance: O(n)  \n",
    "\n",
    "Average performance: O(n^2)  \n",
    "\n",
    "## Space Complextiy\n",
    "O(1) - no additional space required\n",
    "\n",
    "## Insertion Sort is in-place\n",
    "\n",
    "## Insertion Sort is stable"
   ]
  },
  {
   "cell_type": "code",
   "execution_count": 14,
   "metadata": {},
   "outputs": [],
   "source": [
    "def insertion_sort(arr):\n",
    "    for i in range(1, len(arr)):\n",
    "        j = i - 1\n",
    "        key = arr[i]\n",
    "        while j >= 0 and key < arr[j]:\n",
    "            arr[j], arr[j+1] = arr[j+1], arr[j]\n",
    "            j -= 1\n",
    "    return arr"
   ]
  },
  {
   "cell_type": "code",
   "execution_count": 15,
   "metadata": {},
   "outputs": [],
   "source": [
    "arr = [23, 12, 8, 14, 17, 11, 19] "
   ]
  },
  {
   "cell_type": "code",
   "execution_count": 16,
   "metadata": {},
   "outputs": [
    {
     "data": {
      "text/plain": [
       "[8, 11, 12, 14, 17, 19, 23]"
      ]
     },
     "execution_count": 16,
     "metadata": {},
     "output_type": "execute_result"
    }
   ],
   "source": [
    "insertion_sort(arr)"
   ]
  },
  {
   "cell_type": "markdown",
   "metadata": {},
   "source": [
    "# Selection Sort"
   ]
  },
  {
   "cell_type": "markdown",
   "metadata": {},
   "source": [
    "Selection sort works by selecting the smallest element in the list and swapping it with the first element.  \n",
    "Select the smallest element in the remainig list and swap with the second element.  \n",
    "Repeat this until list is sorted or for n-1 times where n = len(list) -- dont need n times as largest number will automatically be last\n",
    "\n",
    "e.g  \n",
    "[4, 2, 1, 3] - find smallest element [0:], 1. Swap with first element  \n",
    "[1, 2, 4, 3] - find smallest element in remaining list [1:], 2. Swap with second element -- since 2 is already at the correct position, no swap needed  \n",
    "[1, 2, 4, 3] - find smallest element in remaining list [2:], 3. Swap with third element  \n",
    "[1, 2, 3, 4] -- sorted"
   ]
  },
  {
   "cell_type": "markdown",
   "metadata": {},
   "source": [
    "## Time Complexity\n",
    "\n",
    "Worst-case performance: O(n^2)  \n",
    "\n",
    "Best-case performance: O(n^2)  \n",
    "\n",
    "average performance: O(n^2)  \n",
    "\n",
    "## Space Complexity\n",
    "O(1) - no additional space required\n",
    "\n",
    "## Selection Sort is in-place\n",
    "\n",
    "## Selection Sort is stable"
   ]
  },
  {
   "cell_type": "code",
   "execution_count": 30,
   "metadata": {},
   "outputs": [],
   "source": [
    "def selection_sort(arr):\n",
    "    for i in range(len(arr)):\n",
    "        min_i = i\n",
    "        \n",
    "        # finding smallest element\n",
    "        for j in range(i+1, len(arr)):\n",
    "            if arr[min_i] > arr[j]:\n",
    "                min_i = j\n",
    "\n",
    "        arr[i], arr[min_i] = arr[min_i], arr[i]\n",
    "\n",
    "    return arr"
   ]
  },
  {
   "cell_type": "code",
   "execution_count": 28,
   "metadata": {},
   "outputs": [],
   "source": [
    "arr = [23, 12, 8, 14, 17, 11, 19] "
   ]
  },
  {
   "cell_type": "code",
   "execution_count": 29,
   "metadata": {},
   "outputs": [
    {
     "data": {
      "text/plain": [
       "[8, 11, 12, 14, 17, 19, 23]"
      ]
     },
     "execution_count": 29,
     "metadata": {},
     "output_type": "execute_result"
    }
   ],
   "source": [
    "selection_sort(arr)"
   ]
  },
  {
   "cell_type": "markdown",
   "metadata": {},
   "source": [
    "# Merge Sort"
   ]
  },
  {
   "cell_type": "markdown",
   "metadata": {},
   "source": [
    "The Merge Sort algorithm will first divide the list into half over and over again until each list contains only one element.   \n",
    "Then it will merge two lists together into a sorted list repeatedly until all the elements are combined together in one single sorted list.\n",
    "\n",
    "\n",
    "e.g  \n",
    "[4, 2, 1, 3] - break down into halves until single elements  \n",
    "[4, 2] [1, 3]  \n",
    "[4] [2] [1] [3]  - compare and merge elements together until it becomes a sorted list  \n",
    "\n",
    "compare [4] & [2] - 4 > 2, [2, 4]\n",
    "compare [1] & [3] - 1 > 3, [1, 3]\n",
    "\n",
    "compare [2, 4] & [1, 3] - compare first element in each list  \n",
    "2 > 1, remove 1 and add into new list - [1]  \n",
    "compare [2, 4] & [3]  \n",
    "2 < 3, remove 2 and add into new list - [1, 2]  \n",
    "compare [4] & [3]  \n",
    "4 > 3, remove 3 and add into new list - [1, 2, 3]  \n",
    "left [4] - add into list - [1, 2, 3, 4] -- sorted"
   ]
  },
  {
   "cell_type": "markdown",
   "metadata": {},
   "source": [
    "## Time Complexity\n",
    "\n",
    "Worst-case performance: O(n logn)\n",
    "\n",
    "Best-case performance: O(n logn)\n",
    "\n",
    "average performance: O(n logn)\n",
    "\n",
    "## Space Complexity\n",
    "O(n)"
   ]
  },
  {
   "cell_type": "code",
   "execution_count": 31,
   "metadata": {},
   "outputs": [],
   "source": [
    "def merge(left, right):\n",
    "    lst = []   # new list\n",
    "    while len(left) != 0 and len(right) != 0:\n",
    "        # compare and add into new list\n",
    "        if left[0] > right[0]:\n",
    "            lst.append(right.pop(0))\n",
    "        else:\n",
    "            lst.append(left.pop(0))\n",
    "\n",
    "    if len(left) != 0:\n",
    "        lst += left\n",
    "\n",
    "    if len(right) != 0:\n",
    "        lst += right\n",
    "\n",
    "    return lst\n",
    "\n",
    "def merge_sort(arr):\n",
    "    if len(arr) <= 1:\n",
    "        return arr\n",
    "    \n",
    "    mid = len(arr) // 2\n",
    "    l = arr[:mid]\n",
    "    r = arr[mid:]\n",
    "    return merge(merge_sort(l), merge_sort(r))\n",
    "    "
   ]
  },
  {
   "cell_type": "code",
   "execution_count": 32,
   "metadata": {},
   "outputs": [],
   "source": [
    "arr = [23, 12, 8, 14, 17, 11, 19] "
   ]
  },
  {
   "cell_type": "code",
   "execution_count": 33,
   "metadata": {},
   "outputs": [
    {
     "data": {
      "text/plain": [
       "[8, 11, 12, 14, 17, 19, 23]"
      ]
     },
     "execution_count": 33,
     "metadata": {},
     "output_type": "execute_result"
    }
   ],
   "source": [
    "merge_sort(arr)"
   ]
  },
  {
   "cell_type": "markdown",
   "metadata": {},
   "source": [
    "# Quick Sort"
   ]
  },
  {
   "cell_type": "markdown",
   "metadata": {},
   "source": [
    "The Quick Sort is a in-place ‘Divide and Conquer’ sorting algorithm.  \n",
    "First we pick a pivot to partition the array into two halves - one half containing all the elements less than the pivot and the other half containing the elements greater than the pivot. (The equal ones can remain in either side).   \n",
    "Repeat the same process with each half of the array recursively to eventually obtain a sorted array. \n",
    "\n",
    "e.g.\n",
    "[2, 5, 7, 1, 4] - take the last number as the pivot point\n"
   ]
  },
  {
   "cell_type": "markdown",
   "metadata": {},
   "source": [
    "## Time Complexity\n",
    "\n",
    "Worst-case performance: O(n^2)\n",
    "\n",
    "Best-case performance: O(n logn)\n",
    "\n",
    "average performance: O(n logn)\n",
    "\n",
    "## Space Complexity\n",
    "O(n)\n",
    "\n",
    "\n",
    "## Quick Sort is in place"
   ]
  },
  {
   "cell_type": "code",
   "execution_count": 35,
   "metadata": {},
   "outputs": [],
   "source": [
    "def QuickSort(Scores):\n",
    "    QuickSortHelper(Scores, 0, len(Scores)-1)\n",
    "    return Scores\n",
    "\n",
    "\n",
    "def QuickSortHelper(Scores, First, Last):\n",
    "    if First < Last:\n",
    "        SplitPoint = Partition(Scores, First, Last)\n",
    "        QuickSortHelper(Scores, First, SplitPoint - 1)\n",
    "        QuickSortHelper(Scores, SplitPoint + 1, Last)\n",
    "    return Scores\n",
    "\n",
    "def Partition(Scores, First, Last):\n",
    "    PivotValue = Scores[First]\n",
    "    LeftMark = First + 1\n",
    "    RightMark = Last\n",
    "    Done = False\n",
    "    \n",
    "    while Done == False:\n",
    "        while LeftMark <= RightMark and Scores[LeftMark] <= PivotValue:\n",
    "            LeftMark += 1\n",
    "         \n",
    "        while Scores[RightMark] >= PivotValue and RightMark >= LeftMark:\n",
    "            RightMark -= 1\n",
    "            \n",
    "        if RightMark < LeftMark:\n",
    "            Done = True\n",
    "            \n",
    "        else:\n",
    "            Scores[LeftMark], Scores[RightMark] = Scores[RightMark], Scores[LeftMark]\n",
    "            \n",
    "    Scores[First], Scores[RightMark] = Scores[RightMark], Scores[First]\n",
    "    \n",
    "    return RightMark\n"
   ]
  },
  {
   "cell_type": "code",
   "execution_count": 36,
   "metadata": {},
   "outputs": [],
   "source": [
    "arr = [23, 12, 8, 14, 17, 11, 19] "
   ]
  },
  {
   "cell_type": "code",
   "execution_count": 37,
   "metadata": {},
   "outputs": [
    {
     "data": {
      "text/plain": [
       "[8, 11, 12, 14, 17, 19, 23]"
      ]
     },
     "execution_count": 37,
     "metadata": {},
     "output_type": "execute_result"
    }
   ],
   "source": [
    "QuickSort(arr)"
   ]
  }
 ],
 "metadata": {
  "kernelspec": {
   "display_name": "Python 3",
   "language": "python",
   "name": "python3"
  },
  "language_info": {
   "codemirror_mode": {
    "name": "ipython",
    "version": 3
   },
   "file_extension": ".py",
   "mimetype": "text/x-python",
   "name": "python",
   "nbconvert_exporter": "python",
   "pygments_lexer": "ipython3",
   "version": "3.6.4"
  }
 },
 "nbformat": 4,
 "nbformat_minor": 2
}
