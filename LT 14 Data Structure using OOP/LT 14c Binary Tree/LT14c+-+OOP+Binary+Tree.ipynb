{
 "cells": [
  {
   "cell_type": "markdown",
   "metadata": {
    "colab_type": "text",
    "id": "6AzE5oJLT1c8"
   },
   "source": [
    "# Binary Tree OOP"
   ]
  },
  {
   "cell_type": "markdown",
   "metadata": {
    "colab_type": "text",
    "id": "y4MuY7YlSPBr"
   },
   "source": [
    "## Node Class\n",
    "\n",
    "\n",
    "---\n",
    "\n",
    "\n"
   ]
  },
  {
   "cell_type": "markdown",
   "metadata": {},
   "source": [
    "\n",
    "A binary tree data structure contains nodes, where each nodes consist of a data, left pointer and right pointer. \n",
    "\n",
    "Write program code to define the Node class."
   ]
  },
  {
   "cell_type": "code",
   "execution_count": 0,
   "metadata": {
    "colab": {},
    "colab_type": "code",
    "id": "kR1n8bt7SOSC"
   },
   "outputs": [],
   "source": [
    "class Node():\n",
    "  pass\n",
    "  \n",
    "  \n",
    "  \n",
    "  \n",
    "  \n",
    "  \n",
    "  \n",
    "  \n",
    "  \n",
    "  \n",
    "  "
   ]
  },
  {
   "cell_type": "markdown",
   "metadata": {
    "colab_type": "text",
    "id": "OZDVA1B6fAW4"
   },
   "source": [
    "## Tree Class\n",
    "\n",
    "A tree object consist of a root and an array of nodes. Write a program code for Tree class."
   ]
  },
  {
   "cell_type": "code",
   "execution_count": 0,
   "metadata": {
    "colab": {},
    "colab_type": "code",
    "id": "DcNLScUgS4ur"
   },
   "outputs": [],
   "source": [
    "class Tree():\n",
    "  pass\n",
    "\n",
    "\n",
    "\n",
    "\n",
    "\n"
   ]
  },
  {
   "cell_type": "markdown",
   "metadata": {
    "colab_type": "text",
    "id": "LkG7VWH0TCm0"
   },
   "source": [
    "In order for the binary tree to be functional, an add method, and a display method are introduced to allow us to add new data to the tree object and to print the contents of the binary tree respectively. \n",
    "\n",
    "The next_position attribute stores the index of the next available position where insertion can take place.\n",
    "\n",
    "For this question, we will be adding elements to the binary tree in a level order fashion, which would give us a complete binary tree\n",
    "\n",
    "\n",
    "---\n",
    "\n",
    "The root of the tree is stored as the first element of the array (index 0). Then, for each node in the tree that is stored at index k, the node's left child is stored at index 2k+1 and the right child is stored at index 2k+2. \n",
    "\n",
    "\n",
    "---\n",
    "\n",
    "\n",
    "\n",
    "Write program code to implement the\n",
    "\n",
    "* add method (based on the above description) and,\n",
    "\n",
    "* display method to the Tree class.\n"
   ]
  },
  {
   "cell_type": "code",
   "execution_count": 0,
   "metadata": {
    "colab": {},
    "colab_type": "code",
    "id": "J5dFbPnBTHu_"
   },
   "outputs": [],
   "source": [
    "##copy and paste your Tree class here and include add and display methods\n",
    "\n",
    "\n",
    "\n",
    "\n",
    "\n",
    "\n",
    "\n",
    "\n",
    "\n"
   ]
  },
  {
   "cell_type": "markdown",
   "metadata": {
    "colab_type": "text",
    "id": "te2qihdETwca"
   },
   "source": [
    "Next, we would also like to include utility to the Tree class to print data in a particular order through in-order traversal."
   ]
  },
  {
   "cell_type": "code",
   "execution_count": 2,
   "metadata": {},
   "outputs": [],
   "source": [
    "##copy and paste your Tree class here and include inorder method\n",
    "\n",
    "\n",
    "\n",
    "\n",
    "\n",
    "\n",
    "\n",
    "\n"
   ]
  },
  {
   "cell_type": "code",
   "execution_count": null,
   "metadata": {},
   "outputs": [],
   "source": []
  }
 ],
 "metadata": {
  "colab": {
   "name": "LT14b.ipynb",
   "provenance": [],
   "version": "0.3.2"
  },
  "kernelspec": {
   "display_name": "Python 3",
   "language": "python",
   "name": "python3"
  },
  "language_info": {
   "codemirror_mode": {
    "name": "ipython",
    "version": 3
   },
   "file_extension": ".py",
   "mimetype": "text/x-python",
   "name": "python",
   "nbconvert_exporter": "python",
   "pygments_lexer": "ipython3",
   "version": "3.6.4"
  }
 },
 "nbformat": 4,
 "nbformat_minor": 1
}
